{
  "cells": [
    {
      "cell_type": "markdown",
      "source": [
        "# 1. VHM Dataset"
      ],
      "metadata": {
        "id": "Zu4eQtbtjGVX"
      }
    },
    {
      "cell_type": "code",
      "source": [
        "# 1. Import thư viện cần thiết\n",
        "import numpy as np\n",
        "import pandas as pd\n",
        "import matplotlib.pyplot as plt\n",
        "from sklearn.preprocessing import MinMaxScaler\n",
        "from keras.models import Sequential\n",
        "from keras.layers import Dense, SimpleRNN"
      ],
      "metadata": {
        "id": "FMDKda-XIUAK"
      },
      "execution_count": 1,
      "outputs": []
    },
    {
      "cell_type": "code",
      "source": [
        "# 2. Đọc file csv và gắn index với giá Close\n",
        "df = pd.read_csv('1-VHM Historical Data.csv')\n",
        "df = df.iloc[::-1].reset_index(drop=True)  # Reverse the dataframe\n",
        "df['Date'] = pd.to_datetime(df['Date'])\n",
        "df1 = df['Price'].str.replace(',', '').astype(float)"
      ],
      "metadata": {
        "id": "aRm9GQ8KJJ5N"
      },
      "execution_count": 2,
      "outputs": []
    },
    {
      "cell_type": "code",
      "source": [
        "# 3. Scaler data\n",
        "scaler=MinMaxScaler(feature_range=(0,1))\n",
        "df1=scaler.fit_transform(np.array(df1).reshape(-1,1))"
      ],
      "metadata": {
        "id": "RdVpDho2JgL5"
      },
      "execution_count": 3,
      "outputs": []
    },
    {
      "cell_type": "code",
      "source": [
        "df1"
      ],
      "metadata": {
        "colab": {
          "base_uri": "https://localhost:8080/"
        },
        "id": "rZXKOdc5Ti_l",
        "outputId": "f61546cc-8dec-43c5-b18f-0659515cbd62"
      },
      "execution_count": 4,
      "outputs": [
        {
          "output_type": "execute_result",
          "data": {
            "text/plain": [
              "array([[0.5961768 ],\n",
              "       [0.62907782],\n",
              "       [0.5961768 ],\n",
              "       ...,\n",
              "       [0.11835614],\n",
              "       [0.09846435],\n",
              "       [0.10940484]])"
            ]
          },
          "metadata": {},
          "execution_count": 4
        }
      ]
    },
    {
      "cell_type": "markdown",
      "source": [
        "## Ratio 9:1"
      ],
      "metadata": {
        "id": "P-23zID3Dsrn"
      }
    },
    {
      "cell_type": "code",
      "source": [
        "# 4. Chia train test\n",
        "train_size = int(0.9 * len(df1))\n",
        "test_size = len(df1) - train_size\n",
        "\n",
        "train_data = df1[:train_size]\n",
        "test_data = df1[train_size:]"
      ],
      "metadata": {
        "id": "B5JXpenzJoR3"
      },
      "execution_count": 5,
      "outputs": []
    },
    {
      "cell_type": "code",
      "source": [
        "# 5. Hàm Create Dataset\n",
        "import numpy\n",
        "# convert an array of values into a dataset matrix\n",
        "def create_dataset(dataset, time_step=1):\n",
        "\tdataX, dataY = [], []\n",
        "\tfor i in range(len(dataset)-time_step-1):\n",
        "\t\ta = dataset[i:(i+time_step), 0]   ###i=0, X=0,1,2,3-----99   Y=100\n",
        "\t\tdataX.append(a)\n",
        "\t\tdataY.append(dataset[i + time_step, 0])\n",
        "\treturn numpy.array(dataX), numpy.array(dataY)"
      ],
      "metadata": {
        "id": "yJfmuBORLSfC"
      },
      "execution_count": 6,
      "outputs": []
    },
    {
      "cell_type": "code",
      "source": [
        "#6. Reshape into X=t,t+1,t+2..t+99 and Y=t+100\n",
        "\n",
        "time_step = 100\n",
        "X_train, y_train = create_dataset(train_data, time_step)\n",
        "X_test, ytest = create_dataset(test_data, time_step)"
      ],
      "metadata": {
        "id": "e81cKq03LXFB"
      },
      "execution_count": 7,
      "outputs": []
    },
    {
      "cell_type": "code",
      "source": [
        "# 7. Reshape input to be [samples, time steps, features] which is required for LSTM\n",
        "X_train =X_train.reshape(X_train.shape[0],X_train.shape[1] , 1)\n",
        "X_test = X_test.reshape(X_test.shape[0],X_test.shape[1] , 1)"
      ],
      "metadata": {
        "id": "RdBVfku7O2qb"
      },
      "execution_count": 8,
      "outputs": []
    },
    {
      "cell_type": "code",
      "source": [
        "# 8. Define LSTM Model\n",
        "\n",
        "model = Sequential()\n",
        "model.add(SimpleRNN(50, input_shape=(time_step, 1)))\n",
        "model.add(Dense(1))\n",
        "model.compile(loss='mean_squared_error',optimizer='adam')"
      ],
      "metadata": {
        "id": "sSfxrE7BO9vX"
      },
      "execution_count": 9,
      "outputs": []
    },
    {
      "cell_type": "code",
      "source": [
        "# 9. Fit mô hình với dữ liệu train\n",
        "model.fit(X_train,y_train,validation_data=(X_test,ytest),epochs=100,batch_size=64,verbose=1)"
      ],
      "metadata": {
        "colab": {
          "base_uri": "https://localhost:8080/"
        },
        "id": "zgfeujZSPEKr",
        "outputId": "9da850bc-9b59-4962-e9a6-4d4e27c5271d"
      },
      "execution_count": 10,
      "outputs": [
        {
          "output_type": "stream",
          "name": "stdout",
          "text": [
            "Epoch 1/100\n",
            "17/17 [==============================] - 2s 35ms/step - loss: 0.2436 - val_loss: 0.0282\n",
            "Epoch 2/100\n",
            "17/17 [==============================] - 0s 21ms/step - loss: 0.0178 - val_loss: 0.0041\n",
            "Epoch 3/100\n",
            "17/17 [==============================] - 0s 22ms/step - loss: 0.0089 - val_loss: 0.0019\n",
            "Epoch 4/100\n",
            "17/17 [==============================] - 0s 21ms/step - loss: 0.0060 - val_loss: 0.0022\n",
            "Epoch 5/100\n",
            "17/17 [==============================] - 0s 20ms/step - loss: 0.0044 - val_loss: 0.0024\n",
            "Epoch 6/100\n",
            "17/17 [==============================] - 0s 19ms/step - loss: 0.0032 - val_loss: 0.0030\n",
            "Epoch 7/100\n",
            "17/17 [==============================] - 0s 21ms/step - loss: 0.0033 - val_loss: 0.0017\n",
            "Epoch 8/100\n",
            "17/17 [==============================] - 0s 20ms/step - loss: 0.0027 - val_loss: 0.0016\n",
            "Epoch 9/100\n",
            "17/17 [==============================] - 0s 19ms/step - loss: 0.0024 - val_loss: 0.0012\n",
            "Epoch 10/100\n",
            "17/17 [==============================] - 0s 20ms/step - loss: 0.0024 - val_loss: 0.0015\n",
            "Epoch 11/100\n",
            "17/17 [==============================] - 0s 19ms/step - loss: 0.0035 - val_loss: 0.0135\n",
            "Epoch 12/100\n",
            "17/17 [==============================] - 0s 20ms/step - loss: 0.0044 - val_loss: 0.0017\n",
            "Epoch 13/100\n",
            "17/17 [==============================] - 0s 20ms/step - loss: 0.0035 - val_loss: 0.0036\n",
            "Epoch 14/100\n",
            "17/17 [==============================] - 0s 20ms/step - loss: 0.0027 - val_loss: 0.0029\n",
            "Epoch 15/100\n",
            "17/17 [==============================] - 0s 20ms/step - loss: 0.0027 - val_loss: 0.0022\n",
            "Epoch 16/100\n",
            "17/17 [==============================] - 0s 20ms/step - loss: 0.0040 - val_loss: 0.0013\n",
            "Epoch 17/100\n",
            "17/17 [==============================] - 0s 20ms/step - loss: 0.0029 - val_loss: 9.5143e-04\n",
            "Epoch 18/100\n",
            "17/17 [==============================] - 1s 34ms/step - loss: 0.0022 - val_loss: 0.0010\n",
            "Epoch 19/100\n",
            "17/17 [==============================] - 1s 34ms/step - loss: 0.0023 - val_loss: 7.8472e-04\n",
            "Epoch 20/100\n",
            "17/17 [==============================] - 1s 37ms/step - loss: 0.0021 - val_loss: 0.0012\n",
            "Epoch 21/100\n",
            "17/17 [==============================] - 1s 36ms/step - loss: 0.0021 - val_loss: 8.1695e-04\n",
            "Epoch 22/100\n",
            "17/17 [==============================] - 1s 38ms/step - loss: 0.0018 - val_loss: 5.9997e-04\n",
            "Epoch 23/100\n",
            "17/17 [==============================] - 1s 37ms/step - loss: 0.0017 - val_loss: 9.4945e-04\n",
            "Epoch 24/100\n",
            "17/17 [==============================] - 1s 31ms/step - loss: 0.0017 - val_loss: 5.9694e-04\n",
            "Epoch 25/100\n",
            "17/17 [==============================] - 0s 20ms/step - loss: 0.0016 - val_loss: 6.7720e-04\n",
            "Epoch 26/100\n",
            "17/17 [==============================] - 0s 20ms/step - loss: 0.0015 - val_loss: 5.4146e-04\n",
            "Epoch 27/100\n",
            "17/17 [==============================] - 0s 19ms/step - loss: 0.0014 - val_loss: 5.2365e-04\n",
            "Epoch 28/100\n",
            "17/17 [==============================] - 0s 20ms/step - loss: 0.0014 - val_loss: 5.2406e-04\n",
            "Epoch 29/100\n",
            "17/17 [==============================] - 0s 20ms/step - loss: 0.0014 - val_loss: 5.5112e-04\n",
            "Epoch 30/100\n",
            "17/17 [==============================] - 0s 20ms/step - loss: 0.0013 - val_loss: 9.5258e-04\n",
            "Epoch 31/100\n",
            "17/17 [==============================] - 0s 19ms/step - loss: 0.0021 - val_loss: 7.6001e-04\n",
            "Epoch 32/100\n",
            "17/17 [==============================] - 0s 20ms/step - loss: 0.0016 - val_loss: 6.7183e-04\n",
            "Epoch 33/100\n",
            "17/17 [==============================] - 0s 20ms/step - loss: 0.0013 - val_loss: 7.3544e-04\n",
            "Epoch 34/100\n",
            "17/17 [==============================] - 0s 20ms/step - loss: 0.0012 - val_loss: 6.1294e-04\n",
            "Epoch 35/100\n",
            "17/17 [==============================] - 0s 23ms/step - loss: 0.0012 - val_loss: 9.0364e-04\n",
            "Epoch 36/100\n",
            "17/17 [==============================] - 0s 20ms/step - loss: 0.0017 - val_loss: 6.1786e-04\n",
            "Epoch 37/100\n",
            "17/17 [==============================] - 0s 20ms/step - loss: 0.0013 - val_loss: 0.0019\n",
            "Epoch 38/100\n",
            "17/17 [==============================] - 0s 21ms/step - loss: 0.0015 - val_loss: 5.9406e-04\n",
            "Epoch 39/100\n",
            "17/17 [==============================] - 0s 20ms/step - loss: 0.0012 - val_loss: 6.1548e-04\n",
            "Epoch 40/100\n",
            "17/17 [==============================] - 0s 19ms/step - loss: 0.0012 - val_loss: 0.0010\n",
            "Epoch 41/100\n",
            "17/17 [==============================] - 0s 21ms/step - loss: 0.0013 - val_loss: 5.6282e-04\n",
            "Epoch 42/100\n",
            "17/17 [==============================] - 0s 20ms/step - loss: 0.0012 - val_loss: 8.0410e-04\n",
            "Epoch 43/100\n",
            "17/17 [==============================] - 0s 20ms/step - loss: 0.0011 - val_loss: 6.0687e-04\n",
            "Epoch 44/100\n",
            "17/17 [==============================] - 0s 20ms/step - loss: 0.0011 - val_loss: 0.0011\n",
            "Epoch 45/100\n",
            "17/17 [==============================] - 0s 20ms/step - loss: 0.0013 - val_loss: 9.6136e-04\n",
            "Epoch 46/100\n",
            "17/17 [==============================] - 0s 20ms/step - loss: 0.0015 - val_loss: 0.0014\n",
            "Epoch 47/100\n",
            "17/17 [==============================] - 0s 21ms/step - loss: 0.0013 - val_loss: 6.9333e-04\n",
            "Epoch 48/100\n",
            "17/17 [==============================] - 0s 19ms/step - loss: 0.0011 - val_loss: 5.6464e-04\n",
            "Epoch 49/100\n",
            "17/17 [==============================] - 0s 21ms/step - loss: 0.0011 - val_loss: 6.6547e-04\n",
            "Epoch 50/100\n",
            "17/17 [==============================] - 0s 21ms/step - loss: 0.0017 - val_loss: 0.0012\n",
            "Epoch 51/100\n",
            "17/17 [==============================] - 0s 20ms/step - loss: 0.0013 - val_loss: 5.6029e-04\n",
            "Epoch 52/100\n",
            "17/17 [==============================] - 0s 20ms/step - loss: 0.0012 - val_loss: 5.5918e-04\n",
            "Epoch 53/100\n",
            "17/17 [==============================] - 0s 29ms/step - loss: 0.0011 - val_loss: 5.2202e-04\n",
            "Epoch 54/100\n",
            "17/17 [==============================] - 1s 35ms/step - loss: 0.0011 - val_loss: 5.9126e-04\n",
            "Epoch 55/100\n",
            "17/17 [==============================] - 1s 35ms/step - loss: 0.0011 - val_loss: 9.0779e-04\n",
            "Epoch 56/100\n",
            "17/17 [==============================] - 1s 35ms/step - loss: 0.0012 - val_loss: 5.0380e-04\n",
            "Epoch 57/100\n",
            "17/17 [==============================] - 1s 36ms/step - loss: 0.0011 - val_loss: 6.2159e-04\n",
            "Epoch 58/100\n",
            "17/17 [==============================] - 1s 35ms/step - loss: 0.0011 - val_loss: 5.2715e-04\n",
            "Epoch 59/100\n",
            "17/17 [==============================] - 1s 36ms/step - loss: 0.0011 - val_loss: 0.0011\n",
            "Epoch 60/100\n",
            "17/17 [==============================] - 0s 27ms/step - loss: 0.0013 - val_loss: 5.0070e-04\n",
            "Epoch 61/100\n",
            "17/17 [==============================] - 0s 21ms/step - loss: 0.0010 - val_loss: 5.0017e-04\n",
            "Epoch 62/100\n",
            "17/17 [==============================] - 0s 20ms/step - loss: 9.8818e-04 - val_loss: 4.9930e-04\n",
            "Epoch 63/100\n",
            "17/17 [==============================] - 0s 21ms/step - loss: 9.9913e-04 - val_loss: 0.0015\n",
            "Epoch 64/100\n",
            "17/17 [==============================] - 0s 19ms/step - loss: 0.0018 - val_loss: 7.2725e-04\n",
            "Epoch 65/100\n",
            "17/17 [==============================] - 0s 20ms/step - loss: 0.0011 - val_loss: 5.7365e-04\n",
            "Epoch 66/100\n",
            "17/17 [==============================] - 0s 21ms/step - loss: 9.8811e-04 - val_loss: 5.0657e-04\n",
            "Epoch 67/100\n",
            "17/17 [==============================] - 0s 20ms/step - loss: 9.6130e-04 - val_loss: 4.9197e-04\n",
            "Epoch 68/100\n",
            "17/17 [==============================] - 0s 21ms/step - loss: 9.5203e-04 - val_loss: 6.3328e-04\n",
            "Epoch 69/100\n",
            "17/17 [==============================] - 0s 21ms/step - loss: 9.4826e-04 - val_loss: 4.6617e-04\n",
            "Epoch 70/100\n",
            "17/17 [==============================] - 0s 20ms/step - loss: 0.0010 - val_loss: 8.0458e-04\n",
            "Epoch 71/100\n",
            "17/17 [==============================] - 0s 20ms/step - loss: 0.0010 - val_loss: 6.4520e-04\n",
            "Epoch 72/100\n",
            "17/17 [==============================] - 0s 20ms/step - loss: 0.0010 - val_loss: 4.6934e-04\n",
            "Epoch 73/100\n",
            "17/17 [==============================] - 0s 20ms/step - loss: 9.3759e-04 - val_loss: 7.5959e-04\n",
            "Epoch 74/100\n",
            "17/17 [==============================] - 0s 20ms/step - loss: 9.4088e-04 - val_loss: 5.0685e-04\n",
            "Epoch 75/100\n",
            "17/17 [==============================] - 0s 19ms/step - loss: 9.2775e-04 - val_loss: 5.8426e-04\n",
            "Epoch 76/100\n",
            "17/17 [==============================] - 0s 19ms/step - loss: 9.3197e-04 - val_loss: 0.0010\n",
            "Epoch 77/100\n",
            "17/17 [==============================] - 0s 20ms/step - loss: 0.0020 - val_loss: 5.5619e-04\n",
            "Epoch 78/100\n",
            "17/17 [==============================] - 0s 20ms/step - loss: 0.0010 - val_loss: 5.2593e-04\n",
            "Epoch 79/100\n",
            "17/17 [==============================] - 0s 20ms/step - loss: 9.6770e-04 - val_loss: 5.1715e-04\n",
            "Epoch 80/100\n",
            "17/17 [==============================] - 0s 20ms/step - loss: 9.2409e-04 - val_loss: 5.5675e-04\n",
            "Epoch 81/100\n",
            "17/17 [==============================] - 0s 20ms/step - loss: 9.3153e-04 - val_loss: 4.9607e-04\n",
            "Epoch 82/100\n",
            "17/17 [==============================] - 0s 20ms/step - loss: 9.5156e-04 - val_loss: 6.2173e-04\n",
            "Epoch 83/100\n",
            "17/17 [==============================] - 0s 21ms/step - loss: 9.0286e-04 - val_loss: 4.5270e-04\n",
            "Epoch 84/100\n",
            "17/17 [==============================] - 0s 20ms/step - loss: 9.5300e-04 - val_loss: 5.0945e-04\n",
            "Epoch 85/100\n",
            "17/17 [==============================] - 0s 20ms/step - loss: 8.8260e-04 - val_loss: 4.4522e-04\n",
            "Epoch 86/100\n",
            "17/17 [==============================] - 0s 21ms/step - loss: 9.6131e-04 - val_loss: 4.7536e-04\n",
            "Epoch 87/100\n",
            "17/17 [==============================] - 0s 20ms/step - loss: 8.6619e-04 - val_loss: 4.9065e-04\n",
            "Epoch 88/100\n",
            "17/17 [==============================] - 0s 20ms/step - loss: 8.7138e-04 - val_loss: 4.3473e-04\n",
            "Epoch 89/100\n",
            "17/17 [==============================] - 1s 35ms/step - loss: 9.2620e-04 - val_loss: 6.1054e-04\n",
            "Epoch 90/100\n",
            "17/17 [==============================] - 1s 33ms/step - loss: 8.6779e-04 - val_loss: 5.8821e-04\n",
            "Epoch 91/100\n",
            "17/17 [==============================] - 1s 34ms/step - loss: 0.0015 - val_loss: 5.2725e-04\n",
            "Epoch 92/100\n",
            "17/17 [==============================] - 1s 35ms/step - loss: 9.1673e-04 - val_loss: 4.7516e-04\n",
            "Epoch 93/100\n",
            "17/17 [==============================] - 1s 36ms/step - loss: 9.0754e-04 - val_loss: 5.1109e-04\n",
            "Epoch 94/100\n",
            "17/17 [==============================] - 1s 40ms/step - loss: 8.6308e-04 - val_loss: 4.3017e-04\n",
            "Epoch 95/100\n",
            "17/17 [==============================] - 0s 27ms/step - loss: 8.8139e-04 - val_loss: 4.2046e-04\n",
            "Epoch 96/100\n",
            "17/17 [==============================] - 0s 20ms/step - loss: 8.4469e-04 - val_loss: 4.7977e-04\n",
            "Epoch 97/100\n",
            "17/17 [==============================] - 0s 20ms/step - loss: 9.0392e-04 - val_loss: 4.0339e-04\n",
            "Epoch 98/100\n",
            "17/17 [==============================] - 0s 20ms/step - loss: 8.3954e-04 - val_loss: 4.5607e-04\n",
            "Epoch 99/100\n",
            "17/17 [==============================] - 0s 20ms/step - loss: 8.2115e-04 - val_loss: 5.5403e-04\n",
            "Epoch 100/100\n",
            "17/17 [==============================] - 0s 20ms/step - loss: 8.4868e-04 - val_loss: 4.9359e-04\n"
          ]
        },
        {
          "output_type": "execute_result",
          "data": {
            "text/plain": [
              "<keras.src.callbacks.History at 0x79f402f3de40>"
            ]
          },
          "metadata": {},
          "execution_count": 10
        }
      ]
    },
    {
      "cell_type": "code",
      "source": [
        "# 10. Dự báo dữ liệu test, val\n",
        "train_predict=model.predict(X_train)\n",
        "y_pred=model.predict(X_test)"
      ],
      "metadata": {
        "colab": {
          "base_uri": "https://localhost:8080/"
        },
        "id": "Rxx_KQSkQpBG",
        "outputId": "3dfd7978-5aa9-4026-dfc2-16c5ff411984"
      },
      "execution_count": 11,
      "outputs": [
        {
          "output_type": "stream",
          "name": "stdout",
          "text": [
            "33/33 [==============================] - 0s 6ms/step\n",
            "1/1 [==============================] - 0s 26ms/step\n"
          ]
        }
      ]
    },
    {
      "cell_type": "code",
      "source": [
        "# 11. Chuẩn hóa dữ liệu y_pred, y_pred_val\n",
        "train_predict = scaler.inverse_transform(train_predict)\n",
        "y_pred = scaler.inverse_transform(y_pred.reshape(-1, 1))\n",
        "ytest = scaler.inverse_transform(ytest.reshape(-1, 1))"
      ],
      "metadata": {
        "id": "5rwTN10LQ7rj"
      },
      "execution_count": 12,
      "outputs": []
    },
    {
      "cell_type": "code",
      "source": [
        "# 12. Đánh giá độ chính xác thuật toán bằng RMSE\n",
        "from sklearn.metrics import mean_absolute_error, mean_absolute_percentage_error\n",
        "\n",
        "test_rmse = np.sqrt(np.mean((y_pred - ytest)**2))\n",
        "test_mape = mean_absolute_percentage_error(ytest, y_pred)\n",
        "test_mae = mean_absolute_error(ytest, y_pred)\n",
        "\n",
        "print('Testing RMSE:', test_rmse)\n",
        "print('Testing MAPE:', test_mape)\n",
        "print('Testing MAE:', test_mae)"
      ],
      "metadata": {
        "colab": {
          "base_uri": "https://localhost:8080/"
        },
        "id": "wu_9j94kRonD",
        "outputId": "4711eb77-7be4-41b2-e720-7ec88afe003e"
      },
      "execution_count": 13,
      "outputs": [
        {
          "output_type": "stream",
          "name": "stdout",
          "text": [
            "Testing RMSE: 1116.8880533682477\n",
            "Testing MAPE: 0.016994844766931246\n",
            "Testing MAE: 745.34515625\n"
          ]
        }
      ]
    },
    {
      "cell_type": "code",
      "source": [
        "# 13. Dự báo 30, 60, 90 ngày tiếp theo\n",
        "def predict_future(model, data, time_step, future_days):\n",
        "    x_input = data[-time_step:].reshape(1, -1)\n",
        "    temp_input = x_input[0].tolist()\n",
        "    lst_output = []\n",
        "    i = 0\n",
        "    while i < future_days:\n",
        "        if len(temp_input) > time_step:\n",
        "            x_input = np.array(temp_input[-time_step:])\n",
        "            x_input = x_input.reshape((1, time_step, 1))\n",
        "            yhat = model.predict(x_input, verbose=0)\n",
        "            temp_input.extend(yhat[0].tolist())\n",
        "            temp_input = temp_input[1:]\n",
        "            lst_output.extend(yhat.tolist())\n",
        "            i += 1\n",
        "        else:\n",
        "            x_input = np.array(temp_input).reshape((1, time_step, 1))\n",
        "            yhat = model.predict(x_input, verbose=0)\n",
        "            temp_input.extend(yhat[0].tolist())\n",
        "            lst_output.extend(yhat.tolist())\n",
        "            i += 1\n",
        "    return lst_output\n",
        "\n",
        "n_steps = 100\n",
        "\n",
        "pred_30_days = predict_future(model, test_data, n_steps, 30)\n",
        "pred_60_days = predict_future(model, test_data, n_steps, 60)\n",
        "pred_90_days = predict_future(model, test_data, n_steps, 90)\n",
        "\n",
        "pred_30_days = scaler.inverse_transform(np.array(pred_30_days).reshape(-1, 1))\n",
        "pred_60_days = scaler.inverse_transform(np.array(pred_60_days).reshape(-1, 1))\n",
        "pred_90_days = scaler.inverse_transform(np.array(pred_90_days).reshape(-1, 1))"
      ],
      "metadata": {
        "id": "izQZ1iQyYl6N"
      },
      "execution_count": 14,
      "outputs": []
    },
    {
      "cell_type": "code",
      "source": [
        "# 14. Vẽ hình\n",
        "plt.figure(figsize=(14, 8))\n",
        "dates = pd.to_datetime(df['Date'])\n",
        "\n",
        "plt.plot(dates[:train_size], scaler.inverse_transform(train_data), label='Train')\n",
        "plt.plot(dates[train_size:], scaler.inverse_transform(test_data), label='Test')\n",
        "predicted_test_index_start = train_size + time_step\n",
        "plt.plot(dates[predicted_test_index_start:predicted_test_index_start + len(y_pred)], y_pred, label='Predict')\n",
        "\n",
        "last_date = dates.iloc[-1]\n",
        "\n",
        "future_dates_30 = pd.date_range(start=last_date + pd.Timedelta(days=1), periods=30)\n",
        "future_30_with_last = np.concatenate((scaler.inverse_transform(test_data[-1].reshape(-1, 1)), pred_30_days), axis=0)\n",
        "future_dates_60 = pd.date_range(start=last_date + pd.Timedelta(days=1), periods=61)\n",
        "future_60_with_last = np.concatenate((scaler.inverse_transform(test_data[-1].reshape(-1, 1)), pred_60_days), axis=0)\n",
        "future_dates_90 = pd.date_range(start=last_date + pd.Timedelta(days=1), periods=91)\n",
        "future_90_with_last = np.concatenate((scaler.inverse_transform(test_data[-1].reshape(-1, 1)), pred_90_days), axis=0)\n",
        "\n",
        "# Vẽ 90 ngày\n",
        "plt.plot(future_dates_90, future_90_with_last[:len(future_dates_90)], label='90 Days Prediction', color='purple')\n",
        "\n",
        "# Vẽ 60 ngày\n",
        "plt.plot(future_dates_60, future_60_with_last[:len(future_dates_60)], label='60 Days Prediction', color='yellow')\n",
        "\n",
        "# Vẽ 30 ngày\n",
        "plt.plot(future_dates_30, future_30_with_last[:len(future_dates_30)], label='30 Days Prediction', color='red')\n",
        "\n",
        "plt.legend()\n",
        "plt.title('Stock Price Prediction')\n",
        "plt.xlabel('Date')\n",
        "plt.ylabel('Stock Price')\n",
        "plt.show()\n"
      ],
      "metadata": {
        "colab": {
          "base_uri": "https://localhost:8080/",
          "height": 717
        },
        "id": "KSa_mX51a654",
        "outputId": "cd713999-cec2-434d-b643-21c623e98661"
      },
      "execution_count": 15,
      "outputs": [
        {
          "output_type": "display_data",
          "data": {
            "text/plain": [
              "<Figure size 1400x800 with 1 Axes>"
            ],
            "image/png": "[encoded data removed]"
          },
          "metadata": {}
        }
      ]
    },
    {
      "cell_type": "markdown",
      "source": [
        "## Ratio 8:2"
      ],
      "metadata": {
        "id": "7kR8q1fYUiZH"
      }
    },
    {
      "cell_type": "code",
      "source": [
        "# 4. Chia train test\n",
        "train_size = int(0.8 * len(df1))\n",
        "test_size = len(df1) - train_size\n",
        "\n",
        "train_data = df1[:train_size]\n",
        "test_data = df1[train_size:]"
      ],
      "metadata": {
        "id": "-QQ-rfpQUiZW"
      },
      "execution_count": 16,
      "outputs": []
    },
    {
      "cell_type": "code",
      "source": [
        "# 5. Hàm Create Dataset\n",
        "import numpy\n",
        "# convert an array of values into a dataset matrix\n",
        "def create_dataset(dataset, time_step=1):\n",
        "\tdataX, dataY = [], []\n",
        "\tfor i in range(len(dataset)-time_step-1):\n",
        "\t\ta = dataset[i:(i+time_step), 0]   ###i=0, X=0,1,2,3-----99   Y=100\n",
        "\t\tdataX.append(a)\n",
        "\t\tdataY.append(dataset[i + time_step, 0])\n",
        "\treturn numpy.array(dataX), numpy.array(dataY)"
      ],
      "metadata": {
        "id": "3PPzSXCkUiZW"
      },
      "execution_count": 17,
      "outputs": []
    },
    {
      "cell_type": "code",
      "source": [
        "#6. Reshape into X=t,t+1,t+2..t+99 and Y=t+100\n",
        "\n",
        "time_step = 100\n",
        "X_train, y_train = create_dataset(train_data, time_step)\n",
        "X_test, ytest = create_dataset(test_data, time_step)"
      ],
      "metadata": {
        "id": "xlSMRgMwUiZW"
      },
      "execution_count": 18,
      "outputs": []
    },
    {
      "cell_type": "code",
      "source": [
        "# 7. Reshape input to be [samples, time steps, features] which is required for LSTM\n",
        "X_train =X_train.reshape(X_train.shape[0],X_train.shape[1] , 1)\n",
        "X_test = X_test.reshape(X_test.shape[0],X_test.shape[1] , 1)"
      ],
      "metadata": {
        "id": "-RCf3EM-UiZW"
      },
      "execution_count": 19,
      "outputs": []
    },
    {
      "cell_type": "code",
      "source": [
        "# 8. Define LSTM Model\n",
        "\n",
        "model = Sequential()\n",
        "model.add(SimpleRNN(50, input_shape=(time_step, 1)))\n",
        "model.add(Dense(1))\n",
        "model.compile(loss='mean_squared_error',optimizer='adam')"
      ],
      "metadata": {
        "id": "Vq1s92vJUiZW"
      },
      "execution_count": 20,
      "outputs": []
    },
    {
      "cell_type": "code",
      "source": [
        "# 9. Fit mô hình với dữ liệu train\n",
        "model.fit(X_train,y_train,validation_data=(X_test,ytest),epochs=100,batch_size=64,verbose=1)"
      ],
      "metadata": {
        "colab": {
          "base_uri": "https://localhost:8080/"
        },
        "outputId": "00409632-113c-40ef-e211-50ea850222a3",
        "id": "uXtQujk8UiZX"
      },
      "execution_count": 21,
      "outputs": [
        {
          "output_type": "stream",
          "name": "stdout",
          "text": [
            "Epoch 1/100\n",
            "15/15 [==============================] - 2s 37ms/step - loss: 0.0440 - val_loss: 0.0089\n",
            "Epoch 2/100\n",
            "15/15 [==============================] - 0s 23ms/step - loss: 0.0068 - val_loss: 0.0035\n",
            "Epoch 3/100\n",
            "15/15 [==============================] - 0s 21ms/step - loss: 0.0033 - val_loss: 0.0026\n",
            "Epoch 4/100\n",
            "15/15 [==============================] - 0s 21ms/step - loss: 0.0022 - val_loss: 0.0023\n",
            "Epoch 5/100\n",
            "15/15 [==============================] - 0s 22ms/step - loss: 0.0017 - val_loss: 0.0017\n",
            "Epoch 6/100\n",
            "15/15 [==============================] - 0s 20ms/step - loss: 0.0016 - val_loss: 0.0017\n",
            "Epoch 7/100\n",
            "15/15 [==============================] - 0s 20ms/step - loss: 0.0017 - val_loss: 0.0015\n",
            "Epoch 8/100\n",
            "15/15 [==============================] - 0s 21ms/step - loss: 0.0016 - val_loss: 0.0015\n",
            "Epoch 9/100\n",
            "15/15 [==============================] - 0s 21ms/step - loss: 0.0017 - val_loss: 0.0015\n",
            "Epoch 10/100\n",
            "15/15 [==============================] - 0s 21ms/step - loss: 0.0013 - val_loss: 0.0014\n",
            "Epoch 11/100\n",
            "15/15 [==============================] - 0s 21ms/step - loss: 0.0013 - val_loss: 0.0013\n",
            "Epoch 12/100\n",
            "15/15 [==============================] - 1s 41ms/step - loss: 0.0012 - val_loss: 0.0012\n",
            "Epoch 13/100\n",
            "15/15 [==============================] - 1s 43ms/step - loss: 0.0012 - val_loss: 0.0013\n",
            "Epoch 14/100\n",
            "15/15 [==============================] - 1s 39ms/step - loss: 0.0013 - val_loss: 0.0013\n",
            "Epoch 15/100\n",
            "15/15 [==============================] - 1s 38ms/step - loss: 0.0012 - val_loss: 0.0012\n",
            "Epoch 16/100\n",
            "15/15 [==============================] - 1s 38ms/step - loss: 0.0012 - val_loss: 0.0012\n",
            "Epoch 17/100\n",
            "15/15 [==============================] - 1s 40ms/step - loss: 0.0012 - val_loss: 0.0013\n",
            "Epoch 18/100\n",
            "15/15 [==============================] - 0s 33ms/step - loss: 0.0012 - val_loss: 0.0011\n",
            "Epoch 19/100\n",
            "15/15 [==============================] - 0s 22ms/step - loss: 0.0012 - val_loss: 0.0011\n",
            "Epoch 20/100\n",
            "15/15 [==============================] - 0s 21ms/step - loss: 0.0011 - val_loss: 0.0012\n",
            "Epoch 21/100\n",
            "15/15 [==============================] - 0s 21ms/step - loss: 0.0011 - val_loss: 0.0011\n",
            "Epoch 22/100\n",
            "15/15 [==============================] - 0s 21ms/step - loss: 0.0011 - val_loss: 0.0012\n",
            "Epoch 23/100\n",
            "15/15 [==============================] - 0s 21ms/step - loss: 0.0012 - val_loss: 0.0013\n",
            "Epoch 24/100\n",
            "15/15 [==============================] - 0s 21ms/step - loss: 0.0012 - val_loss: 0.0011\n",
            "Epoch 25/100\n",
            "15/15 [==============================] - 0s 21ms/step - loss: 0.0012 - val_loss: 0.0010\n",
            "Epoch 26/100\n",
            "15/15 [==============================] - 0s 23ms/step - loss: 0.0011 - val_loss: 0.0011\n",
            "Epoch 27/100\n",
            "15/15 [==============================] - 0s 21ms/step - loss: 0.0011 - val_loss: 0.0010\n",
            "Epoch 28/100\n",
            "15/15 [==============================] - 0s 21ms/step - loss: 0.0011 - val_loss: 9.9776e-04\n",
            "Epoch 29/100\n",
            "15/15 [==============================] - 0s 23ms/step - loss: 0.0011 - val_loss: 0.0012\n",
            "Epoch 30/100\n",
            "15/15 [==============================] - 0s 21ms/step - loss: 0.0014 - val_loss: 9.4356e-04\n",
            "Epoch 31/100\n",
            "15/15 [==============================] - 0s 21ms/step - loss: 0.0011 - val_loss: 0.0010\n",
            "Epoch 32/100\n",
            "15/15 [==============================] - 0s 22ms/step - loss: 0.0011 - val_loss: 0.0010\n",
            "Epoch 33/100\n",
            "15/15 [==============================] - 0s 21ms/step - loss: 0.0011 - val_loss: 0.0013\n",
            "Epoch 34/100\n",
            "15/15 [==============================] - 0s 20ms/step - loss: 0.0011 - val_loss: 0.0011\n",
            "Epoch 35/100\n",
            "15/15 [==============================] - 0s 22ms/step - loss: 0.0011 - val_loss: 0.0013\n",
            "Epoch 36/100\n",
            "15/15 [==============================] - 0s 21ms/step - loss: 0.0012 - val_loss: 0.0026\n",
            "Epoch 37/100\n",
            "15/15 [==============================] - 0s 21ms/step - loss: 0.0014 - val_loss: 9.9818e-04\n",
            "Epoch 38/100\n",
            "15/15 [==============================] - 0s 23ms/step - loss: 0.0013 - val_loss: 9.5801e-04\n",
            "Epoch 39/100\n",
            "15/15 [==============================] - 0s 21ms/step - loss: 0.0010 - val_loss: 0.0010\n",
            "Epoch 40/100\n",
            "15/15 [==============================] - 0s 21ms/step - loss: 0.0012 - val_loss: 0.0011\n",
            "Epoch 41/100\n",
            "15/15 [==============================] - 0s 22ms/step - loss: 0.0010 - val_loss: 9.8907e-04\n",
            "Epoch 42/100\n",
            "15/15 [==============================] - 0s 21ms/step - loss: 9.5716e-04 - val_loss: 8.8382e-04\n",
            "Epoch 43/100\n",
            "15/15 [==============================] - 0s 21ms/step - loss: 9.7606e-04 - val_loss: 9.0375e-04\n",
            "Epoch 44/100\n",
            "15/15 [==============================] - 0s 24ms/step - loss: 9.4092e-04 - val_loss: 8.7551e-04\n",
            "Epoch 45/100\n",
            "15/15 [==============================] - 0s 22ms/step - loss: 0.0012 - val_loss: 8.9263e-04\n",
            "Epoch 46/100\n",
            "15/15 [==============================] - 0s 21ms/step - loss: 0.0010 - val_loss: 0.0011\n",
            "Epoch 47/100\n",
            "15/15 [==============================] - 0s 21ms/step - loss: 9.6240e-04 - val_loss: 9.5587e-04\n",
            "Epoch 48/100\n",
            "15/15 [==============================] - 0s 22ms/step - loss: 0.0010 - val_loss: 8.7285e-04\n",
            "Epoch 49/100\n",
            "15/15 [==============================] - 0s 31ms/step - loss: 9.7662e-04 - val_loss: 8.7541e-04\n",
            "Epoch 50/100\n",
            "15/15 [==============================] - 1s 40ms/step - loss: 8.8722e-04 - val_loss: 8.7269e-04\n",
            "Epoch 51/100\n",
            "15/15 [==============================] - 1s 38ms/step - loss: 8.9710e-04 - val_loss: 8.0294e-04\n",
            "Epoch 52/100\n",
            "15/15 [==============================] - 1s 44ms/step - loss: 8.9161e-04 - val_loss: 0.0012\n",
            "Epoch 53/100\n",
            "15/15 [==============================] - 1s 41ms/step - loss: 0.0011 - val_loss: 7.7414e-04\n",
            "Epoch 54/100\n",
            "15/15 [==============================] - 1s 40ms/step - loss: 8.8343e-04 - val_loss: 9.8091e-04\n",
            "Epoch 55/100\n",
            "15/15 [==============================] - 1s 36ms/step - loss: 9.2103e-04 - val_loss: 8.9487e-04\n",
            "Epoch 56/100\n",
            "15/15 [==============================] - 0s 22ms/step - loss: 8.6830e-04 - val_loss: 8.2357e-04\n",
            "Epoch 57/100\n",
            "15/15 [==============================] - 0s 22ms/step - loss: 9.3247e-04 - val_loss: 7.5614e-04\n",
            "Epoch 58/100\n",
            "15/15 [==============================] - 0s 22ms/step - loss: 9.2863e-04 - val_loss: 8.0785e-04\n",
            "Epoch 59/100\n",
            "15/15 [==============================] - 0s 21ms/step - loss: 8.5739e-04 - val_loss: 7.4611e-04\n",
            "Epoch 60/100\n",
            "15/15 [==============================] - 0s 21ms/step - loss: 9.0465e-04 - val_loss: 7.4295e-04\n",
            "Epoch 61/100\n",
            "15/15 [==============================] - 0s 22ms/step - loss: 9.2920e-04 - val_loss: 7.5563e-04\n",
            "Epoch 62/100\n",
            "15/15 [==============================] - 0s 22ms/step - loss: 8.4414e-04 - val_loss: 7.3729e-04\n",
            "Epoch 63/100\n",
            "15/15 [==============================] - 0s 21ms/step - loss: 8.2812e-04 - val_loss: 0.0011\n",
            "Epoch 64/100\n",
            "15/15 [==============================] - 0s 24ms/step - loss: 9.6809e-04 - val_loss: 7.9450e-04\n",
            "Epoch 65/100\n",
            "15/15 [==============================] - 0s 21ms/step - loss: 8.2709e-04 - val_loss: 8.0334e-04\n",
            "Epoch 66/100\n",
            "15/15 [==============================] - 0s 21ms/step - loss: 9.0012e-04 - val_loss: 9.1088e-04\n",
            "Epoch 67/100\n",
            "15/15 [==============================] - 0s 21ms/step - loss: 9.3226e-04 - val_loss: 9.2884e-04\n",
            "Epoch 68/100\n",
            "15/15 [==============================] - 0s 21ms/step - loss: 8.6215e-04 - val_loss: 7.6577e-04\n",
            "Epoch 69/100\n",
            "15/15 [==============================] - 0s 21ms/step - loss: 9.5901e-04 - val_loss: 9.0349e-04\n",
            "Epoch 70/100\n",
            "15/15 [==============================] - 0s 20ms/step - loss: 8.4636e-04 - val_loss: 7.8696e-04\n",
            "Epoch 71/100\n",
            "15/15 [==============================] - 0s 22ms/step - loss: 8.7130e-04 - val_loss: 7.3313e-04\n",
            "Epoch 72/100\n",
            "15/15 [==============================] - 0s 21ms/step - loss: 8.4368e-04 - val_loss: 7.2191e-04\n",
            "Epoch 73/100\n",
            "15/15 [==============================] - 0s 23ms/step - loss: 9.5193e-04 - val_loss: 7.2419e-04\n",
            "Epoch 74/100\n",
            "15/15 [==============================] - 0s 24ms/step - loss: 8.0306e-04 - val_loss: 8.7780e-04\n",
            "Epoch 75/100\n",
            "15/15 [==============================] - 0s 21ms/step - loss: 8.1628e-04 - val_loss: 6.9412e-04\n",
            "Epoch 76/100\n",
            "15/15 [==============================] - 0s 21ms/step - loss: 7.8339e-04 - val_loss: 7.4331e-04\n",
            "Epoch 77/100\n",
            "15/15 [==============================] - 0s 23ms/step - loss: 8.0119e-04 - val_loss: 6.8801e-04\n",
            "Epoch 78/100\n",
            "15/15 [==============================] - 0s 22ms/step - loss: 7.7402e-04 - val_loss: 8.9490e-04\n",
            "Epoch 79/100\n",
            "15/15 [==============================] - 0s 21ms/step - loss: 7.6608e-04 - val_loss: 6.9206e-04\n",
            "Epoch 80/100\n",
            "15/15 [==============================] - 0s 23ms/step - loss: 8.0895e-04 - val_loss: 6.8516e-04\n",
            "Epoch 81/100\n",
            "15/15 [==============================] - 0s 22ms/step - loss: 0.0010 - val_loss: 7.8257e-04\n",
            "Epoch 82/100\n",
            "15/15 [==============================] - 0s 22ms/step - loss: 9.3846e-04 - val_loss: 7.0314e-04\n",
            "Epoch 83/100\n",
            "15/15 [==============================] - 0s 23ms/step - loss: 8.4771e-04 - val_loss: 0.0011\n",
            "Epoch 84/100\n",
            "15/15 [==============================] - 0s 22ms/step - loss: 8.7218e-04 - val_loss: 7.3982e-04\n",
            "Epoch 85/100\n",
            "15/15 [==============================] - 0s 25ms/step - loss: 7.7773e-04 - val_loss: 7.3144e-04\n",
            "Epoch 86/100\n",
            "15/15 [==============================] - 1s 40ms/step - loss: 7.7634e-04 - val_loss: 6.8141e-04\n",
            "Epoch 87/100\n",
            "15/15 [==============================] - 1s 38ms/step - loss: 7.4473e-04 - val_loss: 7.1500e-04\n",
            "Epoch 88/100\n",
            "15/15 [==============================] - 1s 41ms/step - loss: 7.4953e-04 - val_loss: 6.7240e-04\n",
            "Epoch 89/100\n",
            "15/15 [==============================] - 1s 42ms/step - loss: 7.3701e-04 - val_loss: 9.4930e-04\n",
            "Epoch 90/100\n",
            "15/15 [==============================] - 1s 42ms/step - loss: 7.9246e-04 - val_loss: 6.4691e-04\n",
            "Epoch 91/100\n",
            "15/15 [==============================] - 1s 44ms/step - loss: 7.4813e-04 - val_loss: 6.6565e-04\n",
            "Epoch 92/100\n",
            "15/15 [==============================] - 0s 21ms/step - loss: 8.8472e-04 - val_loss: 8.6251e-04\n",
            "Epoch 93/100\n",
            "15/15 [==============================] - 0s 21ms/step - loss: 7.6697e-04 - val_loss: 7.6566e-04\n",
            "Epoch 94/100\n",
            "15/15 [==============================] - 0s 21ms/step - loss: 7.5301e-04 - val_loss: 9.7883e-04\n",
            "Epoch 95/100\n",
            "15/15 [==============================] - 0s 21ms/step - loss: 8.3458e-04 - val_loss: 6.8180e-04\n",
            "Epoch 96/100\n",
            "15/15 [==============================] - 0s 21ms/step - loss: 7.7597e-04 - val_loss: 7.4551e-04\n",
            "Epoch 97/100\n",
            "15/15 [==============================] - 0s 23ms/step - loss: 7.7471e-04 - val_loss: 9.9600e-04\n",
            "Epoch 98/100\n",
            "15/15 [==============================] - 0s 21ms/step - loss: 8.8772e-04 - val_loss: 6.8347e-04\n",
            "Epoch 99/100\n",
            "15/15 [==============================] - 0s 21ms/step - loss: 7.5575e-04 - val_loss: 7.1993e-04\n",
            "Epoch 100/100\n",
            "15/15 [==============================] - 0s 24ms/step - loss: 7.6018e-04 - val_loss: 6.8722e-04\n"
          ]
        },
        {
          "output_type": "execute_result",
          "data": {
            "text/plain": [
              "<keras.src.callbacks.History at 0x79f3f66f65c0>"
            ]
          },
          "metadata": {},
          "execution_count": 21
        }
      ]
    },
    {
      "cell_type": "code",
      "source": [
        "# 10. Dự báo dữ liệu test, val\n",
        "train_predict=model.predict(X_train)\n",
        "y_pred=model.predict(X_test)"
      ],
      "metadata": {
        "colab": {
          "base_uri": "https://localhost:8080/"
        },
        "outputId": "830095ad-cc81-43cd-d9e6-a28cad660cec",
        "id": "8VdFrlVmUiZX"
      },
      "execution_count": 22,
      "outputs": [
        {
          "output_type": "stream",
          "name": "stdout",
          "text": [
            "29/29 [==============================] - 0s 7ms/step\n",
            "5/5 [==============================] - 0s 7ms/step\n"
          ]
        }
      ]
    },
    {
      "cell_type": "code",
      "source": [
        "# 11. Chuẩn hóa dữ liệu y_pred, y_pred_val\n",
        "train_predict = scaler.inverse_transform(train_predict)\n",
        "y_pred = scaler.inverse_transform(y_pred.reshape(-1, 1))\n",
        "ytest = scaler.inverse_transform(ytest.reshape(-1, 1))"
      ],
      "metadata": {
        "id": "ve36pTK8UiZX"
      },
      "execution_count": 23,
      "outputs": []
    },
    {
      "cell_type": "code",
      "source": [
        "# 12. Đánh giá độ chính xác thuật toán bằng RMSE\n",
        "from sklearn.metrics import mean_absolute_error, mean_absolute_percentage_error\n",
        "\n",
        "test_rmse = np.sqrt(np.mean((y_pred - ytest)**2))\n",
        "test_mape = mean_absolute_percentage_error(ytest, y_pred)\n",
        "test_mae = mean_absolute_error(ytest, y_pred)\n",
        "\n",
        "print('Testing RMSE:', test_rmse)\n",
        "print('Testing MAPE:', test_mape)\n",
        "print('Testing MAE:', test_mae)"
      ],
      "metadata": {
        "colab": {
          "base_uri": "https://localhost:8080/"
        },
        "outputId": "2eb14810-2cb8-4f50-e246-5e550c6407b5",
        "id": "k2qMIADQUiZX"
      },
      "execution_count": 24,
      "outputs": [
        {
          "output_type": "stream",
          "name": "stdout",
          "text": [
            "Testing RMSE: 1317.8774271679204\n",
            "Testing MAPE: 0.02132626149893413\n",
            "Testing MAE: 997.7076041666667\n"
          ]
        }
      ]
    },
    {
      "cell_type": "code",
      "source": [
        "# 13. Dự báo 30, 60, 90 ngày tiếp theo\n",
        "def predict_future(model, data, time_step, future_days):\n",
        "    x_input = data[-time_step:].reshape(1, -1)\n",
        "    temp_input = x_input[0].tolist()\n",
        "    lst_output = []\n",
        "    i = 0\n",
        "    while i < future_days:\n",
        "        if len(temp_input) > time_step:\n",
        "            x_input = np.array(temp_input[-time_step:])\n",
        "            x_input = x_input.reshape((1, time_step, 1))\n",
        "            yhat = model.predict(x_input, verbose=0)\n",
        "            temp_input.extend(yhat[0].tolist())\n",
        "            temp_input = temp_input[1:]\n",
        "            lst_output.extend(yhat.tolist())\n",
        "            i += 1\n",
        "        else:\n",
        "            x_input = np.array(temp_input).reshape((1, time_step, 1))\n",
        "            yhat = model.predict(x_input, verbose=0)\n",
        "            temp_input.extend(yhat[0].tolist())\n",
        "            lst_output.extend(yhat.tolist())\n",
        "            i += 1\n",
        "    return lst_output\n",
        "\n",
        "n_steps = 100\n",
        "\n",
        "pred_30_days = predict_future(model, test_data, n_steps, 30)\n",
        "pred_60_days = predict_future(model, test_data, n_steps, 60)\n",
        "pred_90_days = predict_future(model, test_data, n_steps, 90)\n",
        "\n",
        "pred_30_days = scaler.inverse_transform(np.array(pred_30_days).reshape(-1, 1))\n",
        "pred_60_days = scaler.inverse_transform(np.array(pred_60_days).reshape(-1, 1))\n",
        "pred_90_days = scaler.inverse_transform(np.array(pred_90_days).reshape(-1, 1))"
      ],
      "metadata": {
        "id": "Nht5wDPtUiZX"
      },
      "execution_count": 25,
      "outputs": []
    },
    {
      "cell_type": "code",
      "source": [
        "# 14. Vẽ hình\n",
        "plt.figure(figsize=(14, 8))\n",
        "dates = pd.to_datetime(df['Date'])\n",
        "\n",
        "plt.plot(dates[:train_size], scaler.inverse_transform(train_data), label='Train')\n",
        "plt.plot(dates[train_size:], scaler.inverse_transform(test_data), label='Test')\n",
        "predicted_test_index_start = train_size + time_step\n",
        "plt.plot(dates[predicted_test_index_start:predicted_test_index_start + len(y_pred)], y_pred, label='Predict')\n",
        "\n",
        "last_date = dates.iloc[-1]\n",
        "\n",
        "future_dates_30 = pd.date_range(start=last_date + pd.Timedelta(days=1), periods=30)\n",
        "future_30_with_last = np.concatenate((scaler.inverse_transform(test_data[-1].reshape(-1, 1)), pred_30_days), axis=0)\n",
        "future_dates_60 = pd.date_range(start=last_date + pd.Timedelta(days=1), periods=61)\n",
        "future_60_with_last = np.concatenate((scaler.inverse_transform(test_data[-1].reshape(-1, 1)), pred_60_days), axis=0)\n",
        "future_dates_90 = pd.date_range(start=last_date + pd.Timedelta(days=1), periods=91)\n",
        "future_90_with_last = np.concatenate((scaler.inverse_transform(test_data[-1].reshape(-1, 1)), pred_90_days), axis=0)\n",
        "\n",
        "# Vẽ 90 ngày\n",
        "plt.plot(future_dates_90, future_90_with_last[:len(future_dates_90)], label='90 Days Prediction', color='purple')\n",
        "\n",
        "# Vẽ 60 ngày\n",
        "plt.plot(future_dates_60, future_60_with_last[:len(future_dates_60)], label='60 Days Prediction', color='yellow')\n",
        "\n",
        "# Vẽ 30 ngày\n",
        "plt.plot(future_dates_30, future_30_with_last[:len(future_dates_30)], label='30 Days Prediction', color='red')\n",
        "\n",
        "plt.legend()\n",
        "plt.title('Stock Price Prediction')\n",
        "plt.xlabel('Date')\n",
        "plt.ylabel('Stock Price')\n",
        "plt.show()\n"
      ],
      "metadata": {
        "colab": {
          "base_uri": "https://localhost:8080/",
          "height": 717
        },
        "outputId": "1d662067-a7c6-4832-b7a9-69e84f3d580e",
        "id": "S_vM9HdzUiZY"
      },
      "execution_count": 26,
      "outputs": [
        {
          "output_type": "display_data",
          "data": {
            "text/plain": [
              "<Figure size 1400x800 with 1 Axes>"
            ],
            "image/png": "[encoded data removed]"
          },
          "metadata": {}
        }
      ]
    },
    {
      "cell_type": "markdown",
      "source": [
        "## Ratio 7:3"
      ],
      "metadata": {
        "id": "KF71nRUBUoIG"
      }
    },
    {
      "cell_type": "code",
      "source": [
        "# 4. Chia train test\n",
        "train_size = int(0.7 * len(df1))\n",
        "test_size = len(df1) - train_size\n",
        "\n",
        "train_data = df1[:train_size]\n",
        "test_data = df1[train_size:]"
      ],
      "metadata": {
        "id": "hLcBZP9wUoIQ"
      },
      "execution_count": 27,
      "outputs": []
    },
    {
      "cell_type": "code",
      "source": [
        "# 5. Hàm Create Dataset\n",
        "import numpy\n",
        "# convert an array of values into a dataset matrix\n",
        "def create_dataset(dataset, time_step=1):\n",
        "\tdataX, dataY = [], []\n",
        "\tfor i in range(len(dataset)-time_step-1):\n",
        "\t\ta = dataset[i:(i+time_step), 0]   ###i=0, X=0,1,2,3-----99   Y=100\n",
        "\t\tdataX.append(a)\n",
        "\t\tdataY.append(dataset[i + time_step, 0])\n",
        "\treturn numpy.array(dataX), numpy.array(dataY)"
      ],
      "metadata": {
        "id": "88eEItx6UoIQ"
      },
      "execution_count": 28,
      "outputs": []
    },
    {
      "cell_type": "code",
      "source": [
        "#6. Reshape into X=t,t+1,t+2..t+99 and Y=t+100\n",
        "\n",
        "time_step = 100\n",
        "X_train, y_train = create_dataset(train_data, time_step)\n",
        "X_test, ytest = create_dataset(test_data, time_step)"
      ],
      "metadata": {
        "id": "qyJ6eDkxUoIQ"
      },
      "execution_count": 29,
      "outputs": []
    },
    {
      "cell_type": "code",
      "source": [
        "# 7. Reshape input to be [samples, time steps, features] which is required for LSTM\n",
        "X_train =X_train.reshape(X_train.shape[0],X_train.shape[1] , 1)\n",
        "X_test = X_test.reshape(X_test.shape[0],X_test.shape[1] , 1)"
      ],
      "metadata": {
        "id": "51VxWOG_UoIQ"
      },
      "execution_count": 30,
      "outputs": []
    },
    {
      "cell_type": "code",
      "source": [
        "# 8. Define LSTM Model\n",
        "\n",
        "model = Sequential()\n",
        "model.add(SimpleRNN(50, input_shape=(time_step, 1)))\n",
        "model.add(Dense(1))\n",
        "model.compile(loss='mean_squared_error',optimizer='adam')"
      ],
      "metadata": {
        "id": "rN5V2u2bUoIQ"
      },
      "execution_count": 31,
      "outputs": []
    },
    {
      "cell_type": "code",
      "source": [
        "# 9. Fit mô hình với dữ liệu train\n",
        "model.fit(X_train,y_train,validation_data=(X_test,ytest),epochs=100,batch_size=64,verbose=1)"
      ],
      "metadata": {
        "colab": {
          "base_uri": "https://localhost:8080/"
        },
        "outputId": "ce29d906-eedf-4f9c-b12b-c80659a8922b",
        "id": "ZC9Ktvt3UoIQ"
      },
      "execution_count": 32,
      "outputs": [
        {
          "output_type": "stream",
          "name": "stdout",
          "text": [
            "Epoch 1/100\n",
            "13/13 [==============================] - 2s 71ms/step - loss: 0.0155 - val_loss: 0.0128\n",
            "Epoch 2/100\n",
            "13/13 [==============================] - 1s 40ms/step - loss: 0.0041 - val_loss: 0.0036\n",
            "Epoch 3/100\n",
            "13/13 [==============================] - 1s 43ms/step - loss: 0.0019 - val_loss: 0.0018\n",
            "Epoch 4/100\n",
            "13/13 [==============================] - 1s 46ms/step - loss: 0.0016 - val_loss: 0.0017\n",
            "Epoch 5/100\n",
            "13/13 [==============================] - 1s 44ms/step - loss: 0.0014 - val_loss: 0.0015\n",
            "Epoch 6/100\n",
            "13/13 [==============================] - 1s 41ms/step - loss: 0.0012 - val_loss: 0.0014\n",
            "Epoch 7/100\n",
            "13/13 [==============================] - 0s 38ms/step - loss: 0.0011 - val_loss: 0.0012\n",
            "Epoch 8/100\n",
            "13/13 [==============================] - 0s 25ms/step - loss: 0.0011 - val_loss: 0.0011\n",
            "Epoch 9/100\n",
            "13/13 [==============================] - 0s 23ms/step - loss: 0.0010 - val_loss: 0.0010\n",
            "Epoch 10/100\n",
            "13/13 [==============================] - 0s 23ms/step - loss: 9.6908e-04 - val_loss: 9.7263e-04\n",
            "Epoch 11/100\n",
            "13/13 [==============================] - 0s 25ms/step - loss: 9.9582e-04 - val_loss: 9.7675e-04\n",
            "Epoch 12/100\n",
            "13/13 [==============================] - 0s 23ms/step - loss: 9.5587e-04 - val_loss: 8.9164e-04\n",
            "Epoch 13/100\n",
            "13/13 [==============================] - 0s 23ms/step - loss: 8.8467e-04 - val_loss: 0.0011\n",
            "Epoch 14/100\n",
            "13/13 [==============================] - 0s 25ms/step - loss: 9.7199e-04 - val_loss: 8.1978e-04\n",
            "Epoch 15/100\n",
            "13/13 [==============================] - 0s 24ms/step - loss: 8.8311e-04 - val_loss: 8.1439e-04\n",
            "Epoch 16/100\n",
            "13/13 [==============================] - 0s 25ms/step - loss: 9.7872e-04 - val_loss: 8.6374e-04\n",
            "Epoch 17/100\n",
            "13/13 [==============================] - 0s 23ms/step - loss: 8.4116e-04 - val_loss: 8.1967e-04\n",
            "Epoch 18/100\n",
            "13/13 [==============================] - 0s 25ms/step - loss: 8.2679e-04 - val_loss: 7.7235e-04\n",
            "Epoch 19/100\n",
            "13/13 [==============================] - 0s 24ms/step - loss: 8.0241e-04 - val_loss: 7.8033e-04\n",
            "Epoch 20/100\n",
            "13/13 [==============================] - 0s 25ms/step - loss: 8.0873e-04 - val_loss: 7.5317e-04\n",
            "Epoch 21/100\n",
            "13/13 [==============================] - 0s 25ms/step - loss: 8.2032e-04 - val_loss: 8.9629e-04\n",
            "Epoch 22/100\n",
            "13/13 [==============================] - 0s 23ms/step - loss: 8.0451e-04 - val_loss: 7.5364e-04\n",
            "Epoch 23/100\n",
            "13/13 [==============================] - 0s 23ms/step - loss: 7.7181e-04 - val_loss: 6.9987e-04\n",
            "Epoch 24/100\n",
            "13/13 [==============================] - 0s 24ms/step - loss: 7.7698e-04 - val_loss: 0.0011\n",
            "Epoch 25/100\n",
            "13/13 [==============================] - 0s 23ms/step - loss: 8.8300e-04 - val_loss: 7.9080e-04\n",
            "Epoch 26/100\n",
            "13/13 [==============================] - 0s 24ms/step - loss: 7.7808e-04 - val_loss: 7.9198e-04\n",
            "Epoch 27/100\n",
            "13/13 [==============================] - 0s 26ms/step - loss: 8.8967e-04 - val_loss: 7.4295e-04\n",
            "Epoch 28/100\n",
            "13/13 [==============================] - 0s 23ms/step - loss: 7.5685e-04 - val_loss: 6.8459e-04\n",
            "Epoch 29/100\n",
            "13/13 [==============================] - 0s 23ms/step - loss: 7.6139e-04 - val_loss: 6.6696e-04\n",
            "Epoch 30/100\n",
            "13/13 [==============================] - 0s 23ms/step - loss: 7.2806e-04 - val_loss: 6.8358e-04\n",
            "Epoch 31/100\n",
            "13/13 [==============================] - 0s 26ms/step - loss: 7.3986e-04 - val_loss: 8.7937e-04\n",
            "Epoch 32/100\n",
            "13/13 [==============================] - 0s 23ms/step - loss: 9.1147e-04 - val_loss: 8.6975e-04\n",
            "Epoch 33/100\n",
            "13/13 [==============================] - 0s 22ms/step - loss: 7.8183e-04 - val_loss: 6.9760e-04\n",
            "Epoch 34/100\n",
            "13/13 [==============================] - 0s 26ms/step - loss: 8.0784e-04 - val_loss: 7.0856e-04\n",
            "Epoch 35/100\n",
            "13/13 [==============================] - 0s 23ms/step - loss: 7.2856e-04 - val_loss: 7.0917e-04\n",
            "Epoch 36/100\n",
            "13/13 [==============================] - 0s 25ms/step - loss: 7.5094e-04 - val_loss: 7.1192e-04\n",
            "Epoch 37/100\n",
            "13/13 [==============================] - 0s 24ms/step - loss: 7.6863e-04 - val_loss: 6.7259e-04\n",
            "Epoch 38/100\n",
            "13/13 [==============================] - 0s 24ms/step - loss: 7.0584e-04 - val_loss: 6.5812e-04\n",
            "Epoch 39/100\n",
            "13/13 [==============================] - 0s 25ms/step - loss: 7.2411e-04 - val_loss: 6.9621e-04\n",
            "Epoch 40/100\n",
            "13/13 [==============================] - 1s 44ms/step - loss: 7.0672e-04 - val_loss: 6.4758e-04\n",
            "Epoch 41/100\n",
            "13/13 [==============================] - 1s 40ms/step - loss: 6.9959e-04 - val_loss: 6.4114e-04\n",
            "Epoch 42/100\n",
            "13/13 [==============================] - 1s 44ms/step - loss: 7.0281e-04 - val_loss: 6.3844e-04\n",
            "Epoch 43/100\n",
            "13/13 [==============================] - 1s 41ms/step - loss: 6.9111e-04 - val_loss: 6.3581e-04\n",
            "Epoch 44/100\n",
            "13/13 [==============================] - 1s 46ms/step - loss: 7.0900e-04 - val_loss: 6.3618e-04\n",
            "Epoch 45/100\n",
            "13/13 [==============================] - 1s 41ms/step - loss: 7.0142e-04 - val_loss: 6.5058e-04\n",
            "Epoch 46/100\n",
            "13/13 [==============================] - 0s 38ms/step - loss: 6.9590e-04 - val_loss: 9.0307e-04\n",
            "Epoch 47/100\n",
            "13/13 [==============================] - 0s 24ms/step - loss: 8.7259e-04 - val_loss: 6.6885e-04\n",
            "Epoch 48/100\n",
            "13/13 [==============================] - 0s 24ms/step - loss: 6.9509e-04 - val_loss: 6.7612e-04\n",
            "Epoch 49/100\n",
            "13/13 [==============================] - 0s 24ms/step - loss: 6.8429e-04 - val_loss: 6.3381e-04\n",
            "Epoch 50/100\n",
            "13/13 [==============================] - 0s 23ms/step - loss: 6.9797e-04 - val_loss: 6.2467e-04\n",
            "Epoch 51/100\n",
            "13/13 [==============================] - 0s 24ms/step - loss: 6.9085e-04 - val_loss: 6.1978e-04\n",
            "Epoch 52/100\n",
            "13/13 [==============================] - 0s 26ms/step - loss: 6.9333e-04 - val_loss: 6.0998e-04\n",
            "Epoch 53/100\n",
            "13/13 [==============================] - 0s 23ms/step - loss: 6.8992e-04 - val_loss: 6.1649e-04\n",
            "Epoch 54/100\n",
            "13/13 [==============================] - 0s 25ms/step - loss: 6.9734e-04 - val_loss: 6.4304e-04\n",
            "Epoch 55/100\n",
            "13/13 [==============================] - 0s 26ms/step - loss: 6.8948e-04 - val_loss: 6.1459e-04\n",
            "Epoch 56/100\n",
            "13/13 [==============================] - 0s 24ms/step - loss: 6.8391e-04 - val_loss: 6.2072e-04\n",
            "Epoch 57/100\n",
            "13/13 [==============================] - 0s 24ms/step - loss: 6.7806e-04 - val_loss: 6.2300e-04\n",
            "Epoch 58/100\n",
            "13/13 [==============================] - 0s 23ms/step - loss: 7.2768e-04 - val_loss: 6.1679e-04\n",
            "Epoch 59/100\n",
            "13/13 [==============================] - 0s 24ms/step - loss: 6.7361e-04 - val_loss: 6.1428e-04\n",
            "Epoch 60/100\n",
            "13/13 [==============================] - 0s 24ms/step - loss: 6.5645e-04 - val_loss: 6.6144e-04\n",
            "Epoch 61/100\n",
            "13/13 [==============================] - 0s 24ms/step - loss: 6.6934e-04 - val_loss: 6.0555e-04\n",
            "Epoch 62/100\n",
            "13/13 [==============================] - 0s 25ms/step - loss: 6.4994e-04 - val_loss: 5.9479e-04\n",
            "Epoch 63/100\n",
            "13/13 [==============================] - 0s 23ms/step - loss: 6.6883e-04 - val_loss: 7.4083e-04\n",
            "Epoch 64/100\n",
            "13/13 [==============================] - 0s 23ms/step - loss: 7.6993e-04 - val_loss: 7.2461e-04\n",
            "Epoch 65/100\n",
            "13/13 [==============================] - 0s 24ms/step - loss: 8.2039e-04 - val_loss: 7.3495e-04\n",
            "Epoch 66/100\n",
            "13/13 [==============================] - 0s 23ms/step - loss: 8.3427e-04 - val_loss: 6.8000e-04\n",
            "Epoch 67/100\n",
            "13/13 [==============================] - 0s 25ms/step - loss: 8.0183e-04 - val_loss: 6.3949e-04\n",
            "Epoch 68/100\n",
            "13/13 [==============================] - 0s 25ms/step - loss: 9.3147e-04 - val_loss: 7.7993e-04\n",
            "Epoch 69/100\n",
            "13/13 [==============================] - 0s 23ms/step - loss: 7.8850e-04 - val_loss: 6.6532e-04\n",
            "Epoch 70/100\n",
            "13/13 [==============================] - 0s 24ms/step - loss: 7.6535e-04 - val_loss: 6.3571e-04\n",
            "Epoch 71/100\n",
            "13/13 [==============================] - 0s 24ms/step - loss: 7.1162e-04 - val_loss: 6.1903e-04\n",
            "Epoch 72/100\n",
            "13/13 [==============================] - 0s 24ms/step - loss: 7.4398e-04 - val_loss: 6.5196e-04\n",
            "Epoch 73/100\n",
            "13/13 [==============================] - 0s 23ms/step - loss: 8.9276e-04 - val_loss: 6.2236e-04\n",
            "Epoch 74/100\n",
            "13/13 [==============================] - 0s 23ms/step - loss: 6.8854e-04 - val_loss: 6.0814e-04\n",
            "Epoch 75/100\n",
            "13/13 [==============================] - 0s 24ms/step - loss: 6.5181e-04 - val_loss: 6.0765e-04\n",
            "Epoch 76/100\n",
            "13/13 [==============================] - 0s 23ms/step - loss: 6.4820e-04 - val_loss: 5.9139e-04\n",
            "Epoch 77/100\n",
            "13/13 [==============================] - 0s 23ms/step - loss: 6.5889e-04 - val_loss: 5.8912e-04\n",
            "Epoch 78/100\n",
            "13/13 [==============================] - 0s 28ms/step - loss: 6.4456e-04 - val_loss: 6.4203e-04\n",
            "Epoch 79/100\n",
            "13/13 [==============================] - 1s 41ms/step - loss: 7.2672e-04 - val_loss: 6.2037e-04\n",
            "Epoch 80/100\n",
            "13/13 [==============================] - 1s 41ms/step - loss: 6.6464e-04 - val_loss: 6.0062e-04\n",
            "Epoch 81/100\n",
            "13/13 [==============================] - 1s 45ms/step - loss: 7.7743e-04 - val_loss: 5.7859e-04\n",
            "Epoch 82/100\n",
            "13/13 [==============================] - 1s 46ms/step - loss: 6.9511e-04 - val_loss: 5.9613e-04\n",
            "Epoch 83/100\n",
            "13/13 [==============================] - 1s 45ms/step - loss: 6.8668e-04 - val_loss: 5.7614e-04\n",
            "Epoch 84/100\n",
            "13/13 [==============================] - 1s 46ms/step - loss: 6.2550e-04 - val_loss: 5.7436e-04\n",
            "Epoch 85/100\n",
            "13/13 [==============================] - 0s 23ms/step - loss: 6.3359e-04 - val_loss: 5.7509e-04\n",
            "Epoch 86/100\n",
            "13/13 [==============================] - 0s 25ms/step - loss: 7.3869e-04 - val_loss: 5.5472e-04\n",
            "Epoch 87/100\n",
            "13/13 [==============================] - 0s 25ms/step - loss: 7.4133e-04 - val_loss: 5.8257e-04\n",
            "Epoch 88/100\n",
            "13/13 [==============================] - 0s 23ms/step - loss: 6.6271e-04 - val_loss: 5.6493e-04\n",
            "Epoch 89/100\n",
            "13/13 [==============================] - 0s 22ms/step - loss: 6.3966e-04 - val_loss: 5.5528e-04\n",
            "Epoch 90/100\n",
            "13/13 [==============================] - 0s 25ms/step - loss: 6.5558e-04 - val_loss: 5.6472e-04\n",
            "Epoch 91/100\n",
            "13/13 [==============================] - 0s 24ms/step - loss: 6.2538e-04 - val_loss: 5.8455e-04\n",
            "Epoch 92/100\n",
            "13/13 [==============================] - 0s 23ms/step - loss: 6.4543e-04 - val_loss: 5.6323e-04\n",
            "Epoch 93/100\n",
            "13/13 [==============================] - 0s 26ms/step - loss: 6.1424e-04 - val_loss: 5.7775e-04\n",
            "Epoch 94/100\n",
            "13/13 [==============================] - 0s 23ms/step - loss: 6.1824e-04 - val_loss: 5.7086e-04\n",
            "Epoch 95/100\n",
            "13/13 [==============================] - 0s 23ms/step - loss: 6.2908e-04 - val_loss: 5.8842e-04\n",
            "Epoch 96/100\n",
            "13/13 [==============================] - 0s 23ms/step - loss: 6.5686e-04 - val_loss: 5.6784e-04\n",
            "Epoch 97/100\n",
            "13/13 [==============================] - 0s 24ms/step - loss: 6.1527e-04 - val_loss: 5.5337e-04\n",
            "Epoch 98/100\n",
            "13/13 [==============================] - 0s 23ms/step - loss: 6.1077e-04 - val_loss: 5.7277e-04\n",
            "Epoch 99/100\n",
            "13/13 [==============================] - 0s 23ms/step - loss: 6.8087e-04 - val_loss: 5.4906e-04\n",
            "Epoch 100/100\n",
            "13/13 [==============================] - 0s 26ms/step - loss: 6.2185e-04 - val_loss: 5.4931e-04\n"
          ]
        },
        {
          "output_type": "execute_result",
          "data": {
            "text/plain": [
              "<keras.src.callbacks.History at 0x79f3f7465660>"
            ]
          },
          "metadata": {},
          "execution_count": 32
        }
      ]
    },
    {
      "cell_type": "code",
      "source": [
        "# 10. Dự báo dữ liệu test, val\n",
        "train_predict=model.predict(X_train)\n",
        "y_pred=model.predict(X_test)"
      ],
      "metadata": {
        "colab": {
          "base_uri": "https://localhost:8080/"
        },
        "outputId": "b8099ba4-a72b-4a23-9178-1f4faf0e3426",
        "id": "JKBXB7WDUoIQ"
      },
      "execution_count": 33,
      "outputs": [
        {
          "output_type": "stream",
          "name": "stdout",
          "text": [
            "25/25 [==============================] - 0s 6ms/step\n",
            "9/9 [==============================] - 0s 7ms/step\n"
          ]
        }
      ]
    },
    {
      "cell_type": "code",
      "source": [
        "# 11. Chuẩn hóa dữ liệu y_pred, y_pred_val\n",
        "train_predict = scaler.inverse_transform(train_predict)\n",
        "y_pred = scaler.inverse_transform(y_pred.reshape(-1, 1))\n",
        "ytest = scaler.inverse_transform(ytest.reshape(-1, 1))"
      ],
      "metadata": {
        "id": "xyYT5bjBUoIR"
      },
      "execution_count": 34,
      "outputs": []
    },
    {
      "cell_type": "code",
      "source": [
        "# 12. Đánh giá độ chính xác thuật toán bằng RMSE\n",
        "from sklearn.metrics import mean_absolute_error, mean_absolute_percentage_error\n",
        "\n",
        "test_rmse = np.sqrt(np.mean((y_pred - ytest)**2))\n",
        "test_mape = mean_absolute_percentage_error(ytest, y_pred)\n",
        "test_mae = mean_absolute_error(ytest, y_pred)\n",
        "\n",
        "print('Testing RMSE:', test_rmse)\n",
        "print('Testing MAPE:', test_mape)\n",
        "print('Testing MAE:', test_mae)"
      ],
      "metadata": {
        "colab": {
          "base_uri": "https://localhost:8080/"
        },
        "outputId": "43ff517b-5006-4800-fbf2-fd3b95b35b48",
        "id": "gpm_V5_7UoIR"
      },
      "execution_count": 35,
      "outputs": [
        {
          "output_type": "stream",
          "name": "stdout",
          "text": [
            "Testing RMSE: 1178.2445707378793\n",
            "Testing MAPE: 0.018233145485460983\n",
            "Testing MAE: 869.1112073863636\n"
          ]
        }
      ]
    },
    {
      "cell_type": "code",
      "source": [
        "# 13. Dự báo 30, 60, 90 ngày tiếp theo\n",
        "def predict_future(model, data, time_step, future_days):\n",
        "    x_input = data[-time_step:].reshape(1, -1)\n",
        "    temp_input = x_input[0].tolist()\n",
        "    lst_output = []\n",
        "    i = 0\n",
        "    while i < future_days:\n",
        "        if len(temp_input) > time_step:\n",
        "            x_input = np.array(temp_input[-time_step:])\n",
        "            x_input = x_input.reshape((1, time_step, 1))\n",
        "            yhat = model.predict(x_input, verbose=0)\n",
        "            temp_input.extend(yhat[0].tolist())\n",
        "            temp_input = temp_input[1:]\n",
        "            lst_output.extend(yhat.tolist())\n",
        "            i += 1\n",
        "        else:\n",
        "            x_input = np.array(temp_input).reshape((1, time_step, 1))\n",
        "            yhat = model.predict(x_input, verbose=0)\n",
        "            temp_input.extend(yhat[0].tolist())\n",
        "            lst_output.extend(yhat.tolist())\n",
        "            i += 1\n",
        "    return lst_output\n",
        "\n",
        "n_steps = 100\n",
        "\n",
        "pred_30_days = predict_future(model, test_data, n_steps, 30)\n",
        "pred_60_days = predict_future(model, test_data, n_steps, 60)\n",
        "pred_90_days = predict_future(model, test_data, n_steps, 90)\n",
        "\n",
        "pred_30_days = scaler.inverse_transform(np.array(pred_30_days).reshape(-1, 1))\n",
        "pred_60_days = scaler.inverse_transform(np.array(pred_60_days).reshape(-1, 1))\n",
        "pred_90_days = scaler.inverse_transform(np.array(pred_90_days).reshape(-1, 1))\n"
      ],
      "metadata": {
        "id": "N3GJvx6yUoIR"
      },
      "execution_count": 36,
      "outputs": []
    },
    {
      "cell_type": "code",
      "source": [
        "# 14. Vẽ hình\n",
        "plt.figure(figsize=(14, 8))\n",
        "dates = pd.to_datetime(df['Date'])\n",
        "\n",
        "plt.plot(dates[:train_size], scaler.inverse_transform(train_data), label='Train')\n",
        "plt.plot(dates[train_size:], scaler.inverse_transform(test_data), label='Test')\n",
        "predicted_test_index_start = train_size + time_step\n",
        "plt.plot(dates[predicted_test_index_start:predicted_test_index_start + len(y_pred)], y_pred, label='Predict')\n",
        "\n",
        "last_date = dates.iloc[-1]\n",
        "\n",
        "future_dates_30 = pd.date_range(start=last_date + pd.Timedelta(days=1), periods=30)\n",
        "future_30_with_last = np.concatenate((scaler.inverse_transform(test_data[-1].reshape(-1, 1)), pred_30_days), axis=0)\n",
        "future_dates_60 = pd.date_range(start=last_date + pd.Timedelta(days=1), periods=61)\n",
        "future_60_with_last = np.concatenate((scaler.inverse_transform(test_data[-1].reshape(-1, 1)), pred_60_days), axis=0)\n",
        "future_dates_90 = pd.date_range(start=last_date + pd.Timedelta(days=1), periods=91)\n",
        "future_90_with_last = np.concatenate((scaler.inverse_transform(test_data[-1].reshape(-1, 1)), pred_90_days), axis=0)\n",
        "\n",
        "# Vẽ 90 ngày\n",
        "plt.plot(future_dates_90, future_90_with_last[:len(future_dates_90)], label='90 Days Prediction', color='purple')\n",
        "\n",
        "# Vẽ 60 ngày\n",
        "plt.plot(future_dates_60, future_60_with_last[:len(future_dates_60)], label='60 Days Prediction', color='yellow')\n",
        "\n",
        "# Vẽ 30 ngày\n",
        "plt.plot(future_dates_30, future_30_with_last[:len(future_dates_30)], label='30 Days Prediction', color='red')\n",
        "\n",
        "plt.legend()\n",
        "plt.title('Stock Price Prediction')\n",
        "plt.xlabel('Date')\n",
        "plt.ylabel('Stock Price')\n",
        "plt.show()\n"
      ],
      "metadata": {
        "colab": {
          "base_uri": "https://localhost:8080/",
          "height": 717
        },
        "outputId": "dd400bfd-7acc-46cf-e1d4-b088de5a23c5",
        "id": "Knw39B6pUoIR"
      },
      "execution_count": 37,
      "outputs": [
        {
          "output_type": "display_data",
          "data": {
            "text/plain": [
              "<Figure size 1400x800 with 1 Axes>"
            ],
            "image/png": "[encoded data removed]"
          },
          "metadata": {}
        }
      ]
    },
    {
      "cell_type": "markdown",
      "source": [
        "# 2. NVL Dataset"
      ],
      "metadata": {
        "id": "UXoq_xqjUtsY"
      }
    },
    {
      "cell_type": "code",
      "source": [
        "# 1. Import thư viện cần thiết\n",
        "import numpy as np\n",
        "import pandas as pd\n",
        "import matplotlib.pyplot as plt\n",
        "from sklearn.preprocessing import MinMaxScaler\n",
        "from keras.models import Sequential\n",
        "from keras.layers import Dense, SimpleRNN"
      ],
      "metadata": {
        "id": "_kIm66EsUtsu"
      },
      "execution_count": 38,
      "outputs": []
    },
    {
      "cell_type": "code",
      "source": [
        "# 2. Đọc file csv và gắn index với giá Close\n",
        "df = pd.read_csv('2-NVL Historical Data.csv')\n",
        "df = df.iloc[::-1].reset_index(drop=True)  # Reverse the dataframe\n",
        "df['Date'] = pd.to_datetime(df['Date'])\n",
        "df1 = df['Price'].str.replace(',', '').astype(float)"
      ],
      "metadata": {
        "id": "lTjMOjW2Utsu"
      },
      "execution_count": 39,
      "outputs": []
    },
    {
      "cell_type": "code",
      "source": [
        "# 3. Scaler data\n",
        "scaler=MinMaxScaler(feature_range=(0,1))\n",
        "df1=scaler.fit_transform(np.array(df1).reshape(-1,1))"
      ],
      "metadata": {
        "id": "XDPUKZciUtsv"
      },
      "execution_count": 40,
      "outputs": []
    },
    {
      "cell_type": "code",
      "source": [
        "df1"
      ],
      "metadata": {
        "colab": {
          "base_uri": "https://localhost:8080/"
        },
        "outputId": "03590973-faa4-4a45-8161-f6b5fcc27059",
        "id": "ZbDL6Y3SUtsv"
      },
      "execution_count": 41,
      "outputs": [
        {
          "output_type": "execute_result",
          "data": {
            "text/plain": [
              "array([[0.27623119],\n",
              "       [0.27826489],\n",
              "       [0.27352769],\n",
              "       ...,\n",
              "       [0.08220079],\n",
              "       [0.08341858],\n",
              "       [0.08585416]])"
            ]
          },
          "metadata": {},
          "execution_count": 41
        }
      ]
    },
    {
      "cell_type": "markdown",
      "source": [
        "## Ratio 9:1"
      ],
      "metadata": {
        "id": "Z4tIjAqQUtsv"
      }
    },
    {
      "cell_type": "code",
      "source": [
        "# 4. Chia train test\n",
        "train_size = int(0.9 * len(df1))\n",
        "test_size = len(df1) - train_size\n",
        "\n",
        "train_data = df1[:train_size]\n",
        "test_data = df1[train_size:]"
      ],
      "metadata": {
        "id": "D5XOn2MzUtsv"
      },
      "execution_count": 42,
      "outputs": []
    },
    {
      "cell_type": "code",
      "source": [
        "# 5. Hàm Create Dataset\n",
        "import numpy\n",
        "# convert an array of values into a dataset matrix\n",
        "def create_dataset(dataset, time_step=1):\n",
        "\tdataX, dataY = [], []\n",
        "\tfor i in range(len(dataset)-time_step-1):\n",
        "\t\ta = dataset[i:(i+time_step), 0]   ###i=0, X=0,1,2,3-----99   Y=100\n",
        "\t\tdataX.append(a)\n",
        "\t\tdataY.append(dataset[i + time_step, 0])\n",
        "\treturn numpy.array(dataX), numpy.array(dataY)"
      ],
      "metadata": {
        "id": "9S4OvGkAUtsw"
      },
      "execution_count": 43,
      "outputs": []
    },
    {
      "cell_type": "code",
      "source": [
        "#6. Reshape into X=t,t+1,t+2..t+99 and Y=t+100\n",
        "\n",
        "time_step = 100\n",
        "X_train, y_train = create_dataset(train_data, time_step)\n",
        "X_test, ytest = create_dataset(test_data, time_step)"
      ],
      "metadata": {
        "id": "d6PyX9LLUtsw"
      },
      "execution_count": 44,
      "outputs": []
    },
    {
      "cell_type": "code",
      "source": [
        "# 7. Reshape input to be [samples, time steps, features] which is required for LSTM\n",
        "X_train =X_train.reshape(X_train.shape[0],X_train.shape[1] , 1)\n",
        "X_test = X_test.reshape(X_test.shape[0],X_test.shape[1] , 1)"
      ],
      "metadata": {
        "id": "Rk7cqgpaUtsw"
      },
      "execution_count": 45,
      "outputs": []
    },
    {
      "cell_type": "code",
      "source": [
        "# 8. Define LSTM Model\n",
        "\n",
        "model = Sequential()\n",
        "model.add(SimpleRNN(50, input_shape=(time_step, 1)))\n",
        "model.add(Dense(1))\n",
        "model.compile(loss='mean_squared_error',optimizer='adam')"
      ],
      "metadata": {
        "id": "eYOMpYcmUtsw"
      },
      "execution_count": 46,
      "outputs": []
    },
    {
      "cell_type": "code",
      "source": [
        "# 9. Fit mô hình với dữ liệu train\n",
        "model.fit(X_train,y_train,validation_data=(X_test,ytest),epochs=100,batch_size=64,verbose=1)"
      ],
      "metadata": {
        "colab": {
          "base_uri": "https://localhost:8080/"
        },
        "outputId": "550cfdb7-4e12-4771-d61b-a7b6b360b435",
        "id": "alk2yWvhUtsx"
      },
      "execution_count": 47,
      "outputs": [
        {
          "output_type": "stream",
          "name": "stdout",
          "text": [
            "Epoch 1/100\n",
            "17/17 [==============================] - 2s 55ms/step - loss: 0.0420 - val_loss: 5.6863e-04\n",
            "Epoch 2/100\n",
            "17/17 [==============================] - 1s 36ms/step - loss: 0.0017 - val_loss: 5.4873e-04\n",
            "Epoch 3/100\n",
            "17/17 [==============================] - 1s 37ms/step - loss: 0.0025 - val_loss: 1.1039e-04\n",
            "Epoch 4/100\n",
            "17/17 [==============================] - 1s 38ms/step - loss: 0.0011 - val_loss: 1.3470e-04\n",
            "Epoch 5/100\n",
            "17/17 [==============================] - 1s 41ms/step - loss: 6.9961e-04 - val_loss: 1.9745e-04\n",
            "Epoch 6/100\n",
            "17/17 [==============================] - 0s 27ms/step - loss: 6.2638e-04 - val_loss: 1.0052e-04\n",
            "Epoch 7/100\n",
            "17/17 [==============================] - 0s 20ms/step - loss: 6.8278e-04 - val_loss: 1.2940e-04\n",
            "Epoch 8/100\n",
            "17/17 [==============================] - 0s 20ms/step - loss: 6.7450e-04 - val_loss: 9.9518e-05\n",
            "Epoch 9/100\n",
            "17/17 [==============================] - 0s 21ms/step - loss: 6.2398e-04 - val_loss: 9.4298e-05\n",
            "Epoch 10/100\n",
            "17/17 [==============================] - 0s 20ms/step - loss: 5.2842e-04 - val_loss: 8.3952e-05\n",
            "Epoch 11/100\n",
            "17/17 [==============================] - 0s 21ms/step - loss: 5.1570e-04 - val_loss: 1.0828e-04\n",
            "Epoch 12/100\n",
            "17/17 [==============================] - 0s 21ms/step - loss: 5.3455e-04 - val_loss: 9.0655e-05\n",
            "Epoch 13/100\n",
            "17/17 [==============================] - 0s 21ms/step - loss: 4.9035e-04 - val_loss: 8.1238e-05\n",
            "Epoch 14/100\n",
            "17/17 [==============================] - 0s 20ms/step - loss: 4.8237e-04 - val_loss: 8.0806e-05\n",
            "Epoch 15/100\n",
            "17/17 [==============================] - 0s 20ms/step - loss: 5.0334e-04 - val_loss: 8.8156e-05\n",
            "Epoch 16/100\n",
            "17/17 [==============================] - 0s 22ms/step - loss: 4.9058e-04 - val_loss: 4.8986e-05\n",
            "Epoch 17/100\n",
            "17/17 [==============================] - 0s 21ms/step - loss: 4.4928e-04 - val_loss: 4.8414e-05\n",
            "Epoch 18/100\n",
            "17/17 [==============================] - 0s 20ms/step - loss: 4.6473e-04 - val_loss: 3.6997e-05\n",
            "Epoch 19/100\n",
            "17/17 [==============================] - 0s 21ms/step - loss: 4.1645e-04 - val_loss: 3.6740e-05\n",
            "Epoch 20/100\n",
            "17/17 [==============================] - 0s 20ms/step - loss: 4.0855e-04 - val_loss: 3.7467e-05\n",
            "Epoch 21/100\n",
            "17/17 [==============================] - 0s 21ms/step - loss: 4.3812e-04 - val_loss: 1.1405e-04\n",
            "Epoch 22/100\n",
            "17/17 [==============================] - 0s 22ms/step - loss: 6.6210e-04 - val_loss: 4.3322e-05\n",
            "Epoch 23/100\n",
            "17/17 [==============================] - 0s 22ms/step - loss: 4.5113e-04 - val_loss: 8.2706e-05\n",
            "Epoch 24/100\n",
            "17/17 [==============================] - 0s 21ms/step - loss: 3.9562e-04 - val_loss: 4.5195e-05\n",
            "Epoch 25/100\n",
            "17/17 [==============================] - 0s 22ms/step - loss: 3.8998e-04 - val_loss: 3.8822e-05\n",
            "Epoch 26/100\n",
            "17/17 [==============================] - 0s 20ms/step - loss: 3.6391e-04 - val_loss: 7.3211e-05\n",
            "Epoch 27/100\n",
            "17/17 [==============================] - 0s 20ms/step - loss: 3.8181e-04 - val_loss: 3.6085e-05\n",
            "Epoch 28/100\n",
            "17/17 [==============================] - 0s 21ms/step - loss: 3.5404e-04 - val_loss: 4.7663e-05\n",
            "Epoch 29/100\n",
            "17/17 [==============================] - 0s 20ms/step - loss: 3.7935e-04 - val_loss: 3.3461e-05\n",
            "Epoch 30/100\n",
            "17/17 [==============================] - 0s 20ms/step - loss: 3.3466e-04 - val_loss: 5.1747e-05\n",
            "Epoch 31/100\n",
            "17/17 [==============================] - 0s 20ms/step - loss: 3.4469e-04 - val_loss: 3.3287e-05\n",
            "Epoch 32/100\n",
            "17/17 [==============================] - 0s 20ms/step - loss: 3.2867e-04 - val_loss: 3.5208e-05\n",
            "Epoch 33/100\n",
            "17/17 [==============================] - 0s 20ms/step - loss: 3.5620e-04 - val_loss: 3.2498e-04\n",
            "Epoch 34/100\n",
            "17/17 [==============================] - 1s 33ms/step - loss: 0.0011 - val_loss: 3.7382e-05\n",
            "Epoch 35/100\n",
            "17/17 [==============================] - 1s 38ms/step - loss: 4.3536e-04 - val_loss: 3.5433e-05\n",
            "Epoch 36/100\n",
            "17/17 [==============================] - 1s 34ms/step - loss: 3.2322e-04 - val_loss: 3.0717e-05\n",
            "Epoch 37/100\n",
            "17/17 [==============================] - 1s 37ms/step - loss: 3.0753e-04 - val_loss: 5.8151e-05\n",
            "Epoch 38/100\n",
            "17/17 [==============================] - 1s 35ms/step - loss: 3.2371e-04 - val_loss: 1.3278e-04\n",
            "Epoch 39/100\n",
            "17/17 [==============================] - 1s 39ms/step - loss: 6.7829e-04 - val_loss: 6.5533e-05\n",
            "Epoch 40/100\n",
            "17/17 [==============================] - 1s 32ms/step - loss: 3.4666e-04 - val_loss: 4.0597e-05\n",
            "Epoch 41/100\n",
            "17/17 [==============================] - 0s 21ms/step - loss: 2.9489e-04 - val_loss: 2.8866e-05\n",
            "Epoch 42/100\n",
            "17/17 [==============================] - 0s 20ms/step - loss: 2.9636e-04 - val_loss: 2.9900e-05\n",
            "Epoch 43/100\n",
            "17/17 [==============================] - 0s 20ms/step - loss: 2.8911e-04 - val_loss: 2.5468e-05\n",
            "Epoch 44/100\n",
            "17/17 [==============================] - 0s 20ms/step - loss: 2.8865e-04 - val_loss: 2.5585e-05\n",
            "Epoch 45/100\n",
            "17/17 [==============================] - 0s 20ms/step - loss: 2.8155e-04 - val_loss: 2.7329e-05\n",
            "Epoch 46/100\n",
            "17/17 [==============================] - 0s 21ms/step - loss: 2.9722e-04 - val_loss: 3.6688e-05\n",
            "Epoch 47/100\n",
            "17/17 [==============================] - 0s 20ms/step - loss: 2.9326e-04 - val_loss: 3.5805e-05\n",
            "Epoch 48/100\n",
            "17/17 [==============================] - 0s 20ms/step - loss: 2.9026e-04 - val_loss: 3.4305e-05\n",
            "Epoch 49/100\n",
            "17/17 [==============================] - 0s 22ms/step - loss: 2.7500e-04 - val_loss: 9.9533e-05\n",
            "Epoch 50/100\n",
            "17/17 [==============================] - 0s 21ms/step - loss: 7.0843e-04 - val_loss: 9.0476e-05\n",
            "Epoch 51/100\n",
            "17/17 [==============================] - 0s 22ms/step - loss: 6.1804e-04 - val_loss: 2.2073e-05\n",
            "Epoch 52/100\n",
            "17/17 [==============================] - 0s 21ms/step - loss: 3.4777e-04 - val_loss: 2.5485e-05\n",
            "Epoch 53/100\n",
            "17/17 [==============================] - 0s 20ms/step - loss: 2.9062e-04 - val_loss: 2.3689e-05\n",
            "Epoch 54/100\n",
            "17/17 [==============================] - 0s 20ms/step - loss: 2.7061e-04 - val_loss: 2.8083e-05\n",
            "Epoch 55/100\n",
            "17/17 [==============================] - 0s 24ms/step - loss: 2.9327e-04 - val_loss: 2.5156e-05\n",
            "Epoch 56/100\n",
            "17/17 [==============================] - 0s 20ms/step - loss: 2.9526e-04 - val_loss: 1.9218e-05\n",
            "Epoch 57/100\n",
            "17/17 [==============================] - 0s 20ms/step - loss: 2.5321e-04 - val_loss: 1.9596e-05\n",
            "Epoch 58/100\n",
            "17/17 [==============================] - 0s 21ms/step - loss: 2.5318e-04 - val_loss: 2.0635e-05\n",
            "Epoch 59/100\n",
            "17/17 [==============================] - 0s 20ms/step - loss: 2.6838e-04 - val_loss: 1.9464e-05\n",
            "Epoch 60/100\n",
            "17/17 [==============================] - 0s 21ms/step - loss: 2.5357e-04 - val_loss: 1.9559e-05\n",
            "Epoch 61/100\n",
            "17/17 [==============================] - 0s 21ms/step - loss: 3.1325e-04 - val_loss: 1.9981e-05\n",
            "Epoch 62/100\n",
            "17/17 [==============================] - 0s 21ms/step - loss: 2.9433e-04 - val_loss: 2.2540e-05\n",
            "Epoch 63/100\n",
            "17/17 [==============================] - 0s 22ms/step - loss: 2.6617e-04 - val_loss: 2.0876e-05\n",
            "Epoch 64/100\n",
            "17/17 [==============================] - 0s 20ms/step - loss: 2.7342e-04 - val_loss: 2.7822e-05\n",
            "Epoch 65/100\n",
            "17/17 [==============================] - 0s 21ms/step - loss: 2.7005e-04 - val_loss: 3.3391e-05\n",
            "Epoch 66/100\n",
            "17/17 [==============================] - 0s 21ms/step - loss: 6.1718e-04 - val_loss: 2.0547e-05\n",
            "Epoch 67/100\n",
            "17/17 [==============================] - 0s 21ms/step - loss: 2.5550e-04 - val_loss: 3.0969e-05\n",
            "Epoch 68/100\n",
            "17/17 [==============================] - 1s 31ms/step - loss: 3.8412e-04 - val_loss: 1.6811e-05\n",
            "Epoch 69/100\n",
            "17/17 [==============================] - 1s 37ms/step - loss: 2.8554e-04 - val_loss: 1.9719e-05\n",
            "Epoch 70/100\n",
            "17/17 [==============================] - 1s 38ms/step - loss: 2.2740e-04 - val_loss: 2.0818e-05\n",
            "Epoch 71/100\n",
            "17/17 [==============================] - 1s 40ms/step - loss: 2.3584e-04 - val_loss: 2.1042e-05\n",
            "Epoch 72/100\n",
            "17/17 [==============================] - 1s 39ms/step - loss: 2.2975e-04 - val_loss: 2.3734e-05\n",
            "Epoch 73/100\n",
            "17/17 [==============================] - 1s 38ms/step - loss: 2.3361e-04 - val_loss: 1.6664e-05\n",
            "Epoch 74/100\n",
            "17/17 [==============================] - 1s 40ms/step - loss: 2.3098e-04 - val_loss: 1.7216e-05\n",
            "Epoch 75/100\n",
            "17/17 [==============================] - 0s 21ms/step - loss: 2.3757e-04 - val_loss: 1.4962e-05\n",
            "Epoch 76/100\n",
            "17/17 [==============================] - 0s 20ms/step - loss: 2.1766e-04 - val_loss: 2.3756e-05\n",
            "Epoch 77/100\n",
            "17/17 [==============================] - 0s 21ms/step - loss: 2.1971e-04 - val_loss: 2.4085e-05\n",
            "Epoch 78/100\n",
            "17/17 [==============================] - 0s 23ms/step - loss: 3.3578e-04 - val_loss: 2.5607e-05\n",
            "Epoch 79/100\n",
            "17/17 [==============================] - 0s 20ms/step - loss: 2.1880e-04 - val_loss: 1.7218e-05\n",
            "Epoch 80/100\n",
            "17/17 [==============================] - 0s 20ms/step - loss: 2.1495e-04 - val_loss: 1.6718e-05\n",
            "Epoch 81/100\n",
            "17/17 [==============================] - 0s 22ms/step - loss: 2.1427e-04 - val_loss: 1.6329e-05\n",
            "Epoch 82/100\n",
            "17/17 [==============================] - 0s 20ms/step - loss: 2.2212e-04 - val_loss: 1.7176e-05\n",
            "Epoch 83/100\n",
            "17/17 [==============================] - 0s 20ms/step - loss: 2.1113e-04 - val_loss: 2.0885e-05\n",
            "Epoch 84/100\n",
            "17/17 [==============================] - 0s 22ms/step - loss: 2.3846e-04 - val_loss: 1.6439e-05\n",
            "Epoch 85/100\n",
            "17/17 [==============================] - 0s 20ms/step - loss: 2.0978e-04 - val_loss: 2.8989e-05\n",
            "Epoch 86/100\n",
            "17/17 [==============================] - 0s 21ms/step - loss: 2.1647e-04 - val_loss: 1.6105e-05\n",
            "Epoch 87/100\n",
            "17/17 [==============================] - 0s 21ms/step - loss: 2.1277e-04 - val_loss: 1.5335e-05\n",
            "Epoch 88/100\n",
            "17/17 [==============================] - 0s 21ms/step - loss: 2.6759e-04 - val_loss: 1.6613e-05\n",
            "Epoch 89/100\n",
            "17/17 [==============================] - 0s 20ms/step - loss: 2.3010e-04 - val_loss: 1.9408e-05\n",
            "Epoch 90/100\n",
            "17/17 [==============================] - 0s 21ms/step - loss: 2.6989e-04 - val_loss: 1.5461e-05\n",
            "Epoch 91/100\n",
            "17/17 [==============================] - 0s 20ms/step - loss: 2.6708e-04 - val_loss: 1.6482e-05\n",
            "Epoch 92/100\n",
            "17/17 [==============================] - 0s 20ms/step - loss: 2.2226e-04 - val_loss: 1.5744e-05\n",
            "Epoch 93/100\n",
            "17/17 [==============================] - 0s 21ms/step - loss: 1.9773e-04 - val_loss: 1.5605e-05\n",
            "Epoch 94/100\n",
            "17/17 [==============================] - 0s 20ms/step - loss: 1.9800e-04 - val_loss: 2.1302e-05\n",
            "Epoch 95/100\n",
            "17/17 [==============================] - 0s 20ms/step - loss: 2.4438e-04 - val_loss: 1.5084e-05\n",
            "Epoch 96/100\n",
            "17/17 [==============================] - 0s 21ms/step - loss: 2.1310e-04 - val_loss: 2.8491e-05\n",
            "Epoch 97/100\n",
            "17/17 [==============================] - 0s 20ms/step - loss: 2.0511e-04 - val_loss: 1.8186e-05\n",
            "Epoch 98/100\n",
            "17/17 [==============================] - 0s 20ms/step - loss: 1.9559e-04 - val_loss: 2.4440e-05\n",
            "Epoch 99/100\n",
            "17/17 [==============================] - 0s 21ms/step - loss: 3.2877e-04 - val_loss: 1.5990e-05\n",
            "Epoch 100/100\n",
            "17/17 [==============================] - 0s 20ms/step - loss: 1.9719e-04 - val_loss: 1.4522e-05\n"
          ]
        },
        {
          "output_type": "execute_result",
          "data": {
            "text/plain": [
              "<keras.src.callbacks.History at 0x79f3f749e8f0>"
            ]
          },
          "metadata": {},
          "execution_count": 47
        }
      ]
    },
    {
      "cell_type": "code",
      "source": [
        "# 10. Dự báo dữ liệu test, val\n",
        "train_predict=model.predict(X_train)\n",
        "y_pred=model.predict(X_test)"
      ],
      "metadata": {
        "colab": {
          "base_uri": "https://localhost:8080/"
        },
        "outputId": "dfd06fb9-c933-4bb4-933c-cb41c488b922",
        "id": "ECj4sq6MUtsx"
      },
      "execution_count": 48,
      "outputs": [
        {
          "output_type": "stream",
          "name": "stdout",
          "text": [
            "33/33 [==============================] - 0s 7ms/step\n",
            "1/1 [==============================] - 0s 26ms/step\n"
          ]
        }
      ]
    },
    {
      "cell_type": "code",
      "source": [
        "# 11. Chuẩn hóa dữ liệu y_pred, y_pred_val\n",
        "train_predict = scaler.inverse_transform(train_predict)\n",
        "y_pred = scaler.inverse_transform(y_pred.reshape(-1, 1))\n",
        "ytest = scaler.inverse_transform(ytest.reshape(-1, 1))"
      ],
      "metadata": {
        "id": "v4LWmhNJUtsx"
      },
      "execution_count": 49,
      "outputs": []
    },
    {
      "cell_type": "code",
      "source": [
        "# 12. Đánh giá độ chính xác thuật toán bằng RMSE\n",
        "from sklearn.metrics import mean_absolute_error, mean_absolute_percentage_error\n",
        "\n",
        "test_rmse = np.sqrt(np.mean((y_pred - ytest)**2))\n",
        "test_mape = mean_absolute_percentage_error(ytest, y_pred)\n",
        "test_mae = mean_absolute_error(ytest, y_pred)\n",
        "\n",
        "print('Testing RMSE:', test_rmse)\n",
        "print('Testing MAPE:', test_mape)\n",
        "print('Testing MAE:', test_mae)"
      ],
      "metadata": {
        "colab": {
          "base_uri": "https://localhost:8080/"
        },
        "outputId": "94c149fa-81bc-418b-c5f4-ae6440bb6402",
        "id": "ILW1QfD4Utsx"
      },
      "execution_count": 50,
      "outputs": [
        {
          "output_type": "stream",
          "name": "stdout",
          "text": [
            "Testing RMSE: 312.92454667362915\n",
            "Testing MAPE: 0.01397353323120519\n",
            "Testing MAE: 236.9747265625\n"
          ]
        }
      ]
    },
    {
      "cell_type": "code",
      "source": [
        "# 13. Dự báo 30, 60, 90 ngày tiếp theo\n",
        "def predict_future(model, data, time_step, future_days):\n",
        "    x_input = data[-time_step:].reshape(1, -1)\n",
        "    temp_input = x_input[0].tolist()\n",
        "    lst_output = []\n",
        "    i = 0\n",
        "    while i < future_days:\n",
        "        if len(temp_input) > time_step:\n",
        "            x_input = np.array(temp_input[-time_step:])\n",
        "            x_input = x_input.reshape((1, time_step, 1))\n",
        "            yhat = model.predict(x_input, verbose=0)\n",
        "            temp_input.extend(yhat[0].tolist())\n",
        "            temp_input = temp_input[1:]\n",
        "            lst_output.extend(yhat.tolist())\n",
        "            i += 1\n",
        "        else:\n",
        "            x_input = np.array(temp_input).reshape((1, time_step, 1))\n",
        "            yhat = model.predict(x_input, verbose=0)\n",
        "            temp_input.extend(yhat[0].tolist())\n",
        "            lst_output.extend(yhat.tolist())\n",
        "            i += 1\n",
        "    return lst_output\n",
        "\n",
        "n_steps = 100\n",
        "\n",
        "pred_30_days = predict_future(model, test_data, n_steps, 30)\n",
        "pred_60_days = predict_future(model, test_data, n_steps, 60)\n",
        "pred_90_days = predict_future(model, test_data, n_steps, 90)\n",
        "\n",
        "pred_30_days = scaler.inverse_transform(np.array(pred_30_days).reshape(-1, 1))\n",
        "pred_60_days = scaler.inverse_transform(np.array(pred_60_days).reshape(-1, 1))\n",
        "pred_90_days = scaler.inverse_transform(np.array(pred_90_days).reshape(-1, 1))\n"
      ],
      "metadata": {
        "id": "-9XfwOP4Utsy"
      },
      "execution_count": 51,
      "outputs": []
    },
    {
      "cell_type": "code",
      "source": [
        "# 14. Vẽ hình\n",
        "plt.figure(figsize=(14, 8))\n",
        "dates = pd.to_datetime(df['Date'])\n",
        "\n",
        "plt.plot(dates[:train_size], scaler.inverse_transform(train_data), label='Train')\n",
        "plt.plot(dates[train_size:], scaler.inverse_transform(test_data), label='Test')\n",
        "predicted_test_index_start = train_size + time_step\n",
        "plt.plot(dates[predicted_test_index_start:predicted_test_index_start + len(y_pred)], y_pred, label='Predict')\n",
        "\n",
        "last_date = dates.iloc[-1]\n",
        "\n",
        "future_dates_30 = pd.date_range(start=last_date + pd.Timedelta(days=1), periods=30)\n",
        "future_30_with_last = np.concatenate((scaler.inverse_transform(test_data[-1].reshape(-1, 1)), pred_30_days), axis=0)\n",
        "future_dates_60 = pd.date_range(start=last_date + pd.Timedelta(days=1), periods=61)\n",
        "future_60_with_last = np.concatenate((scaler.inverse_transform(test_data[-1].reshape(-1, 1)), pred_60_days), axis=0)\n",
        "future_dates_90 = pd.date_range(start=last_date + pd.Timedelta(days=1), periods=91)\n",
        "future_90_with_last = np.concatenate((scaler.inverse_transform(test_data[-1].reshape(-1, 1)), pred_90_days), axis=0)\n",
        "\n",
        "# Vẽ 90 ngày\n",
        "plt.plot(future_dates_90, future_90_with_last[:len(future_dates_90)], label='90 Days Prediction', color='purple')\n",
        "\n",
        "# Vẽ 60 ngày\n",
        "plt.plot(future_dates_60, future_60_with_last[:len(future_dates_60)], label='60 Days Prediction', color='yellow')\n",
        "\n",
        "# Vẽ 30 ngày\n",
        "plt.plot(future_dates_30, future_30_with_last[:len(future_dates_30)], label='30 Days Prediction', color='red')\n",
        "\n",
        "plt.legend()\n",
        "plt.title('Stock Price Prediction')\n",
        "plt.xlabel('Date')\n",
        "plt.ylabel('Stock Price')\n",
        "plt.show()"
      ],
      "metadata": {
        "colab": {
          "base_uri": "https://localhost:8080/",
          "height": 717
        },
        "outputId": "a7be8145-8a60-4f37-a18d-e1cca3299733",
        "id": "dN2KcO-9Utsy"
      },
      "execution_count": 52,
      "outputs": [
        {
          "output_type": "display_data",
          "data": {
            "text/plain": [
              "<Figure size 1400x800 with 1 Axes>"
            ],
            "image/png": "[encoded data removed]"
          },
          "metadata": {}
        }
      ]
    },
    {
      "cell_type": "markdown",
      "source": [
        "## Ratio 8:2"
      ],
      "metadata": {
        "id": "FgKkPb6DUtsy"
      }
    },
    {
      "cell_type": "code",
      "source": [
        "# 4. Chia train test\n",
        "train_size = int(0.8 * len(df1))\n",
        "test_size = len(df1) - train_size\n",
        "\n",
        "train_data = df1[:train_size]\n",
        "test_data = df1[train_size:]"
      ],
      "metadata": {
        "id": "Ru5v-ac3Utsy"
      },
      "execution_count": 53,
      "outputs": []
    },
    {
      "cell_type": "code",
      "source": [
        "# 5. Hàm Create Dataset\n",
        "import numpy\n",
        "# convert an array of values into a dataset matrix\n",
        "def create_dataset(dataset, time_step=1):\n",
        "\tdataX, dataY = [], []\n",
        "\tfor i in range(len(dataset)-time_step-1):\n",
        "\t\ta = dataset[i:(i+time_step), 0]   ###i=0, X=0,1,2,3-----99   Y=100\n",
        "\t\tdataX.append(a)\n",
        "\t\tdataY.append(dataset[i + time_step, 0])\n",
        "\treturn numpy.array(dataX), numpy.array(dataY)"
      ],
      "metadata": {
        "id": "oPUBeo0-Utsz"
      },
      "execution_count": 54,
      "outputs": []
    },
    {
      "cell_type": "code",
      "source": [
        "#6. Reshape into X=t,t+1,t+2..t+99 and Y=t+100\n",
        "\n",
        "time_step = 100\n",
        "X_train, y_train = create_dataset(train_data, time_step)\n",
        "X_test, ytest = create_dataset(test_data, time_step)"
      ],
      "metadata": {
        "id": "qVXnPvhEUtsz"
      },
      "execution_count": 55,
      "outputs": []
    },
    {
      "cell_type": "code",
      "source": [
        "# 7. Reshape input to be [samples, time steps, features] which is required for LSTM\n",
        "X_train =X_train.reshape(X_train.shape[0],X_train.shape[1] , 1)\n",
        "X_test = X_test.reshape(X_test.shape[0],X_test.shape[1] , 1)"
      ],
      "metadata": {
        "id": "9cgRHnToUtsz"
      },
      "execution_count": 56,
      "outputs": []
    },
    {
      "cell_type": "code",
      "source": [
        "# 8. Define LSTM Model\n",
        "\n",
        "model = Sequential()\n",
        "model.add(SimpleRNN(50, input_shape=(time_step, 1)))\n",
        "model.add(Dense(1))\n",
        "model.compile(loss='mean_squared_error',optimizer='adam')"
      ],
      "metadata": {
        "id": "iTrW4r2gUtsz"
      },
      "execution_count": 57,
      "outputs": []
    },
    {
      "cell_type": "code",
      "source": [
        "# 9. Fit mô hình với dữ liệu train\n",
        "model.fit(X_train,y_train,validation_data=(X_test,ytest),epochs=100,batch_size=64,verbose=1)"
      ],
      "metadata": {
        "colab": {
          "base_uri": "https://localhost:8080/"
        },
        "outputId": "638e6357-4f35-4a38-fb1d-3b11ea52d358",
        "id": "84czcZucUts0"
      },
      "execution_count": 58,
      "outputs": [
        {
          "output_type": "stream",
          "name": "stdout",
          "text": [
            "Epoch 1/100\n",
            "15/15 [==============================] - 2s 38ms/step - loss: 0.1233 - val_loss: 0.0824\n",
            "Epoch 2/100\n",
            "15/15 [==============================] - 0s 23ms/step - loss: 0.0143 - val_loss: 0.0395\n",
            "Epoch 3/100\n",
            "15/15 [==============================] - 0s 21ms/step - loss: 0.0033 - val_loss: 0.0026\n",
            "Epoch 4/100\n",
            "15/15 [==============================] - 0s 22ms/step - loss: 0.0021 - val_loss: 0.0012\n",
            "Epoch 5/100\n",
            "15/15 [==============================] - 0s 22ms/step - loss: 0.0014 - val_loss: 7.4064e-04\n",
            "Epoch 6/100\n",
            "15/15 [==============================] - 0s 22ms/step - loss: 0.0012 - val_loss: 5.2193e-04\n",
            "Epoch 7/100\n",
            "15/15 [==============================] - 0s 21ms/step - loss: 0.0011 - val_loss: 5.7741e-04\n",
            "Epoch 8/100\n",
            "15/15 [==============================] - 0s 21ms/step - loss: 0.0010 - val_loss: 4.7614e-04\n",
            "Epoch 9/100\n",
            "15/15 [==============================] - 0s 22ms/step - loss: 9.5203e-04 - val_loss: 4.5051e-04\n",
            "Epoch 10/100\n",
            "15/15 [==============================] - 0s 21ms/step - loss: 9.1760e-04 - val_loss: 4.4955e-04\n",
            "Epoch 11/100\n",
            "15/15 [==============================] - 0s 21ms/step - loss: 8.6148e-04 - val_loss: 4.5952e-04\n",
            "Epoch 12/100\n",
            "15/15 [==============================] - 0s 23ms/step - loss: 8.1599e-04 - val_loss: 4.3215e-04\n",
            "Epoch 13/100\n",
            "15/15 [==============================] - 0s 28ms/step - loss: 7.9312e-04 - val_loss: 4.2060e-04\n",
            "Epoch 14/100\n",
            "15/15 [==============================] - 1s 39ms/step - loss: 7.5845e-04 - val_loss: 4.3351e-04\n",
            "Epoch 15/100\n",
            "15/15 [==============================] - 1s 36ms/step - loss: 7.4031e-04 - val_loss: 4.2056e-04\n",
            "Epoch 16/100\n",
            "15/15 [==============================] - 1s 39ms/step - loss: 7.1399e-04 - val_loss: 4.0205e-04\n",
            "Epoch 17/100\n",
            "15/15 [==============================] - 1s 39ms/step - loss: 7.0726e-04 - val_loss: 4.5899e-04\n",
            "Epoch 18/100\n",
            "15/15 [==============================] - 1s 39ms/step - loss: 6.8002e-04 - val_loss: 3.9176e-04\n",
            "Epoch 19/100\n",
            "15/15 [==============================] - 1s 38ms/step - loss: 6.7311e-04 - val_loss: 3.9538e-04\n",
            "Epoch 20/100\n",
            "15/15 [==============================] - 1s 45ms/step - loss: 6.4123e-04 - val_loss: 4.2008e-04\n",
            "Epoch 21/100\n",
            "15/15 [==============================] - 0s 20ms/step - loss: 6.3083e-04 - val_loss: 4.5161e-04\n",
            "Epoch 22/100\n",
            "15/15 [==============================] - 0s 22ms/step - loss: 6.2885e-04 - val_loss: 4.2629e-04\n",
            "Epoch 23/100\n",
            "15/15 [==============================] - 0s 20ms/step - loss: 6.3021e-04 - val_loss: 5.7653e-04\n",
            "Epoch 24/100\n",
            "15/15 [==============================] - 0s 20ms/step - loss: 6.0479e-04 - val_loss: 5.0758e-04\n",
            "Epoch 25/100\n",
            "15/15 [==============================] - 0s 21ms/step - loss: 5.7904e-04 - val_loss: 4.1509e-04\n",
            "Epoch 26/100\n",
            "15/15 [==============================] - 0s 20ms/step - loss: 5.6541e-04 - val_loss: 4.7761e-04\n",
            "Epoch 27/100\n",
            "15/15 [==============================] - 0s 20ms/step - loss: 5.5717e-04 - val_loss: 5.0593e-04\n",
            "Epoch 28/100\n",
            "15/15 [==============================] - 0s 21ms/step - loss: 5.5821e-04 - val_loss: 5.5668e-04\n",
            "Epoch 29/100\n",
            "15/15 [==============================] - 0s 21ms/step - loss: 5.8252e-04 - val_loss: 4.4234e-04\n",
            "Epoch 30/100\n",
            "15/15 [==============================] - 0s 20ms/step - loss: 5.4829e-04 - val_loss: 3.0543e-04\n",
            "Epoch 31/100\n",
            "15/15 [==============================] - 0s 21ms/step - loss: 6.5916e-04 - val_loss: 4.6125e-04\n",
            "Epoch 32/100\n",
            "15/15 [==============================] - 0s 22ms/step - loss: 5.6116e-04 - val_loss: 4.3210e-04\n",
            "Epoch 33/100\n",
            "15/15 [==============================] - 0s 20ms/step - loss: 5.4028e-04 - val_loss: 5.3684e-04\n",
            "Epoch 34/100\n",
            "15/15 [==============================] - 0s 21ms/step - loss: 4.8715e-04 - val_loss: 5.6199e-04\n",
            "Epoch 35/100\n",
            "15/15 [==============================] - 0s 23ms/step - loss: 4.8362e-04 - val_loss: 5.4640e-04\n",
            "Epoch 36/100\n",
            "15/15 [==============================] - 0s 32ms/step - loss: 4.7494e-04 - val_loss: 5.2465e-04\n",
            "Epoch 37/100\n",
            "15/15 [==============================] - 0s 27ms/step - loss: 4.8343e-04 - val_loss: 4.2197e-04\n",
            "Epoch 38/100\n",
            "15/15 [==============================] - 0s 23ms/step - loss: 6.0609e-04 - val_loss: 5.2160e-04\n",
            "Epoch 39/100\n",
            "15/15 [==============================] - 0s 24ms/step - loss: 4.7023e-04 - val_loss: 4.4804e-04\n",
            "Epoch 40/100\n",
            "15/15 [==============================] - 0s 30ms/step - loss: 4.7473e-04 - val_loss: 5.9214e-04\n",
            "Epoch 41/100\n",
            "15/15 [==============================] - 0s 24ms/step - loss: 4.5418e-04 - val_loss: 5.4961e-04\n",
            "Epoch 42/100\n",
            "15/15 [==============================] - 0s 24ms/step - loss: 4.2934e-04 - val_loss: 5.7882e-04\n",
            "Epoch 43/100\n",
            "15/15 [==============================] - 0s 28ms/step - loss: 4.2690e-04 - val_loss: 4.9259e-04\n",
            "Epoch 44/100\n",
            "15/15 [==============================] - 0s 26ms/step - loss: 4.3623e-04 - val_loss: 5.9174e-04\n",
            "Epoch 45/100\n",
            "15/15 [==============================] - 0s 28ms/step - loss: 4.2686e-04 - val_loss: 6.8461e-04\n",
            "Epoch 46/100\n",
            "15/15 [==============================] - 0s 25ms/step - loss: 4.3249e-04 - val_loss: 7.5490e-04\n",
            "Epoch 47/100\n",
            "15/15 [==============================] - 0s 25ms/step - loss: 4.5757e-04 - val_loss: 5.4262e-04\n",
            "Epoch 48/100\n",
            "15/15 [==============================] - 0s 34ms/step - loss: 4.9431e-04 - val_loss: 7.0450e-04\n",
            "Epoch 49/100\n",
            "15/15 [==============================] - 1s 53ms/step - loss: 4.1340e-04 - val_loss: 7.5723e-04\n",
            "Epoch 50/100\n",
            "15/15 [==============================] - 1s 44ms/step - loss: 3.8605e-04 - val_loss: 7.4779e-04\n",
            "Epoch 51/100\n",
            "15/15 [==============================] - 1s 42ms/step - loss: 3.9048e-04 - val_loss: 6.1765e-04\n",
            "Epoch 52/100\n",
            "15/15 [==============================] - 1s 47ms/step - loss: 4.0363e-04 - val_loss: 4.5792e-04\n",
            "Epoch 53/100\n",
            "15/15 [==============================] - 1s 54ms/step - loss: 4.3599e-04 - val_loss: 4.7346e-04\n",
            "Epoch 54/100\n",
            "15/15 [==============================] - 1s 55ms/step - loss: 4.3306e-04 - val_loss: 6.1287e-04\n",
            "Epoch 55/100\n",
            "15/15 [==============================] - 1s 49ms/step - loss: 3.6629e-04 - val_loss: 5.9030e-04\n",
            "Epoch 56/100\n",
            "15/15 [==============================] - 1s 44ms/step - loss: 3.5948e-04 - val_loss: 5.8520e-04\n",
            "Epoch 57/100\n",
            "15/15 [==============================] - 1s 40ms/step - loss: 3.5542e-04 - val_loss: 7.1857e-04\n",
            "Epoch 58/100\n",
            "15/15 [==============================] - 0s 23ms/step - loss: 3.5493e-04 - val_loss: 6.4756e-04\n",
            "Epoch 59/100\n",
            "15/15 [==============================] - 0s 21ms/step - loss: 3.4834e-04 - val_loss: 7.1456e-04\n",
            "Epoch 60/100\n",
            "15/15 [==============================] - 0s 23ms/step - loss: 3.5393e-04 - val_loss: 6.0939e-04\n",
            "Epoch 61/100\n",
            "15/15 [==============================] - 0s 21ms/step - loss: 3.3676e-04 - val_loss: 5.9525e-04\n",
            "Epoch 62/100\n",
            "15/15 [==============================] - 0s 22ms/step - loss: 3.3082e-04 - val_loss: 5.6113e-04\n",
            "Epoch 63/100\n",
            "15/15 [==============================] - 0s 22ms/step - loss: 3.3009e-04 - val_loss: 5.5160e-04\n",
            "Epoch 64/100\n",
            "15/15 [==============================] - 0s 21ms/step - loss: 3.2691e-04 - val_loss: 5.9785e-04\n",
            "Epoch 65/100\n",
            "15/15 [==============================] - 0s 22ms/step - loss: 3.5014e-04 - val_loss: 4.7506e-04\n",
            "Epoch 66/100\n",
            "15/15 [==============================] - 0s 23ms/step - loss: 3.2977e-04 - val_loss: 4.3805e-04\n",
            "Epoch 67/100\n",
            "15/15 [==============================] - 0s 21ms/step - loss: 3.3569e-04 - val_loss: 5.9519e-04\n",
            "Epoch 68/100\n",
            "15/15 [==============================] - 0s 21ms/step - loss: 3.4134e-04 - val_loss: 4.8430e-04\n",
            "Epoch 69/100\n",
            "15/15 [==============================] - 0s 23ms/step - loss: 3.1221e-04 - val_loss: 5.5230e-04\n",
            "Epoch 70/100\n",
            "15/15 [==============================] - 0s 21ms/step - loss: 3.4624e-04 - val_loss: 4.0763e-04\n",
            "Epoch 71/100\n",
            "15/15 [==============================] - 0s 21ms/step - loss: 4.4223e-04 - val_loss: 4.6198e-04\n",
            "Epoch 72/100\n",
            "15/15 [==============================] - 0s 23ms/step - loss: 3.5389e-04 - val_loss: 4.6719e-04\n",
            "Epoch 73/100\n",
            "15/15 [==============================] - 0s 21ms/step - loss: 3.1132e-04 - val_loss: 4.9254e-04\n",
            "Epoch 74/100\n",
            "15/15 [==============================] - 0s 22ms/step - loss: 3.0688e-04 - val_loss: 5.0080e-04\n",
            "Epoch 75/100\n",
            "15/15 [==============================] - 0s 23ms/step - loss: 3.0906e-04 - val_loss: 4.1572e-04\n",
            "Epoch 76/100\n",
            "15/15 [==============================] - 0s 21ms/step - loss: 2.9262e-04 - val_loss: 5.0359e-04\n",
            "Epoch 77/100\n",
            "15/15 [==============================] - 0s 22ms/step - loss: 3.0057e-04 - val_loss: 4.9475e-04\n",
            "Epoch 78/100\n",
            "15/15 [==============================] - 0s 22ms/step - loss: 3.2410e-04 - val_loss: 4.7931e-04\n",
            "Epoch 79/100\n",
            "15/15 [==============================] - 0s 22ms/step - loss: 2.9877e-04 - val_loss: 3.5678e-04\n",
            "Epoch 80/100\n",
            "15/15 [==============================] - 0s 22ms/step - loss: 3.0897e-04 - val_loss: 4.5156e-04\n",
            "Epoch 81/100\n",
            "15/15 [==============================] - 0s 22ms/step - loss: 2.9143e-04 - val_loss: 2.4789e-04\n",
            "Epoch 82/100\n",
            "15/15 [==============================] - 0s 21ms/step - loss: 4.3294e-04 - val_loss: 3.7620e-04\n",
            "Epoch 83/100\n",
            "15/15 [==============================] - 0s 22ms/step - loss: 3.2435e-04 - val_loss: 3.4284e-04\n",
            "Epoch 84/100\n",
            "15/15 [==============================] - 0s 23ms/step - loss: 2.8687e-04 - val_loss: 2.7326e-04\n",
            "Epoch 85/100\n",
            "15/15 [==============================] - 0s 22ms/step - loss: 2.8003e-04 - val_loss: 3.0375e-04\n",
            "Epoch 86/100\n",
            "15/15 [==============================] - 0s 21ms/step - loss: 2.7248e-04 - val_loss: 2.8445e-04\n",
            "Epoch 87/100\n",
            "15/15 [==============================] - 0s 33ms/step - loss: 2.7908e-04 - val_loss: 3.4438e-04\n",
            "Epoch 88/100\n",
            "15/15 [==============================] - 1s 36ms/step - loss: 3.3080e-04 - val_loss: 2.5929e-04\n",
            "Epoch 89/100\n",
            "15/15 [==============================] - 1s 39ms/step - loss: 2.9886e-04 - val_loss: 3.2497e-04\n",
            "Epoch 90/100\n",
            "15/15 [==============================] - 1s 39ms/step - loss: 2.6899e-04 - val_loss: 2.4893e-04\n",
            "Epoch 91/100\n",
            "15/15 [==============================] - 1s 38ms/step - loss: 2.7562e-04 - val_loss: 3.6795e-04\n",
            "Epoch 92/100\n",
            "15/15 [==============================] - 1s 42ms/step - loss: 2.7269e-04 - val_loss: 2.7060e-04\n",
            "Epoch 93/100\n",
            "15/15 [==============================] - 1s 35ms/step - loss: 2.7070e-04 - val_loss: 3.0447e-04\n",
            "Epoch 94/100\n",
            "15/15 [==============================] - 0s 21ms/step - loss: 2.5850e-04 - val_loss: 3.0757e-04\n",
            "Epoch 95/100\n",
            "15/15 [==============================] - 0s 22ms/step - loss: 2.6650e-04 - val_loss: 3.2631e-04\n",
            "Epoch 96/100\n",
            "15/15 [==============================] - 0s 21ms/step - loss: 2.6547e-04 - val_loss: 2.9957e-04\n",
            "Epoch 97/100\n",
            "15/15 [==============================] - 0s 22ms/step - loss: 2.6506e-04 - val_loss: 3.0649e-04\n",
            "Epoch 98/100\n",
            "15/15 [==============================] - 0s 22ms/step - loss: 2.6527e-04 - val_loss: 2.7059e-04\n",
            "Epoch 99/100\n",
            "15/15 [==============================] - 0s 22ms/step - loss: 2.5859e-04 - val_loss: 3.6861e-04\n",
            "Epoch 100/100\n",
            "15/15 [==============================] - 0s 22ms/step - loss: 3.3446e-04 - val_loss: 2.3422e-04\n"
          ]
        },
        {
          "output_type": "execute_result",
          "data": {
            "text/plain": [
              "<keras.src.callbacks.History at 0x79f3f6c38ca0>"
            ]
          },
          "metadata": {},
          "execution_count": 58
        }
      ]
    },
    {
      "cell_type": "code",
      "source": [
        "# 10. Dự báo dữ liệu test, val\n",
        "train_predict=model.predict(X_train)\n",
        "y_pred=model.predict(X_test)"
      ],
      "metadata": {
        "colab": {
          "base_uri": "https://localhost:8080/"
        },
        "id": "c_5CBDwnUts0",
        "outputId": "e2f45c40-1849-4e23-934b-73715125cb8e"
      },
      "execution_count": 59,
      "outputs": [
        {
          "output_type": "stream",
          "name": "stdout",
          "text": [
            "29/29 [==============================] - 0s 6ms/step\n",
            "5/5 [==============================] - 0s 7ms/step\n"
          ]
        }
      ]
    },
    {
      "cell_type": "code",
      "source": [
        "# 11. Chuẩn hóa dữ liệu y_pred, y_pred_val\n",
        "train_predict = scaler.inverse_transform(train_predict)\n",
        "y_pred = scaler.inverse_transform(y_pred.reshape(-1, 1))\n",
        "ytest = scaler.inverse_transform(ytest.reshape(-1, 1))"
      ],
      "metadata": {
        "id": "MvT8r6h7Uts0"
      },
      "execution_count": 60,
      "outputs": []
    },
    {
      "cell_type": "code",
      "source": [
        "# 12. Đánh giá độ chính xác thuật toán bằng RMSE\n",
        "from sklearn.metrics import mean_absolute_error, mean_absolute_percentage_error\n",
        "\n",
        "test_rmse = np.sqrt(np.mean((y_pred - ytest)**2))\n",
        "test_mape = mean_absolute_percentage_error(ytest, y_pred)\n",
        "test_mae = mean_absolute_error(ytest, y_pred)\n",
        "\n",
        "print('Testing RMSE:', test_rmse)\n",
        "print('Testing MAPE:', test_mape)\n",
        "print('Testing MAE:', test_mae)"
      ],
      "metadata": {
        "colab": {
          "base_uri": "https://localhost:8080/"
        },
        "id": "SUYpyOVZUts0",
        "outputId": "c61fd6cb-c939-49cb-cfb2-3b13ed2708a9"
      },
      "execution_count": 61,
      "outputs": [
        {
          "output_type": "stream",
          "name": "stdout",
          "text": [
            "Testing RMSE: 1256.7118834524497\n",
            "Testing MAPE: 0.058039747399769845\n",
            "Testing MAE: 980.46283203125\n"
          ]
        }
      ]
    },
    {
      "cell_type": "code",
      "source": [
        "# 13. Dự báo 30, 60, 90 ngày tiếp theo\n",
        "def predict_future(model, data, time_step, future_days):\n",
        "    x_input = data[-time_step:].reshape(1, -1)\n",
        "    temp_input = x_input[0].tolist()\n",
        "    lst_output = []\n",
        "    i = 0\n",
        "    while i < future_days:\n",
        "        if len(temp_input) > time_step:\n",
        "            x_input = np.array(temp_input[-time_step:])\n",
        "            x_input = x_input.reshape((1, time_step, 1))\n",
        "            yhat = model.predict(x_input, verbose=0)\n",
        "            temp_input.extend(yhat[0].tolist())\n",
        "            temp_input = temp_input[1:]\n",
        "            lst_output.extend(yhat.tolist())\n",
        "            i += 1\n",
        "        else:\n",
        "            x_input = np.array(temp_input).reshape((1, time_step, 1))\n",
        "            yhat = model.predict(x_input, verbose=0)\n",
        "            temp_input.extend(yhat[0].tolist())\n",
        "            lst_output.extend(yhat.tolist())\n",
        "            i += 1\n",
        "    return lst_output\n",
        "\n",
        "n_steps = 100\n",
        "\n",
        "pred_30_days = predict_future(model, test_data, n_steps, 30)\n",
        "pred_60_days = predict_future(model, test_data, n_steps, 60)\n",
        "pred_90_days = predict_future(model, test_data, n_steps, 90)\n",
        "\n",
        "pred_30_days = scaler.inverse_transform(np.array(pred_30_days).reshape(-1, 1))\n",
        "pred_60_days = scaler.inverse_transform(np.array(pred_60_days).reshape(-1, 1))\n",
        "pred_90_days = scaler.inverse_transform(np.array(pred_90_days).reshape(-1, 1))"
      ],
      "metadata": {
        "id": "wCnvXMYvUts1"
      },
      "execution_count": 62,
      "outputs": []
    },
    {
      "cell_type": "code",
      "source": [
        "# 14. Vẽ hình\n",
        "plt.figure(figsize=(14, 8))\n",
        "dates = pd.to_datetime(df['Date'])\n",
        "\n",
        "plt.plot(dates[:train_size], scaler.inverse_transform(train_data), label='Train')\n",
        "plt.plot(dates[train_size:], scaler.inverse_transform(test_data), label='Test')\n",
        "predicted_test_index_start = train_size + time_step\n",
        "plt.plot(dates[predicted_test_index_start:predicted_test_index_start + len(y_pred)], y_pred, label='Predict')\n",
        "\n",
        "last_date = dates.iloc[-1]\n",
        "\n",
        "future_dates_30 = pd.date_range(start=last_date + pd.Timedelta(days=1), periods=30)\n",
        "future_30_with_last = np.concatenate((scaler.inverse_transform(test_data[-1].reshape(-1, 1)), pred_30_days), axis=0)\n",
        "future_dates_60 = pd.date_range(start=last_date + pd.Timedelta(days=1), periods=61)\n",
        "future_60_with_last = np.concatenate((scaler.inverse_transform(test_data[-1].reshape(-1, 1)), pred_60_days), axis=0)\n",
        "future_dates_90 = pd.date_range(start=last_date + pd.Timedelta(days=1), periods=91)\n",
        "future_90_with_last = np.concatenate((scaler.inverse_transform(test_data[-1].reshape(-1, 1)), pred_90_days), axis=0)\n",
        "\n",
        "# Vẽ 90 ngày\n",
        "plt.plot(future_dates_90, future_90_with_last[:len(future_dates_90)], label='90 Days Prediction', color='purple')\n",
        "\n",
        "# Vẽ 60 ngày\n",
        "plt.plot(future_dates_60, future_60_with_last[:len(future_dates_60)], label='60 Days Prediction', color='yellow')\n",
        "\n",
        "# Vẽ 30 ngày\n",
        "plt.plot(future_dates_30, future_30_with_last[:len(future_dates_30)], label='30 Days Prediction', color='red')\n",
        "\n",
        "plt.legend()\n",
        "plt.title('Stock Price Prediction')\n",
        "plt.xlabel('Date')\n",
        "plt.ylabel('Stock Price')\n",
        "plt.show()"
      ],
      "metadata": {
        "id": "Mb9Pqb-OUts1"
      },
      "execution_count": null,
      "outputs": []
    },
    {
      "cell_type": "markdown",
      "source": [
        "## Ratio 7:3"
      ],
      "metadata": {
        "id": "CCKPzRMBUts1"
      }
    },
    {
      "cell_type": "code",
      "source": [
        "# 4. Chia train test\n",
        "train_size = int(0.7 * len(df1))\n",
        "test_size = len(df1) - train_size\n",
        "\n",
        "train_data = df1[:train_size]\n",
        "test_data = df1[train_size:]"
      ],
      "metadata": {
        "id": "DRqu3YUtUts1"
      },
      "execution_count": 64,
      "outputs": []
    },
    {
      "cell_type": "code",
      "source": [
        "# 5. Hàm Create Dataset\n",
        "import numpy\n",
        "# convert an array of values into a dataset matrix\n",
        "def create_dataset(dataset, time_step=1):\n",
        "\tdataX, dataY = [], []\n",
        "\tfor i in range(len(dataset)-time_step-1):\n",
        "\t\ta = dataset[i:(i+time_step), 0]   ###i=0, X=0,1,2,3-----99   Y=100\n",
        "\t\tdataX.append(a)\n",
        "\t\tdataY.append(dataset[i + time_step, 0])\n",
        "\treturn numpy.array(dataX), numpy.array(dataY)"
      ],
      "metadata": {
        "id": "x_Hcl23IUts1"
      },
      "execution_count": null,
      "outputs": []
    },
    {
      "cell_type": "code",
      "source": [
        "#6. Reshape into X=t,t+1,t+2..t+99 and Y=t+100\n",
        "\n",
        "time_step = 100\n",
        "X_train, y_train = create_dataset(train_data, time_step)\n",
        "X_test, ytest = create_dataset(test_data, time_step)"
      ],
      "metadata": {
        "id": "fy6YSn0dUts2"
      },
      "execution_count": 66,
      "outputs": []
    },
    {
      "cell_type": "code",
      "source": [
        "# 7. Reshape input to be [samples, time steps, features] which is required for LSTM\n",
        "X_train =X_train.reshape(X_train.shape[0],X_train.shape[1] , 1)\n",
        "X_test = X_test.reshape(X_test.shape[0],X_test.shape[1] , 1)"
      ],
      "metadata": {
        "id": "chyUJh_YUts2"
      },
      "execution_count": 67,
      "outputs": []
    },
    {
      "cell_type": "code",
      "source": [
        "# 8. Define LSTM Model\n",
        "\n",
        "model = Sequential()\n",
        "model.add(SimpleRNN(50, input_shape=(time_step, 1)))\n",
        "model.add(Dense(1))\n",
        "model.compile(loss='mean_squared_error',optimizer='adam')"
      ],
      "metadata": {
        "id": "uv5W8MG9Uts2"
      },
      "execution_count": 68,
      "outputs": []
    },
    {
      "cell_type": "code",
      "source": [
        "# 9. Fit mô hình với dữ liệu train\n",
        "model.fit(X_train,y_train,validation_data=(X_test,ytest),epochs=100,batch_size=64,verbose=1)"
      ],
      "metadata": {
        "colab": {
          "base_uri": "https://localhost:8080/"
        },
        "id": "rX1QrmRdUts2",
        "outputId": "bb925fd6-0ad9-4d66-cd22-25312c97c4c8"
      },
      "execution_count": 69,
      "outputs": [
        {
          "output_type": "stream",
          "name": "stdout",
          "text": [
            "Epoch 1/100\n",
            "13/13 [==============================] - 2s 72ms/step - loss: 0.1581 - val_loss: 0.0186\n",
            "Epoch 2/100\n",
            "13/13 [==============================] - 1s 43ms/step - loss: 0.0069 - val_loss: 0.0169\n",
            "Epoch 3/100\n",
            "13/13 [==============================] - 0s 23ms/step - loss: 0.0018 - val_loss: 0.0028\n",
            "Epoch 4/100\n",
            "13/13 [==============================] - 0s 24ms/step - loss: 8.4160e-04 - val_loss: 0.0038\n",
            "Epoch 5/100\n",
            "13/13 [==============================] - 0s 24ms/step - loss: 5.5529e-04 - val_loss: 0.0054\n",
            "Epoch 6/100\n",
            "13/13 [==============================] - 0s 24ms/step - loss: 4.0700e-04 - val_loss: 0.0066\n",
            "Epoch 7/100\n",
            "13/13 [==============================] - 0s 23ms/step - loss: 3.8724e-04 - val_loss: 0.0049\n",
            "Epoch 8/100\n",
            "13/13 [==============================] - 0s 25ms/step - loss: 3.8052e-04 - val_loss: 0.0041\n",
            "Epoch 9/100\n",
            "13/13 [==============================] - 0s 23ms/step - loss: 3.7660e-04 - val_loss: 0.0040\n",
            "Epoch 10/100\n",
            "13/13 [==============================] - 0s 23ms/step - loss: 3.7615e-04 - val_loss: 0.0035\n",
            "Epoch 11/100\n",
            "13/13 [==============================] - 0s 25ms/step - loss: 3.6154e-04 - val_loss: 0.0031\n",
            "Epoch 12/100\n",
            "13/13 [==============================] - 0s 23ms/step - loss: 3.6301e-04 - val_loss: 0.0030\n",
            "Epoch 13/100\n",
            "13/13 [==============================] - 0s 23ms/step - loss: 3.6032e-04 - val_loss: 0.0029\n",
            "Epoch 14/100\n",
            "13/13 [==============================] - 0s 23ms/step - loss: 3.4628e-04 - val_loss: 0.0028\n",
            "Epoch 15/100\n",
            "13/13 [==============================] - 0s 25ms/step - loss: 3.5095e-04 - val_loss: 0.0024\n",
            "Epoch 16/100\n",
            "13/13 [==============================] - 0s 23ms/step - loss: 3.5403e-04 - val_loss: 0.0023\n",
            "Epoch 17/100\n",
            "13/13 [==============================] - 0s 24ms/step - loss: 3.3917e-04 - val_loss: 0.0022\n",
            "Epoch 18/100\n",
            "13/13 [==============================] - 0s 25ms/step - loss: 3.4360e-04 - val_loss: 0.0022\n",
            "Epoch 19/100\n",
            "13/13 [==============================] - 0s 23ms/step - loss: 3.3514e-04 - val_loss: 0.0019\n",
            "Epoch 20/100\n",
            "13/13 [==============================] - 0s 26ms/step - loss: 3.3446e-04 - val_loss: 0.0018\n",
            "Epoch 21/100\n",
            "13/13 [==============================] - 0s 25ms/step - loss: 3.2864e-04 - val_loss: 0.0018\n",
            "Epoch 22/100\n",
            "13/13 [==============================] - 0s 24ms/step - loss: 3.3442e-04 - val_loss: 0.0018\n",
            "Epoch 23/100\n",
            "13/13 [==============================] - 0s 23ms/step - loss: 3.3742e-04 - val_loss: 0.0018\n",
            "Epoch 24/100\n",
            "13/13 [==============================] - 0s 25ms/step - loss: 3.2732e-04 - val_loss: 0.0017\n",
            "Epoch 25/100\n",
            "13/13 [==============================] - 0s 23ms/step - loss: 3.2687e-04 - val_loss: 0.0016\n",
            "Epoch 26/100\n",
            "13/13 [==============================] - 0s 26ms/step - loss: 3.2875e-04 - val_loss: 0.0016\n",
            "Epoch 27/100\n",
            "13/13 [==============================] - 0s 24ms/step - loss: 3.3368e-04 - val_loss: 0.0016\n",
            "Epoch 28/100\n",
            "13/13 [==============================] - 0s 23ms/step - loss: 3.2019e-04 - val_loss: 0.0014\n",
            "Epoch 29/100\n",
            "13/13 [==============================] - 0s 23ms/step - loss: 3.5067e-04 - val_loss: 0.0014\n",
            "Epoch 30/100\n",
            "13/13 [==============================] - 0s 23ms/step - loss: 3.1832e-04 - val_loss: 0.0013\n",
            "Epoch 31/100\n",
            "13/13 [==============================] - 0s 24ms/step - loss: 3.4802e-04 - val_loss: 0.0013\n",
            "Epoch 32/100\n",
            "13/13 [==============================] - 0s 23ms/step - loss: 3.6689e-04 - val_loss: 0.0014\n",
            "Epoch 33/100\n",
            "13/13 [==============================] - 0s 24ms/step - loss: 3.1242e-04 - val_loss: 0.0013\n",
            "Epoch 34/100\n",
            "13/13 [==============================] - 0s 29ms/step - loss: 3.1951e-04 - val_loss: 0.0012\n",
            "Epoch 35/100\n",
            "13/13 [==============================] - 1s 43ms/step - loss: 3.2086e-04 - val_loss: 0.0012\n",
            "Epoch 36/100\n",
            "13/13 [==============================] - 1s 40ms/step - loss: 3.0339e-04 - val_loss: 0.0011\n",
            "Epoch 37/100\n",
            "13/13 [==============================] - 1s 41ms/step - loss: 4.0751e-04 - val_loss: 0.0011\n",
            "Epoch 38/100\n",
            "13/13 [==============================] - 1s 53ms/step - loss: 3.1110e-04 - val_loss: 0.0011\n",
            "Epoch 39/100\n",
            "13/13 [==============================] - 1s 50ms/step - loss: 3.0038e-04 - val_loss: 0.0011\n",
            "Epoch 40/100\n",
            "13/13 [==============================] - 0s 35ms/step - loss: 2.9896e-04 - val_loss: 0.0011\n",
            "Epoch 41/100\n",
            "13/13 [==============================] - 0s 24ms/step - loss: 3.1955e-04 - val_loss: 0.0011\n",
            "Epoch 42/100\n",
            "13/13 [==============================] - 0s 23ms/step - loss: 3.0145e-04 - val_loss: 0.0010\n",
            "Epoch 43/100\n",
            "13/13 [==============================] - 0s 24ms/step - loss: 3.0053e-04 - val_loss: 0.0010\n",
            "Epoch 44/100\n",
            "13/13 [==============================] - 0s 23ms/step - loss: 2.9350e-04 - val_loss: 0.0010\n",
            "Epoch 45/100\n",
            "13/13 [==============================] - 0s 25ms/step - loss: 2.9777e-04 - val_loss: 9.4082e-04\n",
            "Epoch 46/100\n",
            "13/13 [==============================] - 0s 26ms/step - loss: 3.0983e-04 - val_loss: 9.3130e-04\n",
            "Epoch 47/100\n",
            "13/13 [==============================] - 0s 23ms/step - loss: 3.0822e-04 - val_loss: 9.0369e-04\n",
            "Epoch 48/100\n",
            "13/13 [==============================] - 0s 23ms/step - loss: 3.0179e-04 - val_loss: 9.1606e-04\n",
            "Epoch 49/100\n",
            "13/13 [==============================] - 0s 25ms/step - loss: 2.9763e-04 - val_loss: 9.5922e-04\n",
            "Epoch 50/100\n",
            "13/13 [==============================] - 0s 23ms/step - loss: 2.9846e-04 - val_loss: 9.4544e-04\n",
            "Epoch 51/100\n",
            "13/13 [==============================] - 0s 23ms/step - loss: 2.9928e-04 - val_loss: 9.1301e-04\n",
            "Epoch 52/100\n",
            "13/13 [==============================] - 0s 25ms/step - loss: 2.8679e-04 - val_loss: 8.8248e-04\n",
            "Epoch 53/100\n",
            "13/13 [==============================] - 0s 24ms/step - loss: 2.8481e-04 - val_loss: 9.0072e-04\n",
            "Epoch 54/100\n",
            "13/13 [==============================] - 0s 24ms/step - loss: 3.0063e-04 - val_loss: 9.0301e-04\n",
            "Epoch 55/100\n",
            "13/13 [==============================] - 0s 24ms/step - loss: 2.9947e-04 - val_loss: 8.9918e-04\n",
            "Epoch 56/100\n",
            "13/13 [==============================] - 0s 25ms/step - loss: 2.8370e-04 - val_loss: 8.3125e-04\n",
            "Epoch 57/100\n",
            "13/13 [==============================] - 0s 24ms/step - loss: 2.9865e-04 - val_loss: 8.3883e-04\n",
            "Epoch 58/100\n",
            "13/13 [==============================] - 0s 23ms/step - loss: 2.9632e-04 - val_loss: 8.2235e-04\n",
            "Epoch 59/100\n",
            "13/13 [==============================] - 0s 24ms/step - loss: 2.9070e-04 - val_loss: 8.2755e-04\n",
            "Epoch 60/100\n",
            "13/13 [==============================] - 0s 24ms/step - loss: 3.0007e-04 - val_loss: 8.1335e-04\n",
            "Epoch 61/100\n",
            "13/13 [==============================] - 0s 24ms/step - loss: 2.7945e-04 - val_loss: 8.1465e-04\n",
            "Epoch 62/100\n",
            "13/13 [==============================] - 0s 25ms/step - loss: 2.8466e-04 - val_loss: 8.4336e-04\n",
            "Epoch 63/100\n",
            "13/13 [==============================] - 0s 25ms/step - loss: 2.9295e-04 - val_loss: 8.2993e-04\n",
            "Epoch 64/100\n",
            "13/13 [==============================] - 0s 25ms/step - loss: 2.7952e-04 - val_loss: 8.9110e-04\n",
            "Epoch 65/100\n",
            "13/13 [==============================] - 0s 26ms/step - loss: 2.9886e-04 - val_loss: 7.9348e-04\n",
            "Epoch 66/100\n",
            "13/13 [==============================] - 0s 25ms/step - loss: 2.8340e-04 - val_loss: 7.8803e-04\n",
            "Epoch 67/100\n",
            "13/13 [==============================] - 0s 24ms/step - loss: 2.8206e-04 - val_loss: 7.5725e-04\n",
            "Epoch 68/100\n",
            "13/13 [==============================] - 0s 25ms/step - loss: 2.7246e-04 - val_loss: 7.3778e-04\n",
            "Epoch 69/100\n",
            "13/13 [==============================] - 0s 24ms/step - loss: 2.7550e-04 - val_loss: 7.3815e-04\n",
            "Epoch 70/100\n",
            "13/13 [==============================] - 0s 24ms/step - loss: 2.9351e-04 - val_loss: 7.0069e-04\n",
            "Epoch 71/100\n",
            "13/13 [==============================] - 0s 23ms/step - loss: 2.9668e-04 - val_loss: 7.4716e-04\n",
            "Epoch 72/100\n",
            "13/13 [==============================] - 0s 38ms/step - loss: 2.8193e-04 - val_loss: 7.3994e-04\n",
            "Epoch 73/100\n",
            "13/13 [==============================] - 1s 48ms/step - loss: 3.0627e-04 - val_loss: 7.4406e-04\n",
            "Epoch 74/100\n",
            "13/13 [==============================] - 1s 44ms/step - loss: 3.3549e-04 - val_loss: 7.3537e-04\n",
            "Epoch 75/100\n",
            "13/13 [==============================] - 1s 44ms/step - loss: 2.9072e-04 - val_loss: 6.9818e-04\n",
            "Epoch 76/100\n",
            "13/13 [==============================] - 1s 44ms/step - loss: 3.0032e-04 - val_loss: 7.0670e-04\n",
            "Epoch 77/100\n",
            "13/13 [==============================] - 1s 40ms/step - loss: 2.7991e-04 - val_loss: 6.5456e-04\n",
            "Epoch 78/100\n",
            "13/13 [==============================] - 1s 40ms/step - loss: 3.0689e-04 - val_loss: 6.8760e-04\n",
            "Epoch 79/100\n",
            "13/13 [==============================] - 0s 32ms/step - loss: 3.2895e-04 - val_loss: 7.0712e-04\n",
            "Epoch 80/100\n",
            "13/13 [==============================] - 0s 25ms/step - loss: 5.0384e-04 - val_loss: 8.4763e-04\n",
            "Epoch 81/100\n",
            "13/13 [==============================] - 0s 24ms/step - loss: 3.4038e-04 - val_loss: 8.5772e-04\n",
            "Epoch 82/100\n",
            "13/13 [==============================] - 0s 24ms/step - loss: 2.7381e-04 - val_loss: 7.9448e-04\n",
            "Epoch 83/100\n",
            "13/13 [==============================] - 0s 26ms/step - loss: 2.7212e-04 - val_loss: 8.4023e-04\n",
            "Epoch 84/100\n",
            "13/13 [==============================] - 0s 23ms/step - loss: 3.3151e-04 - val_loss: 9.3359e-04\n",
            "Epoch 85/100\n",
            "13/13 [==============================] - 0s 24ms/step - loss: 3.2818e-04 - val_loss: 8.9470e-04\n",
            "Epoch 86/100\n",
            "13/13 [==============================] - 0s 26ms/step - loss: 3.2446e-04 - val_loss: 0.0010\n",
            "Epoch 87/100\n",
            "13/13 [==============================] - 0s 25ms/step - loss: 2.8410e-04 - val_loss: 8.2927e-04\n",
            "Epoch 88/100\n",
            "13/13 [==============================] - 0s 25ms/step - loss: 2.6930e-04 - val_loss: 7.3584e-04\n",
            "Epoch 89/100\n",
            "13/13 [==============================] - 0s 25ms/step - loss: 2.6839e-04 - val_loss: 7.4216e-04\n",
            "Epoch 90/100\n",
            "13/13 [==============================] - 0s 23ms/step - loss: 2.6440e-04 - val_loss: 7.2918e-04\n",
            "Epoch 91/100\n",
            "13/13 [==============================] - 0s 24ms/step - loss: 2.6678e-04 - val_loss: 8.2725e-04\n",
            "Epoch 92/100\n",
            "13/13 [==============================] - 0s 27ms/step - loss: 2.7140e-04 - val_loss: 6.9905e-04\n",
            "Epoch 93/100\n",
            "13/13 [==============================] - 0s 23ms/step - loss: 2.6481e-04 - val_loss: 6.5006e-04\n",
            "Epoch 94/100\n",
            "13/13 [==============================] - 0s 23ms/step - loss: 2.6013e-04 - val_loss: 6.5113e-04\n",
            "Epoch 95/100\n",
            "13/13 [==============================] - 0s 24ms/step - loss: 2.6072e-04 - val_loss: 7.2397e-04\n",
            "Epoch 96/100\n",
            "13/13 [==============================] - 0s 25ms/step - loss: 3.3664e-04 - val_loss: 7.7662e-04\n",
            "Epoch 97/100\n",
            "13/13 [==============================] - 0s 24ms/step - loss: 3.1810e-04 - val_loss: 7.5204e-04\n",
            "Epoch 98/100\n",
            "13/13 [==============================] - 0s 24ms/step - loss: 3.1488e-04 - val_loss: 6.8246e-04\n",
            "Epoch 99/100\n",
            "13/13 [==============================] - 0s 25ms/step - loss: 3.1195e-04 - val_loss: 6.4692e-04\n",
            "Epoch 100/100\n",
            "13/13 [==============================] - 0s 24ms/step - loss: 2.5791e-04 - val_loss: 6.6949e-04\n"
          ]
        },
        {
          "output_type": "execute_result",
          "data": {
            "text/plain": [
              "<keras.src.callbacks.History at 0x79f403311ab0>"
            ]
          },
          "metadata": {},
          "execution_count": 69
        }
      ]
    },
    {
      "cell_type": "code",
      "source": [
        "# 10. Dự báo dữ liệu test, val\n",
        "train_predict=model.predict(X_train)\n",
        "y_pred=model.predict(X_test)"
      ],
      "metadata": {
        "id": "sFrkk-QEUts2"
      },
      "execution_count": null,
      "outputs": []
    },
    {
      "cell_type": "code",
      "source": [
        "# 11. Chuẩn hóa dữ liệu y_pred, y_pred_val\n",
        "train_predict = scaler.inverse_transform(train_predict)\n",
        "y_pred = scaler.inverse_transform(y_pred.reshape(-1, 1))\n",
        "ytest = scaler.inverse_transform(ytest.reshape(-1, 1))"
      ],
      "metadata": {
        "id": "FDg7ECu5Uts2"
      },
      "execution_count": null,
      "outputs": []
    },
    {
      "cell_type": "code",
      "source": [
        "# 12. Đánh giá độ chính xác thuật toán bằng RMSE\n",
        "from sklearn.metrics import mean_absolute_error, mean_absolute_percentage_error\n",
        "\n",
        "test_rmse = np.sqrt(np.mean((y_pred - ytest)**2))\n",
        "test_mape = mean_absolute_percentage_error(ytest, y_pred)\n",
        "test_mae = mean_absolute_error(ytest, y_pred)\n",
        "\n",
        "print('Testing RMSE:', test_rmse)\n",
        "print('Testing MAPE:', test_mape)\n",
        "print('Testing MAE:', test_mae)"
      ],
      "metadata": {
        "id": "9kF5CRegUts3"
      },
      "execution_count": null,
      "outputs": []
    },
    {
      "cell_type": "code",
      "source": [
        "# 13. Dự báo 30, 60, 90 ngày tiếp theo\n",
        "def predict_future(model, data, time_step, future_days):\n",
        "    x_input = data[-time_step:].reshape(1, -1)\n",
        "    temp_input = x_input[0].tolist()\n",
        "    lst_output = []\n",
        "    i = 0\n",
        "    while i < future_days:\n",
        "        if len(temp_input) > time_step:\n",
        "            x_input = np.array(temp_input[-time_step:])\n",
        "            x_input = x_input.reshape((1, time_step, 1))\n",
        "            yhat = model.predict(x_input, verbose=0)\n",
        "            temp_input.extend(yhat[0].tolist())\n",
        "            temp_input = temp_input[1:]\n",
        "            lst_output.extend(yhat.tolist())\n",
        "            i += 1\n",
        "        else:\n",
        "            x_input = np.array(temp_input).reshape((1, time_step, 1))\n",
        "            yhat = model.predict(x_input, verbose=0)\n",
        "            temp_input.extend(yhat[0].tolist())\n",
        "            lst_output.extend(yhat.tolist())\n",
        "            i += 1\n",
        "    return lst_output\n",
        "\n",
        "n_steps = 100\n",
        "\n",
        "pred_30_days = predict_future(model, test_data, n_steps, 30)\n",
        "pred_60_days = predict_future(model, test_data, n_steps, 60)\n",
        "pred_90_days = predict_future(model, test_data, n_steps, 90)\n",
        "\n",
        "pred_30_days = scaler.inverse_transform(np.array(pred_30_days).reshape(-1, 1))\n",
        "pred_60_days = scaler.inverse_transform(np.array(pred_60_days).reshape(-1, 1))\n",
        "pred_90_days = scaler.inverse_transform(np.array(pred_90_days).reshape(-1, 1))"
      ],
      "metadata": {
        "id": "mC0GI3MXUts3"
      },
      "execution_count": null,
      "outputs": []
    },
    {
      "cell_type": "code",
      "source": [
        "# 14. Vẽ hình\n",
        "plt.figure(figsize=(14, 8))\n",
        "dates = pd.to_datetime(df['Date'])\n",
        "\n",
        "plt.plot(dates[:train_size], scaler.inverse_transform(train_data), label='Train')\n",
        "plt.plot(dates[train_size:], scaler.inverse_transform(test_data), label='Test')\n",
        "predicted_test_index_start = train_size + time_step\n",
        "plt.plot(dates[predicted_test_index_start:predicted_test_index_start + len(y_pred)], y_pred, label='Predict')\n",
        "\n",
        "last_date = dates.iloc[-1]\n",
        "\n",
        "future_dates_30 = pd.date_range(start=last_date + pd.Timedelta(days=1), periods=30)\n",
        "future_30_with_last = np.concatenate((scaler.inverse_transform(test_data[-1].reshape(-1, 1)), pred_30_days), axis=0)\n",
        "future_dates_60 = pd.date_range(start=last_date + pd.Timedelta(days=1), periods=61)\n",
        "future_60_with_last = np.concatenate((scaler.inverse_transform(test_data[-1].reshape(-1, 1)), pred_60_days), axis=0)\n",
        "future_dates_90 = pd.date_range(start=last_date + pd.Timedelta(days=1), periods=91)\n",
        "future_90_with_last = np.concatenate((scaler.inverse_transform(test_data[-1].reshape(-1, 1)), pred_90_days), axis=0)\n",
        "\n",
        "# Vẽ 90 ngày\n",
        "plt.plot(future_dates_90, future_90_with_last[:len(future_dates_90)], label='90 Days Prediction', color='purple')\n",
        "\n",
        "# Vẽ 60 ngày\n",
        "plt.plot(future_dates_60, future_60_with_last[:len(future_dates_60)], label='60 Days Prediction', color='yellow')\n",
        "\n",
        "# Vẽ 30 ngày\n",
        "plt.plot(future_dates_30, future_30_with_last[:len(future_dates_30)], label='30 Days Prediction', color='red')\n",
        "\n",
        "plt.legend()\n",
        "plt.title('Stock Price Prediction')\n",
        "plt.xlabel('Date')\n",
        "plt.ylabel('Stock Price')\n",
        "plt.show()"
      ],
      "metadata": {
        "id": "I1IJkcTvUts3"
      },
      "execution_count": null,
      "outputs": []
    },
    {
      "cell_type": "markdown",
      "source": [
        "# 3. NLG Dataset"
      ],
      "metadata": {
        "id": "Yne9pBxTU3jM"
      }
    },
    {
      "cell_type": "code",
      "source": [
        "# 1. Import thư viện cần thiết\n",
        "import numpy as np\n",
        "import pandas as pd\n",
        "import matplotlib.pyplot as plt\n",
        "from sklearn.preprocessing import MinMaxScaler\n",
        "from keras.models import Sequential\n",
        "from keras.layers import Dense, SimpleRNN"
      ],
      "metadata": {
        "id": "rfOl5F6zU3ja"
      },
      "execution_count": null,
      "outputs": []
    },
    {
      "cell_type": "code",
      "source": [
        "# 2. Đọc file csv và gắn index với giá Close\n",
        "df = pd.read_csv('3-NLG Historical Data.csv')\n",
        "df = df.iloc[::-1].reset_index(drop=True)  # Reverse the dataframe\n",
        "df['Date'] = pd.to_datetime(df['Date'])\n",
        "df1 = df['Price'].str.replace(',', '').astype(float)"
      ],
      "metadata": {
        "id": "I1qRHbVXU3jb"
      },
      "execution_count": null,
      "outputs": []
    },
    {
      "cell_type": "code",
      "source": [
        "# 3. Scaler data\n",
        "scaler=MinMaxScaler(feature_range=(0,1))\n",
        "df1=scaler.fit_transform(np.array(df1).reshape(-1,1))"
      ],
      "metadata": {
        "id": "pQVnITBNU3jb"
      },
      "execution_count": null,
      "outputs": []
    },
    {
      "cell_type": "code",
      "source": [
        "df1"
      ],
      "metadata": {
        "id": "myRuEfj1U3jb"
      },
      "execution_count": null,
      "outputs": []
    },
    {
      "cell_type": "markdown",
      "source": [
        "## Ratio 9:1"
      ],
      "metadata": {
        "id": "NA0sYmWXU3jb"
      }
    },
    {
      "cell_type": "code",
      "source": [
        "# 4. Chia train test\n",
        "train_size = int(0.9 * len(df1))\n",
        "test_size = len(df1) - train_size\n",
        "\n",
        "train_data = df1[:train_size]\n",
        "test_data = df1[train_size:]"
      ],
      "metadata": {
        "id": "HEqNhLQ7U3jb"
      },
      "execution_count": 79,
      "outputs": []
    },
    {
      "cell_type": "code",
      "source": [
        "# 5. Hàm Create Dataset\n",
        "import numpy\n",
        "# convert an array of values into a dataset matrix\n",
        "def create_dataset(dataset, time_step=1):\n",
        "\tdataX, dataY = [], []\n",
        "\tfor i in range(len(dataset)-time_step-1):\n",
        "\t\ta = dataset[i:(i+time_step), 0]   ###i=0, X=0,1,2,3-----99   Y=100\n",
        "\t\tdataX.append(a)\n",
        "\t\tdataY.append(dataset[i + time_step, 0])\n",
        "\treturn numpy.array(dataX), numpy.array(dataY)"
      ],
      "metadata": {
        "id": "U1uE5FHTU3jb"
      },
      "execution_count": null,
      "outputs": []
    },
    {
      "cell_type": "code",
      "source": [
        "#6. Reshape into X=t,t+1,t+2..t+99 and Y=t+100\n",
        "\n",
        "time_step = 100\n",
        "X_train, y_train = create_dataset(train_data, time_step)\n",
        "X_test, ytest = create_dataset(test_data, time_step)"
      ],
      "metadata": {
        "id": "OoqNvQB1U3jc"
      },
      "execution_count": null,
      "outputs": []
    },
    {
      "cell_type": "code",
      "source": [
        "# 7. Reshape input to be [samples, time steps, features] which is required for LSTM\n",
        "X_train =X_train.reshape(X_train.shape[0],X_train.shape[1] , 1)\n",
        "X_test = X_test.reshape(X_test.shape[0],X_test.shape[1] , 1)"
      ],
      "metadata": {
        "id": "o2GCSrxYU3jc"
      },
      "execution_count": 82,
      "outputs": []
    },
    {
      "cell_type": "code",
      "source": [
        "# 8. Define LSTM Model\n",
        "\n",
        "model = Sequential()\n",
        "model.add(SimpleRNN(50, input_shape=(time_step, 1)))\n",
        "model.add(Dense(1))\n",
        "model.compile(loss='mean_squared_error',optimizer='adam')"
      ],
      "metadata": {
        "id": "VCpGeXyuU3jc"
      },
      "execution_count": 83,
      "outputs": []
    },
    {
      "cell_type": "code",
      "source": [
        "# 9. Fit mô hình với dữ liệu train\n",
        "model.fit(X_train,y_train,validation_data=(X_test,ytest),epochs=100,batch_size=64,verbose=1)"
      ],
      "metadata": {
        "colab": {
          "base_uri": "https://localhost:8080/"
        },
        "outputId": "3adb9e1e-dc2e-4769-c0e6-0ed54dc4f4c6",
        "id": "hmOW7Y7tU3jc"
      },
      "execution_count": 84,
      "outputs": [
        {
          "output_type": "stream",
          "name": "stdout",
          "text": [
            "Epoch 1/100\n",
            "17/17 [==============================] - 2s 35ms/step - loss: 0.0244 - val_loss: 0.0050\n",
            "Epoch 2/100\n",
            "17/17 [==============================] - 0s 21ms/step - loss: 0.0029 - val_loss: 5.8769e-04\n",
            "Epoch 3/100\n",
            "17/17 [==============================] - 0s 20ms/step - loss: 0.0016 - val_loss: 6.9570e-04\n",
            "Epoch 4/100\n",
            "17/17 [==============================] - 0s 21ms/step - loss: 0.0015 - val_loss: 3.0155e-04\n",
            "Epoch 5/100\n",
            "17/17 [==============================] - 0s 21ms/step - loss: 0.0011 - val_loss: 4.9143e-04\n",
            "Epoch 6/100\n",
            "17/17 [==============================] - 0s 20ms/step - loss: 0.0010 - val_loss: 3.1161e-04\n",
            "Epoch 7/100\n",
            "17/17 [==============================] - 0s 21ms/step - loss: 0.0010 - val_loss: 9.8435e-04\n",
            "Epoch 8/100\n",
            "17/17 [==============================] - 0s 21ms/step - loss: 0.0012 - val_loss: 4.3115e-04\n",
            "Epoch 9/100\n",
            "17/17 [==============================] - 0s 21ms/step - loss: 9.3498e-04 - val_loss: 3.1386e-04\n",
            "Epoch 10/100\n",
            "17/17 [==============================] - 0s 21ms/step - loss: 8.5980e-04 - val_loss: 0.0010\n",
            "Epoch 11/100\n",
            "17/17 [==============================] - 0s 22ms/step - loss: 0.0012 - val_loss: 9.4552e-04\n",
            "Epoch 12/100\n",
            "17/17 [==============================] - 1s 37ms/step - loss: 0.0011 - val_loss: 3.5142e-04\n",
            "Epoch 13/100\n",
            "17/17 [==============================] - 1s 35ms/step - loss: 8.2154e-04 - val_loss: 3.7836e-04\n",
            "Epoch 14/100\n",
            "17/17 [==============================] - 1s 37ms/step - loss: 8.0126e-04 - val_loss: 3.2848e-04\n",
            "Epoch 15/100\n",
            "17/17 [==============================] - 1s 37ms/step - loss: 8.1056e-04 - val_loss: 3.2725e-04\n",
            "Epoch 16/100\n",
            "17/17 [==============================] - 1s 36ms/step - loss: 7.7590e-04 - val_loss: 2.8635e-04\n",
            "Epoch 17/100\n",
            "17/17 [==============================] - 1s 39ms/step - loss: 7.4229e-04 - val_loss: 0.0015\n",
            "Epoch 18/100\n",
            "17/17 [==============================] - 0s 28ms/step - loss: 0.0016 - val_loss: 0.0014\n",
            "Epoch 19/100\n",
            "17/17 [==============================] - 0s 21ms/step - loss: 0.0015 - val_loss: 0.0011\n",
            "Epoch 20/100\n",
            "17/17 [==============================] - 0s 22ms/step - loss: 0.0013 - val_loss: 2.6992e-04\n",
            "Epoch 21/100\n",
            "17/17 [==============================] - 0s 20ms/step - loss: 7.2151e-04 - val_loss: 2.7230e-04\n",
            "Epoch 22/100\n",
            "17/17 [==============================] - 0s 21ms/step - loss: 6.9057e-04 - val_loss: 2.7774e-04\n",
            "Epoch 23/100\n",
            "17/17 [==============================] - 0s 21ms/step - loss: 6.6958e-04 - val_loss: 2.6675e-04\n",
            "Epoch 24/100\n",
            "17/17 [==============================] - 0s 20ms/step - loss: 6.8083e-04 - val_loss: 3.5788e-04\n",
            "Epoch 25/100\n",
            "17/17 [==============================] - 0s 21ms/step - loss: 7.5877e-04 - val_loss: 2.6260e-04\n",
            "Epoch 26/100\n",
            "17/17 [==============================] - 0s 21ms/step - loss: 6.4828e-04 - val_loss: 3.5181e-04\n",
            "Epoch 27/100\n",
            "17/17 [==============================] - 0s 20ms/step - loss: 6.6785e-04 - val_loss: 2.6684e-04\n",
            "Epoch 28/100\n",
            "17/17 [==============================] - 0s 22ms/step - loss: 6.4494e-04 - val_loss: 2.7538e-04\n",
            "Epoch 29/100\n",
            "17/17 [==============================] - 0s 21ms/step - loss: 7.7602e-04 - val_loss: 2.6014e-04\n",
            "Epoch 30/100\n",
            "17/17 [==============================] - 0s 21ms/step - loss: 6.6365e-04 - val_loss: 2.4890e-04\n",
            "Epoch 31/100\n",
            "17/17 [==============================] - 0s 22ms/step - loss: 6.2087e-04 - val_loss: 3.5380e-04\n",
            "Epoch 32/100\n",
            "17/17 [==============================] - 0s 20ms/step - loss: 6.6492e-04 - val_loss: 0.0032\n",
            "Epoch 33/100\n",
            "17/17 [==============================] - 0s 21ms/step - loss: 0.0027 - val_loss: 7.4426e-04\n",
            "Epoch 34/100\n",
            "17/17 [==============================] - 0s 22ms/step - loss: 0.0014 - val_loss: 9.1084e-04\n",
            "Epoch 35/100\n",
            "17/17 [==============================] - 0s 20ms/step - loss: 7.8750e-04 - val_loss: 3.5674e-04\n",
            "Epoch 36/100\n",
            "17/17 [==============================] - 0s 21ms/step - loss: 6.0178e-04 - val_loss: 2.5891e-04\n",
            "Epoch 37/100\n",
            "17/17 [==============================] - 0s 21ms/step - loss: 5.8154e-04 - val_loss: 2.6465e-04\n",
            "Epoch 38/100\n",
            "17/17 [==============================] - 0s 21ms/step - loss: 5.8295e-04 - val_loss: 2.5294e-04\n",
            "Epoch 39/100\n",
            "17/17 [==============================] - 0s 21ms/step - loss: 5.6334e-04 - val_loss: 2.8174e-04\n",
            "Epoch 40/100\n",
            "17/17 [==============================] - 0s 22ms/step - loss: 5.7047e-04 - val_loss: 2.5300e-04\n",
            "Epoch 41/100\n",
            "17/17 [==============================] - 0s 21ms/step - loss: 5.5325e-04 - val_loss: 2.5327e-04\n",
            "Epoch 42/100\n",
            "17/17 [==============================] - 0s 21ms/step - loss: 5.5626e-04 - val_loss: 3.6618e-04\n",
            "Epoch 43/100\n",
            "17/17 [==============================] - 0s 21ms/step - loss: 5.9668e-04 - val_loss: 2.6050e-04\n",
            "Epoch 44/100\n",
            "17/17 [==============================] - 0s 21ms/step - loss: 6.6833e-04 - val_loss: 3.7822e-04\n",
            "Epoch 45/100\n",
            "17/17 [==============================] - 0s 23ms/step - loss: 6.0270e-04 - val_loss: 2.9722e-04\n",
            "Epoch 46/100\n",
            "17/17 [==============================] - 1s 37ms/step - loss: 5.3568e-04 - val_loss: 2.4895e-04\n",
            "Epoch 47/100\n",
            "17/17 [==============================] - 1s 36ms/step - loss: 5.3944e-04 - val_loss: 2.3361e-04\n",
            "Epoch 48/100\n",
            "17/17 [==============================] - 1s 37ms/step - loss: 5.5920e-04 - val_loss: 2.3521e-04\n",
            "Epoch 49/100\n",
            "17/17 [==============================] - 1s 38ms/step - loss: 6.1651e-04 - val_loss: 4.4985e-04\n",
            "Epoch 50/100\n",
            "17/17 [==============================] - 1s 39ms/step - loss: 5.7752e-04 - val_loss: 2.7712e-04\n",
            "Epoch 51/100\n",
            "17/17 [==============================] - 1s 36ms/step - loss: 5.3646e-04 - val_loss: 2.3933e-04\n",
            "Epoch 52/100\n",
            "17/17 [==============================] - 0s 27ms/step - loss: 5.2459e-04 - val_loss: 2.3021e-04\n",
            "Epoch 53/100\n",
            "17/17 [==============================] - 0s 20ms/step - loss: 5.1109e-04 - val_loss: 2.8944e-04\n",
            "Epoch 54/100\n",
            "17/17 [==============================] - 0s 20ms/step - loss: 5.4620e-04 - val_loss: 2.5513e-04\n",
            "Epoch 55/100\n",
            "17/17 [==============================] - 0s 22ms/step - loss: 6.4088e-04 - val_loss: 2.1579e-04\n",
            "Epoch 56/100\n",
            "17/17 [==============================] - 0s 21ms/step - loss: 5.3456e-04 - val_loss: 2.3701e-04\n",
            "Epoch 57/100\n",
            "17/17 [==============================] - 0s 20ms/step - loss: 5.0284e-04 - val_loss: 2.4419e-04\n",
            "Epoch 58/100\n",
            "17/17 [==============================] - 0s 21ms/step - loss: 5.0997e-04 - val_loss: 2.7657e-04\n",
            "Epoch 59/100\n",
            "17/17 [==============================] - 0s 21ms/step - loss: 5.8082e-04 - val_loss: 2.0702e-04\n",
            "Epoch 60/100\n",
            "17/17 [==============================] - 0s 20ms/step - loss: 5.6967e-04 - val_loss: 2.1785e-04\n",
            "Epoch 61/100\n",
            "17/17 [==============================] - 0s 22ms/step - loss: 4.8911e-04 - val_loss: 2.3332e-04\n",
            "Epoch 62/100\n",
            "17/17 [==============================] - 0s 20ms/step - loss: 5.0979e-04 - val_loss: 2.1557e-04\n",
            "Epoch 63/100\n",
            "17/17 [==============================] - 0s 20ms/step - loss: 4.7736e-04 - val_loss: 2.0277e-04\n",
            "Epoch 64/100\n",
            "17/17 [==============================] - 0s 22ms/step - loss: 4.7013e-04 - val_loss: 2.0530e-04\n",
            "Epoch 65/100\n",
            "17/17 [==============================] - 0s 20ms/step - loss: 4.7726e-04 - val_loss: 2.0442e-04\n",
            "Epoch 66/100\n",
            "17/17 [==============================] - 0s 21ms/step - loss: 4.8363e-04 - val_loss: 3.3581e-04\n",
            "Epoch 67/100\n",
            "17/17 [==============================] - 0s 21ms/step - loss: 5.1821e-04 - val_loss: 1.9473e-04\n",
            "Epoch 68/100\n",
            "17/17 [==============================] - 0s 21ms/step - loss: 4.6507e-04 - val_loss: 2.0036e-04\n",
            "Epoch 69/100\n",
            "17/17 [==============================] - 0s 22ms/step - loss: 4.7372e-04 - val_loss: 2.0928e-04\n",
            "Epoch 70/100\n",
            "17/17 [==============================] - 0s 21ms/step - loss: 4.6670e-04 - val_loss: 4.6957e-04\n",
            "Epoch 71/100\n",
            "17/17 [==============================] - 0s 21ms/step - loss: 5.5100e-04 - val_loss: 5.5906e-04\n",
            "Epoch 72/100\n",
            "17/17 [==============================] - 0s 22ms/step - loss: 5.5785e-04 - val_loss: 0.0010\n",
            "Epoch 73/100\n",
            "17/17 [==============================] - 0s 21ms/step - loss: 0.0010 - val_loss: 3.5805e-04\n",
            "Epoch 74/100\n",
            "17/17 [==============================] - 0s 21ms/step - loss: 6.9279e-04 - val_loss: 4.3356e-04\n",
            "Epoch 75/100\n",
            "17/17 [==============================] - 0s 21ms/step - loss: 5.0516e-04 - val_loss: 2.0501e-04\n",
            "Epoch 76/100\n",
            "17/17 [==============================] - 0s 20ms/step - loss: 4.6892e-04 - val_loss: 2.1555e-04\n",
            "Epoch 77/100\n",
            "17/17 [==============================] - 0s 21ms/step - loss: 4.5709e-04 - val_loss: 2.2709e-04\n",
            "Epoch 78/100\n",
            "17/17 [==============================] - 0s 22ms/step - loss: 4.5056e-04 - val_loss: 2.1028e-04\n",
            "Epoch 79/100\n",
            "17/17 [==============================] - 0s 26ms/step - loss: 5.4784e-04 - val_loss: 2.7489e-04\n",
            "Epoch 80/100\n",
            "17/17 [==============================] - 1s 39ms/step - loss: 6.2458e-04 - val_loss: 1.9492e-04\n",
            "Epoch 81/100\n",
            "17/17 [==============================] - 1s 34ms/step - loss: 4.6816e-04 - val_loss: 2.2373e-04\n",
            "Epoch 82/100\n",
            "17/17 [==============================] - 1s 38ms/step - loss: 5.2620e-04 - val_loss: 6.0763e-04\n",
            "Epoch 83/100\n",
            "17/17 [==============================] - 1s 38ms/step - loss: 5.0848e-04 - val_loss: 1.8035e-04\n",
            "Epoch 84/100\n",
            "17/17 [==============================] - 1s 39ms/step - loss: 4.3436e-04 - val_loss: 1.8726e-04\n",
            "Epoch 85/100\n",
            "17/17 [==============================] - 0s 22ms/step - loss: 4.3470e-04 - val_loss: 2.9589e-04\n",
            "Epoch 86/100\n",
            "17/17 [==============================] - 0s 21ms/step - loss: 6.1381e-04 - val_loss: 2.4605e-04\n",
            "Epoch 87/100\n",
            "17/17 [==============================] - 0s 20ms/step - loss: 4.4868e-04 - val_loss: 2.8776e-04\n",
            "Epoch 88/100\n",
            "17/17 [==============================] - 0s 22ms/step - loss: 4.3661e-04 - val_loss: 2.5412e-04\n",
            "Epoch 89/100\n",
            "17/17 [==============================] - 0s 21ms/step - loss: 4.6127e-04 - val_loss: 2.6230e-04\n",
            "Epoch 90/100\n",
            "17/17 [==============================] - 0s 21ms/step - loss: 5.1669e-04 - val_loss: 4.0206e-04\n",
            "Epoch 91/100\n",
            "17/17 [==============================] - 0s 21ms/step - loss: 4.6723e-04 - val_loss: 1.9018e-04\n",
            "Epoch 92/100\n",
            "17/17 [==============================] - 0s 20ms/step - loss: 4.1178e-04 - val_loss: 1.8665e-04\n",
            "Epoch 93/100\n",
            "17/17 [==============================] - 0s 21ms/step - loss: 4.1387e-04 - val_loss: 2.0318e-04\n",
            "Epoch 94/100\n",
            "17/17 [==============================] - 0s 22ms/step - loss: 4.1699e-04 - val_loss: 1.8436e-04\n",
            "Epoch 95/100\n",
            "17/17 [==============================] - 0s 21ms/step - loss: 4.1099e-04 - val_loss: 2.4563e-04\n",
            "Epoch 96/100\n",
            "17/17 [==============================] - 0s 21ms/step - loss: 4.9182e-04 - val_loss: 1.8011e-04\n",
            "Epoch 97/100\n",
            "17/17 [==============================] - 0s 21ms/step - loss: 4.2031e-04 - val_loss: 1.8167e-04\n",
            "Epoch 98/100\n",
            "17/17 [==============================] - 0s 20ms/step - loss: 4.0860e-04 - val_loss: 1.7211e-04\n",
            "Epoch 99/100\n",
            "17/17 [==============================] - 0s 22ms/step - loss: 4.0191e-04 - val_loss: 2.0681e-04\n",
            "Epoch 100/100\n",
            "17/17 [==============================] - 0s 20ms/step - loss: 4.1970e-04 - val_loss: 3.9172e-04\n"
          ]
        },
        {
          "output_type": "execute_result",
          "data": {
            "text/plain": [
              "<keras.src.callbacks.History at 0x79f3f69f05b0>"
            ]
          },
          "metadata": {},
          "execution_count": 84
        }
      ]
    },
    {
      "cell_type": "code",
      "source": [
        "# 10. Dự báo dữ liệu test, val\n",
        "train_predict=model.predict(X_train)\n",
        "y_pred=model.predict(X_test)"
      ],
      "metadata": {
        "id": "VMy8Glx3U3jc"
      },
      "execution_count": null,
      "outputs": []
    },
    {
      "cell_type": "code",
      "source": [
        "# 11. Chuẩn hóa dữ liệu y_pred, y_pred_val\n",
        "train_predict = scaler.inverse_transform(train_predict)\n",
        "y_pred = scaler.inverse_transform(y_pred.reshape(-1, 1))\n",
        "ytest = scaler.inverse_transform(ytest.reshape(-1, 1))"
      ],
      "metadata": {
        "id": "4gd7o3YRU3jc"
      },
      "execution_count": null,
      "outputs": []
    },
    {
      "cell_type": "code",
      "source": [
        "# 12. Đánh giá độ chính xác thuật toán bằng RMSE\n",
        "from sklearn.metrics import mean_absolute_error, mean_absolute_percentage_error\n",
        "\n",
        "test_rmse = np.sqrt(np.mean((y_pred - ytest)**2))\n",
        "test_mape = mean_absolute_percentage_error(ytest, y_pred)\n",
        "test_mae = mean_absolute_error(ytest, y_pred)\n",
        "\n",
        "print('Testing RMSE:', test_rmse)\n",
        "print('Testing MAPE:', test_mape)\n",
        "print('Testing MAE:', test_mae)"
      ],
      "metadata": {
        "id": "r0khq-L9U3jc"
      },
      "execution_count": null,
      "outputs": []
    },
    {
      "cell_type": "code",
      "source": [
        "# 13. Dự báo 30, 60, 90 ngày tiếp theo\n",
        "def predict_future(model, data, time_step, future_days):\n",
        "    x_input = data[-time_step:].reshape(1, -1)\n",
        "    temp_input = x_input[0].tolist()\n",
        "    lst_output = []\n",
        "    i = 0\n",
        "    while i < future_days:\n",
        "        if len(temp_input) > time_step:\n",
        "            x_input = np.array(temp_input[-time_step:])\n",
        "            x_input = x_input.reshape((1, time_step, 1))\n",
        "            yhat = model.predict(x_input, verbose=0)\n",
        "            temp_input.extend(yhat[0].tolist())\n",
        "            temp_input = temp_input[1:]\n",
        "            lst_output.extend(yhat.tolist())\n",
        "            i += 1\n",
        "        else:\n",
        "            x_input = np.array(temp_input).reshape((1, time_step, 1))\n",
        "            yhat = model.predict(x_input, verbose=0)\n",
        "            temp_input.extend(yhat[0].tolist())\n",
        "            lst_output.extend(yhat.tolist())\n",
        "            i += 1\n",
        "    return lst_output\n",
        "\n",
        "n_steps = 100\n",
        "\n",
        "pred_30_days = predict_future(model, test_data, n_steps, 30)\n",
        "pred_60_days = predict_future(model, test_data, n_steps, 60)\n",
        "pred_90_days = predict_future(model, test_data, n_steps, 90)\n",
        "\n",
        "pred_30_days = scaler.inverse_transform(np.array(pred_30_days).reshape(-1, 1))\n",
        "pred_60_days = scaler.inverse_transform(np.array(pred_60_days).reshape(-1, 1))\n",
        "pred_90_days = scaler.inverse_transform(np.array(pred_90_days).reshape(-1, 1))"
      ],
      "metadata": {
        "id": "9_HYvVawU3jd"
      },
      "execution_count": null,
      "outputs": []
    },
    {
      "cell_type": "code",
      "source": [
        "# 14. Vẽ hình\n",
        "plt.figure(figsize=(14, 8))\n",
        "dates = pd.to_datetime(df['Date'])\n",
        "\n",
        "plt.plot(dates[:train_size], scaler.inverse_transform(train_data), label='Train')\n",
        "plt.plot(dates[train_size:], scaler.inverse_transform(test_data), label='Test')\n",
        "predicted_test_index_start = train_size + time_step\n",
        "plt.plot(dates[predicted_test_index_start:predicted_test_index_start + len(y_pred)], y_pred, label='Predict')\n",
        "\n",
        "last_date = dates.iloc[-1]\n",
        "\n",
        "future_dates_30 = pd.date_range(start=last_date + pd.Timedelta(days=1), periods=30)\n",
        "future_30_with_last = np.concatenate((scaler.inverse_transform(test_data[-1].reshape(-1, 1)), pred_30_days), axis=0)\n",
        "future_dates_60 = pd.date_range(start=last_date + pd.Timedelta(days=1), periods=61)\n",
        "future_60_with_last = np.concatenate((scaler.inverse_transform(test_data[-1].reshape(-1, 1)), pred_60_days), axis=0)\n",
        "future_dates_90 = pd.date_range(start=last_date + pd.Timedelta(days=1), periods=91)\n",
        "future_90_with_last = np.concatenate((scaler.inverse_transform(test_data[-1].reshape(-1, 1)), pred_90_days), axis=0)\n",
        "\n",
        "# Vẽ 90 ngày\n",
        "plt.plot(future_dates_90, future_90_with_last[:len(future_dates_90)], label='90 Days Prediction', color='purple')\n",
        "\n",
        "# Vẽ 60 ngày\n",
        "plt.plot(future_dates_60, future_60_with_last[:len(future_dates_60)], label='60 Days Prediction', color='yellow')\n",
        "\n",
        "# Vẽ 30 ngày\n",
        "plt.plot(future_dates_30, future_30_with_last[:len(future_dates_30)], label='30 Days Prediction', color='red')\n",
        "\n",
        "plt.legend()\n",
        "plt.title('Stock Price Prediction')\n",
        "plt.xlabel('Date')\n",
        "plt.ylabel('Stock Price')\n",
        "plt.show()"
      ],
      "metadata": {
        "id": "kf1fgZRsU3jd"
      },
      "execution_count": null,
      "outputs": []
    },
    {
      "cell_type": "markdown",
      "source": [
        "## Ratio 8:2"
      ],
      "metadata": {
        "id": "Lgk9yZpvU3jd"
      }
    },
    {
      "cell_type": "code",
      "source": [
        "# 4. Chia train test\n",
        "train_size = int(0.8 * len(df1))\n",
        "test_size = len(df1) - train_size\n",
        "\n",
        "train_data = df1[:train_size]\n",
        "test_data = df1[train_size:]"
      ],
      "metadata": {
        "id": "AfRn2fmpU3jd"
      },
      "execution_count": null,
      "outputs": []
    },
    {
      "cell_type": "code",
      "source": [
        "# 5. Hàm Create Dataset\n",
        "import numpy\n",
        "# convert an array of values into a dataset matrix\n",
        "def create_dataset(dataset, time_step=1):\n",
        "\tdataX, dataY = [], []\n",
        "\tfor i in range(len(dataset)-time_step-1):\n",
        "\t\ta = dataset[i:(i+time_step), 0]   ###i=0, X=0,1,2,3-----99   Y=100\n",
        "\t\tdataX.append(a)\n",
        "\t\tdataY.append(dataset[i + time_step, 0])\n",
        "\treturn numpy.array(dataX), numpy.array(dataY)"
      ],
      "metadata": {
        "id": "SJAacrf9U3jd"
      },
      "execution_count": null,
      "outputs": []
    },
    {
      "cell_type": "code",
      "source": [
        "#6. Reshape into X=t,t+1,t+2..t+99 and Y=t+100\n",
        "\n",
        "time_step = 100\n",
        "X_train, y_train = create_dataset(train_data, time_step)\n",
        "X_test, ytest = create_dataset(test_data, time_step)"
      ],
      "metadata": {
        "id": "d4mtJPq3U3jd"
      },
      "execution_count": null,
      "outputs": []
    },
    {
      "cell_type": "code",
      "source": [
        "# 7. Reshape input to be [samples, time steps, features] which is required for LSTM\n",
        "X_train =X_train.reshape(X_train.shape[0],X_train.shape[1] , 1)\n",
        "X_test = X_test.reshape(X_test.shape[0],X_test.shape[1] , 1)"
      ],
      "metadata": {
        "id": "3Gn_f0o7U3jd"
      },
      "execution_count": null,
      "outputs": []
    },
    {
      "cell_type": "code",
      "source": [
        "# 8. Define LSTM Model\n",
        "\n",
        "model = Sequential()\n",
        "model.add(SimpleRNN(50, input_shape=(time_step, 1)))\n",
        "model.add(Dense(1))\n",
        "model.compile(loss='mean_squared_error',optimizer='adam')"
      ],
      "metadata": {
        "id": "OETLSs1AU3jd"
      },
      "execution_count": null,
      "outputs": []
    },
    {
      "cell_type": "code",
      "source": [
        "# 9. Fit mô hình với dữ liệu train\n",
        "model.fit(X_train,y_train,validation_data=(X_test,ytest),epochs=100,batch_size=64,verbose=1)"
      ],
      "metadata": {
        "id": "0xekUKqvU3jd"
      },
      "execution_count": null,
      "outputs": []
    },
    {
      "cell_type": "code",
      "source": [
        "# 10. Dự báo dữ liệu test, val\n",
        "train_predict=model.predict(X_train)\n",
        "y_pred=model.predict(X_test)"
      ],
      "metadata": {
        "id": "UpfdpdWbU3je"
      },
      "execution_count": null,
      "outputs": []
    },
    {
      "cell_type": "code",
      "source": [
        "# 11. Chuẩn hóa dữ liệu y_pred, y_pred_val\n",
        "train_predict = scaler.inverse_transform(train_predict)\n",
        "y_pred = scaler.inverse_transform(y_pred.reshape(-1, 1))\n",
        "ytest = scaler.inverse_transform(ytest.reshape(-1, 1))"
      ],
      "metadata": {
        "id": "LT6gCqbZU3je"
      },
      "execution_count": null,
      "outputs": []
    },
    {
      "cell_type": "code",
      "source": [
        "# 12. Đánh giá độ chính xác thuật toán bằng RMSE\n",
        "from sklearn.metrics import mean_absolute_error, mean_absolute_percentage_error\n",
        "\n",
        "test_rmse = np.sqrt(np.mean((y_pred - ytest)**2))\n",
        "test_mape = mean_absolute_percentage_error(ytest, y_pred)\n",
        "test_mae = mean_absolute_error(ytest, y_pred)\n",
        "\n",
        "print('Testing RMSE:', test_rmse)\n",
        "print('Testing MAPE:', test_mape)\n",
        "print('Testing MAE:', test_mae)"
      ],
      "metadata": {
        "colab": {
          "base_uri": "https://localhost:8080/"
        },
        "id": "hZhThyybU3je",
        "outputId": "b4c6048b-b5fe-4837-b790-ebd10534c81e"
      },
      "execution_count": 98,
      "outputs": [
        {
          "output_type": "stream",
          "name": "stdout",
          "text": [
            "Testing RMSE: 1069.2222431262585\n",
            "Testing MAPE: 0.021623900825766578\n",
            "Testing MAE: 775.5718619791667\n"
          ]
        }
      ]
    },
    {
      "cell_type": "code",
      "source": [
        "# 13. Dự báo 30, 60, 90 ngày tiếp theo\n",
        "def predict_future(model, data, time_step, future_days):\n",
        "    x_input = data[-time_step:].reshape(1, -1)\n",
        "    temp_input = x_input[0].tolist()\n",
        "    lst_output = []\n",
        "    i = 0\n",
        "    while i < future_days:\n",
        "        if len(temp_input) > time_step:\n",
        "            x_input = np.array(temp_input[-time_step:])\n",
        "            x_input = x_input.reshape((1, time_step, 1))\n",
        "            yhat = model.predict(x_input, verbose=0)\n",
        "            temp_input.extend(yhat[0].tolist())\n",
        "            temp_input = temp_input[1:]\n",
        "            lst_output.extend(yhat.tolist())\n",
        "            i += 1\n",
        "        else:\n",
        "            x_input = np.array(temp_input).reshape((1, time_step, 1))\n",
        "            yhat = model.predict(x_input, verbose=0)\n",
        "            temp_input.extend(yhat[0].tolist())\n",
        "            lst_output.extend(yhat.tolist())\n",
        "            i += 1\n",
        "    return lst_output\n",
        "\n",
        "n_steps = 100\n",
        "\n",
        "pred_30_days = predict_future(model, test_data, n_steps, 30)\n",
        "pred_60_days = predict_future(model, test_data, n_steps, 60)\n",
        "pred_90_days = predict_future(model, test_data, n_steps, 90)\n",
        "\n",
        "pred_30_days = scaler.inverse_transform(np.array(pred_30_days).reshape(-1, 1))\n",
        "pred_60_days = scaler.inverse_transform(np.array(pred_60_days).reshape(-1, 1))\n",
        "pred_90_days = scaler.inverse_transform(np.array(pred_90_days).reshape(-1, 1))"
      ],
      "metadata": {
        "id": "09E-X5vpU3je"
      },
      "execution_count": null,
      "outputs": []
    },
    {
      "cell_type": "code",
      "source": [
        "# 14. Vẽ hình\n",
        "plt.figure(figsize=(14, 8))\n",
        "dates = pd.to_datetime(df['Date'])\n",
        "\n",
        "plt.plot(dates[:train_size], scaler.inverse_transform(train_data), label='Train')\n",
        "plt.plot(dates[train_size:], scaler.inverse_transform(test_data), label='Test')\n",
        "predicted_test_index_start = train_size + time_step\n",
        "plt.plot(dates[predicted_test_index_start:predicted_test_index_start + len(y_pred)], y_pred, label='Predict')\n",
        "\n",
        "last_date = dates.iloc[-1]\n",
        "\n",
        "future_dates_30 = pd.date_range(start=last_date + pd.Timedelta(days=1), periods=30)\n",
        "future_30_with_last = np.concatenate((scaler.inverse_transform(test_data[-1].reshape(-1, 1)), pred_30_days), axis=0)\n",
        "future_dates_60 = pd.date_range(start=last_date + pd.Timedelta(days=1), periods=61)\n",
        "future_60_with_last = np.concatenate((scaler.inverse_transform(test_data[-1].reshape(-1, 1)), pred_60_days), axis=0)\n",
        "future_dates_90 = pd.date_range(start=last_date + pd.Timedelta(days=1), periods=91)\n",
        "future_90_with_last = np.concatenate((scaler.inverse_transform(test_data[-1].reshape(-1, 1)), pred_90_days), axis=0)\n",
        "\n",
        "# Vẽ 90 ngày\n",
        "plt.plot(future_dates_90, future_90_with_last[:len(future_dates_90)], label='90 Days Prediction', color='purple')\n",
        "\n",
        "# Vẽ 60 ngày\n",
        "plt.plot(future_dates_60, future_60_with_last[:len(future_dates_60)], label='60 Days Prediction', color='yellow')\n",
        "\n",
        "# Vẽ 30 ngày\n",
        "plt.plot(future_dates_30, future_30_with_last[:len(future_dates_30)], label='30 Days Prediction', color='red')\n",
        "\n",
        "plt.legend()\n",
        "plt.title('Stock Price Prediction')\n",
        "plt.xlabel('Date')\n",
        "plt.ylabel('Stock Price')\n",
        "plt.show()"
      ],
      "metadata": {
        "id": "OWiLsUldU3je"
      },
      "execution_count": null,
      "outputs": []
    },
    {
      "cell_type": "markdown",
      "source": [
        "## Ratio 7:3"
      ],
      "metadata": {
        "id": "4-8xyvhxU3je"
      }
    },
    {
      "cell_type": "code",
      "source": [
        "# 4. Chia train test\n",
        "train_size = int(0.7 * len(df1))\n",
        "test_size = len(df1) - train_size\n",
        "\n",
        "train_data = df1[:train_size]\n",
        "test_data = df1[train_size:]"
      ],
      "metadata": {
        "id": "itWNaruMU3je"
      },
      "execution_count": null,
      "outputs": []
    },
    {
      "cell_type": "code",
      "source": [
        "# 5. Hàm Create Dataset\n",
        "import numpy\n",
        "# convert an array of values into a dataset matrix\n",
        "def create_dataset(dataset, time_step=1):\n",
        "\tdataX, dataY = [], []\n",
        "\tfor i in range(len(dataset)-time_step-1):\n",
        "\t\ta = dataset[i:(i+time_step), 0]   ###i=0, X=0,1,2,3-----99   Y=100\n",
        "\t\tdataX.append(a)\n",
        "\t\tdataY.append(dataset[i + time_step, 0])\n",
        "\treturn numpy.array(dataX), numpy.array(dataY)"
      ],
      "metadata": {
        "id": "R8LakoPEU3je"
      },
      "execution_count": null,
      "outputs": []
    },
    {
      "cell_type": "code",
      "source": [
        "#6. Reshape into X=t,t+1,t+2..t+99 and Y=t+100\n",
        "\n",
        "time_step = 100\n",
        "X_train, y_train = create_dataset(train_data, time_step)\n",
        "X_test, ytest = create_dataset(test_data, time_step)"
      ],
      "metadata": {
        "id": "RKtLjLafU3jf"
      },
      "execution_count": null,
      "outputs": []
    },
    {
      "cell_type": "code",
      "source": [
        "# 7. Reshape input to be [samples, time steps, features] which is required for LSTM\n",
        "X_train =X_train.reshape(X_train.shape[0],X_train.shape[1] , 1)\n",
        "X_test = X_test.reshape(X_test.shape[0],X_test.shape[1] , 1)"
      ],
      "metadata": {
        "id": "Dob5wbZbU3jf"
      },
      "execution_count": null,
      "outputs": []
    },
    {
      "cell_type": "code",
      "source": [
        "# 8. Define LSTM Model\n",
        "\n",
        "model = Sequential()\n",
        "model.add(SimpleRNN(50, input_shape=(time_step, 1)))\n",
        "model.add(Dense(1))\n",
        "model.compile(loss='mean_squared_error',optimizer='adam')"
      ],
      "metadata": {
        "id": "PogeDbj_U3jf"
      },
      "execution_count": null,
      "outputs": []
    },
    {
      "cell_type": "code",
      "source": [
        "# 9. Fit mô hình với dữ liệu train\n",
        "model.fit(X_train,y_train,validation_data=(X_test,ytest),epochs=100,batch_size=64,verbose=1)"
      ],
      "metadata": {
        "id": "GU-EsHaDU3jf"
      },
      "execution_count": null,
      "outputs": []
    },
    {
      "cell_type": "code",
      "source": [
        "# 10. Dự báo dữ liệu test, val\n",
        "train_predict=model.predict(X_train)\n",
        "y_pred=model.predict(X_test)"
      ],
      "metadata": {
        "id": "d9J_FxIdU3jf"
      },
      "execution_count": null,
      "outputs": []
    },
    {
      "cell_type": "code",
      "source": [
        "# 11. Chuẩn hóa dữ liệu y_pred, y_pred_val\n",
        "train_predict = scaler.inverse_transform(train_predict)\n",
        "y_pred = scaler.inverse_transform(y_pred.reshape(-1, 1))\n",
        "ytest = scaler.inverse_transform(ytest.reshape(-1, 1))"
      ],
      "metadata": {
        "id": "zAlzKLJVU3jf"
      },
      "execution_count": null,
      "outputs": []
    },
    {
      "cell_type": "code",
      "source": [
        "# 12. Đánh giá độ chính xác thuật toán bằng RMSE\n",
        "from sklearn.metrics import mean_absolute_error, mean_absolute_percentage_error\n",
        "\n",
        "test_rmse = np.sqrt(np.mean((y_pred - ytest)**2))\n",
        "test_mape = mean_absolute_percentage_error(ytest, y_pred)\n",
        "test_mae = mean_absolute_error(ytest, y_pred)\n",
        "\n",
        "print('Testing RMSE:', test_rmse)\n",
        "print('Testing MAPE:', test_mape)\n",
        "print('Testing MAE:', test_mae)"
      ],
      "metadata": {
        "id": "CKOay1EmU3jf"
      },
      "execution_count": null,
      "outputs": []
    },
    {
      "cell_type": "code",
      "source": [
        "# 13. Dự báo 30, 60, 90 ngày tiếp theo\n",
        "def predict_future(model, data, time_step, future_days):\n",
        "    x_input = data[-time_step:].reshape(1, -1)\n",
        "    temp_input = x_input[0].tolist()\n",
        "    lst_output = []\n",
        "    i = 0\n",
        "    while i < future_days:\n",
        "        if len(temp_input) > time_step:\n",
        "            x_input = np.array(temp_input[-time_step:])\n",
        "            x_input = x_input.reshape((1, time_step, 1))\n",
        "            yhat = model.predict(x_input, verbose=0)\n",
        "            temp_input.extend(yhat[0].tolist())\n",
        "            temp_input = temp_input[1:]\n",
        "            lst_output.extend(yhat.tolist())\n",
        "            i += 1\n",
        "        else:\n",
        "            x_input = np.array(temp_input).reshape((1, time_step, 1))\n",
        "            yhat = model.predict(x_input, verbose=0)\n",
        "            temp_input.extend(yhat[0].tolist())\n",
        "            lst_output.extend(yhat.tolist())\n",
        "            i += 1\n",
        "    return lst_output\n",
        "\n",
        "n_steps = 100\n",
        "\n",
        "pred_30_days = predict_future(model, test_data, n_steps, 30)\n",
        "pred_60_days = predict_future(model, test_data, n_steps, 60)\n",
        "pred_90_days = predict_future(model, test_data, n_steps, 90)\n",
        "\n",
        "pred_30_days = scaler.inverse_transform(np.array(pred_30_days).reshape(-1, 1))\n",
        "pred_60_days = scaler.inverse_transform(np.array(pred_60_days).reshape(-1, 1))\n",
        "pred_90_days = scaler.inverse_transform(np.array(pred_90_days).reshape(-1, 1))"
      ],
      "metadata": {
        "id": "-6iPzUOsU3jf"
      },
      "execution_count": 110,
      "outputs": []
    },
    {
      "cell_type": "code",
      "source": [
        "# 14. Vẽ hình\n",
        "plt.figure(figsize=(14, 8))\n",
        "dates = pd.to_datetime(df['Date'])\n",
        "\n",
        "plt.plot(dates[:train_size], scaler.inverse_transform(train_data), label='Train')\n",
        "plt.plot(dates[train_size:], scaler.inverse_transform(test_data), label='Test')\n",
        "predicted_test_index_start = train_size + time_step\n",
        "plt.plot(dates[predicted_test_index_start:predicted_test_index_start + len(y_pred)], y_pred, label='Predict')\n",
        "\n",
        "last_date = dates.iloc[-1]\n",
        "\n",
        "future_dates_30 = pd.date_range(start=last_date + pd.Timedelta(days=1), periods=30)\n",
        "future_30_with_last = np.concatenate((scaler.inverse_transform(test_data[-1].reshape(-1, 1)), pred_30_days), axis=0)\n",
        "future_dates_60 = pd.date_range(start=last_date + pd.Timedelta(days=1), periods=61)\n",
        "future_60_with_last = np.concatenate((scaler.inverse_transform(test_data[-1].reshape(-1, 1)), pred_60_days), axis=0)\n",
        "future_dates_90 = pd.date_range(start=last_date + pd.Timedelta(days=1), periods=91)\n",
        "future_90_with_last = np.concatenate((scaler.inverse_transform(test_data[-1].reshape(-1, 1)), pred_90_days), axis=0)\n",
        "\n",
        "# Vẽ 90 ngày\n",
        "plt.plot(future_dates_90, future_90_with_last[:len(future_dates_90)], label='90 Days Prediction', color='purple')\n",
        "\n",
        "# Vẽ 60 ngày\n",
        "plt.plot(future_dates_60, future_60_with_last[:len(future_dates_60)], label='60 Days Prediction', color='yellow')\n",
        "\n",
        "# Vẽ 30 ngày\n",
        "plt.plot(future_dates_30, future_30_with_last[:len(future_dates_30)], label='30 Days Prediction', color='red')\n",
        "\n",
        "plt.legend()\n",
        "plt.title('Stock Price Prediction')\n",
        "plt.xlabel('Date')\n",
        "plt.ylabel('Stock Price')\n",
        "plt.show()"
      ],
      "metadata": {
        "colab": {
          "base_uri": "https://localhost:8080/",
          "height": 717
        },
        "id": "4gdKcCBZU3jf",
        "outputId": "aa5db1ca-bfa8-435f-f1a5-6ea113e1135f"
      },
      "execution_count": 111,
      "outputs": [
        {
          "data": {
            "image/png": "[encoded data removed]",
            "text/plain": [
              "<Figure size 1400x800 with 1 Axes>"
            ]
          },
          "metadata": {},
          "output_type": "display_data"
        }
      ]
    }
  ],
  "metadata": {
    "colab": {
      "provenance": []
    },
    "kernelspec": {
      "display_name": "Python 3",
      "name": "python3"
    },
    "language_info": {
      "name": "python"
    }
  },
  "nbformat": 4,
  "nbformat_minor": 0
}