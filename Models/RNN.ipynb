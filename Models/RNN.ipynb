{
  "cells": [
    {
      "cell_type": "markdown",
      "source": [
        "# 1. VHM Dataset"
      ],
      "metadata": {
        "id": "Zu4eQtbtjGVX"
      }
    },
    {
      "cell_type": "code",
      "source": [
        "# 1. Import thư viện cần thiết\n",
        "from google.colab import drive\n",
        "drive.mount('/content/drive')\n",
        "import numpy as np\n",
        "import pandas as pd\n",
        "import matplotlib.pyplot as plt\n",
        "from sklearn.preprocessing import MinMaxScaler\n",
        "from keras.models import Sequential\n",
        "from keras.layers import Dense, SimpleRNN"
      ],
      "metadata": {
        "colab": {
          "base_uri": "https://localhost:8080/"
        },
        "id": "FMDKda-XIUAK",
        "outputId": "0290274d-0215-493d-d99c-c298dbd368ad"
      },
      "execution_count": 17,
      "outputs": [
        {
          "output_type": "stream",
          "name": "stdout",
          "text": [
            "Drive already mounted at /content/drive; to attempt to forcibly remount, call drive.mount(\"/content/drive\", force_remount=True).\n"
          ]
        }
      ]
    },
    {
      "cell_type": "code",
      "source": [
        "# 2. Đọc file csv và gắn index với giá Close\n",
        "df = pd.read_csv('1-VHM Historical Data.csv')\n",
        "df_reversed = df.iloc[::-1].reset_index(drop=True)\n",
        "df1 = df_reversed['Price']\n",
        "# Remove commas and convert to float\n",
        "df1 = df1.str.replace(',', '').astype(float)\n",
        "df1"
      ],
      "metadata": {
        "id": "aRm9GQ8KJJ5N",
        "colab": {
          "base_uri": "https://localhost:8080/"
        },
        "outputId": "ebea37e9-74df-47d0-d870-10ce013f323d"
      },
      "execution_count": 18,
      "outputs": [
        {
          "output_type": "execute_result",
          "data": {
            "text/plain": [
              "0       68421.0\n",
              "1       70075.0\n",
              "2       68421.0\n",
              "3       69022.0\n",
              "4       69173.0\n",
              "         ...   \n",
              "1247    43350.0\n",
              "1248    44200.0\n",
              "1249    44400.0\n",
              "1250    43400.0\n",
              "1251    43950.0\n",
              "Name: Price, Length: 1252, dtype: float64"
            ]
          },
          "metadata": {},
          "execution_count": 18
        }
      ]
    },
    {
      "cell_type": "code",
      "source": [
        "# 3. Scaler data\n",
        "scaler=MinMaxScaler(feature_range=(0,1))\n",
        "df1=scaler.fit_transform(np.array(df1).reshape(-1,1))"
      ],
      "metadata": {
        "id": "RdVpDho2JgL5"
      },
      "execution_count": 19,
      "outputs": []
    },
    {
      "cell_type": "code",
      "source": [
        "# 4. Chia train test\n",
        "train_size = int(0.7 * len(df1))\n",
        "test_size = int(0.2 * len(df1))\n",
        "val_size = len(df1) - train_size - test_size\n",
        "\n",
        "train_data = df1[:train_size]\n",
        "test_data = df1[train_size:train_size+test_size]\n",
        "val_data = df1[train_size+test_size:]"
      ],
      "metadata": {
        "id": "B5JXpenzJoR3"
      },
      "execution_count": 20,
      "outputs": []
    },
    {
      "cell_type": "code",
      "source": [
        "# 5. Hàm Create Dataset\n",
        "import numpy\n",
        "# convert an array of values into a dataset matrix\n",
        "def create_dataset(dataset, time_step=1):\n",
        "\tdataX, dataY = [], []\n",
        "\tfor i in range(len(dataset)-time_step-1):\n",
        "\t\ta = dataset[i:(i+time_step), 0]   ###i=0, X=0,1,2,3-----99   Y=100\n",
        "\t\tdataX.append(a)\n",
        "\t\tdataY.append(dataset[i + time_step, 0])\n",
        "\treturn numpy.array(dataX), numpy.array(dataY)"
      ],
      "metadata": {
        "id": "yJfmuBORLSfC"
      },
      "execution_count": 21,
      "outputs": []
    },
    {
      "cell_type": "code",
      "source": [
        "#6. Reshape into X=t,t+1,t+2..t+99 and Y=t+100\n",
        "\n",
        "time_step = 100\n",
        "X_train, y_train = create_dataset(train_data, time_step)\n",
        "X_val, yval = create_dataset(val_data, time_step)\n",
        "X_test, ytest = create_dataset(test_data, time_step)"
      ],
      "metadata": {
        "id": "e81cKq03LXFB"
      },
      "execution_count": 22,
      "outputs": []
    },
    {
      "cell_type": "code",
      "source": [
        "# 7. Reshape input to be [samples, time steps, features] which is required for LSTM\n",
        "X_train =X_train.reshape(X_train.shape[0],X_train.shape[1] , 1)\n",
        "X_test = X_test.reshape(X_test.shape[0],X_test.shape[1] , 1)\n",
        "X_val = X_val.reshape(X_val.shape[0],X_val.shape[1] , 1)"
      ],
      "metadata": {
        "id": "RdBVfku7O2qb"
      },
      "execution_count": 23,
      "outputs": []
    },
    {
      "cell_type": "code",
      "source": [
        "# 8. Define LSTM Model\n",
        "\n",
        "model = Sequential()\n",
        "model.add(SimpleRNN(50, input_shape=(time_step, 1)))\n",
        "model.add(Dense(1))\n",
        "model.compile(loss='mean_squared_error',optimizer='adam')"
      ],
      "metadata": {
        "id": "sSfxrE7BO9vX"
      },
      "execution_count": 24,
      "outputs": []
    },
    {
      "cell_type": "code",
      "source": [
        "# 9. Fit mô hình với dữ liệu train\n",
        "model.fit(X_train,y_train,validation_data=(X_test,ytest),epochs=100,batch_size=64,verbose=1)"
      ],
      "metadata": {
        "colab": {
          "base_uri": "https://localhost:8080/"
        },
        "id": "zgfeujZSPEKr",
        "outputId": "7572bd25-709b-4d3f-811b-21db1f058b74"
      },
      "execution_count": 25,
      "outputs": [
        {
          "output_type": "stream",
          "name": "stdout",
          "text": [
            "Epoch 1/100\n",
            "13/13 [==============================] - 2s 40ms/step - loss: 0.0872 - val_loss: 0.0024\n",
            "Epoch 2/100\n",
            "13/13 [==============================] - 0s 22ms/step - loss: 0.0140 - val_loss: 0.0107\n",
            "Epoch 3/100\n",
            "13/13 [==============================] - 0s 28ms/step - loss: 0.0048 - val_loss: 0.0043\n",
            "Epoch 4/100\n",
            "13/13 [==============================] - 0s 23ms/step - loss: 0.0031 - val_loss: 0.0036\n",
            "Epoch 5/100\n",
            "13/13 [==============================] - 0s 22ms/step - loss: 0.0026 - val_loss: 0.0031\n",
            "Epoch 6/100\n",
            "13/13 [==============================] - 0s 20ms/step - loss: 0.0024 - val_loss: 0.0030\n",
            "Epoch 7/100\n",
            "13/13 [==============================] - 0s 20ms/step - loss: 0.0022 - val_loss: 0.0029\n",
            "Epoch 8/100\n",
            "13/13 [==============================] - 0s 23ms/step - loss: 0.0022 - val_loss: 0.0027\n",
            "Epoch 9/100\n",
            "13/13 [==============================] - 0s 21ms/step - loss: 0.0020 - val_loss: 0.0027\n",
            "Epoch 10/100\n",
            "13/13 [==============================] - 0s 21ms/step - loss: 0.0020 - val_loss: 0.0025\n",
            "Epoch 11/100\n",
            "13/13 [==============================] - 0s 20ms/step - loss: 0.0019 - val_loss: 0.0025\n",
            "Epoch 12/100\n",
            "13/13 [==============================] - 0s 23ms/step - loss: 0.0019 - val_loss: 0.0024\n",
            "Epoch 13/100\n",
            "13/13 [==============================] - 0s 22ms/step - loss: 0.0018 - val_loss: 0.0025\n",
            "Epoch 14/100\n",
            "13/13 [==============================] - 0s 24ms/step - loss: 0.0018 - val_loss: 0.0022\n",
            "Epoch 15/100\n",
            "13/13 [==============================] - 0s 23ms/step - loss: 0.0018 - val_loss: 0.0021\n",
            "Epoch 16/100\n",
            "13/13 [==============================] - 0s 22ms/step - loss: 0.0018 - val_loss: 0.0020\n",
            "Epoch 17/100\n",
            "13/13 [==============================] - 0s 24ms/step - loss: 0.0017 - val_loss: 0.0019\n",
            "Epoch 18/100\n",
            "13/13 [==============================] - 0s 23ms/step - loss: 0.0017 - val_loss: 0.0019\n",
            "Epoch 19/100\n",
            "13/13 [==============================] - 0s 23ms/step - loss: 0.0017 - val_loss: 0.0021\n",
            "Epoch 20/100\n",
            "13/13 [==============================] - 1s 44ms/step - loss: 0.0016 - val_loss: 0.0019\n",
            "Epoch 21/100\n",
            "13/13 [==============================] - 1s 41ms/step - loss: 0.0017 - val_loss: 0.0018\n",
            "Epoch 22/100\n",
            "13/13 [==============================] - 0s 36ms/step - loss: 0.0017 - val_loss: 0.0018\n",
            "Epoch 23/100\n",
            "13/13 [==============================] - 0s 37ms/step - loss: 0.0018 - val_loss: 0.0017\n",
            "Epoch 24/100\n",
            "13/13 [==============================] - 0s 36ms/step - loss: 0.0015 - val_loss: 0.0018\n",
            "Epoch 25/100\n",
            "13/13 [==============================] - 0s 36ms/step - loss: 0.0016 - val_loss: 0.0018\n",
            "Epoch 26/100\n",
            "13/13 [==============================] - 1s 39ms/step - loss: 0.0016 - val_loss: 0.0016\n",
            "Epoch 27/100\n",
            "13/13 [==============================] - 1s 41ms/step - loss: 0.0015 - val_loss: 0.0017\n",
            "Epoch 28/100\n",
            "13/13 [==============================] - 0s 38ms/step - loss: 0.0015 - val_loss: 0.0017\n",
            "Epoch 29/100\n",
            "13/13 [==============================] - 0s 36ms/step - loss: 0.0014 - val_loss: 0.0016\n",
            "Epoch 30/100\n",
            "13/13 [==============================] - 0s 23ms/step - loss: 0.0014 - val_loss: 0.0017\n",
            "Epoch 31/100\n",
            "13/13 [==============================] - 0s 24ms/step - loss: 0.0014 - val_loss: 0.0016\n",
            "Epoch 32/100\n",
            "13/13 [==============================] - 0s 22ms/step - loss: 0.0014 - val_loss: 0.0015\n",
            "Epoch 33/100\n",
            "13/13 [==============================] - 0s 21ms/step - loss: 0.0014 - val_loss: 0.0015\n",
            "Epoch 34/100\n",
            "13/13 [==============================] - 0s 20ms/step - loss: 0.0013 - val_loss: 0.0015\n",
            "Epoch 35/100\n",
            "13/13 [==============================] - 0s 21ms/step - loss: 0.0013 - val_loss: 0.0017\n",
            "Epoch 36/100\n",
            "13/13 [==============================] - 0s 20ms/step - loss: 0.0014 - val_loss: 0.0015\n",
            "Epoch 37/100\n",
            "13/13 [==============================] - 0s 20ms/step - loss: 0.0014 - val_loss: 0.0014\n",
            "Epoch 38/100\n",
            "13/13 [==============================] - 0s 20ms/step - loss: 0.0015 - val_loss: 0.0021\n",
            "Epoch 39/100\n",
            "13/13 [==============================] - 0s 21ms/step - loss: 0.0015 - val_loss: 0.0019\n",
            "Epoch 40/100\n",
            "13/13 [==============================] - 0s 19ms/step - loss: 0.0014 - val_loss: 0.0014\n",
            "Epoch 41/100\n",
            "13/13 [==============================] - 0s 20ms/step - loss: 0.0013 - val_loss: 0.0015\n",
            "Epoch 42/100\n",
            "13/13 [==============================] - 0s 20ms/step - loss: 0.0013 - val_loss: 0.0016\n",
            "Epoch 43/100\n",
            "13/13 [==============================] - 0s 21ms/step - loss: 0.0013 - val_loss: 0.0014\n",
            "Epoch 44/100\n",
            "13/13 [==============================] - 0s 20ms/step - loss: 0.0012 - val_loss: 0.0013\n",
            "Epoch 45/100\n",
            "13/13 [==============================] - 0s 20ms/step - loss: 0.0012 - val_loss: 0.0017\n",
            "Epoch 46/100\n",
            "13/13 [==============================] - 0s 20ms/step - loss: 0.0013 - val_loss: 0.0014\n",
            "Epoch 47/100\n",
            "13/13 [==============================] - 0s 20ms/step - loss: 0.0012 - val_loss: 0.0014\n",
            "Epoch 48/100\n",
            "13/13 [==============================] - 0s 20ms/step - loss: 0.0012 - val_loss: 0.0014\n",
            "Epoch 49/100\n",
            "13/13 [==============================] - 0s 22ms/step - loss: 0.0012 - val_loss: 0.0014\n",
            "Epoch 50/100\n",
            "13/13 [==============================] - 0s 22ms/step - loss: 0.0012 - val_loss: 0.0012\n",
            "Epoch 51/100\n",
            "13/13 [==============================] - 0s 22ms/step - loss: 0.0012 - val_loss: 0.0013\n",
            "Epoch 52/100\n",
            "13/13 [==============================] - 0s 20ms/step - loss: 0.0012 - val_loss: 0.0016\n",
            "Epoch 53/100\n",
            "13/13 [==============================] - 0s 20ms/step - loss: 0.0012 - val_loss: 0.0014\n",
            "Epoch 54/100\n",
            "13/13 [==============================] - 0s 21ms/step - loss: 0.0012 - val_loss: 0.0012\n",
            "Epoch 55/100\n",
            "13/13 [==============================] - 0s 19ms/step - loss: 0.0011 - val_loss: 0.0014\n",
            "Epoch 56/100\n",
            "13/13 [==============================] - 0s 19ms/step - loss: 0.0012 - val_loss: 0.0012\n",
            "Epoch 57/100\n",
            "13/13 [==============================] - 0s 20ms/step - loss: 0.0011 - val_loss: 0.0013\n",
            "Epoch 58/100\n",
            "13/13 [==============================] - 0s 21ms/step - loss: 0.0011 - val_loss: 0.0017\n",
            "Epoch 59/100\n",
            "13/13 [==============================] - 0s 20ms/step - loss: 0.0013 - val_loss: 0.0017\n",
            "Epoch 60/100\n",
            "13/13 [==============================] - 0s 22ms/step - loss: 0.0011 - val_loss: 0.0015\n",
            "Epoch 61/100\n",
            "13/13 [==============================] - 0s 22ms/step - loss: 0.0011 - val_loss: 0.0015\n",
            "Epoch 62/100\n",
            "13/13 [==============================] - 0s 23ms/step - loss: 0.0011 - val_loss: 0.0015\n",
            "Epoch 63/100\n",
            "13/13 [==============================] - 0s 22ms/step - loss: 0.0011 - val_loss: 0.0012\n",
            "Epoch 64/100\n",
            "13/13 [==============================] - 0s 23ms/step - loss: 0.0011 - val_loss: 0.0016\n",
            "Epoch 65/100\n",
            "13/13 [==============================] - 0s 23ms/step - loss: 0.0011 - val_loss: 0.0016\n",
            "Epoch 66/100\n",
            "13/13 [==============================] - 0s 37ms/step - loss: 0.0011 - val_loss: 0.0012\n",
            "Epoch 67/100\n",
            "13/13 [==============================] - 1s 39ms/step - loss: 0.0011 - val_loss: 0.0013\n",
            "Epoch 68/100\n",
            "13/13 [==============================] - 1s 39ms/step - loss: 0.0010 - val_loss: 0.0011\n",
            "Epoch 69/100\n",
            "13/13 [==============================] - 1s 42ms/step - loss: 0.0010 - val_loss: 0.0015\n",
            "Epoch 70/100\n",
            "13/13 [==============================] - 1s 41ms/step - loss: 0.0010 - val_loss: 0.0013\n",
            "Epoch 71/100\n",
            "13/13 [==============================] - 1s 40ms/step - loss: 0.0010 - val_loss: 0.0015\n",
            "Epoch 72/100\n",
            "13/13 [==============================] - 1s 42ms/step - loss: 0.0011 - val_loss: 0.0013\n",
            "Epoch 73/100\n",
            "13/13 [==============================] - 1s 40ms/step - loss: 0.0010 - val_loss: 0.0017\n",
            "Epoch 74/100\n",
            "13/13 [==============================] - 1s 42ms/step - loss: 0.0011 - val_loss: 0.0013\n",
            "Epoch 75/100\n",
            "13/13 [==============================] - 0s 20ms/step - loss: 0.0010 - val_loss: 0.0014\n",
            "Epoch 76/100\n",
            "13/13 [==============================] - 0s 20ms/step - loss: 9.8071e-04 - val_loss: 0.0013\n",
            "Epoch 77/100\n",
            "13/13 [==============================] - 0s 21ms/step - loss: 0.0010 - val_loss: 0.0018\n",
            "Epoch 78/100\n",
            "13/13 [==============================] - 0s 20ms/step - loss: 0.0011 - val_loss: 0.0012\n",
            "Epoch 79/100\n",
            "13/13 [==============================] - 0s 19ms/step - loss: 0.0010 - val_loss: 0.0018\n",
            "Epoch 80/100\n",
            "13/13 [==============================] - 0s 21ms/step - loss: 0.0010 - val_loss: 0.0014\n",
            "Epoch 81/100\n",
            "13/13 [==============================] - 0s 24ms/step - loss: 9.4654e-04 - val_loss: 0.0013\n",
            "Epoch 82/100\n",
            "13/13 [==============================] - 0s 21ms/step - loss: 9.4039e-04 - val_loss: 0.0015\n",
            "Epoch 83/100\n",
            "13/13 [==============================] - 0s 22ms/step - loss: 0.0010 - val_loss: 0.0012\n",
            "Epoch 84/100\n",
            "13/13 [==============================] - 0s 23ms/step - loss: 9.5434e-04 - val_loss: 0.0012\n",
            "Epoch 85/100\n",
            "13/13 [==============================] - 0s 19ms/step - loss: 9.4321e-04 - val_loss: 0.0013\n",
            "Epoch 86/100\n",
            "13/13 [==============================] - 0s 20ms/step - loss: 9.4892e-04 - val_loss: 0.0010\n",
            "Epoch 87/100\n",
            "13/13 [==============================] - 0s 20ms/step - loss: 9.7131e-04 - val_loss: 0.0012\n",
            "Epoch 88/100\n",
            "13/13 [==============================] - 0s 23ms/step - loss: 9.5967e-04 - val_loss: 0.0013\n",
            "Epoch 89/100\n",
            "13/13 [==============================] - 0s 22ms/step - loss: 9.4609e-04 - val_loss: 0.0010\n",
            "Epoch 90/100\n",
            "13/13 [==============================] - 0s 22ms/step - loss: 0.0011 - val_loss: 0.0015\n",
            "Epoch 91/100\n",
            "13/13 [==============================] - 0s 25ms/step - loss: 9.4704e-04 - val_loss: 0.0010\n",
            "Epoch 92/100\n",
            "13/13 [==============================] - 0s 21ms/step - loss: 0.0012 - val_loss: 0.0016\n",
            "Epoch 93/100\n",
            "13/13 [==============================] - 0s 22ms/step - loss: 9.1657e-04 - val_loss: 0.0013\n",
            "Epoch 94/100\n",
            "13/13 [==============================] - 0s 22ms/step - loss: 8.9182e-04 - val_loss: 0.0011\n",
            "Epoch 95/100\n",
            "13/13 [==============================] - 0s 23ms/step - loss: 9.0218e-04 - val_loss: 0.0011\n",
            "Epoch 96/100\n",
            "13/13 [==============================] - 0s 20ms/step - loss: 8.7726e-04 - val_loss: 0.0010\n",
            "Epoch 97/100\n",
            "13/13 [==============================] - 0s 19ms/step - loss: 9.9083e-04 - val_loss: 0.0014\n",
            "Epoch 98/100\n",
            "13/13 [==============================] - 0s 19ms/step - loss: 0.0010 - val_loss: 0.0011\n",
            "Epoch 99/100\n",
            "13/13 [==============================] - 0s 23ms/step - loss: 8.6899e-04 - val_loss: 0.0012\n",
            "Epoch 100/100\n",
            "13/13 [==============================] - 0s 23ms/step - loss: 8.9439e-04 - val_loss: 0.0010\n"
          ]
        },
        {
          "output_type": "execute_result",
          "data": {
            "text/plain": [
              "<keras.src.callbacks.History at 0x78ef0a3c0250>"
            ]
          },
          "metadata": {},
          "execution_count": 25
        }
      ]
    },
    {
      "cell_type": "code",
      "source": [
        "# 10. Dự báo dữ liệu test, val\n",
        "train_predict=model.predict(X_train)\n",
        "y_pred=model.predict(X_test)\n",
        "y_pred_val=model.predict(X_val)"
      ],
      "metadata": {
        "colab": {
          "base_uri": "https://localhost:8080/"
        },
        "id": "Rxx_KQSkQpBG",
        "outputId": "bdc1ae1e-09bf-4125-a146-f9f18d3dde62"
      },
      "execution_count": 26,
      "outputs": [
        {
          "output_type": "stream",
          "name": "stdout",
          "text": [
            "25/25 [==============================] - 0s 6ms/step\n",
            "5/5 [==============================] - 0s 7ms/step\n",
            "1/1 [==============================] - 0s 26ms/step\n"
          ]
        }
      ]
    },
    {
      "cell_type": "code",
      "source": [
        "# 11. Chuẩn hóa dữ liệu y_pred, y_pred_val\n",
        "train_predict=scaler.inverse_transform(train_predict)\n",
        "y_pred=scaler.inverse_transform(y_pred)\n",
        "y_pred_val=scaler.inverse_transform(y_pred_val)"
      ],
      "metadata": {
        "id": "5rwTN10LQ7rj"
      },
      "execution_count": 27,
      "outputs": []
    },
    {
      "cell_type": "code",
      "source": [
        "# 12. Đánh giá độ chính xác thuật toán bằng RMSE\n",
        "valid_rmse = np.sqrt(np.mean((y_pred_val - yval)**2))\n",
        "test_rmse = np.sqrt(np.mean((y_pred - ytest)**2))\n",
        "print('Validation RMSE:', valid_rmse)\n",
        "print('Testing RMSE:', test_rmse)"
      ],
      "metadata": {
        "colab": {
          "base_uri": "https://localhost:8080/"
        },
        "id": "wu_9j94kRonD",
        "outputId": "62f4e20d-40e9-462f-bacf-31563e09ad73"
      },
      "execution_count": 28,
      "outputs": [
        {
          "output_type": "stream",
          "name": "stdout",
          "text": [
            "Validation RMSE: 44991.434934406105\n",
            "Testing RMSE: 52717.137213824826\n"
          ]
        }
      ]
    },
    {
      "cell_type": "code",
      "source": [
        "# 13. Dự báo 30 ngày tiếp theo\n",
        "x_input = val_data[-100:].reshape(1, -1)\n",
        "temp_input = x_input[0].tolist()\n",
        "\n",
        "from numpy import array\n",
        "\n",
        "lst_output=[]\n",
        "n_steps=100\n",
        "i=0\n",
        "while(i < 30):\n",
        "    if len(temp_input) > 100:\n",
        "        x_input = np.array(temp_input[-100:])  # Ensure the input is the last 100 steps\n",
        "        x_input = x_input.reshape((1, n_steps, 1))\n",
        "        yhat = model.predict(x_input, verbose=0)\n",
        "        temp_input.extend(yhat[0].tolist())\n",
        "        temp_input = temp_input[1:]  # Keep size consistent by removing the oldest element\n",
        "        lst_output.extend(yhat.tolist())\n",
        "        i += 1\n",
        "    else:\n",
        "        x_input = np.array(temp_input).reshape((1, n_steps, 1))\n",
        "        yhat = model.predict(x_input, verbose=0)\n",
        "        temp_input.extend(yhat[0].tolist())\n",
        "        lst_output.extend(yhat.tolist())\n",
        "        i += 1"
      ],
      "metadata": {
        "id": "izQZ1iQyYl6N"
      },
      "execution_count": 29,
      "outputs": []
    },
    {
      "cell_type": "code",
      "source": [
        "# 14.Vẽ hình\n",
        "\n",
        "train_data_index = pd.RangeIndex(start=0, stop=train_size, step=1)\n",
        "plt.plot(scaler.inverse_transform(train_data))\n",
        "test_data_index = pd.RangeIndex(start=train_size, stop=train_size+test_size, step=1)\n",
        "plt.plot(test_data_index,scaler.inverse_transform(test_data))\n",
        "test_data_index = pd.RangeIndex(start=train_size+101, stop=train_size+test_size, step=1)\n",
        "plt.plot(test_data_index,(y_pred))\n",
        "val_data_index = pd.RangeIndex(start=train_size+test_size, stop=train_size+test_size+val_size, step=1)\n",
        "plt.plot(val_data_index,scaler.inverse_transform(val_data))\n",
        "val_data_index = pd.RangeIndex(start=train_size+test_size+101, stop=train_size+test_size+val_size, step=1)\n",
        "plt.plot(val_data_index,y_pred_val)\n",
        "prediect_data_index = pd.RangeIndex(start=len(df1)-1, stop=len(df1)+29, step=1)\n",
        "plt.plot(prediect_data_index,scaler.inverse_transform(lst_output))\n",
        "plt.legend(['Train','Test','Predict','Validate','ValidatePred','Predict30days'])\n",
        "plt.show()"
      ],
      "metadata": {
        "colab": {
          "base_uri": "https://localhost:8080/",
          "height": 430
        },
        "id": "KSa_mX51a654",
        "outputId": "9042b5d4-5e83-42af-8525-6091304dbff1"
      },
      "execution_count": 30,
      "outputs": [
        {
          "output_type": "display_data",
          "data": {
            "text/plain": [
              "<Figure size 640x480 with 1 Axes>"
            ],
            "image/png": "[encoded data removed]"
          },
          "metadata": {}
        }
      ]
    },
    {
      "cell_type": "markdown",
      "source": [
        "# 2. NVL Dataset"
      ],
      "metadata": {
        "id": "9HO6LL_OjKlZ"
      }
    },
    {
      "cell_type": "code",
      "source": [
        "# 1. Import thư viện cần thiết\n",
        "from google.colab import drive\n",
        "drive.mount('/content/drive')\n",
        "import numpy as np\n",
        "import pandas as pd\n",
        "import matplotlib.pyplot as plt\n",
        "from sklearn.preprocessing import MinMaxScaler\n",
        "from keras.models import Sequential\n",
        "from keras.layers import Dense, SimpleRNN"
      ],
      "metadata": {
        "colab": {
          "base_uri": "https://localhost:8080/"
        },
        "outputId": "b9ae0cee-d446-4964-870b-4e8b775ceccd",
        "id": "pPT9S17ljKla"
      },
      "execution_count": 31,
      "outputs": [
        {
          "output_type": "stream",
          "name": "stdout",
          "text": [
            "Drive already mounted at /content/drive; to attempt to forcibly remount, call drive.mount(\"/content/drive\", force_remount=True).\n"
          ]
        }
      ]
    },
    {
      "cell_type": "code",
      "source": [
        "# 2. Đọc file csv và gắn index với giá Close\n",
        "df = pd.read_csv('2-NVL Historical Data.csv')\n",
        "df_reversed = df.iloc[::-1].reset_index(drop=True)\n",
        "df1 = df_reversed['Price']\n",
        "# Remove commas and convert to float\n",
        "df1 = df1.str.replace(',', '').astype(float)\n",
        "df1"
      ],
      "metadata": {
        "colab": {
          "base_uri": "https://localhost:8080/"
        },
        "outputId": "07b3f517-4845-49db-bffb-1f5acf0821d9",
        "id": "1pHHLJKfjKla"
      },
      "execution_count": 32,
      "outputs": [
        {
          "output_type": "execute_result",
          "data": {
            "text/plain": [
              "0       32933.0\n",
              "1       33100.0\n",
              "2       32711.0\n",
              "3       31709.0\n",
              "4       31932.0\n",
              "         ...   \n",
              "1247    16800.0\n",
              "1248    17050.0\n",
              "1249    17000.0\n",
              "1250    17100.0\n",
              "1251    17300.0\n",
              "Name: Price, Length: 1252, dtype: float64"
            ]
          },
          "metadata": {},
          "execution_count": 32
        }
      ]
    },
    {
      "cell_type": "code",
      "source": [
        "# 3. Scaler data\n",
        "scaler=MinMaxScaler(feature_range=(0,1))\n",
        "df1=scaler.fit_transform(np.array(df1).reshape(-1,1))"
      ],
      "metadata": {
        "id": "3XOOmFNEjKla"
      },
      "execution_count": 33,
      "outputs": []
    },
    {
      "cell_type": "code",
      "source": [
        "# 4. Chia train test\n",
        "train_size = int(0.7 * len(df1))\n",
        "test_size = int(0.2 * len(df1))\n",
        "val_size = len(df1) - train_size - test_size\n",
        "\n",
        "train_data = df1[:train_size]\n",
        "test_data = df1[train_size:train_size+test_size]\n",
        "val_data = df1[train_size+test_size:]"
      ],
      "metadata": {
        "id": "cg1r_1idjKla"
      },
      "execution_count": 34,
      "outputs": []
    },
    {
      "cell_type": "code",
      "source": [
        "# 5. Hàm Create Dataset\n",
        "import numpy\n",
        "# convert an array of values into a dataset matrix\n",
        "def create_dataset(dataset, time_step=1):\n",
        "\tdataX, dataY = [], []\n",
        "\tfor i in range(len(dataset)-time_step-1):\n",
        "\t\ta = dataset[i:(i+time_step), 0]   ###i=0, X=0,1,2,3-----99   Y=100\n",
        "\t\tdataX.append(a)\n",
        "\t\tdataY.append(dataset[i + time_step, 0])\n",
        "\treturn numpy.array(dataX), numpy.array(dataY)"
      ],
      "metadata": {
        "id": "gfWl7jdXjKlb"
      },
      "execution_count": 35,
      "outputs": []
    },
    {
      "cell_type": "code",
      "source": [
        "#6. Reshape into X=t,t+1,t+2..t+99 and Y=t+100\n",
        "\n",
        "time_step = 100\n",
        "X_train, y_train = create_dataset(train_data, time_step)\n",
        "X_val, yval = create_dataset(val_data, time_step)\n",
        "X_test, ytest = create_dataset(test_data, time_step)"
      ],
      "metadata": {
        "id": "x6p9O18bjKlb"
      },
      "execution_count": 36,
      "outputs": []
    },
    {
      "cell_type": "code",
      "source": [
        "# 7. Reshape input to be [samples, time steps, features] which is required for LSTM\n",
        "X_train =X_train.reshape(X_train.shape[0],X_train.shape[1] , 1)\n",
        "X_test = X_test.reshape(X_test.shape[0],X_test.shape[1] , 1)\n",
        "X_val = X_val.reshape(X_val.shape[0],X_val.shape[1] , 1)"
      ],
      "metadata": {
        "id": "9bvmU1B0jKlb"
      },
      "execution_count": 37,
      "outputs": []
    },
    {
      "cell_type": "code",
      "source": [
        "# 8. Define LSTM Model\n",
        "\n",
        "model = Sequential()\n",
        "model.add(SimpleRNN(50, input_shape=(time_step, 1)))\n",
        "model.add(Dense(1))\n",
        "model.compile(loss='mean_squared_error',optimizer='adam')"
      ],
      "metadata": {
        "id": "10h0jrk6jKlb"
      },
      "execution_count": 38,
      "outputs": []
    },
    {
      "cell_type": "code",
      "source": [
        "# 9. Fit mô hình với dữ liệu train\n",
        "model.fit(X_train,y_train,validation_data=(X_test,ytest),epochs=100,batch_size=64,verbose=1)"
      ],
      "metadata": {
        "colab": {
          "base_uri": "https://localhost:8080/"
        },
        "outputId": "6b97ea7b-77ce-4b6b-faab-04e518e8a993",
        "id": "hCX4F3ZcjKlb"
      },
      "execution_count": 39,
      "outputs": [
        {
          "output_type": "stream",
          "name": "stdout",
          "text": [
            "Epoch 1/100\n",
            "13/13 [==============================] - 2s 65ms/step - loss: 0.0718 - val_loss: 0.0162\n",
            "Epoch 2/100\n",
            "13/13 [==============================] - 0s 34ms/step - loss: 0.0031 - val_loss: 0.0098\n",
            "Epoch 3/100\n",
            "13/13 [==============================] - 0s 33ms/step - loss: 0.0015 - val_loss: 0.0178\n",
            "Epoch 4/100\n",
            "13/13 [==============================] - 0s 35ms/step - loss: 0.0010 - val_loss: 0.0541\n",
            "Epoch 5/100\n",
            "13/13 [==============================] - 0s 36ms/step - loss: 7.8358e-04 - val_loss: 0.0474\n",
            "Epoch 6/100\n",
            "13/13 [==============================] - 0s 38ms/step - loss: 6.9750e-04 - val_loss: 0.0427\n",
            "Epoch 7/100\n",
            "13/13 [==============================] - 0s 38ms/step - loss: 6.5571e-04 - val_loss: 0.0319\n",
            "Epoch 8/100\n",
            "13/13 [==============================] - 0s 37ms/step - loss: 6.3456e-04 - val_loss: 0.0241\n",
            "Epoch 9/100\n",
            "13/13 [==============================] - 0s 20ms/step - loss: 6.1246e-04 - val_loss: 0.0209\n",
            "Epoch 10/100\n",
            "13/13 [==============================] - 0s 20ms/step - loss: 5.9101e-04 - val_loss: 0.0177\n",
            "Epoch 11/100\n",
            "13/13 [==============================] - 0s 19ms/step - loss: 5.5370e-04 - val_loss: 0.0159\n",
            "Epoch 12/100\n",
            "13/13 [==============================] - 0s 20ms/step - loss: 5.5846e-04 - val_loss: 0.0137\n",
            "Epoch 13/100\n",
            "13/13 [==============================] - 0s 19ms/step - loss: 5.2729e-04 - val_loss: 0.0112\n",
            "Epoch 14/100\n",
            "13/13 [==============================] - 0s 20ms/step - loss: 6.2313e-04 - val_loss: 0.0087\n",
            "Epoch 15/100\n",
            "13/13 [==============================] - 0s 19ms/step - loss: 5.0728e-04 - val_loss: 0.0076\n",
            "Epoch 16/100\n",
            "13/13 [==============================] - 0s 22ms/step - loss: 4.9651e-04 - val_loss: 0.0064\n",
            "Epoch 17/100\n",
            "13/13 [==============================] - 0s 23ms/step - loss: 4.6574e-04 - val_loss: 0.0057\n",
            "Epoch 18/100\n",
            "13/13 [==============================] - 0s 22ms/step - loss: 4.8424e-04 - val_loss: 0.0048\n",
            "Epoch 19/100\n",
            "13/13 [==============================] - 0s 21ms/step - loss: 4.6252e-04 - val_loss: 0.0043\n",
            "Epoch 20/100\n",
            "13/13 [==============================] - 0s 22ms/step - loss: 4.5832e-04 - val_loss: 0.0038\n",
            "Epoch 21/100\n",
            "13/13 [==============================] - 0s 22ms/step - loss: 4.3609e-04 - val_loss: 0.0035\n",
            "Epoch 22/100\n",
            "13/13 [==============================] - 0s 20ms/step - loss: 4.2821e-04 - val_loss: 0.0030\n",
            "Epoch 23/100\n",
            "13/13 [==============================] - 0s 22ms/step - loss: 4.4647e-04 - val_loss: 0.0030\n",
            "Epoch 24/100\n",
            "13/13 [==============================] - 0s 22ms/step - loss: 4.3716e-04 - val_loss: 0.0027\n",
            "Epoch 25/100\n",
            "13/13 [==============================] - 0s 22ms/step - loss: 4.1524e-04 - val_loss: 0.0024\n",
            "Epoch 26/100\n",
            "13/13 [==============================] - 0s 20ms/step - loss: 4.0903e-04 - val_loss: 0.0023\n",
            "Epoch 27/100\n",
            "13/13 [==============================] - 0s 23ms/step - loss: 4.0742e-04 - val_loss: 0.0023\n",
            "Epoch 28/100\n",
            "13/13 [==============================] - 0s 23ms/step - loss: 3.9096e-04 - val_loss: 0.0021\n",
            "Epoch 29/100\n",
            "13/13 [==============================] - 0s 22ms/step - loss: 3.9160e-04 - val_loss: 0.0021\n",
            "Epoch 30/100\n",
            "13/13 [==============================] - 0s 26ms/step - loss: 3.8266e-04 - val_loss: 0.0021\n",
            "Epoch 31/100\n",
            "13/13 [==============================] - 0s 23ms/step - loss: 3.8041e-04 - val_loss: 0.0020\n",
            "Epoch 32/100\n",
            "13/13 [==============================] - 0s 22ms/step - loss: 3.9251e-04 - val_loss: 0.0020\n",
            "Epoch 33/100\n",
            "13/13 [==============================] - 0s 22ms/step - loss: 3.7959e-04 - val_loss: 0.0019\n",
            "Epoch 34/100\n",
            "13/13 [==============================] - 0s 24ms/step - loss: 3.7906e-04 - val_loss: 0.0019\n",
            "Epoch 35/100\n",
            "13/13 [==============================] - 0s 22ms/step - loss: 3.7083e-04 - val_loss: 0.0018\n",
            "Epoch 36/100\n",
            "13/13 [==============================] - 0s 22ms/step - loss: 3.8256e-04 - val_loss: 0.0019\n",
            "Epoch 37/100\n",
            "13/13 [==============================] - 0s 24ms/step - loss: 3.6526e-04 - val_loss: 0.0019\n",
            "Epoch 38/100\n",
            "13/13 [==============================] - 0s 22ms/step - loss: 3.7091e-04 - val_loss: 0.0018\n",
            "Epoch 39/100\n",
            "13/13 [==============================] - 0s 23ms/step - loss: 3.5836e-04 - val_loss: 0.0018\n",
            "Epoch 40/100\n",
            "13/13 [==============================] - 0s 22ms/step - loss: 3.5343e-04 - val_loss: 0.0017\n",
            "Epoch 41/100\n",
            "13/13 [==============================] - 0s 21ms/step - loss: 3.7839e-04 - val_loss: 0.0018\n",
            "Epoch 42/100\n",
            "13/13 [==============================] - 0s 20ms/step - loss: 3.4967e-04 - val_loss: 0.0018\n",
            "Epoch 43/100\n",
            "13/13 [==============================] - 0s 24ms/step - loss: 3.5735e-04 - val_loss: 0.0017\n",
            "Epoch 44/100\n",
            "13/13 [==============================] - 1s 45ms/step - loss: 3.7424e-04 - val_loss: 0.0018\n",
            "Epoch 45/100\n",
            "13/13 [==============================] - 1s 42ms/step - loss: 3.4865e-04 - val_loss: 0.0019\n",
            "Epoch 46/100\n",
            "13/13 [==============================] - 1s 40ms/step - loss: 3.5513e-04 - val_loss: 0.0017\n",
            "Epoch 47/100\n",
            "13/13 [==============================] - 0s 38ms/step - loss: 3.9169e-04 - val_loss: 0.0017\n",
            "Epoch 48/100\n",
            "13/13 [==============================] - 1s 41ms/step - loss: 3.8598e-04 - val_loss: 0.0019\n",
            "Epoch 49/100\n",
            "13/13 [==============================] - 1s 39ms/step - loss: 3.5237e-04 - val_loss: 0.0017\n",
            "Epoch 50/100\n",
            "13/13 [==============================] - 1s 40ms/step - loss: 3.4258e-04 - val_loss: 0.0017\n",
            "Epoch 51/100\n",
            "13/13 [==============================] - 1s 42ms/step - loss: 3.8351e-04 - val_loss: 0.0017\n",
            "Epoch 52/100\n",
            "13/13 [==============================] - 0s 36ms/step - loss: 3.3339e-04 - val_loss: 0.0018\n",
            "Epoch 53/100\n",
            "13/13 [==============================] - 0s 19ms/step - loss: 3.3124e-04 - val_loss: 0.0018\n",
            "Epoch 54/100\n",
            "13/13 [==============================] - 0s 20ms/step - loss: 3.3715e-04 - val_loss: 0.0017\n",
            "Epoch 55/100\n",
            "13/13 [==============================] - 0s 26ms/step - loss: 3.4446e-04 - val_loss: 0.0017\n",
            "Epoch 56/100\n",
            "13/13 [==============================] - 0s 21ms/step - loss: 3.4057e-04 - val_loss: 0.0016\n",
            "Epoch 57/100\n",
            "13/13 [==============================] - 0s 22ms/step - loss: 3.2610e-04 - val_loss: 0.0016\n",
            "Epoch 58/100\n",
            "13/13 [==============================] - 0s 23ms/step - loss: 3.2687e-04 - val_loss: 0.0015\n",
            "Epoch 59/100\n",
            "13/13 [==============================] - 0s 23ms/step - loss: 3.4549e-04 - val_loss: 0.0014\n",
            "Epoch 60/100\n",
            "13/13 [==============================] - 0s 22ms/step - loss: 3.3807e-04 - val_loss: 0.0014\n",
            "Epoch 61/100\n",
            "13/13 [==============================] - 0s 21ms/step - loss: 3.2144e-04 - val_loss: 0.0016\n",
            "Epoch 62/100\n",
            "13/13 [==============================] - 0s 20ms/step - loss: 3.1822e-04 - val_loss: 0.0014\n",
            "Epoch 63/100\n",
            "13/13 [==============================] - 0s 20ms/step - loss: 3.1093e-04 - val_loss: 0.0015\n",
            "Epoch 64/100\n",
            "13/13 [==============================] - 0s 19ms/step - loss: 3.1249e-04 - val_loss: 0.0014\n",
            "Epoch 65/100\n",
            "13/13 [==============================] - 0s 22ms/step - loss: 3.2389e-04 - val_loss: 0.0014\n",
            "Epoch 66/100\n",
            "13/13 [==============================] - 0s 23ms/step - loss: 3.2783e-04 - val_loss: 0.0013\n",
            "Epoch 67/100\n",
            "13/13 [==============================] - 0s 22ms/step - loss: 3.8156e-04 - val_loss: 0.0015\n",
            "Epoch 68/100\n",
            "13/13 [==============================] - 0s 22ms/step - loss: 3.2540e-04 - val_loss: 0.0012\n",
            "Epoch 69/100\n",
            "13/13 [==============================] - 0s 20ms/step - loss: 3.4897e-04 - val_loss: 0.0014\n",
            "Epoch 70/100\n",
            "13/13 [==============================] - 0s 21ms/step - loss: 4.5600e-04 - val_loss: 0.0012\n",
            "Epoch 71/100\n",
            "13/13 [==============================] - 0s 19ms/step - loss: 3.9159e-04 - val_loss: 0.0012\n",
            "Epoch 72/100\n",
            "13/13 [==============================] - 0s 20ms/step - loss: 3.8189e-04 - val_loss: 0.0013\n",
            "Epoch 73/100\n",
            "13/13 [==============================] - 0s 19ms/step - loss: 3.5625e-04 - val_loss: 0.0014\n",
            "Epoch 74/100\n",
            "13/13 [==============================] - 0s 20ms/step - loss: 3.0052e-04 - val_loss: 0.0013\n",
            "Epoch 75/100\n",
            "13/13 [==============================] - 0s 19ms/step - loss: 2.9496e-04 - val_loss: 0.0012\n",
            "Epoch 76/100\n",
            "13/13 [==============================] - 0s 20ms/step - loss: 3.7101e-04 - val_loss: 0.0012\n",
            "Epoch 77/100\n",
            "13/13 [==============================] - 0s 19ms/step - loss: 3.3970e-04 - val_loss: 0.0012\n",
            "Epoch 78/100\n",
            "13/13 [==============================] - 0s 21ms/step - loss: 2.9881e-04 - val_loss: 0.0012\n",
            "Epoch 79/100\n",
            "13/13 [==============================] - 0s 20ms/step - loss: 2.9521e-04 - val_loss: 0.0012\n",
            "Epoch 80/100\n",
            "13/13 [==============================] - 0s 20ms/step - loss: 3.0134e-04 - val_loss: 0.0011\n",
            "Epoch 81/100\n",
            "13/13 [==============================] - 0s 21ms/step - loss: 3.0720e-04 - val_loss: 0.0010\n",
            "Epoch 82/100\n",
            "13/13 [==============================] - 0s 21ms/step - loss: 3.3957e-04 - val_loss: 0.0010\n",
            "Epoch 83/100\n",
            "13/13 [==============================] - 0s 19ms/step - loss: 2.9506e-04 - val_loss: 9.2759e-04\n",
            "Epoch 84/100\n",
            "13/13 [==============================] - 0s 19ms/step - loss: 2.8779e-04 - val_loss: 9.7267e-04\n",
            "Epoch 85/100\n",
            "13/13 [==============================] - 0s 20ms/step - loss: 2.9760e-04 - val_loss: 8.9186e-04\n",
            "Epoch 86/100\n",
            "13/13 [==============================] - 0s 20ms/step - loss: 2.8439e-04 - val_loss: 8.1494e-04\n",
            "Epoch 87/100\n",
            "13/13 [==============================] - 0s 20ms/step - loss: 2.8102e-04 - val_loss: 8.3653e-04\n",
            "Epoch 88/100\n",
            "13/13 [==============================] - 0s 20ms/step - loss: 2.8829e-04 - val_loss: 8.8666e-04\n",
            "Epoch 89/100\n",
            "13/13 [==============================] - 0s 28ms/step - loss: 3.1788e-04 - val_loss: 7.9872e-04\n",
            "Epoch 90/100\n",
            "13/13 [==============================] - 0s 36ms/step - loss: 2.8296e-04 - val_loss: 8.0044e-04\n",
            "Epoch 91/100\n",
            "13/13 [==============================] - 0s 36ms/step - loss: 2.8907e-04 - val_loss: 6.9273e-04\n",
            "Epoch 92/100\n",
            "13/13 [==============================] - 0s 37ms/step - loss: 2.8294e-04 - val_loss: 6.5885e-04\n",
            "Epoch 93/100\n",
            "13/13 [==============================] - 0s 33ms/step - loss: 2.9492e-04 - val_loss: 7.0717e-04\n",
            "Epoch 94/100\n",
            "13/13 [==============================] - 0s 37ms/step - loss: 3.3976e-04 - val_loss: 6.2779e-04\n",
            "Epoch 95/100\n",
            "13/13 [==============================] - 1s 41ms/step - loss: 3.2838e-04 - val_loss: 6.7485e-04\n",
            "Epoch 96/100\n",
            "13/13 [==============================] - 1s 41ms/step - loss: 3.3867e-04 - val_loss: 6.1937e-04\n",
            "Epoch 97/100\n",
            "13/13 [==============================] - 1s 41ms/step - loss: 2.9675e-04 - val_loss: 7.2244e-04\n",
            "Epoch 98/100\n",
            "13/13 [==============================] - 1s 42ms/step - loss: 2.8409e-04 - val_loss: 6.9228e-04\n",
            "Epoch 99/100\n",
            "13/13 [==============================] - 1s 39ms/step - loss: 3.0544e-04 - val_loss: 6.8642e-04\n",
            "Epoch 100/100\n",
            "13/13 [==============================] - 0s 25ms/step - loss: 2.9866e-04 - val_loss: 7.4087e-04\n"
          ]
        },
        {
          "output_type": "execute_result",
          "data": {
            "text/plain": [
              "<keras.src.callbacks.History at 0x78ef0a0477c0>"
            ]
          },
          "metadata": {},
          "execution_count": 39
        }
      ]
    },
    {
      "cell_type": "code",
      "source": [
        "# 10. Dự báo dữ liệu test, val\n",
        "train_predict=model.predict(X_train)\n",
        "y_pred=model.predict(X_test)\n",
        "y_pred_val=model.predict(X_val)"
      ],
      "metadata": {
        "colab": {
          "base_uri": "https://localhost:8080/"
        },
        "outputId": "7fff892d-3cbf-4872-b4fc-e6711ce51fd5",
        "id": "bAF2wmWojKlb"
      },
      "execution_count": 40,
      "outputs": [
        {
          "output_type": "stream",
          "name": "stdout",
          "text": [
            "25/25 [==============================] - 0s 6ms/step\n",
            "5/5 [==============================] - 0s 7ms/step\n",
            "1/1 [==============================] - 0s 23ms/step\n"
          ]
        }
      ]
    },
    {
      "cell_type": "code",
      "source": [
        "# 11. Chuẩn hóa dữ liệu y_pred, y_pred_val\n",
        "train_predict=scaler.inverse_transform(train_predict)\n",
        "y_pred=scaler.inverse_transform(y_pred)\n",
        "y_pred_val=scaler.inverse_transform(y_pred_val)"
      ],
      "metadata": {
        "id": "EHNa3tt7jKlb"
      },
      "execution_count": 41,
      "outputs": []
    },
    {
      "cell_type": "code",
      "source": [
        "# 12. Đánh giá độ chính xác thuật toán bằng RMSE\n",
        "valid_rmse = np.sqrt(np.mean((y_pred_val - yval)**2))\n",
        "test_rmse = np.sqrt(np.mean((y_pred - ytest)**2))\n",
        "print('Validation RMSE:', valid_rmse)\n",
        "print('Testing RMSE:', test_rmse)"
      ],
      "metadata": {
        "colab": {
          "base_uri": "https://localhost:8080/"
        },
        "outputId": "972a3cea-a027-485e-ea6f-2ee87ff8ec36",
        "id": "SWaU36oBjKlb"
      },
      "execution_count": 42,
      "outputs": [
        {
          "output_type": "stream",
          "name": "stdout",
          "text": [
            "Validation RMSE: 18187.838691245022\n",
            "Testing RMSE: 16411.966760264182\n"
          ]
        }
      ]
    },
    {
      "cell_type": "code",
      "source": [
        "# 13. Dự báo 30 ngày tiếp theo\n",
        "x_input = val_data[-100:].reshape(1, -1)\n",
        "temp_input = x_input[0].tolist()\n",
        "\n",
        "from numpy import array\n",
        "\n",
        "lst_output=[]\n",
        "n_steps=100\n",
        "i=0\n",
        "while(i < 30):\n",
        "    if len(temp_input) > 100:\n",
        "        x_input = np.array(temp_input[-100:])  # Ensure the input is the last 100 steps\n",
        "        x_input = x_input.reshape((1, n_steps, 1))\n",
        "        yhat = model.predict(x_input, verbose=0)\n",
        "        temp_input.extend(yhat[0].tolist())\n",
        "        temp_input = temp_input[1:]  # Keep size consistent by removing the oldest element\n",
        "        lst_output.extend(yhat.tolist())\n",
        "        i += 1\n",
        "    else:\n",
        "        x_input = np.array(temp_input).reshape((1, n_steps, 1))\n",
        "        yhat = model.predict(x_input, verbose=0)\n",
        "        temp_input.extend(yhat[0].tolist())\n",
        "        lst_output.extend(yhat.tolist())\n",
        "        i += 1"
      ],
      "metadata": {
        "id": "hAA8KWxMjKlc"
      },
      "execution_count": 43,
      "outputs": []
    },
    {
      "cell_type": "code",
      "source": [
        "# 14.Vẽ hình\n",
        "\n",
        "train_data_index = pd.RangeIndex(start=0, stop=train_size, step=1)\n",
        "plt.plot(scaler.inverse_transform(train_data))\n",
        "test_data_index = pd.RangeIndex(start=train_size, stop=train_size+test_size, step=1)\n",
        "plt.plot(test_data_index,scaler.inverse_transform(test_data))\n",
        "test_data_index = pd.RangeIndex(start=train_size+101, stop=train_size+test_size, step=1)\n",
        "plt.plot(test_data_index,(y_pred))\n",
        "val_data_index = pd.RangeIndex(start=train_size+test_size, stop=train_size+test_size+val_size, step=1)\n",
        "plt.plot(val_data_index,scaler.inverse_transform(val_data))\n",
        "val_data_index = pd.RangeIndex(start=train_size+test_size+101, stop=train_size+test_size+val_size, step=1)\n",
        "plt.plot(val_data_index,y_pred_val)\n",
        "prediect_data_index = pd.RangeIndex(start=len(df1)-1, stop=len(df1)+29, step=1)\n",
        "plt.plot(prediect_data_index,scaler.inverse_transform(lst_output))\n",
        "plt.legend(['Train','Test','Predict','Validate','ValidatePred','Predict30days'])\n",
        "plt.show()"
      ],
      "metadata": {
        "colab": {
          "base_uri": "https://localhost:8080/",
          "height": 430
        },
        "outputId": "a0eee44f-5d88-4447-dad4-5b53f6829826",
        "id": "y4SqJq-wjKlc"
      },
      "execution_count": 44,
      "outputs": [
        {
          "output_type": "display_data",
          "data": {
            "text/plain": [
              "<Figure size 640x480 with 1 Axes>"
            ],
            "image/png": "[encoded data removed]"
          },
          "metadata": {}
        }
      ]
    },
    {
      "cell_type": "markdown",
      "source": [
        "# 3. NLG Dataset"
      ],
      "metadata": {
        "id": "YdoGLjVujPOS"
      }
    },
    {
      "cell_type": "code",
      "source": [
        "# 1. Import thư viện cần thiết\n",
        "from google.colab import drive\n",
        "drive.mount('/content/drive')\n",
        "import numpy as np\n",
        "import pandas as pd\n",
        "import matplotlib.pyplot as plt\n",
        "from sklearn.preprocessing import MinMaxScaler\n",
        "from keras.models import Sequential\n",
        "from keras.layers import Dense, SimpleRNN"
      ],
      "metadata": {
        "colab": {
          "base_uri": "https://localhost:8080/"
        },
        "outputId": "6d597a62-6a8d-490a-c962-e25e2118b5bc",
        "id": "oADIUfmkjPOS"
      },
      "execution_count": 45,
      "outputs": [
        {
          "output_type": "stream",
          "name": "stdout",
          "text": [
            "Drive already mounted at /content/drive; to attempt to forcibly remount, call drive.mount(\"/content/drive\", force_remount=True).\n"
          ]
        }
      ]
    },
    {
      "cell_type": "code",
      "source": [
        "# 2. Đọc file csv và gắn index với giá Close\n",
        "df = pd.read_csv('3-NLG Historical Data.csv')\n",
        "df_reversed = df.iloc[::-1].reset_index(drop=True)\n",
        "df1 = df_reversed['Price']\n",
        "# Remove commas and convert to float\n",
        "df1 = df1.str.replace(',', '').astype(float)\n",
        "df1"
      ],
      "metadata": {
        "colab": {
          "base_uri": "https://localhost:8080/"
        },
        "outputId": "7cbdff3b-7431-4fa4-e4ed-8f4365809cb0",
        "id": "Jp_xYL6ojPOT"
      },
      "execution_count": 46,
      "outputs": [
        {
          "output_type": "execute_result",
          "data": {
            "text/plain": [
              "0       18706.8\n",
              "1       19127.2\n",
              "2       18917.0\n",
              "3       18846.9\n",
              "4       18706.8\n",
              "         ...   \n",
              "1247    37400.0\n",
              "1248    38500.0\n",
              "1249    38200.0\n",
              "1250    39600.0\n",
              "1251    39900.0\n",
              "Name: Price, Length: 1252, dtype: float64"
            ]
          },
          "metadata": {},
          "execution_count": 46
        }
      ]
    },
    {
      "cell_type": "code",
      "source": [
        "# 3. Scaler data\n",
        "scaler=MinMaxScaler(feature_range=(0,1))\n",
        "df1=scaler.fit_transform(np.array(df1).reshape(-1,1))"
      ],
      "metadata": {
        "id": "DCi4Eg6JjPOT"
      },
      "execution_count": 47,
      "outputs": []
    },
    {
      "cell_type": "code",
      "source": [
        "# 4. Chia train test\n",
        "train_size = int(0.7 * len(df1))\n",
        "test_size = int(0.2 * len(df1))\n",
        "val_size = len(df1) - train_size - test_size\n",
        "\n",
        "train_data = df1[:train_size]\n",
        "test_data = df1[train_size:train_size+test_size]\n",
        "val_data = df1[train_size+test_size:]"
      ],
      "metadata": {
        "id": "38p36ZTfjPOT"
      },
      "execution_count": 48,
      "outputs": []
    },
    {
      "cell_type": "code",
      "source": [
        "# 5. Hàm Create Dataset\n",
        "import numpy\n",
        "# convert an array of values into a dataset matrix\n",
        "def create_dataset(dataset, time_step=1):\n",
        "\tdataX, dataY = [], []\n",
        "\tfor i in range(len(dataset)-time_step-1):\n",
        "\t\ta = dataset[i:(i+time_step), 0]   ###i=0, X=0,1,2,3-----99   Y=100\n",
        "\t\tdataX.append(a)\n",
        "\t\tdataY.append(dataset[i + time_step, 0])\n",
        "\treturn numpy.array(dataX), numpy.array(dataY)"
      ],
      "metadata": {
        "id": "co3Su86BjPOT"
      },
      "execution_count": 49,
      "outputs": []
    },
    {
      "cell_type": "code",
      "source": [
        "#6. Reshape into X=t,t+1,t+2..t+99 and Y=t+100\n",
        "\n",
        "time_step = 100\n",
        "X_train, y_train = create_dataset(train_data, time_step)\n",
        "X_val, yval = create_dataset(val_data, time_step)\n",
        "X_test, ytest = create_dataset(test_data, time_step)"
      ],
      "metadata": {
        "id": "BiRs9Yk5jPOT"
      },
      "execution_count": 50,
      "outputs": []
    },
    {
      "cell_type": "code",
      "source": [
        "# 7. Reshape input to be [samples, time steps, features] which is required for LSTM\n",
        "X_train =X_train.reshape(X_train.shape[0],X_train.shape[1] , 1)\n",
        "X_test = X_test.reshape(X_test.shape[0],X_test.shape[1] , 1)\n",
        "X_val = X_val.reshape(X_val.shape[0],X_val.shape[1] , 1)"
      ],
      "metadata": {
        "id": "6FEulzysjPOT"
      },
      "execution_count": 51,
      "outputs": []
    },
    {
      "cell_type": "code",
      "source": [
        "# 8. Define LSTM Model\n",
        "\n",
        "model = Sequential()\n",
        "model.add(SimpleRNN(50, input_shape=(time_step, 1)))\n",
        "model.add(Dense(1))\n",
        "model.compile(loss='mean_squared_error',optimizer='adam')"
      ],
      "metadata": {
        "id": "SXf5ibjmjPOU"
      },
      "execution_count": 52,
      "outputs": []
    },
    {
      "cell_type": "code",
      "source": [
        "# 9. Fit mô hình với dữ liệu train\n",
        "model.fit(X_train,y_train,validation_data=(X_test,ytest),epochs=100,batch_size=64,verbose=1)"
      ],
      "metadata": {
        "colab": {
          "base_uri": "https://localhost:8080/"
        },
        "outputId": "1643c096-5147-4e93-c7c8-8801236820ff",
        "id": "qYKX1FYBjPOh"
      },
      "execution_count": 53,
      "outputs": [
        {
          "output_type": "stream",
          "name": "stdout",
          "text": [
            "Epoch 1/100\n",
            "13/13 [==============================] - 2s 40ms/step - loss: 0.0089 - val_loss: 0.0019\n",
            "Epoch 2/100\n",
            "13/13 [==============================] - 0s 20ms/step - loss: 0.0024 - val_loss: 0.0019\n",
            "Epoch 3/100\n",
            "13/13 [==============================] - 0s 20ms/step - loss: 0.0014 - val_loss: 0.0014\n",
            "Epoch 4/100\n",
            "13/13 [==============================] - 0s 20ms/step - loss: 0.0014 - val_loss: 0.0017\n",
            "Epoch 5/100\n",
            "13/13 [==============================] - 0s 21ms/step - loss: 0.0015 - val_loss: 0.0015\n",
            "Epoch 6/100\n",
            "13/13 [==============================] - 0s 20ms/step - loss: 0.0012 - val_loss: 0.0010\n",
            "Epoch 7/100\n",
            "13/13 [==============================] - 0s 20ms/step - loss: 0.0011 - val_loss: 0.0011\n",
            "Epoch 8/100\n",
            "13/13 [==============================] - 0s 20ms/step - loss: 0.0011 - val_loss: 0.0011\n",
            "Epoch 9/100\n",
            "13/13 [==============================] - 0s 21ms/step - loss: 9.6243e-04 - val_loss: 9.1350e-04\n",
            "Epoch 10/100\n",
            "13/13 [==============================] - 0s 19ms/step - loss: 9.4766e-04 - val_loss: 0.0011\n",
            "Epoch 11/100\n",
            "13/13 [==============================] - 0s 20ms/step - loss: 9.4982e-04 - val_loss: 8.2973e-04\n",
            "Epoch 12/100\n",
            "13/13 [==============================] - 0s 20ms/step - loss: 9.7612e-04 - val_loss: 8.1843e-04\n",
            "Epoch 13/100\n",
            "13/13 [==============================] - 0s 20ms/step - loss: 9.8602e-04 - val_loss: 7.8004e-04\n",
            "Epoch 14/100\n",
            "13/13 [==============================] - 0s 22ms/step - loss: 8.0591e-04 - val_loss: 7.6504e-04\n",
            "Epoch 15/100\n",
            "13/13 [==============================] - 0s 23ms/step - loss: 7.6254e-04 - val_loss: 7.5593e-04\n",
            "Epoch 16/100\n",
            "13/13 [==============================] - 0s 24ms/step - loss: 7.5361e-04 - val_loss: 8.2873e-04\n",
            "Epoch 17/100\n",
            "13/13 [==============================] - 0s 21ms/step - loss: 8.5701e-04 - val_loss: 7.7773e-04\n",
            "Epoch 18/100\n",
            "13/13 [==============================] - 0s 23ms/step - loss: 7.0938e-04 - val_loss: 8.3101e-04\n",
            "Epoch 19/100\n",
            "13/13 [==============================] - 0s 21ms/step - loss: 7.3040e-04 - val_loss: 7.4451e-04\n",
            "Epoch 20/100\n",
            "13/13 [==============================] - 0s 24ms/step - loss: 7.7778e-04 - val_loss: 7.1542e-04\n",
            "Epoch 21/100\n",
            "13/13 [==============================] - 0s 22ms/step - loss: 7.0683e-04 - val_loss: 7.2414e-04\n",
            "Epoch 22/100\n",
            "13/13 [==============================] - 0s 23ms/step - loss: 6.8421e-04 - val_loss: 6.4275e-04\n",
            "Epoch 23/100\n",
            "13/13 [==============================] - 0s 23ms/step - loss: 6.4434e-04 - val_loss: 6.4643e-04\n",
            "Epoch 24/100\n",
            "13/13 [==============================] - 0s 21ms/step - loss: 6.1843e-04 - val_loss: 6.5846e-04\n",
            "Epoch 25/100\n",
            "13/13 [==============================] - 0s 20ms/step - loss: 6.3003e-04 - val_loss: 6.1191e-04\n",
            "Epoch 26/100\n",
            "13/13 [==============================] - 0s 20ms/step - loss: 6.1651e-04 - val_loss: 7.3506e-04\n",
            "Epoch 27/100\n",
            "13/13 [==============================] - 0s 20ms/step - loss: 6.3189e-04 - val_loss: 7.1492e-04\n",
            "Epoch 28/100\n",
            "13/13 [==============================] - 0s 34ms/step - loss: 6.5859e-04 - val_loss: 5.8175e-04\n",
            "Epoch 29/100\n",
            "13/13 [==============================] - 0s 38ms/step - loss: 6.2230e-04 - val_loss: 6.1528e-04\n",
            "Epoch 30/100\n",
            "13/13 [==============================] - 0s 35ms/step - loss: 5.8467e-04 - val_loss: 6.1724e-04\n",
            "Epoch 31/100\n",
            "13/13 [==============================] - 0s 36ms/step - loss: 5.6448e-04 - val_loss: 6.2073e-04\n",
            "Epoch 32/100\n",
            "13/13 [==============================] - 0s 34ms/step - loss: 5.6856e-04 - val_loss: 5.5551e-04\n",
            "Epoch 33/100\n",
            "13/13 [==============================] - 0s 39ms/step - loss: 5.4425e-04 - val_loss: 6.1141e-04\n",
            "Epoch 34/100\n",
            "13/13 [==============================] - 0s 36ms/step - loss: 5.4563e-04 - val_loss: 5.7173e-04\n",
            "Epoch 35/100\n",
            "13/13 [==============================] - 0s 37ms/step - loss: 5.3952e-04 - val_loss: 5.6839e-04\n",
            "Epoch 36/100\n",
            "13/13 [==============================] - 1s 40ms/step - loss: 5.4827e-04 - val_loss: 7.8668e-04\n",
            "Epoch 37/100\n",
            "13/13 [==============================] - 0s 31ms/step - loss: 5.8855e-04 - val_loss: 6.3425e-04\n",
            "Epoch 38/100\n",
            "13/13 [==============================] - 0s 19ms/step - loss: 6.4572e-04 - val_loss: 8.7920e-04\n",
            "Epoch 39/100\n",
            "13/13 [==============================] - 0s 19ms/step - loss: 6.5592e-04 - val_loss: 5.7197e-04\n",
            "Epoch 40/100\n",
            "13/13 [==============================] - 0s 21ms/step - loss: 5.9365e-04 - val_loss: 5.4692e-04\n",
            "Epoch 41/100\n",
            "13/13 [==============================] - 0s 19ms/step - loss: 5.5140e-04 - val_loss: 6.1746e-04\n",
            "Epoch 42/100\n",
            "13/13 [==============================] - 0s 19ms/step - loss: 5.2728e-04 - val_loss: 5.5865e-04\n",
            "Epoch 43/100\n",
            "13/13 [==============================] - 0s 19ms/step - loss: 5.5363e-04 - val_loss: 6.3745e-04\n",
            "Epoch 44/100\n",
            "13/13 [==============================] - 0s 24ms/step - loss: 5.1601e-04 - val_loss: 5.9349e-04\n",
            "Epoch 45/100\n",
            "13/13 [==============================] - 0s 22ms/step - loss: 5.0530e-04 - val_loss: 5.3421e-04\n",
            "Epoch 46/100\n",
            "13/13 [==============================] - 0s 23ms/step - loss: 5.0622e-04 - val_loss: 5.3386e-04\n",
            "Epoch 47/100\n",
            "13/13 [==============================] - 0s 24ms/step - loss: 4.7958e-04 - val_loss: 5.2182e-04\n",
            "Epoch 48/100\n",
            "13/13 [==============================] - 0s 20ms/step - loss: 4.5776e-04 - val_loss: 5.4993e-04\n",
            "Epoch 49/100\n",
            "13/13 [==============================] - 0s 19ms/step - loss: 4.6782e-04 - val_loss: 4.9354e-04\n",
            "Epoch 50/100\n",
            "13/13 [==============================] - 0s 20ms/step - loss: 4.8514e-04 - val_loss: 6.2512e-04\n",
            "Epoch 51/100\n",
            "13/13 [==============================] - 0s 21ms/step - loss: 4.9677e-04 - val_loss: 5.0397e-04\n",
            "Epoch 52/100\n",
            "13/13 [==============================] - 0s 20ms/step - loss: 4.6155e-04 - val_loss: 5.0431e-04\n",
            "Epoch 53/100\n",
            "13/13 [==============================] - 0s 20ms/step - loss: 4.8559e-04 - val_loss: 4.8668e-04\n",
            "Epoch 54/100\n",
            "13/13 [==============================] - 0s 20ms/step - loss: 4.7791e-04 - val_loss: 5.3021e-04\n",
            "Epoch 55/100\n",
            "13/13 [==============================] - 0s 21ms/step - loss: 4.7796e-04 - val_loss: 4.7316e-04\n",
            "Epoch 56/100\n",
            "13/13 [==============================] - 0s 19ms/step - loss: 4.8049e-04 - val_loss: 5.1565e-04\n",
            "Epoch 57/100\n",
            "13/13 [==============================] - 0s 20ms/step - loss: 4.9467e-04 - val_loss: 4.6165e-04\n",
            "Epoch 58/100\n",
            "13/13 [==============================] - 0s 20ms/step - loss: 4.3205e-04 - val_loss: 4.8860e-04\n",
            "Epoch 59/100\n",
            "13/13 [==============================] - 0s 24ms/step - loss: 4.2627e-04 - val_loss: 4.5563e-04\n",
            "Epoch 60/100\n",
            "13/13 [==============================] - 0s 23ms/step - loss: 4.3524e-04 - val_loss: 4.6810e-04\n",
            "Epoch 61/100\n",
            "13/13 [==============================] - 0s 23ms/step - loss: 4.3989e-04 - val_loss: 4.7309e-04\n",
            "Epoch 62/100\n",
            "13/13 [==============================] - 0s 24ms/step - loss: 4.4557e-04 - val_loss: 7.1203e-04\n",
            "Epoch 63/100\n",
            "13/13 [==============================] - 0s 23ms/step - loss: 5.4857e-04 - val_loss: 5.0542e-04\n",
            "Epoch 64/100\n",
            "13/13 [==============================] - 0s 23ms/step - loss: 5.3211e-04 - val_loss: 5.2257e-04\n",
            "Epoch 65/100\n",
            "13/13 [==============================] - 0s 22ms/step - loss: 4.4621e-04 - val_loss: 4.6016e-04\n",
            "Epoch 66/100\n",
            "13/13 [==============================] - 0s 21ms/step - loss: 4.2600e-04 - val_loss: 5.6614e-04\n",
            "Epoch 67/100\n",
            "13/13 [==============================] - 0s 22ms/step - loss: 5.8614e-04 - val_loss: 6.7405e-04\n",
            "Epoch 68/100\n",
            "13/13 [==============================] - 0s 21ms/step - loss: 5.2340e-04 - val_loss: 4.4635e-04\n",
            "Epoch 69/100\n",
            "13/13 [==============================] - 0s 22ms/step - loss: 4.4638e-04 - val_loss: 4.3060e-04\n",
            "Epoch 70/100\n",
            "13/13 [==============================] - 0s 20ms/step - loss: 4.1228e-04 - val_loss: 4.1437e-04\n",
            "Epoch 71/100\n",
            "13/13 [==============================] - 0s 23ms/step - loss: 4.1157e-04 - val_loss: 4.2258e-04\n",
            "Epoch 72/100\n",
            "13/13 [==============================] - 0s 21ms/step - loss: 3.9947e-04 - val_loss: 4.9819e-04\n",
            "Epoch 73/100\n",
            "13/13 [==============================] - 0s 30ms/step - loss: 4.3803e-04 - val_loss: 4.7471e-04\n",
            "Epoch 74/100\n",
            "13/13 [==============================] - 0s 38ms/step - loss: 4.0260e-04 - val_loss: 4.1551e-04\n",
            "Epoch 75/100\n",
            "13/13 [==============================] - 0s 35ms/step - loss: 4.7428e-04 - val_loss: 4.3005e-04\n",
            "Epoch 76/100\n",
            "13/13 [==============================] - 0s 37ms/step - loss: 3.8739e-04 - val_loss: 4.3857e-04\n",
            "Epoch 77/100\n",
            "13/13 [==============================] - 0s 36ms/step - loss: 4.0168e-04 - val_loss: 4.2632e-04\n",
            "Epoch 78/100\n",
            "13/13 [==============================] - 0s 36ms/step - loss: 3.9442e-04 - val_loss: 4.3051e-04\n",
            "Epoch 79/100\n",
            "13/13 [==============================] - 1s 40ms/step - loss: 3.8919e-04 - val_loss: 4.2123e-04\n",
            "Epoch 80/100\n",
            "13/13 [==============================] - 1s 41ms/step - loss: 3.8429e-04 - val_loss: 4.1835e-04\n",
            "Epoch 81/100\n",
            "13/13 [==============================] - 1s 40ms/step - loss: 3.7729e-04 - val_loss: 4.0845e-04\n",
            "Epoch 82/100\n",
            "13/13 [==============================] - 1s 40ms/step - loss: 3.8765e-04 - val_loss: 4.3214e-04\n",
            "Epoch 83/100\n",
            "13/13 [==============================] - 0s 21ms/step - loss: 3.8653e-04 - val_loss: 4.1119e-04\n",
            "Epoch 84/100\n",
            "13/13 [==============================] - 0s 20ms/step - loss: 3.7706e-04 - val_loss: 4.1254e-04\n",
            "Epoch 85/100\n",
            "13/13 [==============================] - 0s 19ms/step - loss: 3.7197e-04 - val_loss: 4.0330e-04\n",
            "Epoch 86/100\n",
            "13/13 [==============================] - 0s 18ms/step - loss: 3.7593e-04 - val_loss: 4.2295e-04\n",
            "Epoch 87/100\n",
            "13/13 [==============================] - 0s 19ms/step - loss: 3.7561e-04 - val_loss: 4.3692e-04\n",
            "Epoch 88/100\n",
            "13/13 [==============================] - 0s 20ms/step - loss: 3.7844e-04 - val_loss: 4.2343e-04\n",
            "Epoch 89/100\n",
            "13/13 [==============================] - 0s 20ms/step - loss: 3.5588e-04 - val_loss: 3.8820e-04\n",
            "Epoch 90/100\n",
            "13/13 [==============================] - 0s 20ms/step - loss: 3.8412e-04 - val_loss: 4.5520e-04\n",
            "Epoch 91/100\n",
            "13/13 [==============================] - 0s 20ms/step - loss: 3.8164e-04 - val_loss: 4.0800e-04\n",
            "Epoch 92/100\n",
            "13/13 [==============================] - 0s 21ms/step - loss: 3.7834e-04 - val_loss: 3.9020e-04\n",
            "Epoch 93/100\n",
            "13/13 [==============================] - 0s 21ms/step - loss: 3.7703e-04 - val_loss: 3.8547e-04\n",
            "Epoch 94/100\n",
            "13/13 [==============================] - 0s 20ms/step - loss: 3.7748e-04 - val_loss: 4.6372e-04\n",
            "Epoch 95/100\n",
            "13/13 [==============================] - 0s 20ms/step - loss: 3.8177e-04 - val_loss: 4.0224e-04\n",
            "Epoch 96/100\n",
            "13/13 [==============================] - 0s 21ms/step - loss: 3.7400e-04 - val_loss: 3.7958e-04\n",
            "Epoch 97/100\n",
            "13/13 [==============================] - 0s 19ms/step - loss: 3.4972e-04 - val_loss: 4.1416e-04\n",
            "Epoch 98/100\n",
            "13/13 [==============================] - 0s 21ms/step - loss: 3.6505e-04 - val_loss: 3.7448e-04\n",
            "Epoch 99/100\n",
            "13/13 [==============================] - 0s 19ms/step - loss: 3.6088e-04 - val_loss: 3.7465e-04\n",
            "Epoch 100/100\n",
            "13/13 [==============================] - 0s 22ms/step - loss: 3.5763e-04 - val_loss: 3.9478e-04\n"
          ]
        },
        {
          "output_type": "execute_result",
          "data": {
            "text/plain": [
              "<keras.src.callbacks.History at 0x78ef0842e6b0>"
            ]
          },
          "metadata": {},
          "execution_count": 53
        }
      ]
    },
    {
      "cell_type": "code",
      "source": [
        "# 10. Dự báo dữ liệu test, val\n",
        "train_predict=model.predict(X_train)\n",
        "y_pred=model.predict(X_test)\n",
        "y_pred_val=model.predict(X_val)"
      ],
      "metadata": {
        "colab": {
          "base_uri": "https://localhost:8080/"
        },
        "outputId": "cb8427e0-a7eb-4b4e-896b-78b89413149a",
        "id": "VT_dnWsjjPOi"
      },
      "execution_count": 54,
      "outputs": [
        {
          "output_type": "stream",
          "name": "stdout",
          "text": [
            "25/25 [==============================] - 0s 6ms/step\n",
            "5/5 [==============================] - 0s 6ms/step\n",
            "1/1 [==============================] - 0s 24ms/step\n"
          ]
        }
      ]
    },
    {
      "cell_type": "code",
      "source": [
        "# 11. Chuẩn hóa dữ liệu y_pred, y_pred_val\n",
        "train_predict=scaler.inverse_transform(train_predict)\n",
        "y_pred=scaler.inverse_transform(y_pred)\n",
        "y_pred_val=scaler.inverse_transform(y_pred_val)"
      ],
      "metadata": {
        "id": "mGdItkeGjPOi"
      },
      "execution_count": 55,
      "outputs": []
    },
    {
      "cell_type": "code",
      "source": [
        "# 12. Đánh giá độ chính xác thuật toán bằng RMSE\n",
        "valid_rmse = np.sqrt(np.mean((y_pred_val - yval)**2))\n",
        "test_rmse = np.sqrt(np.mean((y_pred - ytest)**2))\n",
        "print('Validation RMSE:', valid_rmse)\n",
        "print('Testing RMSE:', test_rmse)"
      ],
      "metadata": {
        "colab": {
          "base_uri": "https://localhost:8080/"
        },
        "outputId": "7c99c16c-351a-4685-f292-f8ff91752486",
        "id": "16a6d1WZjPOi"
      },
      "execution_count": 56,
      "outputs": [
        {
          "output_type": "stream",
          "name": "stdout",
          "text": [
            "Validation RMSE: 39340.64777641453\n",
            "Testing RMSE: 32089.161869376574\n"
          ]
        }
      ]
    },
    {
      "cell_type": "code",
      "source": [
        "# 13. Dự báo 30 ngày tiếp theo\n",
        "x_input = val_data[-100:].reshape(1, -1)\n",
        "temp_input = x_input[0].tolist()\n",
        "\n",
        "from numpy import array\n",
        "\n",
        "lst_output=[]\n",
        "n_steps=100\n",
        "i=0\n",
        "while(i < 30):\n",
        "    if len(temp_input) > 100:\n",
        "        x_input = np.array(temp_input[-100:])  # Ensure the input is the last 100 steps\n",
        "        x_input = x_input.reshape((1, n_steps, 1))\n",
        "        yhat = model.predict(x_input, verbose=0)\n",
        "        temp_input.extend(yhat[0].tolist())\n",
        "        temp_input = temp_input[1:]  # Keep size consistent by removing the oldest element\n",
        "        lst_output.extend(yhat.tolist())\n",
        "        i += 1\n",
        "    else:\n",
        "        x_input = np.array(temp_input).reshape((1, n_steps, 1))\n",
        "        yhat = model.predict(x_input, verbose=0)\n",
        "        temp_input.extend(yhat[0].tolist())\n",
        "        lst_output.extend(yhat.tolist())\n",
        "        i += 1"
      ],
      "metadata": {
        "id": "410dgCMAjPOi"
      },
      "execution_count": 57,
      "outputs": []
    },
    {
      "cell_type": "code",
      "source": [
        "# 14.Vẽ hình\n",
        "\n",
        "train_data_index = pd.RangeIndex(start=0, stop=train_size, step=1)\n",
        "plt.plot(scaler.inverse_transform(train_data))\n",
        "test_data_index = pd.RangeIndex(start=train_size, stop=train_size+test_size, step=1)\n",
        "plt.plot(test_data_index,scaler.inverse_transform(test_data))\n",
        "test_data_index = pd.RangeIndex(start=train_size+101, stop=train_size+test_size, step=1)\n",
        "plt.plot(test_data_index,(y_pred))\n",
        "val_data_index = pd.RangeIndex(start=train_size+test_size, stop=train_size+test_size+val_size, step=1)\n",
        "plt.plot(val_data_index,scaler.inverse_transform(val_data))\n",
        "val_data_index = pd.RangeIndex(start=train_size+test_size+101, stop=train_size+test_size+val_size, step=1)\n",
        "plt.plot(val_data_index,y_pred_val)\n",
        "prediect_data_index = pd.RangeIndex(start=len(df1)-1, stop=len(df1)+29, step=1)\n",
        "plt.plot(prediect_data_index,scaler.inverse_transform(lst_output))\n",
        "plt.legend(['Train','Test','Predict','Validate','ValidatePred','Predict30days'])\n",
        "plt.show()"
      ],
      "metadata": {
        "colab": {
          "base_uri": "https://localhost:8080/",
          "height": 430
        },
        "outputId": "50f7ca15-4dc8-4101-fef7-1139213026a3",
        "id": "DNqgwo4jjPOj"
      },
      "execution_count": 58,
      "outputs": [
        {
          "output_type": "display_data",
          "data": {
            "text/plain": [
              "<Figure size 640x480 with 1 Axes>"
            ],
            "image/png": "[encoded data removed]"
          },
          "metadata": {}
        }
      ]
    }
  ],
  "metadata": {
    "colab": {
      "provenance": []
    },
    "kernelspec": {
      "display_name": "Python 3",
      "name": "python3"
    },
    "language_info": {
      "name": "python"
    }
  },
  "nbformat": 4,
  "nbformat_minor": 0
}