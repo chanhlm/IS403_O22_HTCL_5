{
  "cells": [
    {
      "cell_type": "markdown",
      "source": [
        "# Dataset: VHM Historical Data\n",
        "\n"
      ],
      "metadata": {
        "id": "_eqsYD4xJPus"
      }
    },
    {
      "cell_type": "code",
      "source": [
        "# 1. Import thư viện cần thiết\n",
        "from google.colab import drive\n",
        "drive.mount('/content/drive')\n",
        "import numpy as np\n",
        "import pandas as pd\n",
        "import matplotlib.pyplot as plt\n",
        "from sklearn.preprocessing import MinMaxScaler\n",
        "from keras.models import Sequential\n",
        "from keras.layers import Dense, LSTM"
      ],
      "metadata": {
        "colab": {
          "base_uri": "https://localhost:8080/"
        },
        "id": "FMDKda-XIUAK",
        "outputId": "d8dcb811-8bf4-4021-e8b0-053e5e2f61f0"
      },
      "execution_count": 67,
      "outputs": [
        {
          "output_type": "stream",
          "name": "stdout",
          "text": [
            "Drive already mounted at /content/drive; to attempt to forcibly remount, call drive.mount(\"/content/drive\", force_remount=True).\n"
          ]
        }
      ]
    },
    {
      "cell_type": "code",
      "source": [
        "# 2. Đọc file csv và gắn index với giá Close\n",
        "df = pd.read_csv('1-VHM Historical Data.csv')\n",
        "df_reversed = df.iloc[::-1].reset_index(drop=True)\n",
        "df1 = df_reversed['Price']\n",
        "# Remove commas and convert to float\n",
        "df1 = df1.str.replace(',', '').astype(float)"
      ],
      "metadata": {
        "id": "aRm9GQ8KJJ5N"
      },
      "execution_count": 68,
      "outputs": []
    },
    {
      "cell_type": "code",
      "source": [
        "# 3. Scaler data\n",
        "scaler=MinMaxScaler(feature_range=(0,1))\n",
        "df1=scaler.fit_transform(np.array(df1).reshape(-1,1))"
      ],
      "metadata": {
        "id": "RdVpDho2JgL5"
      },
      "execution_count": 69,
      "outputs": []
    },
    {
      "cell_type": "code",
      "source": [
        "# 4. Chia train test\n",
        "train_size = int(0.7 * len(df1))\n",
        "test_size = int(0.2 * len(df1))\n",
        "val_size = len(df1) - train_size - test_size\n",
        "\n",
        "train_data = df1[:train_size]\n",
        "test_data = df1[train_size:train_size+test_size]\n",
        "val_data = df1[train_size+test_size:]"
      ],
      "metadata": {
        "id": "B5JXpenzJoR3"
      },
      "execution_count": 70,
      "outputs": []
    },
    {
      "cell_type": "code",
      "source": [
        "# 5. Hàm Create Dataset\n",
        "import numpy\n",
        "# convert an array of values into a dataset matrix\n",
        "def create_dataset(dataset, time_step=1):\n",
        "\tdataX, dataY = [], []\n",
        "\tfor i in range(len(dataset)-time_step-1):\n",
        "\t\ta = dataset[i:(i+time_step), 0]   ###i=0, X=0,1,2,3-----99   Y=100\n",
        "\t\tdataX.append(a)\n",
        "\t\tdataY.append(dataset[i + time_step, 0])\n",
        "\treturn numpy.array(dataX), numpy.array(dataY)"
      ],
      "metadata": {
        "id": "yJfmuBORLSfC"
      },
      "execution_count": 71,
      "outputs": []
    },
    {
      "cell_type": "code",
      "source": [
        "#6. Reshape into X=t,t+1,t+2..t+99 and Y=t+100\n",
        "\n",
        "time_step = 100\n",
        "X_train, y_train = create_dataset(train_data, time_step)\n",
        "X_val, yval = create_dataset(val_data, time_step)\n",
        "X_test, ytest = create_dataset(test_data, time_step)"
      ],
      "metadata": {
        "id": "e81cKq03LXFB"
      },
      "execution_count": 72,
      "outputs": []
    },
    {
      "cell_type": "code",
      "source": [
        "# 7. Reshape input to be [samples, time steps, features] which is required for LSTM\n",
        "X_train =X_train.reshape(X_train.shape[0],X_train.shape[1] , 1)\n",
        "X_test = X_test.reshape(X_test.shape[0],X_test.shape[1] , 1)\n",
        "X_val = X_val.reshape(X_val.shape[0],X_val.shape[1] , 1)"
      ],
      "metadata": {
        "id": "RdBVfku7O2qb"
      },
      "execution_count": 73,
      "outputs": []
    },
    {
      "cell_type": "code",
      "source": [
        "# 8. Define LSTM Model\n",
        "\n",
        "model=Sequential()\n",
        "model.add(LSTM(50,return_sequences=True,input_shape=(100,1)))\n",
        "model.add(LSTM(50,return_sequences=True))\n",
        "model.add(LSTM(50))\n",
        "model.add(Dense(1))\n",
        "model.compile(loss='mean_squared_error',optimizer='adam')"
      ],
      "metadata": {
        "id": "sSfxrE7BO9vX"
      },
      "execution_count": 74,
      "outputs": []
    },
    {
      "cell_type": "code",
      "source": [
        "# 9. Fit mô hình với dữ liệu train\n",
        "model.fit(X_train,y_train,validation_data=(X_test,ytest),epochs=100,batch_size=64,verbose=1)"
      ],
      "metadata": {
        "colab": {
          "base_uri": "https://localhost:8080/"
        },
        "id": "zgfeujZSPEKr",
        "outputId": "269fc790-488a-467d-bec2-a37bcda945cd"
      },
      "execution_count": 75,
      "outputs": [
        {
          "output_type": "stream",
          "name": "stdout",
          "text": [
            "Epoch 1/100\n",
            "13/13 [==============================] - 11s 367ms/step - loss: 0.0862 - val_loss: 0.0052\n",
            "Epoch 2/100\n",
            "13/13 [==============================] - 2s 155ms/step - loss: 0.0168 - val_loss: 0.0187\n",
            "Epoch 3/100\n",
            "13/13 [==============================] - 2s 158ms/step - loss: 0.0088 - val_loss: 0.0095\n",
            "Epoch 4/100\n",
            "13/13 [==============================] - 2s 156ms/step - loss: 0.0064 - val_loss: 0.0054\n",
            "Epoch 5/100\n",
            "13/13 [==============================] - 2s 156ms/step - loss: 0.0052 - val_loss: 0.0044\n",
            "Epoch 6/100\n",
            "13/13 [==============================] - 3s 232ms/step - loss: 0.0044 - val_loss: 0.0040\n",
            "Epoch 7/100\n",
            "13/13 [==============================] - 3s 248ms/step - loss: 0.0041 - val_loss: 0.0037\n",
            "Epoch 8/100\n",
            "13/13 [==============================] - 2s 155ms/step - loss: 0.0039 - val_loss: 0.0036\n",
            "Epoch 9/100\n",
            "13/13 [==============================] - 2s 159ms/step - loss: 0.0039 - val_loss: 0.0035\n",
            "Epoch 10/100\n",
            "13/13 [==============================] - 2s 155ms/step - loss: 0.0040 - val_loss: 0.0035\n",
            "Epoch 11/100\n",
            "13/13 [==============================] - 2s 156ms/step - loss: 0.0040 - val_loss: 0.0034\n",
            "Epoch 12/100\n",
            "13/13 [==============================] - 2s 185ms/step - loss: 0.0037 - val_loss: 0.0036\n",
            "Epoch 13/100\n",
            "13/13 [==============================] - 3s 270ms/step - loss: 0.0038 - val_loss: 0.0036\n",
            "Epoch 14/100\n",
            "13/13 [==============================] - 2s 155ms/step - loss: 0.0034 - val_loss: 0.0034\n",
            "Epoch 15/100\n",
            "13/13 [==============================] - 2s 156ms/step - loss: 0.0033 - val_loss: 0.0030\n",
            "Epoch 16/100\n",
            "13/13 [==============================] - 2s 157ms/step - loss: 0.0032 - val_loss: 0.0030\n",
            "Epoch 17/100\n",
            "13/13 [==============================] - 2s 157ms/step - loss: 0.0033 - val_loss: 0.0034\n",
            "Epoch 18/100\n",
            "13/13 [==============================] - 2s 157ms/step - loss: 0.0033 - val_loss: 0.0028\n",
            "Epoch 19/100\n",
            "13/13 [==============================] - 3s 257ms/step - loss: 0.0031 - val_loss: 0.0029\n",
            "Epoch 20/100\n",
            "13/13 [==============================] - 3s 197ms/step - loss: 0.0032 - val_loss: 0.0030\n",
            "Epoch 21/100\n",
            "13/13 [==============================] - 2s 160ms/step - loss: 0.0029 - val_loss: 0.0030\n",
            "Epoch 22/100\n",
            "13/13 [==============================] - 2s 159ms/step - loss: 0.0030 - val_loss: 0.0027\n",
            "Epoch 23/100\n",
            "13/13 [==============================] - 2s 157ms/step - loss: 0.0030 - val_loss: 0.0027\n",
            "Epoch 24/100\n",
            "13/13 [==============================] - 2s 164ms/step - loss: 0.0031 - val_loss: 0.0029\n",
            "Epoch 25/100\n",
            "13/13 [==============================] - 4s 264ms/step - loss: 0.0027 - val_loss: 0.0027\n",
            "Epoch 26/100\n",
            "13/13 [==============================] - 3s 215ms/step - loss: 0.0026 - val_loss: 0.0028\n",
            "Epoch 27/100\n",
            "13/13 [==============================] - 2s 155ms/step - loss: 0.0027 - val_loss: 0.0025\n",
            "Epoch 28/100\n",
            "13/13 [==============================] - 2s 155ms/step - loss: 0.0025 - val_loss: 0.0023\n",
            "Epoch 29/100\n",
            "13/13 [==============================] - 2s 156ms/step - loss: 0.0025 - val_loss: 0.0022\n",
            "Epoch 30/100\n",
            "13/13 [==============================] - 2s 157ms/step - loss: 0.0023 - val_loss: 0.0021\n",
            "Epoch 31/100\n",
            "13/13 [==============================] - 3s 217ms/step - loss: 0.0024 - val_loss: 0.0022\n",
            "Epoch 32/100\n",
            "13/13 [==============================] - 3s 247ms/step - loss: 0.0023 - val_loss: 0.0028\n",
            "Epoch 33/100\n",
            "13/13 [==============================] - 2s 160ms/step - loss: 0.0026 - val_loss: 0.0022\n",
            "Epoch 34/100\n",
            "13/13 [==============================] - 2s 159ms/step - loss: 0.0022 - val_loss: 0.0021\n",
            "Epoch 35/100\n",
            "13/13 [==============================] - 2s 156ms/step - loss: 0.0021 - val_loss: 0.0024\n",
            "Epoch 36/100\n",
            "13/13 [==============================] - 2s 156ms/step - loss: 0.0024 - val_loss: 0.0019\n",
            "Epoch 37/100\n",
            "13/13 [==============================] - 2s 188ms/step - loss: 0.0022 - val_loss: 0.0020\n",
            "Epoch 38/100\n",
            "13/13 [==============================] - 3s 259ms/step - loss: 0.0022 - val_loss: 0.0021\n",
            "Epoch 39/100\n",
            "13/13 [==============================] - 2s 163ms/step - loss: 0.0021 - val_loss: 0.0018\n",
            "Epoch 40/100\n",
            "13/13 [==============================] - 2s 163ms/step - loss: 0.0019 - val_loss: 0.0018\n",
            "Epoch 41/100\n",
            "13/13 [==============================] - 2s 159ms/step - loss: 0.0019 - val_loss: 0.0019\n",
            "Epoch 42/100\n",
            "13/13 [==============================] - 2s 158ms/step - loss: 0.0018 - val_loss: 0.0016\n",
            "Epoch 43/100\n",
            "13/13 [==============================] - 2s 181ms/step - loss: 0.0017 - val_loss: 0.0015\n",
            "Epoch 44/100\n",
            "13/13 [==============================] - 3s 257ms/step - loss: 0.0016 - val_loss: 0.0019\n",
            "Epoch 45/100\n",
            "13/13 [==============================] - 2s 168ms/step - loss: 0.0017 - val_loss: 0.0016\n",
            "Epoch 46/100\n",
            "13/13 [==============================] - 2s 157ms/step - loss: 0.0016 - val_loss: 0.0014\n",
            "Epoch 47/100\n",
            "13/13 [==============================] - 2s 161ms/step - loss: 0.0018 - val_loss: 0.0014\n",
            "Epoch 48/100\n",
            "13/13 [==============================] - 2s 161ms/step - loss: 0.0019 - val_loss: 0.0015\n",
            "Epoch 49/100\n",
            "13/13 [==============================] - 2s 157ms/step - loss: 0.0015 - val_loss: 0.0016\n",
            "Epoch 50/100\n",
            "13/13 [==============================] - 3s 270ms/step - loss: 0.0015 - val_loss: 0.0014\n",
            "Epoch 51/100\n",
            "13/13 [==============================] - 3s 195ms/step - loss: 0.0015 - val_loss: 0.0014\n",
            "Epoch 52/100\n",
            "13/13 [==============================] - 2s 161ms/step - loss: 0.0014 - val_loss: 0.0016\n",
            "Epoch 53/100\n",
            "13/13 [==============================] - 2s 157ms/step - loss: 0.0014 - val_loss: 0.0016\n",
            "Epoch 54/100\n",
            "13/13 [==============================] - 2s 155ms/step - loss: 0.0014 - val_loss: 0.0017\n",
            "Epoch 55/100\n",
            "13/13 [==============================] - 2s 156ms/step - loss: 0.0015 - val_loss: 0.0014\n",
            "Epoch 56/100\n",
            "13/13 [==============================] - 3s 255ms/step - loss: 0.0013 - val_loss: 0.0015\n",
            "Epoch 57/100\n",
            "13/13 [==============================] - 3s 216ms/step - loss: 0.0014 - val_loss: 0.0014\n",
            "Epoch 58/100\n",
            "13/13 [==============================] - 2s 158ms/step - loss: 0.0013 - val_loss: 0.0013\n",
            "Epoch 59/100\n",
            "13/13 [==============================] - 2s 157ms/step - loss: 0.0012 - val_loss: 0.0013\n",
            "Epoch 60/100\n",
            "13/13 [==============================] - 2s 161ms/step - loss: 0.0013 - val_loss: 0.0013\n",
            "Epoch 61/100\n",
            "13/13 [==============================] - 2s 160ms/step - loss: 0.0015 - val_loss: 0.0013\n",
            "Epoch 62/100\n",
            "13/13 [==============================] - 3s 223ms/step - loss: 0.0013 - val_loss: 0.0013\n",
            "Epoch 63/100\n",
            "13/13 [==============================] - 3s 255ms/step - loss: 0.0014 - val_loss: 0.0013\n",
            "Epoch 64/100\n",
            "13/13 [==============================] - 2s 162ms/step - loss: 0.0015 - val_loss: 0.0016\n",
            "Epoch 65/100\n",
            "13/13 [==============================] - 2s 161ms/step - loss: 0.0016 - val_loss: 0.0018\n",
            "Epoch 66/100\n",
            "13/13 [==============================] - 2s 157ms/step - loss: 0.0018 - val_loss: 0.0018\n",
            "Epoch 67/100\n",
            "13/13 [==============================] - 2s 157ms/step - loss: 0.0019 - val_loss: 0.0014\n",
            "Epoch 68/100\n",
            "13/13 [==============================] - 2s 186ms/step - loss: 0.0014 - val_loss: 0.0013\n",
            "Epoch 69/100\n",
            "13/13 [==============================] - 4s 325ms/step - loss: 0.0016 - val_loss: 0.0015\n",
            "Epoch 70/100\n",
            "13/13 [==============================] - 2s 156ms/step - loss: 0.0012 - val_loss: 0.0014\n",
            "Epoch 71/100\n",
            "13/13 [==============================] - 2s 158ms/step - loss: 0.0012 - val_loss: 0.0012\n",
            "Epoch 72/100\n",
            "13/13 [==============================] - 2s 157ms/step - loss: 0.0012 - val_loss: 0.0014\n",
            "Epoch 73/100\n",
            "13/13 [==============================] - 2s 156ms/step - loss: 0.0012 - val_loss: 0.0014\n",
            "Epoch 74/100\n",
            "13/13 [==============================] - 2s 166ms/step - loss: 0.0012 - val_loss: 0.0013\n",
            "Epoch 75/100\n",
            "13/13 [==============================] - 3s 269ms/step - loss: 0.0012 - val_loss: 0.0012\n",
            "Epoch 76/100\n",
            "13/13 [==============================] - 3s 225ms/step - loss: 0.0011 - val_loss: 0.0013\n",
            "Epoch 77/100\n",
            "13/13 [==============================] - 2s 162ms/step - loss: 0.0011 - val_loss: 0.0013\n",
            "Epoch 78/100\n",
            "13/13 [==============================] - 2s 158ms/step - loss: 0.0011 - val_loss: 0.0014\n",
            "Epoch 79/100\n",
            "13/13 [==============================] - 2s 157ms/step - loss: 0.0011 - val_loss: 0.0012\n",
            "Epoch 80/100\n",
            "13/13 [==============================] - 2s 163ms/step - loss: 0.0011 - val_loss: 0.0012\n",
            "Epoch 81/100\n",
            "13/13 [==============================] - 3s 257ms/step - loss: 0.0012 - val_loss: 0.0012\n",
            "Epoch 82/100\n",
            "13/13 [==============================] - 3s 196ms/step - loss: 0.0010 - val_loss: 0.0015\n",
            "Epoch 83/100\n",
            "13/13 [==============================] - 2s 159ms/step - loss: 0.0012 - val_loss: 0.0013\n",
            "Epoch 84/100\n",
            "13/13 [==============================] - 2s 158ms/step - loss: 0.0011 - val_loss: 0.0012\n",
            "Epoch 85/100\n",
            "13/13 [==============================] - 2s 158ms/step - loss: 0.0011 - val_loss: 0.0014\n",
            "Epoch 86/100\n",
            "13/13 [==============================] - 2s 158ms/step - loss: 0.0011 - val_loss: 0.0013\n",
            "Epoch 87/100\n",
            "13/13 [==============================] - 3s 240ms/step - loss: 0.0010 - val_loss: 0.0012\n",
            "Epoch 88/100\n",
            "13/13 [==============================] - 3s 218ms/step - loss: 0.0010 - val_loss: 0.0011\n",
            "Epoch 89/100\n",
            "13/13 [==============================] - 2s 158ms/step - loss: 0.0010 - val_loss: 0.0011\n",
            "Epoch 90/100\n",
            "13/13 [==============================] - 2s 156ms/step - loss: 0.0010 - val_loss: 0.0013\n",
            "Epoch 91/100\n",
            "13/13 [==============================] - 2s 157ms/step - loss: 0.0011 - val_loss: 0.0011\n",
            "Epoch 92/100\n",
            "13/13 [==============================] - 2s 157ms/step - loss: 0.0012 - val_loss: 0.0011\n",
            "Epoch 93/100\n",
            "13/13 [==============================] - 3s 215ms/step - loss: 0.0011 - val_loss: 0.0011\n",
            "Epoch 94/100\n",
            "13/13 [==============================] - 3s 254ms/step - loss: 0.0011 - val_loss: 0.0012\n",
            "Epoch 95/100\n",
            "13/13 [==============================] - 2s 157ms/step - loss: 0.0011 - val_loss: 0.0011\n",
            "Epoch 96/100\n",
            "13/13 [==============================] - 2s 159ms/step - loss: 0.0011 - val_loss: 0.0015\n",
            "Epoch 97/100\n",
            "13/13 [==============================] - 2s 156ms/step - loss: 0.0011 - val_loss: 0.0012\n",
            "Epoch 98/100\n",
            "13/13 [==============================] - 2s 156ms/step - loss: 9.4679e-04 - val_loss: 0.0010\n",
            "Epoch 99/100\n",
            "13/13 [==============================] - 2s 183ms/step - loss: 0.0011 - val_loss: 0.0014\n",
            "Epoch 100/100\n",
            "13/13 [==============================] - 3s 271ms/step - loss: 0.0012 - val_loss: 0.0012\n"
          ]
        },
        {
          "output_type": "execute_result",
          "data": {
            "text/plain": [
              "<keras.src.callbacks.History at 0x785dbd32d720>"
            ]
          },
          "metadata": {},
          "execution_count": 75
        }
      ]
    },
    {
      "cell_type": "code",
      "source": [
        "# 10. Dự báo dữ liệu test, val\n",
        "train_predict=model.predict(X_train)\n",
        "y_pred=model.predict(X_test)\n",
        "y_pred_val=model.predict(X_val)"
      ],
      "metadata": {
        "colab": {
          "base_uri": "https://localhost:8080/"
        },
        "id": "Rxx_KQSkQpBG",
        "outputId": "7a5f25ce-7895-4816-cf6a-3dd4eca7ef1e"
      },
      "execution_count": 76,
      "outputs": [
        {
          "output_type": "stream",
          "name": "stdout",
          "text": [
            "25/25 [==============================] - 2s 47ms/step\n",
            "5/5 [==============================] - 0s 50ms/step\n",
            "1/1 [==============================] - 0s 74ms/step\n"
          ]
        }
      ]
    },
    {
      "cell_type": "code",
      "source": [
        "# 11. Chuẩn hóa dữ liệu y_pred, y_pred_val\n",
        "train_predict=scaler.inverse_transform(train_predict)\n",
        "y_pred=scaler.inverse_transform(y_pred)\n",
        "y_pred_val=scaler.inverse_transform(y_pred_val)"
      ],
      "metadata": {
        "id": "5rwTN10LQ7rj"
      },
      "execution_count": 77,
      "outputs": []
    },
    {
      "cell_type": "code",
      "source": [
        "# 12. Đánh giá độ chính xác thuật toán bằng RMSE\n",
        "valid_rmse = np.sqrt(np.mean((y_pred_val - yval)**2))\n",
        "test_rmse = np.sqrt(np.mean((y_pred - ytest)**2))\n",
        "print('Validation RMSE:', valid_rmse)\n",
        "print('Testing RMSE:', test_rmse)"
      ],
      "metadata": {
        "colab": {
          "base_uri": "https://localhost:8080/"
        },
        "id": "wu_9j94kRonD",
        "outputId": "8062d22e-d506-48de-a417-f4eae92f2912"
      },
      "execution_count": 78,
      "outputs": [
        {
          "output_type": "stream",
          "name": "stdout",
          "text": [
            "Validation RMSE: 44166.166658297916\n",
            "Testing RMSE: 52901.585069051325\n"
          ]
        }
      ]
    },
    {
      "cell_type": "code",
      "source": [
        "# 13. Dự báo 30 ngày tiếp theo\n",
        "x_input = val_data[-100:].reshape(1, -1)\n",
        "temp_input = x_input[0].tolist()\n",
        "\n",
        "from numpy import array\n",
        "\n",
        "lst_output=[]\n",
        "n_steps=100\n",
        "i=0\n",
        "while(i < 30):\n",
        "    if len(temp_input) > 100:\n",
        "        x_input = np.array(temp_input[-100:])  # Ensure the input is the last 100 steps\n",
        "        x_input = x_input.reshape((1, n_steps, 1))\n",
        "        yhat = model.predict(x_input, verbose=0)\n",
        "        temp_input.extend(yhat[0].tolist())\n",
        "        temp_input = temp_input[1:]  # Keep size consistent by removing the oldest element\n",
        "        lst_output.extend(yhat.tolist())\n",
        "        i += 1\n",
        "    else:\n",
        "        x_input = np.array(temp_input).reshape((1, n_steps, 1))\n",
        "        yhat = model.predict(x_input, verbose=0)\n",
        "        temp_input.extend(yhat[0].tolist())\n",
        "        lst_output.extend(yhat.tolist())\n",
        "        i += 1"
      ],
      "metadata": {
        "id": "izQZ1iQyYl6N"
      },
      "execution_count": 79,
      "outputs": []
    },
    {
      "cell_type": "code",
      "source": [
        "# 14.Vẽ hình\n",
        "\n",
        "train_data_index = pd.RangeIndex(start=0, stop=train_size, step=1)\n",
        "plt.plot(scaler.inverse_transform(train_data))\n",
        "test_data_index = pd.RangeIndex(start=train_size, stop=train_size+test_size, step=1)\n",
        "plt.plot(test_data_index,scaler.inverse_transform(test_data))\n",
        "test_data_index = pd.RangeIndex(start=train_size+101, stop=train_size+test_size, step=1)\n",
        "plt.plot(test_data_index,(y_pred))\n",
        "val_data_index = pd.RangeIndex(start=train_size+test_size, stop=train_size+test_size+val_size, step=1)\n",
        "plt.plot(val_data_index,scaler.inverse_transform(val_data))\n",
        "val_data_index = pd.RangeIndex(start=train_size+test_size+101, stop=train_size+test_size+val_size, step=1)\n",
        "plt.plot(val_data_index,y_pred_val)\n",
        "prediect_data_index = pd.RangeIndex(start=len(df1)-1, stop=len(df1)+29, step=1)\n",
        "plt.plot(prediect_data_index,scaler.inverse_transform(lst_output))\n",
        "plt.legend(['Train','Test','Predict','Validate','ValidatePred','Predict30days'])\n",
        "plt.show()"
      ],
      "metadata": {
        "colab": {
          "base_uri": "https://localhost:8080/",
          "height": 430
        },
        "id": "KSa_mX51a654",
        "outputId": "a826bff3-ee64-4437-801a-376ed4a36843"
      },
      "execution_count": 80,
      "outputs": [
        {
          "output_type": "display_data",
          "data": {
            "text/plain": [
              "<Figure size 640x480 with 1 Axes>"
            ],
            "image/png": "[encoded data removed]"
          },
          "metadata": {}
        }
      ]
    },
    {
      "cell_type": "markdown",
      "source": [
        "# Dataset: NVL Historical Data\n",
        "\n"
      ],
      "metadata": {
        "id": "LteWO00UJpID"
      }
    },
    {
      "cell_type": "code",
      "source": [
        "# 1. Import thư viện cần thiết\n",
        "from google.colab import drive\n",
        "drive.mount('/content/drive')\n",
        "import numpy as np\n",
        "import pandas as pd\n",
        "import matplotlib.pyplot as plt\n",
        "from sklearn.preprocessing import MinMaxScaler\n",
        "from keras.models import Sequential\n",
        "from keras.layers import Dense, LSTM"
      ],
      "metadata": {
        "colab": {
          "base_uri": "https://localhost:8080/"
        },
        "outputId": "e80534aa-8196-4ff2-9552-03c2f144c121",
        "id": "3DyQRy48JpIP"
      },
      "execution_count": 81,
      "outputs": [
        {
          "output_type": "stream",
          "name": "stdout",
          "text": [
            "Drive already mounted at /content/drive; to attempt to forcibly remount, call drive.mount(\"/content/drive\", force_remount=True).\n"
          ]
        }
      ]
    },
    {
      "cell_type": "code",
      "source": [
        "# 2. Đọc file csv và gắn index với giá Close\n",
        "df = pd.read_csv('2-NVL Historical Data.csv')\n",
        "df_reversed = df.iloc[::-1].reset_index(drop=True)\n",
        "df1 = df_reversed['Price']\n",
        "# Remove commas and convert to float\n",
        "df1 = df1.str.replace(',', '').astype(float)"
      ],
      "metadata": {
        "id": "XaK3GqjfJpIP"
      },
      "execution_count": 82,
      "outputs": []
    },
    {
      "cell_type": "code",
      "source": [
        "# 3. Scaler data\n",
        "scaler=MinMaxScaler(feature_range=(0,1))\n",
        "df1=scaler.fit_transform(np.array(df1).reshape(-1,1))"
      ],
      "metadata": {
        "id": "5HYKulQFJpIQ"
      },
      "execution_count": 83,
      "outputs": []
    },
    {
      "cell_type": "code",
      "source": [
        "# 4. Chia train test\n",
        "train_size = int(0.7 * len(df1))\n",
        "test_size = int(0.2 * len(df1))\n",
        "val_size = len(df1) - train_size - test_size\n",
        "\n",
        "train_data = df1[:train_size]\n",
        "test_data = df1[train_size:train_size+test_size]\n",
        "val_data = df1[train_size+test_size:]"
      ],
      "metadata": {
        "id": "_nHeEP_EJpIQ"
      },
      "execution_count": 84,
      "outputs": []
    },
    {
      "cell_type": "code",
      "source": [
        "# 5. Hàm Create Dataset\n",
        "import numpy\n",
        "# convert an array of values into a dataset matrix\n",
        "def create_dataset(dataset, time_step=1):\n",
        "\tdataX, dataY = [], []\n",
        "\tfor i in range(len(dataset)-time_step-1):\n",
        "\t\ta = dataset[i:(i+time_step), 0]   ###i=0, X=0,1,2,3-----99   Y=100\n",
        "\t\tdataX.append(a)\n",
        "\t\tdataY.append(dataset[i + time_step, 0])\n",
        "\treturn numpy.array(dataX), numpy.array(dataY)"
      ],
      "metadata": {
        "id": "j52kba1tJpIQ"
      },
      "execution_count": 85,
      "outputs": []
    },
    {
      "cell_type": "code",
      "source": [
        "#6. Reshape into X=t,t+1,t+2..t+99 and Y=t+100\n",
        "\n",
        "time_step = 100\n",
        "X_train, y_train = create_dataset(train_data, time_step)\n",
        "X_val, yval = create_dataset(val_data, time_step)\n",
        "X_test, ytest = create_dataset(test_data, time_step)"
      ],
      "metadata": {
        "id": "efxjzaksJpIQ"
      },
      "execution_count": 86,
      "outputs": []
    },
    {
      "cell_type": "code",
      "source": [
        "# 7. Reshape input to be [samples, time steps, features] which is required for LSTM\n",
        "X_train =X_train.reshape(X_train.shape[0],X_train.shape[1] , 1)\n",
        "X_test = X_test.reshape(X_test.shape[0],X_test.shape[1] , 1)\n",
        "X_val = X_val.reshape(X_val.shape[0],X_val.shape[1] , 1)"
      ],
      "metadata": {
        "id": "sdZkGp3gJpIQ"
      },
      "execution_count": 87,
      "outputs": []
    },
    {
      "cell_type": "code",
      "source": [
        "# 8. Define LSTM Model\n",
        "\n",
        "model=Sequential()\n",
        "model.add(LSTM(50,return_sequences=True,input_shape=(100,1)))\n",
        "model.add(LSTM(50,return_sequences=True))\n",
        "model.add(LSTM(50))\n",
        "model.add(Dense(1))\n",
        "model.compile(loss='mean_squared_error',optimizer='adam')"
      ],
      "metadata": {
        "id": "XSbZFTAHJpIQ"
      },
      "execution_count": 88,
      "outputs": []
    },
    {
      "cell_type": "code",
      "source": [
        "# 9. Fit mô hình với dữ liệu train\n",
        "model.fit(X_train,y_train,validation_data=(X_test,ytest),epochs=100,batch_size=64,verbose=1)"
      ],
      "metadata": {
        "colab": {
          "base_uri": "https://localhost:8080/"
        },
        "outputId": "3039e278-487a-4b45-c64a-f8b7e307cc36",
        "id": "pPvqidbpJpIQ"
      },
      "execution_count": 89,
      "outputs": [
        {
          "output_type": "stream",
          "name": "stdout",
          "text": [
            "Epoch 1/100\n",
            "13/13 [==============================] - 10s 355ms/step - loss: 0.0970 - val_loss: 0.0100\n",
            "Epoch 2/100\n",
            "13/13 [==============================] - 2s 152ms/step - loss: 0.0127 - val_loss: 0.0118\n",
            "Epoch 3/100\n",
            "13/13 [==============================] - 2s 151ms/step - loss: 0.0051 - val_loss: 0.0014\n",
            "Epoch 4/100\n",
            "13/13 [==============================] - 2s 152ms/step - loss: 0.0023 - val_loss: 3.4096e-04\n",
            "Epoch 5/100\n",
            "13/13 [==============================] - 2s 155ms/step - loss: 0.0017 - val_loss: 3.3708e-04\n",
            "Epoch 6/100\n",
            "13/13 [==============================] - 3s 216ms/step - loss: 0.0017 - val_loss: 3.5669e-04\n",
            "Epoch 7/100\n",
            "13/13 [==============================] - 3s 252ms/step - loss: 0.0016 - val_loss: 3.6702e-04\n",
            "Epoch 8/100\n",
            "13/13 [==============================] - 2s 156ms/step - loss: 0.0016 - val_loss: 3.2380e-04\n",
            "Epoch 9/100\n",
            "13/13 [==============================] - 2s 154ms/step - loss: 0.0015 - val_loss: 3.2751e-04\n",
            "Epoch 10/100\n",
            "13/13 [==============================] - 2s 156ms/step - loss: 0.0016 - val_loss: 3.2769e-04\n",
            "Epoch 11/100\n",
            "13/13 [==============================] - 2s 158ms/step - loss: 0.0015 - val_loss: 3.1550e-04\n",
            "Epoch 12/100\n",
            "13/13 [==============================] - 2s 178ms/step - loss: 0.0015 - val_loss: 4.0024e-04\n",
            "Epoch 13/100\n",
            "13/13 [==============================] - 3s 266ms/step - loss: 0.0014 - val_loss: 4.0267e-04\n",
            "Epoch 14/100\n",
            "13/13 [==============================] - 2s 172ms/step - loss: 0.0015 - val_loss: 5.3523e-04\n",
            "Epoch 15/100\n",
            "13/13 [==============================] - 2s 153ms/step - loss: 0.0014 - val_loss: 6.5078e-04\n",
            "Epoch 16/100\n",
            "13/13 [==============================] - 2s 155ms/step - loss: 0.0013 - val_loss: 7.4747e-04\n",
            "Epoch 17/100\n",
            "13/13 [==============================] - 2s 156ms/step - loss: 0.0014 - val_loss: 8.9830e-04\n",
            "Epoch 18/100\n",
            "13/13 [==============================] - 2s 155ms/step - loss: 0.0012 - val_loss: 0.0014\n",
            "Epoch 19/100\n",
            "13/13 [==============================] - 3s 237ms/step - loss: 0.0012 - val_loss: 0.0016\n",
            "Epoch 20/100\n",
            "13/13 [==============================] - 3s 235ms/step - loss: 0.0011 - val_loss: 0.0020\n",
            "Epoch 21/100\n",
            "13/13 [==============================] - 2s 160ms/step - loss: 0.0012 - val_loss: 0.0026\n",
            "Epoch 22/100\n",
            "13/13 [==============================] - 2s 157ms/step - loss: 0.0010 - val_loss: 0.0027\n",
            "Epoch 23/100\n",
            "13/13 [==============================] - 2s 154ms/step - loss: 9.9959e-04 - val_loss: 0.0033\n",
            "Epoch 24/100\n",
            "13/13 [==============================] - 2s 158ms/step - loss: 0.0011 - val_loss: 0.0036\n",
            "Epoch 25/100\n",
            "13/13 [==============================] - 3s 197ms/step - loss: 0.0011 - val_loss: 0.0037\n",
            "Epoch 26/100\n",
            "13/13 [==============================] - 3s 268ms/step - loss: 0.0010 - val_loss: 0.0034\n",
            "Epoch 27/100\n",
            "13/13 [==============================] - 2s 153ms/step - loss: 9.9351e-04 - val_loss: 0.0039\n",
            "Epoch 28/100\n",
            "13/13 [==============================] - 2s 153ms/step - loss: 8.9701e-04 - val_loss: 0.0043\n",
            "Epoch 29/100\n",
            "13/13 [==============================] - 2s 156ms/step - loss: 8.7842e-04 - val_loss: 0.0037\n",
            "Epoch 30/100\n",
            "13/13 [==============================] - 2s 157ms/step - loss: 0.0011 - val_loss: 0.0050\n",
            "Epoch 31/100\n",
            "13/13 [==============================] - 2s 177ms/step - loss: 0.0010 - val_loss: 0.0038\n",
            "Epoch 32/100\n",
            "13/13 [==============================] - 3s 271ms/step - loss: 0.0011 - val_loss: 0.0040\n",
            "Epoch 33/100\n",
            "13/13 [==============================] - 2s 164ms/step - loss: 8.3909e-04 - val_loss: 0.0035\n",
            "Epoch 34/100\n",
            "13/13 [==============================] - 2s 156ms/step - loss: 8.2552e-04 - val_loss: 0.0045\n",
            "Epoch 35/100\n",
            "13/13 [==============================] - 2s 156ms/step - loss: 9.5626e-04 - val_loss: 0.0032\n",
            "Epoch 36/100\n",
            "13/13 [==============================] - 2s 158ms/step - loss: 0.0011 - val_loss: 0.0043\n",
            "Epoch 37/100\n",
            "13/13 [==============================] - 2s 158ms/step - loss: 9.9598e-04 - val_loss: 0.0033\n",
            "Epoch 38/100\n",
            "13/13 [==============================] - 3s 254ms/step - loss: 9.3499e-04 - val_loss: 0.0037\n",
            "Epoch 39/100\n",
            "13/13 [==============================] - 3s 204ms/step - loss: 8.4155e-04 - val_loss: 0.0037\n",
            "Epoch 40/100\n",
            "13/13 [==============================] - 2s 155ms/step - loss: 9.3927e-04 - val_loss: 0.0035\n",
            "Epoch 41/100\n",
            "13/13 [==============================] - 2s 154ms/step - loss: 8.3721e-04 - val_loss: 0.0031\n",
            "Epoch 42/100\n",
            "13/13 [==============================] - 2s 155ms/step - loss: 7.5941e-04 - val_loss: 0.0035\n",
            "Epoch 43/100\n",
            "13/13 [==============================] - 2s 156ms/step - loss: 7.5924e-04 - val_loss: 0.0033\n",
            "Epoch 44/100\n",
            "13/13 [==============================] - 3s 213ms/step - loss: 7.8518e-04 - val_loss: 0.0031\n",
            "Epoch 45/100\n",
            "13/13 [==============================] - 3s 252ms/step - loss: 7.5890e-04 - val_loss: 0.0028\n",
            "Epoch 46/100\n",
            "13/13 [==============================] - 2s 157ms/step - loss: 7.7900e-04 - val_loss: 0.0034\n",
            "Epoch 47/100\n",
            "13/13 [==============================] - 2s 158ms/step - loss: 7.6524e-04 - val_loss: 0.0026\n",
            "Epoch 48/100\n",
            "13/13 [==============================] - 2s 155ms/step - loss: 8.2625e-04 - val_loss: 0.0035\n",
            "Epoch 49/100\n",
            "13/13 [==============================] - 2s 157ms/step - loss: 7.5207e-04 - val_loss: 0.0024\n",
            "Epoch 50/100\n",
            "13/13 [==============================] - 2s 173ms/step - loss: 6.9748e-04 - val_loss: 0.0024\n",
            "Epoch 51/100\n",
            "13/13 [==============================] - 3s 267ms/step - loss: 7.1682e-04 - val_loss: 0.0032\n",
            "Epoch 52/100\n",
            "13/13 [==============================] - 2s 177ms/step - loss: 7.7170e-04 - val_loss: 0.0029\n",
            "Epoch 53/100\n",
            "13/13 [==============================] - 2s 157ms/step - loss: 6.7961e-04 - val_loss: 0.0026\n",
            "Epoch 54/100\n",
            "13/13 [==============================] - 2s 155ms/step - loss: 6.8956e-04 - val_loss: 0.0025\n",
            "Epoch 55/100\n",
            "13/13 [==============================] - 2s 156ms/step - loss: 6.3221e-04 - val_loss: 0.0023\n",
            "Epoch 56/100\n",
            "13/13 [==============================] - 2s 157ms/step - loss: 6.6770e-04 - val_loss: 0.0029\n",
            "Epoch 57/100\n",
            "13/13 [==============================] - 3s 256ms/step - loss: 6.2765e-04 - val_loss: 0.0022\n",
            "Epoch 58/100\n",
            "13/13 [==============================] - 3s 208ms/step - loss: 6.2522e-04 - val_loss: 0.0024\n",
            "Epoch 59/100\n",
            "13/13 [==============================] - 2s 154ms/step - loss: 6.2561e-04 - val_loss: 0.0021\n",
            "Epoch 60/100\n",
            "13/13 [==============================] - 2s 155ms/step - loss: 8.2345e-04 - val_loss: 0.0020\n",
            "Epoch 61/100\n",
            "13/13 [==============================] - 2s 154ms/step - loss: 7.3160e-04 - val_loss: 0.0020\n",
            "Epoch 62/100\n",
            "13/13 [==============================] - 2s 156ms/step - loss: 9.0710e-04 - val_loss: 0.0020\n",
            "Epoch 63/100\n",
            "13/13 [==============================] - 3s 223ms/step - loss: 7.5569e-04 - val_loss: 0.0030\n",
            "Epoch 64/100\n",
            "13/13 [==============================] - 3s 244ms/step - loss: 0.0012 - val_loss: 0.0018\n",
            "Epoch 65/100\n",
            "13/13 [==============================] - 2s 158ms/step - loss: 8.0657e-04 - val_loss: 0.0023\n",
            "Epoch 66/100\n",
            "13/13 [==============================] - 2s 156ms/step - loss: 7.1079e-04 - val_loss: 0.0019\n",
            "Epoch 67/100\n",
            "13/13 [==============================] - 2s 158ms/step - loss: 6.0704e-04 - val_loss: 0.0022\n",
            "Epoch 68/100\n",
            "13/13 [==============================] - 2s 159ms/step - loss: 6.3437e-04 - val_loss: 0.0018\n",
            "Epoch 69/100\n",
            "13/13 [==============================] - 2s 182ms/step - loss: 7.2695e-04 - val_loss: 0.0019\n",
            "Epoch 70/100\n",
            "13/13 [==============================] - 3s 265ms/step - loss: 6.3665e-04 - val_loss: 0.0023\n",
            "Epoch 71/100\n",
            "13/13 [==============================] - 2s 156ms/step - loss: 5.9367e-04 - val_loss: 0.0015\n",
            "Epoch 72/100\n",
            "13/13 [==============================] - 2s 155ms/step - loss: 5.7598e-04 - val_loss: 0.0021\n",
            "Epoch 73/100\n",
            "13/13 [==============================] - 2s 155ms/step - loss: 6.1630e-04 - val_loss: 0.0016\n",
            "Epoch 74/100\n",
            "13/13 [==============================] - 2s 161ms/step - loss: 5.8598e-04 - val_loss: 0.0020\n",
            "Epoch 75/100\n",
            "13/13 [==============================] - 2s 159ms/step - loss: 5.8598e-04 - val_loss: 0.0020\n",
            "Epoch 76/100\n",
            "13/13 [==============================] - 3s 256ms/step - loss: 5.3645e-04 - val_loss: 0.0020\n",
            "Epoch 77/100\n",
            "13/13 [==============================] - 3s 214ms/step - loss: 5.3786e-04 - val_loss: 0.0017\n",
            "Epoch 78/100\n",
            "13/13 [==============================] - 2s 158ms/step - loss: 5.6926e-04 - val_loss: 0.0022\n",
            "Epoch 79/100\n",
            "13/13 [==============================] - 2s 157ms/step - loss: 5.5331e-04 - val_loss: 0.0016\n",
            "Epoch 80/100\n",
            "13/13 [==============================] - 2s 157ms/step - loss: 5.6328e-04 - val_loss: 0.0017\n",
            "Epoch 81/100\n",
            "13/13 [==============================] - 2s 155ms/step - loss: 5.4496e-04 - val_loss: 0.0016\n",
            "Epoch 82/100\n",
            "13/13 [==============================] - 3s 215ms/step - loss: 6.3446e-04 - val_loss: 0.0017\n",
            "Epoch 83/100\n",
            "13/13 [==============================] - 3s 253ms/step - loss: 4.8934e-04 - val_loss: 0.0014\n",
            "Epoch 84/100\n",
            "13/13 [==============================] - 2s 158ms/step - loss: 5.7216e-04 - val_loss: 0.0020\n",
            "Epoch 85/100\n",
            "13/13 [==============================] - 2s 156ms/step - loss: 4.9654e-04 - val_loss: 0.0013\n",
            "Epoch 86/100\n",
            "13/13 [==============================] - 2s 156ms/step - loss: 5.5879e-04 - val_loss: 0.0012\n",
            "Epoch 87/100\n",
            "13/13 [==============================] - 2s 155ms/step - loss: 7.3206e-04 - val_loss: 0.0011\n",
            "Epoch 88/100\n",
            "13/13 [==============================] - 2s 169ms/step - loss: 5.9613e-04 - val_loss: 0.0018\n",
            "Epoch 89/100\n",
            "13/13 [==============================] - 3s 258ms/step - loss: 6.0757e-04 - val_loss: 0.0012\n",
            "Epoch 90/100\n",
            "13/13 [==============================] - 3s 190ms/step - loss: 4.7431e-04 - val_loss: 0.0013\n",
            "Epoch 91/100\n",
            "13/13 [==============================] - 2s 155ms/step - loss: 7.1627e-04 - val_loss: 0.0015\n",
            "Epoch 92/100\n",
            "13/13 [==============================] - 2s 156ms/step - loss: 6.2561e-04 - val_loss: 0.0014\n",
            "Epoch 93/100\n",
            "13/13 [==============================] - 2s 155ms/step - loss: 5.1442e-04 - val_loss: 0.0011\n",
            "Epoch 94/100\n",
            "13/13 [==============================] - 2s 157ms/step - loss: 4.6177e-04 - val_loss: 0.0013\n",
            "Epoch 95/100\n",
            "13/13 [==============================] - 3s 232ms/step - loss: 5.7137e-04 - val_loss: 0.0011\n",
            "Epoch 96/100\n",
            "13/13 [==============================] - 3s 233ms/step - loss: 5.5046e-04 - val_loss: 0.0011\n",
            "Epoch 97/100\n",
            "13/13 [==============================] - 2s 157ms/step - loss: 5.7219e-04 - val_loss: 0.0013\n",
            "Epoch 98/100\n",
            "13/13 [==============================] - 2s 159ms/step - loss: 5.3950e-04 - val_loss: 8.8545e-04\n",
            "Epoch 99/100\n",
            "13/13 [==============================] - 2s 157ms/step - loss: 4.3945e-04 - val_loss: 0.0011\n",
            "Epoch 100/100\n",
            "13/13 [==============================] - 2s 155ms/step - loss: 4.4780e-04 - val_loss: 9.4192e-04\n"
          ]
        },
        {
          "output_type": "execute_result",
          "data": {
            "text/plain": [
              "<keras.src.callbacks.History at 0x785dae6e47c0>"
            ]
          },
          "metadata": {},
          "execution_count": 89
        }
      ]
    },
    {
      "cell_type": "code",
      "source": [
        "# 10. Dự báo dữ liệu test, val\n",
        "train_predict=model.predict(X_train)\n",
        "y_pred=model.predict(X_test)\n",
        "y_pred_val=model.predict(X_val)"
      ],
      "metadata": {
        "colab": {
          "base_uri": "https://localhost:8080/"
        },
        "outputId": "2134f745-da0b-4cf1-ebea-c1ae8e1221f4",
        "id": "H5AGsYYWJpIQ"
      },
      "execution_count": 90,
      "outputs": [
        {
          "output_type": "stream",
          "name": "stdout",
          "text": [
            "25/25 [==============================] - 3s 52ms/step\n",
            "5/5 [==============================] - 0s 32ms/step\n",
            "1/1 [==============================] - 0s 51ms/step\n"
          ]
        }
      ]
    },
    {
      "cell_type": "code",
      "source": [
        "# 11. Chuẩn hóa dữ liệu y_pred, y_pred_val\n",
        "train_predict=scaler.inverse_transform(train_predict)\n",
        "y_pred=scaler.inverse_transform(y_pred)\n",
        "y_pred_val=scaler.inverse_transform(y_pred_val)"
      ],
      "metadata": {
        "id": "nwa42Sz-JpIQ"
      },
      "execution_count": 91,
      "outputs": []
    },
    {
      "cell_type": "code",
      "source": [
        "# 12. Đánh giá độ chính xác thuật toán bằng RMSE\n",
        "valid_rmse = np.sqrt(np.mean((y_pred_val - yval)**2))\n",
        "test_rmse = np.sqrt(np.mean((y_pred - ytest)**2))\n",
        "print('Validation RMSE:', valid_rmse)\n",
        "print('Testing RMSE:', test_rmse)"
      ],
      "metadata": {
        "colab": {
          "base_uri": "https://localhost:8080/"
        },
        "outputId": "88aebc13-684c-4ba5-eaf0-3e2c9257e6b8",
        "id": "yMp7xhytJpIQ"
      },
      "execution_count": 92,
      "outputs": [
        {
          "output_type": "stream",
          "name": "stdout",
          "text": [
            "Validation RMSE: 15107.680201076606\n",
            "Testing RMSE: 12367.5750805097\n"
          ]
        }
      ]
    },
    {
      "cell_type": "code",
      "source": [
        "# 13. Dự báo 30 ngày tiếp theo\n",
        "x_input = val_data[-100:].reshape(1, -1)\n",
        "temp_input = x_input[0].tolist()\n",
        "\n",
        "from numpy import array\n",
        "\n",
        "lst_output=[]\n",
        "n_steps=100\n",
        "i=0\n",
        "while(i < 30):\n",
        "    if len(temp_input) > 100:\n",
        "        x_input = np.array(temp_input[-100:])  # Ensure the input is the last 100 steps\n",
        "        x_input = x_input.reshape((1, n_steps, 1))\n",
        "        yhat = model.predict(x_input, verbose=0)\n",
        "        temp_input.extend(yhat[0].tolist())\n",
        "        temp_input = temp_input[1:]  # Keep size consistent by removing the oldest element\n",
        "        lst_output.extend(yhat.tolist())\n",
        "        i += 1\n",
        "    else:\n",
        "        x_input = np.array(temp_input).reshape((1, n_steps, 1))\n",
        "        yhat = model.predict(x_input, verbose=0)\n",
        "        temp_input.extend(yhat[0].tolist())\n",
        "        lst_output.extend(yhat.tolist())\n",
        "        i += 1"
      ],
      "metadata": {
        "id": "k1cYX04NJpIQ"
      },
      "execution_count": 93,
      "outputs": []
    },
    {
      "cell_type": "code",
      "source": [
        "# 14.Vẽ hình\n",
        "\n",
        "train_data_index = pd.RangeIndex(start=0, stop=train_size, step=1)\n",
        "plt.plot(scaler.inverse_transform(train_data))\n",
        "test_data_index = pd.RangeIndex(start=train_size, stop=train_size+test_size, step=1)\n",
        "plt.plot(test_data_index,scaler.inverse_transform(test_data))\n",
        "test_data_index = pd.RangeIndex(start=train_size+101, stop=train_size+test_size, step=1)\n",
        "plt.plot(test_data_index,(y_pred))\n",
        "val_data_index = pd.RangeIndex(start=train_size+test_size, stop=train_size+test_size+val_size, step=1)\n",
        "plt.plot(val_data_index,scaler.inverse_transform(val_data))\n",
        "val_data_index = pd.RangeIndex(start=train_size+test_size+101, stop=train_size+test_size+val_size, step=1)\n",
        "plt.plot(val_data_index,y_pred_val)\n",
        "prediect_data_index = pd.RangeIndex(start=len(df1)-1, stop=len(df1)+29, step=1)\n",
        "plt.plot(prediect_data_index,scaler.inverse_transform(lst_output))\n",
        "plt.legend(['Train','Test','Predict','Validate','ValidatePred','Predict30days'])\n",
        "plt.show()"
      ],
      "metadata": {
        "colab": {
          "base_uri": "https://localhost:8080/",
          "height": 430
        },
        "outputId": "4e2e9c96-8007-4a09-c091-24cec42c155f",
        "id": "ePJTiEN0JpIQ"
      },
      "execution_count": 94,
      "outputs": [
        {
          "output_type": "display_data",
          "data": {
            "text/plain": [
              "<Figure size 640x480 with 1 Axes>"
            ],
            "image/png": "[encoded data removed]"
          },
          "metadata": {}
        }
      ]
    },
    {
      "cell_type": "markdown",
      "source": [
        "# Dataset: NLG Historical Data\n",
        "\n"
      ],
      "metadata": {
        "id": "MJ256M17Jzzg"
      }
    },
    {
      "cell_type": "code",
      "source": [
        "# 1. Import thư viện cần thiết\n",
        "from google.colab import drive\n",
        "drive.mount('/content/drive')\n",
        "import numpy as np\n",
        "import pandas as pd\n",
        "import matplotlib.pyplot as plt\n",
        "from sklearn.preprocessing import MinMaxScaler\n",
        "from keras.models import Sequential\n",
        "from keras.layers import Dense, LSTM"
      ],
      "metadata": {
        "colab": {
          "base_uri": "https://localhost:8080/"
        },
        "outputId": "993e6ffe-bd4e-40b7-f261-3d4ca0e32f08",
        "id": "8lykNR0kJzzv"
      },
      "execution_count": 95,
      "outputs": [
        {
          "output_type": "stream",
          "name": "stdout",
          "text": [
            "Drive already mounted at /content/drive; to attempt to forcibly remount, call drive.mount(\"/content/drive\", force_remount=True).\n"
          ]
        }
      ]
    },
    {
      "cell_type": "code",
      "source": [
        "# 2. Đọc file csv và gắn index với giá Close\n",
        "df = pd.read_csv('3-NLG Historical Data.csv')\n",
        "df_reversed = df.iloc[::-1].reset_index(drop=True)\n",
        "df1 = df_reversed['Price']\n",
        "# Remove commas and convert to float\n",
        "df1 = df1.str.replace(',', '').astype(float)"
      ],
      "metadata": {
        "id": "LqD0bRuLJzzw"
      },
      "execution_count": 96,
      "outputs": []
    },
    {
      "cell_type": "code",
      "source": [
        "# 3. Scaler data\n",
        "scaler=MinMaxScaler(feature_range=(0,1))\n",
        "df1=scaler.fit_transform(np.array(df1).reshape(-1,1))"
      ],
      "metadata": {
        "id": "68b6Z76-Jzzw"
      },
      "execution_count": 97,
      "outputs": []
    },
    {
      "cell_type": "code",
      "source": [
        "# 4. Chia train test\n",
        "train_size = int(0.7 * len(df1))\n",
        "test_size = int(0.2 * len(df1))\n",
        "val_size = len(df1) - train_size - test_size\n",
        "\n",
        "train_data = df1[:train_size]\n",
        "test_data = df1[train_size:train_size+test_size]\n",
        "val_data = df1[train_size+test_size:]"
      ],
      "metadata": {
        "id": "HTm0Y7WuJzzw"
      },
      "execution_count": 98,
      "outputs": []
    },
    {
      "cell_type": "code",
      "source": [
        "# 5. Hàm Create Dataset\n",
        "import numpy\n",
        "# convert an array of values into a dataset matrix\n",
        "def create_dataset(dataset, time_step=1):\n",
        "\tdataX, dataY = [], []\n",
        "\tfor i in range(len(dataset)-time_step-1):\n",
        "\t\ta = dataset[i:(i+time_step), 0]   ###i=0, X=0,1,2,3-----99   Y=100\n",
        "\t\tdataX.append(a)\n",
        "\t\tdataY.append(dataset[i + time_step, 0])\n",
        "\treturn numpy.array(dataX), numpy.array(dataY)"
      ],
      "metadata": {
        "id": "9MTQBSNJJzzw"
      },
      "execution_count": 99,
      "outputs": []
    },
    {
      "cell_type": "code",
      "source": [
        "#6. Reshape into X=t,t+1,t+2..t+99 and Y=t+100\n",
        "\n",
        "time_step = 100\n",
        "X_train, y_train = create_dataset(train_data, time_step)\n",
        "X_val, yval = create_dataset(val_data, time_step)\n",
        "X_test, ytest = create_dataset(test_data, time_step)"
      ],
      "metadata": {
        "id": "mekXM-U8Jzzw"
      },
      "execution_count": 100,
      "outputs": []
    },
    {
      "cell_type": "code",
      "source": [
        "# 7. Reshape input to be [samples, time steps, features] which is required for LSTM\n",
        "X_train =X_train.reshape(X_train.shape[0],X_train.shape[1] , 1)\n",
        "X_test = X_test.reshape(X_test.shape[0],X_test.shape[1] , 1)\n",
        "X_val = X_val.reshape(X_val.shape[0],X_val.shape[1] , 1)"
      ],
      "metadata": {
        "id": "lj4dcELaJzzw"
      },
      "execution_count": 101,
      "outputs": []
    },
    {
      "cell_type": "code",
      "source": [
        "# 8. Define LSTM Model\n",
        "\n",
        "model=Sequential()\n",
        "model.add(LSTM(50,return_sequences=True,input_shape=(100,1)))\n",
        "model.add(LSTM(50,return_sequences=True))\n",
        "model.add(LSTM(50))\n",
        "model.add(Dense(1))\n",
        "model.compile(loss='mean_squared_error',optimizer='adam')"
      ],
      "metadata": {
        "id": "w4Kc0bZqJzzw"
      },
      "execution_count": 102,
      "outputs": []
    },
    {
      "cell_type": "code",
      "source": [
        "# 9. Fit mô hình với dữ liệu train\n",
        "model.fit(X_train,y_train,validation_data=(X_test,ytest),epochs=100,batch_size=64,verbose=1)"
      ],
      "metadata": {
        "colab": {
          "base_uri": "https://localhost:8080/"
        },
        "outputId": "448fdc77-b513-4b80-f1b1-45dfe07b4cb4",
        "id": "Ofv_jNgTJzzx"
      },
      "execution_count": 103,
      "outputs": [
        {
          "output_type": "stream",
          "name": "stdout",
          "text": [
            "Epoch 1/100\n",
            "13/13 [==============================] - 10s 256ms/step - loss: 0.0483 - val_loss: 0.0087\n",
            "Epoch 2/100\n",
            "13/13 [==============================] - 2s 152ms/step - loss: 0.0134 - val_loss: 0.0051\n",
            "Epoch 3/100\n",
            "13/13 [==============================] - 2s 153ms/step - loss: 0.0046 - val_loss: 0.0020\n",
            "Epoch 4/100\n",
            "13/13 [==============================] - 2s 154ms/step - loss: 0.0040 - val_loss: 0.0021\n",
            "Epoch 5/100\n",
            "13/13 [==============================] - 3s 234ms/step - loss: 0.0032 - val_loss: 0.0019\n",
            "Epoch 6/100\n",
            "13/13 [==============================] - 3s 230ms/step - loss: 0.0031 - val_loss: 0.0022\n",
            "Epoch 7/100\n",
            "13/13 [==============================] - 2s 154ms/step - loss: 0.0029 - val_loss: 0.0021\n",
            "Epoch 8/100\n",
            "13/13 [==============================] - 2s 160ms/step - loss: 0.0030 - val_loss: 0.0019\n",
            "Epoch 9/100\n",
            "13/13 [==============================] - 2s 157ms/step - loss: 0.0027 - val_loss: 0.0018\n",
            "Epoch 10/100\n",
            "13/13 [==============================] - 2s 156ms/step - loss: 0.0025 - val_loss: 0.0018\n",
            "Epoch 11/100\n",
            "13/13 [==============================] - 3s 200ms/step - loss: 0.0023 - val_loss: 0.0021\n",
            "Epoch 12/100\n",
            "13/13 [==============================] - 3s 268ms/step - loss: 0.0024 - val_loss: 0.0021\n",
            "Epoch 13/100\n",
            "13/13 [==============================] - 2s 154ms/step - loss: 0.0023 - val_loss: 0.0017\n",
            "Epoch 14/100\n",
            "13/13 [==============================] - 2s 154ms/step - loss: 0.0025 - val_loss: 0.0017\n",
            "Epoch 15/100\n",
            "13/13 [==============================] - 2s 153ms/step - loss: 0.0021 - val_loss: 0.0018\n",
            "Epoch 16/100\n",
            "13/13 [==============================] - 2s 151ms/step - loss: 0.0023 - val_loss: 0.0016\n",
            "Epoch 17/100\n",
            "13/13 [==============================] - 2s 156ms/step - loss: 0.0019 - val_loss: 0.0019\n",
            "Epoch 18/100\n",
            "13/13 [==============================] - 3s 265ms/step - loss: 0.0020 - val_loss: 0.0015\n",
            "Epoch 19/100\n",
            "13/13 [==============================] - 3s 196ms/step - loss: 0.0017 - val_loss: 0.0015\n",
            "Epoch 20/100\n",
            "13/13 [==============================] - 2s 155ms/step - loss: 0.0016 - val_loss: 0.0021\n",
            "Epoch 21/100\n",
            "13/13 [==============================] - 2s 155ms/step - loss: 0.0019 - val_loss: 0.0014\n",
            "Epoch 22/100\n",
            "13/13 [==============================] - 2s 156ms/step - loss: 0.0015 - val_loss: 0.0014\n",
            "Epoch 23/100\n",
            "13/13 [==============================] - 2s 155ms/step - loss: 0.0015 - val_loss: 0.0014\n",
            "Epoch 24/100\n",
            "13/13 [==============================] - 3s 219ms/step - loss: 0.0016 - val_loss: 0.0014\n",
            "Epoch 25/100\n",
            "13/13 [==============================] - 3s 249ms/step - loss: 0.0014 - val_loss: 0.0012\n",
            "Epoch 26/100\n",
            "13/13 [==============================] - 2s 154ms/step - loss: 0.0013 - val_loss: 0.0012\n",
            "Epoch 27/100\n",
            "13/13 [==============================] - 2s 154ms/step - loss: 0.0013 - val_loss: 0.0012\n",
            "Epoch 28/100\n",
            "13/13 [==============================] - 2s 155ms/step - loss: 0.0012 - val_loss: 0.0012\n",
            "Epoch 29/100\n",
            "13/13 [==============================] - 2s 155ms/step - loss: 0.0012 - val_loss: 0.0015\n",
            "Epoch 30/100\n",
            "13/13 [==============================] - 2s 180ms/step - loss: 0.0017 - val_loss: 0.0016\n",
            "Epoch 31/100\n",
            "13/13 [==============================] - 3s 255ms/step - loss: 0.0027 - val_loss: 0.0016\n",
            "Epoch 32/100\n",
            "13/13 [==============================] - 2s 174ms/step - loss: 0.0017 - val_loss: 0.0016\n",
            "Epoch 33/100\n",
            "13/13 [==============================] - 2s 155ms/step - loss: 0.0018 - val_loss: 0.0014\n",
            "Epoch 34/100\n",
            "13/13 [==============================] - 2s 161ms/step - loss: 0.0013 - val_loss: 0.0012\n",
            "Epoch 35/100\n",
            "13/13 [==============================] - 2s 159ms/step - loss: 0.0012 - val_loss: 0.0011\n",
            "Epoch 36/100\n",
            "13/13 [==============================] - 2s 161ms/step - loss: 0.0011 - val_loss: 0.0012\n",
            "Epoch 37/100\n",
            "13/13 [==============================] - 3s 256ms/step - loss: 0.0011 - val_loss: 0.0013\n",
            "Epoch 38/100\n",
            "13/13 [==============================] - 3s 214ms/step - loss: 0.0012 - val_loss: 0.0013\n",
            "Epoch 39/100\n",
            "13/13 [==============================] - 2s 158ms/step - loss: 0.0013 - val_loss: 0.0012\n",
            "Epoch 40/100\n",
            "13/13 [==============================] - 2s 158ms/step - loss: 0.0011 - val_loss: 0.0012\n",
            "Epoch 41/100\n",
            "13/13 [==============================] - 2s 156ms/step - loss: 0.0012 - val_loss: 0.0011\n",
            "Epoch 42/100\n",
            "13/13 [==============================] - 2s 154ms/step - loss: 0.0012 - val_loss: 0.0011\n",
            "Epoch 43/100\n",
            "13/13 [==============================] - 3s 223ms/step - loss: 0.0011 - val_loss: 0.0012\n",
            "Epoch 44/100\n",
            "13/13 [==============================] - 3s 246ms/step - loss: 0.0011 - val_loss: 0.0010\n",
            "Epoch 45/100\n",
            "13/13 [==============================] - 2s 157ms/step - loss: 0.0011 - val_loss: 0.0013\n",
            "Epoch 46/100\n",
            "13/13 [==============================] - 2s 164ms/step - loss: 0.0012 - val_loss: 0.0011\n",
            "Epoch 47/100\n",
            "13/13 [==============================] - 2s 154ms/step - loss: 0.0011 - val_loss: 0.0011\n",
            "Epoch 48/100\n",
            "13/13 [==============================] - 2s 155ms/step - loss: 0.0010 - val_loss: 0.0010\n",
            "Epoch 49/100\n",
            "13/13 [==============================] - 2s 189ms/step - loss: 0.0010 - val_loss: 0.0011\n",
            "Epoch 50/100\n",
            "13/13 [==============================] - 3s 266ms/step - loss: 0.0014 - val_loss: 0.0011\n",
            "Epoch 51/100\n",
            "13/13 [==============================] - 2s 164ms/step - loss: 0.0012 - val_loss: 9.8765e-04\n",
            "Epoch 52/100\n",
            "13/13 [==============================] - 2s 158ms/step - loss: 0.0011 - val_loss: 0.0012\n",
            "Epoch 53/100\n",
            "13/13 [==============================] - 2s 155ms/step - loss: 0.0010 - val_loss: 9.7969e-04\n",
            "Epoch 54/100\n",
            "13/13 [==============================] - 2s 156ms/step - loss: 9.5077e-04 - val_loss: 9.8253e-04\n",
            "Epoch 55/100\n",
            "13/13 [==============================] - 2s 170ms/step - loss: 9.4856e-04 - val_loss: 9.8816e-04\n",
            "Epoch 56/100\n",
            "13/13 [==============================] - 3s 255ms/step - loss: 9.3186e-04 - val_loss: 9.8513e-04\n",
            "Epoch 57/100\n",
            "13/13 [==============================] - 3s 192ms/step - loss: 0.0010 - val_loss: 0.0011\n",
            "Epoch 58/100\n",
            "13/13 [==============================] - 2s 155ms/step - loss: 0.0012 - val_loss: 0.0012\n",
            "Epoch 59/100\n",
            "13/13 [==============================] - 2s 159ms/step - loss: 0.0013 - val_loss: 9.2894e-04\n",
            "Epoch 60/100\n",
            "13/13 [==============================] - 2s 156ms/step - loss: 9.9840e-04 - val_loss: 9.2833e-04\n",
            "Epoch 61/100\n",
            "13/13 [==============================] - 2s 159ms/step - loss: 0.0011 - val_loss: 0.0013\n",
            "Epoch 62/100\n",
            "13/13 [==============================] - 3s 238ms/step - loss: 0.0012 - val_loss: 9.7307e-04\n",
            "Epoch 63/100\n",
            "13/13 [==============================] - 3s 218ms/step - loss: 9.2996e-04 - val_loss: 9.6971e-04\n",
            "Epoch 64/100\n",
            "13/13 [==============================] - 2s 152ms/step - loss: 8.3592e-04 - val_loss: 9.3085e-04\n",
            "Epoch 65/100\n",
            "13/13 [==============================] - 2s 153ms/step - loss: 8.4963e-04 - val_loss: 9.0713e-04\n",
            "Epoch 66/100\n",
            "13/13 [==============================] - 2s 154ms/step - loss: 8.1609e-04 - val_loss: 8.7354e-04\n",
            "Epoch 67/100\n",
            "13/13 [==============================] - 2s 152ms/step - loss: 8.0820e-04 - val_loss: 9.6247e-04\n",
            "Epoch 68/100\n",
            "13/13 [==============================] - 3s 197ms/step - loss: 9.0150e-04 - val_loss: 8.4752e-04\n",
            "Epoch 69/100\n",
            "13/13 [==============================] - 3s 250ms/step - loss: 7.8891e-04 - val_loss: 8.7519e-04\n",
            "Epoch 70/100\n",
            "13/13 [==============================] - 2s 157ms/step - loss: 9.5852e-04 - val_loss: 0.0014\n",
            "Epoch 71/100\n",
            "13/13 [==============================] - 2s 155ms/step - loss: 0.0011 - val_loss: 9.7131e-04\n",
            "Epoch 72/100\n",
            "13/13 [==============================] - 2s 155ms/step - loss: 0.0016 - val_loss: 0.0011\n",
            "Epoch 73/100\n",
            "13/13 [==============================] - 2s 152ms/step - loss: 0.0013 - val_loss: 0.0011\n",
            "Epoch 74/100\n",
            "13/13 [==============================] - 2s 153ms/step - loss: 8.6557e-04 - val_loss: 8.9211e-04\n",
            "Epoch 75/100\n",
            "13/13 [==============================] - 3s 250ms/step - loss: 8.0362e-04 - val_loss: 8.0910e-04\n",
            "Epoch 76/100\n",
            "13/13 [==============================] - 3s 212ms/step - loss: 7.0832e-04 - val_loss: 7.9209e-04\n",
            "Epoch 77/100\n",
            "13/13 [==============================] - 2s 154ms/step - loss: 7.1362e-04 - val_loss: 7.9054e-04\n",
            "Epoch 78/100\n",
            "13/13 [==============================] - 2s 152ms/step - loss: 6.9993e-04 - val_loss: 7.9600e-04\n",
            "Epoch 79/100\n",
            "13/13 [==============================] - 2s 151ms/step - loss: 6.4987e-04 - val_loss: 8.9839e-04\n",
            "Epoch 80/100\n",
            "13/13 [==============================] - 2s 155ms/step - loss: 6.8947e-04 - val_loss: 7.6389e-04\n",
            "Epoch 81/100\n",
            "13/13 [==============================] - 3s 203ms/step - loss: 6.7427e-04 - val_loss: 8.3009e-04\n",
            "Epoch 82/100\n",
            "13/13 [==============================] - 3s 266ms/step - loss: 7.0370e-04 - val_loss: 7.7464e-04\n",
            "Epoch 83/100\n",
            "13/13 [==============================] - 2s 156ms/step - loss: 7.4021e-04 - val_loss: 7.1775e-04\n",
            "Epoch 84/100\n",
            "13/13 [==============================] - 2s 153ms/step - loss: 6.4811e-04 - val_loss: 7.6032e-04\n",
            "Epoch 85/100\n",
            "13/13 [==============================] - 2s 157ms/step - loss: 6.6375e-04 - val_loss: 7.1968e-04\n",
            "Epoch 86/100\n",
            "13/13 [==============================] - 2s 151ms/step - loss: 6.2713e-04 - val_loss: 0.0010\n",
            "Epoch 87/100\n",
            "13/13 [==============================] - 2s 150ms/step - loss: 7.1509e-04 - val_loss: 6.8468e-04\n",
            "Epoch 88/100\n",
            "13/13 [==============================] - 3s 245ms/step - loss: 6.1442e-04 - val_loss: 6.7572e-04\n",
            "Epoch 89/100\n",
            "13/13 [==============================] - 3s 196ms/step - loss: 5.7587e-04 - val_loss: 9.5692e-04\n",
            "Epoch 90/100\n",
            "13/13 [==============================] - 2s 153ms/step - loss: 7.8895e-04 - val_loss: 7.3915e-04\n",
            "Epoch 91/100\n",
            "13/13 [==============================] - 2s 159ms/step - loss: 6.8904e-04 - val_loss: 6.8531e-04\n",
            "Epoch 92/100\n",
            "13/13 [==============================] - 2s 155ms/step - loss: 5.4601e-04 - val_loss: 7.0409e-04\n",
            "Epoch 93/100\n",
            "13/13 [==============================] - 2s 152ms/step - loss: 6.5278e-04 - val_loss: 6.2897e-04\n",
            "Epoch 94/100\n",
            "13/13 [==============================] - 3s 214ms/step - loss: 5.5070e-04 - val_loss: 6.8281e-04\n",
            "Epoch 95/100\n",
            "13/13 [==============================] - 3s 247ms/step - loss: 6.1033e-04 - val_loss: 6.1273e-04\n",
            "Epoch 96/100\n",
            "13/13 [==============================] - 2s 153ms/step - loss: 5.7027e-04 - val_loss: 6.6706e-04\n",
            "Epoch 97/100\n",
            "13/13 [==============================] - 2s 153ms/step - loss: 5.9839e-04 - val_loss: 6.1623e-04\n",
            "Epoch 98/100\n",
            "13/13 [==============================] - 2s 153ms/step - loss: 5.3837e-04 - val_loss: 6.0556e-04\n",
            "Epoch 99/100\n",
            "13/13 [==============================] - 2s 159ms/step - loss: 8.5234e-04 - val_loss: 6.8205e-04\n",
            "Epoch 100/100\n",
            "13/13 [==============================] - 2s 177ms/step - loss: 6.6913e-04 - val_loss: 7.3511e-04\n"
          ]
        },
        {
          "output_type": "execute_result",
          "data": {
            "text/plain": [
              "<keras.src.callbacks.History at 0x785da4dfcfd0>"
            ]
          },
          "metadata": {},
          "execution_count": 103
        }
      ]
    },
    {
      "cell_type": "code",
      "source": [
        "# 10. Dự báo dữ liệu test, val\n",
        "train_predict=model.predict(X_train)\n",
        "y_pred=model.predict(X_test)\n",
        "y_pred_val=model.predict(X_val)"
      ],
      "metadata": {
        "colab": {
          "base_uri": "https://localhost:8080/"
        },
        "outputId": "631c0aaf-9017-4162-84d3-d6d4481ab6fe",
        "id": "kHIGuuhUJzzy"
      },
      "execution_count": 104,
      "outputs": [
        {
          "output_type": "stream",
          "name": "stdout",
          "text": [
            "25/25 [==============================] - 2s 32ms/step\n",
            "5/5 [==============================] - 0s 31ms/step\n",
            "1/1 [==============================] - 0s 44ms/step\n"
          ]
        }
      ]
    },
    {
      "cell_type": "code",
      "source": [
        "# 11. Chuẩn hóa dữ liệu y_pred, y_pred_val\n",
        "train_predict=scaler.inverse_transform(train_predict)\n",
        "y_pred=scaler.inverse_transform(y_pred)\n",
        "y_pred_val=scaler.inverse_transform(y_pred_val)"
      ],
      "metadata": {
        "id": "U_HqyN9CJzzy"
      },
      "execution_count": 105,
      "outputs": []
    },
    {
      "cell_type": "code",
      "source": [
        "# 12. Đánh giá độ chính xác thuật toán bằng RMSE\n",
        "valid_rmse = np.sqrt(np.mean((y_pred_val - yval)**2))\n",
        "test_rmse = np.sqrt(np.mean((y_pred - ytest)**2))\n",
        "print('Validation RMSE:', valid_rmse)\n",
        "print('Testing RMSE:', test_rmse)"
      ],
      "metadata": {
        "colab": {
          "base_uri": "https://localhost:8080/"
        },
        "outputId": "4955cbab-bafa-4f17-ceb9-aec44ec48b57",
        "id": "j6cmL6ZJJzzy"
      },
      "execution_count": 106,
      "outputs": [
        {
          "output_type": "stream",
          "name": "stdout",
          "text": [
            "Validation RMSE: 38455.63402412211\n",
            "Testing RMSE: 31265.911408387277\n"
          ]
        }
      ]
    },
    {
      "cell_type": "code",
      "source": [
        "# 13. Dự báo 30 ngày tiếp theo\n",
        "x_input = val_data[-100:].reshape(1, -1)\n",
        "temp_input = x_input[0].tolist()\n",
        "\n",
        "from numpy import array\n",
        "\n",
        "lst_output=[]\n",
        "n_steps=100\n",
        "i=0\n",
        "while(i < 30):\n",
        "    if len(temp_input) > 100:\n",
        "        x_input = np.array(temp_input[-100:])  # Ensure the input is the last 100 steps\n",
        "        x_input = x_input.reshape((1, n_steps, 1))\n",
        "        yhat = model.predict(x_input, verbose=0)\n",
        "        temp_input.extend(yhat[0].tolist())\n",
        "        temp_input = temp_input[1:]  # Keep size consistent by removing the oldest element\n",
        "        lst_output.extend(yhat.tolist())\n",
        "        i += 1\n",
        "    else:\n",
        "        x_input = np.array(temp_input).reshape((1, n_steps, 1))\n",
        "        yhat = model.predict(x_input, verbose=0)\n",
        "        temp_input.extend(yhat[0].tolist())\n",
        "        lst_output.extend(yhat.tolist())\n",
        "        i += 1"
      ],
      "metadata": {
        "id": "ZFhL4V2DJzzy"
      },
      "execution_count": 107,
      "outputs": []
    },
    {
      "cell_type": "code",
      "source": [
        "# 14.Vẽ hình\n",
        "\n",
        "train_data_index = pd.RangeIndex(start=0, stop=train_size, step=1)\n",
        "plt.plot(scaler.inverse_transform(train_data))\n",
        "test_data_index = pd.RangeIndex(start=train_size, stop=train_size+test_size, step=1)\n",
        "plt.plot(test_data_index,scaler.inverse_transform(test_data))\n",
        "test_data_index = pd.RangeIndex(start=train_size+101, stop=train_size+test_size, step=1)\n",
        "plt.plot(test_data_index,(y_pred))\n",
        "val_data_index = pd.RangeIndex(start=train_size+test_size, stop=train_size+test_size+val_size, step=1)\n",
        "plt.plot(val_data_index,scaler.inverse_transform(val_data))\n",
        "val_data_index = pd.RangeIndex(start=train_size+test_size+101, stop=train_size+test_size+val_size, step=1)\n",
        "plt.plot(val_data_index,y_pred_val)\n",
        "prediect_data_index = pd.RangeIndex(start=len(df1)-1, stop=len(df1)+29, step=1)\n",
        "plt.plot(prediect_data_index,scaler.inverse_transform(lst_output))\n",
        "plt.legend(['Train','Test','Predict','Validate','ValidatePred','Predict30days'])\n",
        "plt.show()"
      ],
      "metadata": {
        "colab": {
          "base_uri": "https://localhost:8080/",
          "height": 430
        },
        "outputId": "45fe591a-e03a-4f41-c71b-c2802b721fe6",
        "id": "AdV3pJ50Jzzy"
      },
      "execution_count": 108,
      "outputs": [
        {
          "output_type": "display_data",
          "data": {
            "text/plain": [
              "<Figure size 640x480 with 1 Axes>"
            ],
            "image/png": "[encoded data removed]"
          },
          "metadata": {}
        }
      ]
    }
  ],
  "metadata": {
    "colab": {
      "provenance": []
    },
    "kernelspec": {
      "display_name": "Python 3",
      "name": "python3"
    },
    "language_info": {
      "name": "python"
    }
  },
  "nbformat": 4,
  "nbformat_minor": 0
}