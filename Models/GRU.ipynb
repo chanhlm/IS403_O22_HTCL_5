{
  "cells": [
    {
      "cell_type": "markdown",
      "source": [
        "# 1. VHM Dataset"
      ],
      "metadata": {
        "id": "lfWF5zCsQm3p"
      }
    },
    {
      "cell_type": "code",
      "source": [
        "# 1. Import thư viện cần thiết\n",
        "from google.colab import drive\n",
        "drive.mount('/content/drive')\n",
        "import numpy as np\n",
        "import pandas as pd\n",
        "import matplotlib.pyplot as plt\n",
        "from sklearn.preprocessing import MinMaxScaler\n",
        "from keras.models import Sequential\n",
        "from keras.layers import Dense, GRU"
      ],
      "metadata": {
        "colab": {
          "base_uri": "https://localhost:8080/"
        },
        "id": "FMDKda-XIUAK",
        "outputId": "0ea7d9d2-f9d8-4d83-9c78-122d64f21a89"
      },
      "execution_count": 162,
      "outputs": [
        {
          "output_type": "stream",
          "name": "stdout",
          "text": [
            "Drive already mounted at /content/drive; to attempt to forcibly remount, call drive.mount(\"/content/drive\", force_remount=True).\n"
          ]
        }
      ]
    },
    {
      "cell_type": "code",
      "source": [
        "# 2. Đọc file csv và gắn index với giá Close\n",
        "df = pd.read_csv('1-VHM Historical Data.csv')\n",
        "df_reversed = df.iloc[::-1].reset_index(drop=True)\n",
        "df1 = df_reversed['Price']\n",
        "# Remove commas and convert to float\n",
        "df1 = df1.str.replace(',', '').astype(float)\n",
        "df1"
      ],
      "metadata": {
        "id": "aRm9GQ8KJJ5N",
        "colab": {
          "base_uri": "https://localhost:8080/"
        },
        "outputId": "d88e8cc7-9f68-4233-97e7-cf6d763d48c7"
      },
      "execution_count": 163,
      "outputs": [
        {
          "output_type": "execute_result",
          "data": {
            "text/plain": [
              "0       68421.0\n",
              "1       70075.0\n",
              "2       68421.0\n",
              "3       69022.0\n",
              "4       69173.0\n",
              "         ...   \n",
              "1247    43350.0\n",
              "1248    44200.0\n",
              "1249    44400.0\n",
              "1250    43400.0\n",
              "1251    43950.0\n",
              "Name: Price, Length: 1252, dtype: float64"
            ]
          },
          "metadata": {},
          "execution_count": 163
        }
      ]
    },
    {
      "cell_type": "code",
      "source": [
        "# 3. Scaler data\n",
        "scaler=MinMaxScaler(feature_range=(0,1))\n",
        "df1=scaler.fit_transform(np.array(df1).reshape(-1,1))"
      ],
      "metadata": {
        "id": "RdVpDho2JgL5"
      },
      "execution_count": 164,
      "outputs": []
    },
    {
      "cell_type": "code",
      "source": [
        "# 4. Chia train test\n",
        "train_size = int(0.7 * len(df1))\n",
        "test_size = int(0.2 * len(df1))\n",
        "val_size = len(df1) - train_size - test_size\n",
        "\n",
        "train_data = df1[:train_size]\n",
        "test_data = df1[train_size:train_size+test_size]\n",
        "val_data = df1[train_size+test_size:]"
      ],
      "metadata": {
        "id": "B5JXpenzJoR3"
      },
      "execution_count": 165,
      "outputs": []
    },
    {
      "cell_type": "code",
      "source": [
        "# 5. Hàm Create Dataset\n",
        "import numpy\n",
        "# convert an array of values into a dataset matrix\n",
        "def create_dataset(dataset, time_step=1):\n",
        "\tdataX, dataY = [], []\n",
        "\tfor i in range(len(dataset)-time_step-1):\n",
        "\t\ta = dataset[i:(i+time_step), 0]   ###i=0, X=0,1,2,3-----99   Y=100\n",
        "\t\tdataX.append(a)\n",
        "\t\tdataY.append(dataset[i + time_step, 0])\n",
        "\treturn numpy.array(dataX), numpy.array(dataY)"
      ],
      "metadata": {
        "id": "yJfmuBORLSfC"
      },
      "execution_count": 166,
      "outputs": []
    },
    {
      "cell_type": "code",
      "source": [
        "#6. Reshape into X=t,t+1,t+2..t+99 and Y=t+100\n",
        "\n",
        "time_step = 100\n",
        "X_train, y_train = create_dataset(train_data, time_step)\n",
        "X_val, yval = create_dataset(val_data, time_step)\n",
        "X_test, ytest = create_dataset(test_data, time_step)"
      ],
      "metadata": {
        "id": "e81cKq03LXFB"
      },
      "execution_count": 167,
      "outputs": []
    },
    {
      "cell_type": "code",
      "source": [
        "# 7. Reshape input to be [samples, time steps, features] which is required for LSTM\n",
        "X_train =X_train.reshape(X_train.shape[0],X_train.shape[1] , 1)\n",
        "X_test = X_test.reshape(X_test.shape[0],X_test.shape[1] , 1)\n",
        "X_val = X_val.reshape(X_val.shape[0],X_val.shape[1] , 1)"
      ],
      "metadata": {
        "id": "RdBVfku7O2qb"
      },
      "execution_count": 168,
      "outputs": []
    },
    {
      "cell_type": "code",
      "source": [
        "# 8. Define GRU Model\n",
        "\n",
        "model = Sequential()\n",
        "model.add(GRU(64, input_shape=(time_step, 1)))\n",
        "model.add(Dense(1))\n",
        "model.compile(optimizer='adam', loss='mean_squared_error')"
      ],
      "metadata": {
        "id": "sSfxrE7BO9vX"
      },
      "execution_count": 169,
      "outputs": []
    },
    {
      "cell_type": "code",
      "source": [
        "# 9. Fit mô hình với dữ liệu train\n",
        "model.fit(X_train,y_train,validation_data=(X_test,ytest),epochs=100,batch_size=64,verbose=1)"
      ],
      "metadata": {
        "colab": {
          "base_uri": "https://localhost:8080/"
        },
        "id": "zgfeujZSPEKr",
        "outputId": "5aea2373-43bd-48dd-dd23-a6fe9cb7b5be"
      },
      "execution_count": 170,
      "outputs": [
        {
          "output_type": "stream",
          "name": "stdout",
          "text": [
            "Epoch 1/100\n",
            "13/13 [==============================] - 5s 169ms/step - loss: 0.2503 - val_loss: 0.0135\n",
            "Epoch 2/100\n",
            "13/13 [==============================] - 1s 103ms/step - loss: 0.0213 - val_loss: 0.0529\n",
            "Epoch 3/100\n",
            "13/13 [==============================] - 1s 62ms/step - loss: 0.0105 - val_loss: 0.0166\n",
            "Epoch 4/100\n",
            "13/13 [==============================] - 1s 62ms/step - loss: 0.0093 - val_loss: 0.0228\n",
            "Epoch 5/100\n",
            "13/13 [==============================] - 1s 62ms/step - loss: 0.0069 - val_loss: 0.0230\n",
            "Epoch 6/100\n",
            "13/13 [==============================] - 1s 61ms/step - loss: 0.0059 - val_loss: 0.0162\n",
            "Epoch 7/100\n",
            "13/13 [==============================] - 1s 61ms/step - loss: 0.0051 - val_loss: 0.0150\n",
            "Epoch 8/100\n",
            "13/13 [==============================] - 1s 60ms/step - loss: 0.0043 - val_loss: 0.0116\n",
            "Epoch 9/100\n",
            "13/13 [==============================] - 1s 61ms/step - loss: 0.0037 - val_loss: 0.0095\n",
            "Epoch 10/100\n",
            "13/13 [==============================] - 1s 60ms/step - loss: 0.0031 - val_loss: 0.0077\n",
            "Epoch 11/100\n",
            "13/13 [==============================] - 1s 64ms/step - loss: 0.0025 - val_loss: 0.0055\n",
            "Epoch 12/100\n",
            "13/13 [==============================] - 1s 61ms/step - loss: 0.0021 - val_loss: 0.0043\n",
            "Epoch 13/100\n",
            "13/13 [==============================] - 1s 59ms/step - loss: 0.0018 - val_loss: 0.0030\n",
            "Epoch 14/100\n",
            "13/13 [==============================] - 1s 60ms/step - loss: 0.0016 - val_loss: 0.0024\n",
            "Epoch 15/100\n",
            "13/13 [==============================] - 1s 75ms/step - loss: 0.0014 - val_loss: 0.0019\n",
            "Epoch 16/100\n",
            "13/13 [==============================] - 1s 94ms/step - loss: 0.0013 - val_loss: 0.0015\n",
            "Epoch 17/100\n",
            "13/13 [==============================] - 1s 90ms/step - loss: 0.0013 - val_loss: 0.0015\n",
            "Epoch 18/100\n",
            "13/13 [==============================] - 1s 107ms/step - loss: 0.0012 - val_loss: 0.0013\n",
            "Epoch 19/100\n",
            "13/13 [==============================] - 1s 84ms/step - loss: 0.0012 - val_loss: 0.0012\n",
            "Epoch 20/100\n",
            "13/13 [==============================] - 1s 60ms/step - loss: 0.0012 - val_loss: 0.0012\n",
            "Epoch 21/100\n",
            "13/13 [==============================] - 1s 59ms/step - loss: 0.0011 - val_loss: 0.0012\n",
            "Epoch 22/100\n",
            "13/13 [==============================] - 1s 62ms/step - loss: 0.0012 - val_loss: 0.0012\n",
            "Epoch 23/100\n",
            "13/13 [==============================] - 1s 61ms/step - loss: 0.0011 - val_loss: 0.0011\n",
            "Epoch 24/100\n",
            "13/13 [==============================] - 1s 62ms/step - loss: 0.0011 - val_loss: 0.0012\n",
            "Epoch 25/100\n",
            "13/13 [==============================] - 1s 56ms/step - loss: 0.0011 - val_loss: 0.0011\n",
            "Epoch 26/100\n",
            "13/13 [==============================] - 1s 60ms/step - loss: 0.0011 - val_loss: 0.0012\n",
            "Epoch 27/100\n",
            "13/13 [==============================] - 1s 60ms/step - loss: 0.0011 - val_loss: 0.0011\n",
            "Epoch 28/100\n",
            "13/13 [==============================] - 1s 59ms/step - loss: 0.0010 - val_loss: 0.0011\n",
            "Epoch 29/100\n",
            "13/13 [==============================] - 1s 56ms/step - loss: 0.0010 - val_loss: 0.0011\n",
            "Epoch 30/100\n",
            "13/13 [==============================] - 1s 59ms/step - loss: 0.0011 - val_loss: 0.0011\n",
            "Epoch 31/100\n",
            "13/13 [==============================] - 1s 58ms/step - loss: 0.0010 - val_loss: 0.0010\n",
            "Epoch 32/100\n",
            "13/13 [==============================] - 1s 77ms/step - loss: 0.0010 - val_loss: 0.0011\n",
            "Epoch 33/100\n",
            "13/13 [==============================] - 1s 101ms/step - loss: 9.9953e-04 - val_loss: 0.0011\n",
            "Epoch 34/100\n",
            "13/13 [==============================] - 1s 98ms/step - loss: 0.0010 - val_loss: 9.8058e-04\n",
            "Epoch 35/100\n",
            "13/13 [==============================] - 1s 105ms/step - loss: 9.7955e-04 - val_loss: 0.0010\n",
            "Epoch 36/100\n",
            "13/13 [==============================] - 1s 65ms/step - loss: 9.7449e-04 - val_loss: 0.0010\n",
            "Epoch 37/100\n",
            "13/13 [==============================] - 1s 57ms/step - loss: 9.9052e-04 - val_loss: 0.0011\n",
            "Epoch 38/100\n",
            "13/13 [==============================] - 1s 61ms/step - loss: 9.7036e-04 - val_loss: 0.0011\n",
            "Epoch 39/100\n",
            "13/13 [==============================] - 1s 58ms/step - loss: 9.7375e-04 - val_loss: 9.7235e-04\n",
            "Epoch 40/100\n",
            "13/13 [==============================] - 1s 58ms/step - loss: 9.3904e-04 - val_loss: 9.5439e-04\n",
            "Epoch 41/100\n",
            "13/13 [==============================] - 1s 58ms/step - loss: 9.3077e-04 - val_loss: 0.0010\n",
            "Epoch 42/100\n",
            "13/13 [==============================] - 1s 58ms/step - loss: 9.5278e-04 - val_loss: 9.4826e-04\n",
            "Epoch 43/100\n",
            "13/13 [==============================] - 1s 57ms/step - loss: 9.2742e-04 - val_loss: 0.0010\n",
            "Epoch 44/100\n",
            "13/13 [==============================] - 1s 59ms/step - loss: 9.2155e-04 - val_loss: 9.7961e-04\n",
            "Epoch 45/100\n",
            "13/13 [==============================] - 1s 59ms/step - loss: 9.0654e-04 - val_loss: 9.6657e-04\n",
            "Epoch 46/100\n",
            "13/13 [==============================] - 1s 60ms/step - loss: 8.9690e-04 - val_loss: 9.0641e-04\n",
            "Epoch 47/100\n",
            "13/13 [==============================] - 1s 61ms/step - loss: 8.9915e-04 - val_loss: 9.5985e-04\n",
            "Epoch 48/100\n",
            "13/13 [==============================] - 1s 60ms/step - loss: 9.0365e-04 - val_loss: 8.7136e-04\n",
            "Epoch 49/100\n",
            "13/13 [==============================] - 1s 83ms/step - loss: 8.9855e-04 - val_loss: 8.5096e-04\n",
            "Epoch 50/100\n",
            "13/13 [==============================] - 1s 96ms/step - loss: 9.0078e-04 - val_loss: 8.6853e-04\n",
            "Epoch 51/100\n",
            "13/13 [==============================] - 1s 100ms/step - loss: 8.8993e-04 - val_loss: 8.8168e-04\n",
            "Epoch 52/100\n",
            "13/13 [==============================] - 1s 104ms/step - loss: 8.7324e-04 - val_loss: 9.0846e-04\n",
            "Epoch 53/100\n",
            "13/13 [==============================] - 1s 58ms/step - loss: 8.7219e-04 - val_loss: 9.0343e-04\n",
            "Epoch 54/100\n",
            "13/13 [==============================] - 1s 58ms/step - loss: 8.6565e-04 - val_loss: 8.7709e-04\n",
            "Epoch 55/100\n",
            "13/13 [==============================] - 1s 59ms/step - loss: 8.6047e-04 - val_loss: 8.5693e-04\n",
            "Epoch 56/100\n",
            "13/13 [==============================] - 1s 58ms/step - loss: 8.5817e-04 - val_loss: 8.4124e-04\n",
            "Epoch 57/100\n",
            "13/13 [==============================] - 1s 57ms/step - loss: 8.6289e-04 - val_loss: 8.6063e-04\n",
            "Epoch 58/100\n",
            "13/13 [==============================] - 1s 59ms/step - loss: 8.6639e-04 - val_loss: 8.3314e-04\n",
            "Epoch 59/100\n",
            "13/13 [==============================] - 1s 60ms/step - loss: 8.5213e-04 - val_loss: 8.7487e-04\n",
            "Epoch 60/100\n",
            "13/13 [==============================] - 1s 61ms/step - loss: 8.6439e-04 - val_loss: 8.8991e-04\n",
            "Epoch 61/100\n",
            "13/13 [==============================] - 1s 60ms/step - loss: 8.5131e-04 - val_loss: 8.9853e-04\n",
            "Epoch 62/100\n",
            "13/13 [==============================] - 1s 60ms/step - loss: 8.4484e-04 - val_loss: 8.4589e-04\n",
            "Epoch 63/100\n",
            "13/13 [==============================] - 1s 60ms/step - loss: 8.4621e-04 - val_loss: 8.7609e-04\n",
            "Epoch 64/100\n",
            "13/13 [==============================] - 1s 60ms/step - loss: 8.3174e-04 - val_loss: 7.9968e-04\n",
            "Epoch 65/100\n",
            "13/13 [==============================] - 1s 58ms/step - loss: 8.5667e-04 - val_loss: 7.9881e-04\n",
            "Epoch 66/100\n",
            "13/13 [==============================] - 1s 99ms/step - loss: 8.4351e-04 - val_loss: 8.1234e-04\n",
            "Epoch 67/100\n",
            "13/13 [==============================] - 1s 99ms/step - loss: 8.2025e-04 - val_loss: 8.2622e-04\n",
            "Epoch 68/100\n",
            "13/13 [==============================] - 1s 100ms/step - loss: 8.2022e-04 - val_loss: 7.9613e-04\n",
            "Epoch 69/100\n",
            "13/13 [==============================] - 1s 98ms/step - loss: 8.1237e-04 - val_loss: 8.0777e-04\n",
            "Epoch 70/100\n",
            "13/13 [==============================] - 1s 64ms/step - loss: 8.0826e-04 - val_loss: 7.9993e-04\n",
            "Epoch 71/100\n",
            "13/13 [==============================] - 1s 60ms/step - loss: 8.2146e-04 - val_loss: 8.4707e-04\n",
            "Epoch 72/100\n",
            "13/13 [==============================] - 1s 61ms/step - loss: 8.5104e-04 - val_loss: 9.4896e-04\n",
            "Epoch 73/100\n",
            "13/13 [==============================] - 1s 59ms/step - loss: 8.7263e-04 - val_loss: 8.3309e-04\n",
            "Epoch 74/100\n",
            "13/13 [==============================] - 1s 58ms/step - loss: 8.0343e-04 - val_loss: 8.1909e-04\n",
            "Epoch 75/100\n",
            "13/13 [==============================] - 1s 59ms/step - loss: 8.0056e-04 - val_loss: 7.3855e-04\n",
            "Epoch 76/100\n",
            "13/13 [==============================] - 1s 58ms/step - loss: 8.0797e-04 - val_loss: 7.4519e-04\n",
            "Epoch 77/100\n",
            "13/13 [==============================] - 1s 58ms/step - loss: 8.1460e-04 - val_loss: 7.3317e-04\n",
            "Epoch 78/100\n",
            "13/13 [==============================] - 1s 60ms/step - loss: 8.2380e-04 - val_loss: 7.4074e-04\n",
            "Epoch 79/100\n",
            "13/13 [==============================] - 1s 59ms/step - loss: 7.9238e-04 - val_loss: 8.0465e-04\n",
            "Epoch 80/100\n",
            "13/13 [==============================] - 1s 58ms/step - loss: 8.4584e-04 - val_loss: 8.8398e-04\n",
            "Epoch 81/100\n",
            "13/13 [==============================] - 1s 103ms/step - loss: 8.0380e-04 - val_loss: 7.7881e-04\n",
            "Epoch 82/100\n",
            "13/13 [==============================] - 1s 80ms/step - loss: 7.8453e-04 - val_loss: 7.8982e-04\n",
            "Epoch 83/100\n",
            "13/13 [==============================] - 1s 102ms/step - loss: 7.8887e-04 - val_loss: 7.4140e-04\n",
            "Epoch 84/100\n",
            "13/13 [==============================] - 1s 93ms/step - loss: 7.7569e-04 - val_loss: 7.6381e-04\n",
            "Epoch 85/100\n",
            "13/13 [==============================] - 1s 100ms/step - loss: 7.7996e-04 - val_loss: 7.7047e-04\n",
            "Epoch 86/100\n",
            "13/13 [==============================] - 1s 74ms/step - loss: 7.7394e-04 - val_loss: 7.7215e-04\n",
            "Epoch 87/100\n",
            "13/13 [==============================] - 1s 59ms/step - loss: 7.8008e-04 - val_loss: 8.0348e-04\n",
            "Epoch 88/100\n",
            "13/13 [==============================] - 1s 61ms/step - loss: 7.7808e-04 - val_loss: 8.4232e-04\n",
            "Epoch 89/100\n",
            "13/13 [==============================] - 1s 58ms/step - loss: 8.0776e-04 - val_loss: 8.9187e-04\n",
            "Epoch 90/100\n",
            "13/13 [==============================] - 1s 58ms/step - loss: 8.8560e-04 - val_loss: 9.6473e-04\n",
            "Epoch 91/100\n",
            "13/13 [==============================] - 1s 59ms/step - loss: 8.5204e-04 - val_loss: 9.7328e-04\n",
            "Epoch 92/100\n",
            "13/13 [==============================] - 1s 60ms/step - loss: 8.7734e-04 - val_loss: 8.7684e-04\n",
            "Epoch 93/100\n",
            "13/13 [==============================] - 1s 59ms/step - loss: 8.1976e-04 - val_loss: 7.8266e-04\n",
            "Epoch 94/100\n",
            "13/13 [==============================] - 1s 60ms/step - loss: 7.6074e-04 - val_loss: 7.5289e-04\n",
            "Epoch 95/100\n",
            "13/13 [==============================] - 1s 60ms/step - loss: 7.6263e-04 - val_loss: 8.1323e-04\n",
            "Epoch 96/100\n",
            "13/13 [==============================] - 1s 59ms/step - loss: 7.9531e-04 - val_loss: 7.4424e-04\n",
            "Epoch 97/100\n",
            "13/13 [==============================] - 1s 59ms/step - loss: 7.6766e-04 - val_loss: 7.3001e-04\n",
            "Epoch 98/100\n",
            "13/13 [==============================] - 1s 60ms/step - loss: 7.5993e-04 - val_loss: 7.3764e-04\n",
            "Epoch 99/100\n",
            "13/13 [==============================] - 1s 89ms/step - loss: 7.5993e-04 - val_loss: 6.9565e-04\n",
            "Epoch 100/100\n",
            "13/13 [==============================] - 1s 101ms/step - loss: 7.6971e-04 - val_loss: 6.9458e-04\n"
          ]
        },
        {
          "output_type": "execute_result",
          "data": {
            "text/plain": [
              "<keras.src.callbacks.History at 0x7912f24e39d0>"
            ]
          },
          "metadata": {},
          "execution_count": 170
        }
      ]
    },
    {
      "cell_type": "code",
      "source": [
        "# 10. Dự báo dữ liệu test, val\n",
        "train_predict=model.predict(X_train)\n",
        "y_pred=model.predict(X_test)\n",
        "y_pred_val=model.predict(X_val)"
      ],
      "metadata": {
        "colab": {
          "base_uri": "https://localhost:8080/"
        },
        "id": "Rxx_KQSkQpBG",
        "outputId": "7ffc7e66-42ee-45eb-ccf0-1960918f3ad4"
      },
      "execution_count": 171,
      "outputs": [
        {
          "output_type": "stream",
          "name": "stdout",
          "text": [
            "25/25 [==============================] - 1s 18ms/step\n",
            "5/5 [==============================] - 0s 22ms/step\n",
            "1/1 [==============================] - 0s 49ms/step\n"
          ]
        }
      ]
    },
    {
      "cell_type": "code",
      "source": [
        "# 11. Chuẩn hóa dữ liệu y_pred, y_pred_val\n",
        "train_predict=scaler.inverse_transform(train_predict)\n",
        "y_pred=scaler.inverse_transform(y_pred)\n",
        "y_pred_val=scaler.inverse_transform(y_pred_val)"
      ],
      "metadata": {
        "id": "5rwTN10LQ7rj"
      },
      "execution_count": 172,
      "outputs": []
    },
    {
      "cell_type": "code",
      "source": [
        "# 12. Đánh giá độ chính xác thuật toán bằng RMSE\n",
        "valid_rmse = np.sqrt(np.mean((y_pred_val - yval)**2))\n",
        "test_rmse = np.sqrt(np.mean((y_pred - ytest)**2))\n",
        "print('Validation RMSE:', valid_rmse)\n",
        "print('Testing RMSE:', test_rmse)"
      ],
      "metadata": {
        "colab": {
          "base_uri": "https://localhost:8080/"
        },
        "id": "wu_9j94kRonD",
        "outputId": "74ea2e87-fb9c-405f-ea9a-12d387e3767a"
      },
      "execution_count": 173,
      "outputs": [
        {
          "output_type": "stream",
          "name": "stdout",
          "text": [
            "Validation RMSE: 43432.64202770157\n",
            "Testing RMSE: 52450.644720441975\n"
          ]
        }
      ]
    },
    {
      "cell_type": "code",
      "source": [
        "# 13. Dự báo 30 ngày tiếp theo\n",
        "x_input = val_data[-100:].reshape(1, -1)\n",
        "temp_input = x_input[0].tolist()\n",
        "\n",
        "from numpy import array\n",
        "\n",
        "lst_output=[]\n",
        "n_steps=100\n",
        "i=0\n",
        "while(i < 30):\n",
        "    if len(temp_input) > 100:\n",
        "        x_input = np.array(temp_input[-100:])\n",
        "        x_input = x_input.reshape((1, n_steps, 1))\n",
        "        yhat = model.predict(x_input, verbose=0)\n",
        "        temp_input.extend(yhat[0].tolist())\n",
        "        temp_input = temp_input[1:]\n",
        "        lst_output.extend(yhat.tolist())\n",
        "        i += 1\n",
        "    else:\n",
        "        x_input = np.array(temp_input).reshape((1, n_steps, 1))\n",
        "        yhat = model.predict(x_input, verbose=0)\n",
        "        temp_input.extend(yhat[0].tolist())\n",
        "        lst_output.extend(yhat.tolist())\n",
        "        i += 1"
      ],
      "metadata": {
        "id": "izQZ1iQyYl6N"
      },
      "execution_count": 174,
      "outputs": []
    },
    {
      "cell_type": "code",
      "source": [
        "# 14.Vẽ hình\n",
        "\n",
        "train_data_index = pd.RangeIndex(start=0, stop=train_size, step=1)\n",
        "plt.plot(scaler.inverse_transform(train_data))\n",
        "test_data_index = pd.RangeIndex(start=train_size, stop=train_size+test_size, step=1)\n",
        "plt.plot(test_data_index,scaler.inverse_transform(test_data))\n",
        "test_data_index = pd.RangeIndex(start=train_size+101, stop=train_size+test_size, step=1)\n",
        "plt.plot(test_data_index,(y_pred))\n",
        "val_data_index = pd.RangeIndex(start=train_size+test_size, stop=train_size+test_size+val_size, step=1)\n",
        "plt.plot(val_data_index,scaler.inverse_transform(val_data))\n",
        "val_data_index = pd.RangeIndex(start=train_size+test_size+101, stop=train_size+test_size+val_size, step=1)\n",
        "plt.plot(val_data_index,y_pred_val)\n",
        "prediect_data_index = pd.RangeIndex(start=len(df1)-1, stop=len(df1)+29, step=1)\n",
        "plt.plot(prediect_data_index,scaler.inverse_transform(lst_output))\n",
        "plt.legend(['Train','Test','Predict','Validate','ValidatePred','Predict30days'])\n",
        "plt.show()"
      ],
      "metadata": {
        "colab": {
          "base_uri": "https://localhost:8080/",
          "height": 430
        },
        "id": "KSa_mX51a654",
        "outputId": "2735c82b-a30c-409a-e1ce-f8ade9a6e046"
      },
      "execution_count": 175,
      "outputs": [
        {
          "output_type": "display_data",
          "data": {
            "text/plain": [
              "<Figure size 640x480 with 1 Axes>"
            ],
            "image/png": "[encoded data removed]"
          },
          "metadata": {}
        }
      ]
    },
    {
      "cell_type": "markdown",
      "source": [
        "# 2. NVL Dataset"
      ],
      "metadata": {
        "id": "8N0cpOrXe6pE"
      }
    },
    {
      "cell_type": "code",
      "source": [
        "# 1. Import thư viện cần thiết\n",
        "from google.colab import drive\n",
        "drive.mount('/content/drive')\n",
        "import numpy as np\n",
        "import pandas as pd\n",
        "import matplotlib.pyplot as plt\n",
        "from sklearn.preprocessing import MinMaxScaler\n",
        "from keras.models import Sequential\n",
        "from keras.layers import Dense, GRU"
      ],
      "metadata": {
        "colab": {
          "base_uri": "https://localhost:8080/"
        },
        "outputId": "92308f26-b1a3-4c1d-cf39-0bb380df8b9a",
        "id": "FB9DHWuAe6pF"
      },
      "execution_count": 176,
      "outputs": [
        {
          "output_type": "stream",
          "name": "stdout",
          "text": [
            "Drive already mounted at /content/drive; to attempt to forcibly remount, call drive.mount(\"/content/drive\", force_remount=True).\n"
          ]
        }
      ]
    },
    {
      "cell_type": "code",
      "source": [
        "# 2. Đọc file csv và gắn index với giá Close\n",
        "df = pd.read_csv('2-NVL Historical Data.csv')\n",
        "df_reversed = df.iloc[::-1].reset_index(drop=True)\n",
        "df1 = df_reversed['Price']\n",
        "# Remove commas and convert to float\n",
        "df1 = df1.str.replace(',', '').astype(float)\n",
        "df1"
      ],
      "metadata": {
        "colab": {
          "base_uri": "https://localhost:8080/"
        },
        "outputId": "781ee94c-5f61-4198-cdc5-fe0a71005d1b",
        "id": "dLh8FQ9je6pF"
      },
      "execution_count": 177,
      "outputs": [
        {
          "output_type": "execute_result",
          "data": {
            "text/plain": [
              "0       32933.0\n",
              "1       33100.0\n",
              "2       32711.0\n",
              "3       31709.0\n",
              "4       31932.0\n",
              "         ...   \n",
              "1247    16800.0\n",
              "1248    17050.0\n",
              "1249    17000.0\n",
              "1250    17100.0\n",
              "1251    17300.0\n",
              "Name: Price, Length: 1252, dtype: float64"
            ]
          },
          "metadata": {},
          "execution_count": 177
        }
      ]
    },
    {
      "cell_type": "code",
      "source": [
        "# 3. Scaler data\n",
        "scaler=MinMaxScaler(feature_range=(0,1))\n",
        "df1=scaler.fit_transform(np.array(df1).reshape(-1,1))"
      ],
      "metadata": {
        "id": "1urszPvte6pF"
      },
      "execution_count": 178,
      "outputs": []
    },
    {
      "cell_type": "code",
      "source": [
        "# 4. Chia train test\n",
        "train_size = int(0.7 * len(df1))\n",
        "test_size = int(0.2 * len(df1))\n",
        "val_size = len(df1) - train_size - test_size\n",
        "\n",
        "train_data = df1[:train_size]\n",
        "test_data = df1[train_size:train_size+test_size]\n",
        "val_data = df1[train_size+test_size:]"
      ],
      "metadata": {
        "id": "-dit5AmDe6pG"
      },
      "execution_count": 179,
      "outputs": []
    },
    {
      "cell_type": "code",
      "source": [
        "# 5. Hàm Create Dataset\n",
        "import numpy\n",
        "# convert an array of values into a dataset matrix\n",
        "def create_dataset(dataset, time_step=1):\n",
        "\tdataX, dataY = [], []\n",
        "\tfor i in range(len(dataset)-time_step-1):\n",
        "\t\ta = dataset[i:(i+time_step), 0]   ###i=0, X=0,1,2,3-----99   Y=100\n",
        "\t\tdataX.append(a)\n",
        "\t\tdataY.append(dataset[i + time_step, 0])\n",
        "\treturn numpy.array(dataX), numpy.array(dataY)"
      ],
      "metadata": {
        "id": "FDqeRxlFe6pG"
      },
      "execution_count": 180,
      "outputs": []
    },
    {
      "cell_type": "code",
      "source": [
        "#6. Reshape into X=t,t+1,t+2..t+99 and Y=t+100\n",
        "\n",
        "time_step = 100\n",
        "X_train, y_train = create_dataset(train_data, time_step)\n",
        "X_val, yval = create_dataset(val_data, time_step)\n",
        "X_test, ytest = create_dataset(test_data, time_step)"
      ],
      "metadata": {
        "id": "bKrhQ6kke6pG"
      },
      "execution_count": 181,
      "outputs": []
    },
    {
      "cell_type": "code",
      "source": [
        "# 7. Reshape input to be [samples, time steps, features] which is required for LSTM\n",
        "X_train =X_train.reshape(X_train.shape[0],X_train.shape[1] , 1)\n",
        "X_test = X_test.reshape(X_test.shape[0],X_test.shape[1] , 1)\n",
        "X_val = X_val.reshape(X_val.shape[0],X_val.shape[1] , 1)"
      ],
      "metadata": {
        "id": "45C7ZUCxe6pG"
      },
      "execution_count": 182,
      "outputs": []
    },
    {
      "cell_type": "code",
      "source": [
        "# 8. Define GRU Model\n",
        "\n",
        "model = Sequential()\n",
        "model.add(GRU(64, input_shape=(time_step, 1)))\n",
        "model.add(Dense(1))\n",
        "model.compile(optimizer='adam', loss='mean_squared_error')"
      ],
      "metadata": {
        "id": "ZC878dpBe6pG"
      },
      "execution_count": 183,
      "outputs": []
    },
    {
      "cell_type": "code",
      "source": [
        "# 9. Fit mô hình với dữ liệu train\n",
        "model.fit(X_train,y_train,validation_data=(X_test,ytest),epochs=100,batch_size=64,verbose=1)"
      ],
      "metadata": {
        "colab": {
          "base_uri": "https://localhost:8080/"
        },
        "outputId": "b87da31d-d313-4359-da2f-cd86c45231b5",
        "id": "ksS091_de6pG"
      },
      "execution_count": 184,
      "outputs": [
        {
          "output_type": "stream",
          "name": "stdout",
          "text": [
            "Epoch 1/100\n",
            "13/13 [==============================] - 3s 96ms/step - loss: 0.2103 - val_loss: 0.0399\n",
            "Epoch 2/100\n",
            "13/13 [==============================] - 1s 56ms/step - loss: 0.0269 - val_loss: 0.0504\n",
            "Epoch 3/100\n",
            "13/13 [==============================] - 1s 85ms/step - loss: 0.0108 - val_loss: 0.0219\n",
            "Epoch 4/100\n",
            "13/13 [==============================] - 1s 90ms/step - loss: 0.0080 - val_loss: 0.0230\n",
            "Epoch 5/100\n",
            "13/13 [==============================] - 1s 95ms/step - loss: 0.0048 - val_loss: 0.0130\n",
            "Epoch 6/100\n",
            "13/13 [==============================] - 1s 102ms/step - loss: 0.0026 - val_loss: 0.0067\n",
            "Epoch 7/100\n",
            "13/13 [==============================] - 1s 73ms/step - loss: 0.0014 - val_loss: 0.0034\n",
            "Epoch 8/100\n",
            "13/13 [==============================] - 1s 60ms/step - loss: 7.2542e-04 - val_loss: 0.0014\n",
            "Epoch 9/100\n",
            "13/13 [==============================] - 1s 60ms/step - loss: 5.1016e-04 - val_loss: 6.7552e-04\n",
            "Epoch 10/100\n",
            "13/13 [==============================] - 1s 59ms/step - loss: 4.6017e-04 - val_loss: 4.3884e-04\n",
            "Epoch 11/100\n",
            "13/13 [==============================] - 1s 55ms/step - loss: 4.4788e-04 - val_loss: 3.6874e-04\n",
            "Epoch 12/100\n",
            "13/13 [==============================] - 1s 57ms/step - loss: 4.3875e-04 - val_loss: 4.5713e-04\n",
            "Epoch 13/100\n",
            "13/13 [==============================] - 1s 57ms/step - loss: 4.4680e-04 - val_loss: 3.8809e-04\n",
            "Epoch 14/100\n",
            "13/13 [==============================] - 1s 57ms/step - loss: 4.1927e-04 - val_loss: 4.4277e-04\n",
            "Epoch 15/100\n",
            "13/13 [==============================] - 1s 58ms/step - loss: 4.1140e-04 - val_loss: 3.6851e-04\n",
            "Epoch 16/100\n",
            "13/13 [==============================] - 1s 60ms/step - loss: 4.0157e-04 - val_loss: 4.0548e-04\n",
            "Epoch 17/100\n",
            "13/13 [==============================] - 1s 59ms/step - loss: 3.9334e-04 - val_loss: 3.9165e-04\n",
            "Epoch 18/100\n",
            "13/13 [==============================] - 1s 57ms/step - loss: 3.8454e-04 - val_loss: 4.0468e-04\n",
            "Epoch 19/100\n",
            "13/13 [==============================] - 1s 58ms/step - loss: 3.7778e-04 - val_loss: 3.9796e-04\n",
            "Epoch 20/100\n",
            "13/13 [==============================] - 1s 76ms/step - loss: 3.7201e-04 - val_loss: 3.8961e-04\n",
            "Epoch 21/100\n",
            "13/13 [==============================] - 1s 93ms/step - loss: 3.6572e-04 - val_loss: 3.4645e-04\n",
            "Epoch 22/100\n",
            "13/13 [==============================] - 1s 99ms/step - loss: 3.6313e-04 - val_loss: 3.7858e-04\n",
            "Epoch 23/100\n",
            "13/13 [==============================] - 1s 101ms/step - loss: 3.6647e-04 - val_loss: 3.0591e-04\n",
            "Epoch 24/100\n",
            "13/13 [==============================] - 1s 64ms/step - loss: 3.6245e-04 - val_loss: 3.6012e-04\n",
            "Epoch 25/100\n",
            "13/13 [==============================] - 1s 60ms/step - loss: 3.5989e-04 - val_loss: 3.7552e-04\n",
            "Epoch 26/100\n",
            "13/13 [==============================] - 1s 59ms/step - loss: 3.4471e-04 - val_loss: 3.3064e-04\n",
            "Epoch 27/100\n",
            "13/13 [==============================] - 1s 59ms/step - loss: 3.3862e-04 - val_loss: 3.0952e-04\n",
            "Epoch 28/100\n",
            "13/13 [==============================] - 1s 57ms/step - loss: 3.3442e-04 - val_loss: 3.0275e-04\n",
            "Epoch 29/100\n",
            "13/13 [==============================] - 1s 59ms/step - loss: 3.2951e-04 - val_loss: 3.4296e-04\n",
            "Epoch 30/100\n",
            "13/13 [==============================] - 1s 59ms/step - loss: 3.2798e-04 - val_loss: 2.8346e-04\n",
            "Epoch 31/100\n",
            "13/13 [==============================] - 1s 59ms/step - loss: 3.3311e-04 - val_loss: 2.7782e-04\n",
            "Epoch 32/100\n",
            "13/13 [==============================] - 1s 57ms/step - loss: 3.2652e-04 - val_loss: 3.0223e-04\n",
            "Epoch 33/100\n",
            "13/13 [==============================] - 1s 59ms/step - loss: 3.2706e-04 - val_loss: 3.6565e-04\n",
            "Epoch 34/100\n",
            "13/13 [==============================] - 1s 59ms/step - loss: 3.1636e-04 - val_loss: 2.8213e-04\n",
            "Epoch 35/100\n",
            "13/13 [==============================] - 1s 58ms/step - loss: 3.1561e-04 - val_loss: 2.7309e-04\n",
            "Epoch 36/100\n",
            "13/13 [==============================] - 1s 57ms/step - loss: 3.1910e-04 - val_loss: 3.9663e-04\n",
            "Epoch 37/100\n",
            "13/13 [==============================] - 1s 85ms/step - loss: 3.2113e-04 - val_loss: 3.0286e-04\n",
            "Epoch 38/100\n",
            "13/13 [==============================] - 1s 95ms/step - loss: 3.2118e-04 - val_loss: 2.2701e-04\n",
            "Epoch 39/100\n",
            "13/13 [==============================] - 1s 95ms/step - loss: 3.0372e-04 - val_loss: 2.1526e-04\n",
            "Epoch 40/100\n",
            "13/13 [==============================] - 1s 100ms/step - loss: 3.0824e-04 - val_loss: 2.5773e-04\n",
            "Epoch 41/100\n",
            "13/13 [==============================] - 1s 71ms/step - loss: 2.9258e-04 - val_loss: 1.8994e-04\n",
            "Epoch 42/100\n",
            "13/13 [==============================] - 1s 58ms/step - loss: 3.0485e-04 - val_loss: 2.5691e-04\n",
            "Epoch 43/100\n",
            "13/13 [==============================] - 1s 59ms/step - loss: 2.9280e-04 - val_loss: 2.5239e-04\n",
            "Epoch 44/100\n",
            "13/13 [==============================] - 1s 59ms/step - loss: 2.8994e-04 - val_loss: 2.3565e-04\n",
            "Epoch 45/100\n",
            "13/13 [==============================] - 1s 57ms/step - loss: 2.8998e-04 - val_loss: 2.4083e-04\n",
            "Epoch 46/100\n",
            "13/13 [==============================] - 1s 61ms/step - loss: 2.8664e-04 - val_loss: 2.7991e-04\n",
            "Epoch 47/100\n",
            "13/13 [==============================] - 1s 59ms/step - loss: 2.8204e-04 - val_loss: 2.0843e-04\n",
            "Epoch 48/100\n",
            "13/13 [==============================] - 1s 61ms/step - loss: 2.7694e-04 - val_loss: 1.8120e-04\n",
            "Epoch 49/100\n",
            "13/13 [==============================] - 1s 65ms/step - loss: 2.8091e-04 - val_loss: 1.8153e-04\n",
            "Epoch 50/100\n",
            "13/13 [==============================] - 1s 64ms/step - loss: 2.7284e-04 - val_loss: 2.0565e-04\n",
            "Epoch 51/100\n",
            "13/13 [==============================] - 1s 59ms/step - loss: 2.7103e-04 - val_loss: 2.0035e-04\n",
            "Epoch 52/100\n",
            "13/13 [==============================] - 1s 60ms/step - loss: 2.7700e-04 - val_loss: 1.9331e-04\n",
            "Epoch 53/100\n",
            "13/13 [==============================] - 1s 61ms/step - loss: 2.7935e-04 - val_loss: 1.8889e-04\n",
            "Epoch 54/100\n",
            "13/13 [==============================] - 1s 98ms/step - loss: 2.6883e-04 - val_loss: 1.5871e-04\n",
            "Epoch 55/100\n",
            "13/13 [==============================] - 1s 100ms/step - loss: 2.7535e-04 - val_loss: 1.8664e-04\n",
            "Epoch 56/100\n",
            "13/13 [==============================] - 1s 94ms/step - loss: 2.6047e-04 - val_loss: 1.4031e-04\n",
            "Epoch 57/100\n",
            "13/13 [==============================] - 1s 94ms/step - loss: 2.6491e-04 - val_loss: 1.5881e-04\n",
            "Epoch 58/100\n",
            "13/13 [==============================] - 1s 69ms/step - loss: 2.6186e-04 - val_loss: 1.3743e-04\n",
            "Epoch 59/100\n",
            "13/13 [==============================] - 1s 59ms/step - loss: 2.6342e-04 - val_loss: 1.3419e-04\n",
            "Epoch 60/100\n",
            "13/13 [==============================] - 1s 59ms/step - loss: 2.5384e-04 - val_loss: 1.7794e-04\n",
            "Epoch 61/100\n",
            "13/13 [==============================] - 1s 62ms/step - loss: 2.5930e-04 - val_loss: 1.5581e-04\n",
            "Epoch 62/100\n",
            "13/13 [==============================] - 1s 60ms/step - loss: 2.5390e-04 - val_loss: 1.5944e-04\n",
            "Epoch 63/100\n",
            "13/13 [==============================] - 1s 63ms/step - loss: 2.5384e-04 - val_loss: 1.4860e-04\n",
            "Epoch 64/100\n",
            "13/13 [==============================] - 1s 59ms/step - loss: 2.5135e-04 - val_loss: 1.1925e-04\n",
            "Epoch 65/100\n",
            "13/13 [==============================] - 1s 59ms/step - loss: 2.5439e-04 - val_loss: 1.2715e-04\n",
            "Epoch 66/100\n",
            "13/13 [==============================] - 1s 59ms/step - loss: 2.5171e-04 - val_loss: 1.2176e-04\n",
            "Epoch 67/100\n",
            "13/13 [==============================] - 1s 59ms/step - loss: 2.5039e-04 - val_loss: 1.1523e-04\n",
            "Epoch 68/100\n",
            "13/13 [==============================] - 1s 59ms/step - loss: 2.7878e-04 - val_loss: 1.4401e-04\n",
            "Epoch 69/100\n",
            "13/13 [==============================] - 1s 59ms/step - loss: 2.5128e-04 - val_loss: 1.2033e-04\n",
            "Epoch 70/100\n",
            "13/13 [==============================] - 1s 58ms/step - loss: 2.4568e-04 - val_loss: 1.0924e-04\n",
            "Epoch 71/100\n",
            "13/13 [==============================] - 1s 85ms/step - loss: 2.4221e-04 - val_loss: 1.0065e-04\n",
            "Epoch 72/100\n",
            "13/13 [==============================] - 1s 88ms/step - loss: 2.4873e-04 - val_loss: 1.2042e-04\n",
            "Epoch 73/100\n",
            "13/13 [==============================] - 1s 98ms/step - loss: 2.3871e-04 - val_loss: 9.1157e-05\n",
            "Epoch 74/100\n",
            "13/13 [==============================] - 1s 105ms/step - loss: 2.4646e-04 - val_loss: 9.0041e-05\n",
            "Epoch 75/100\n",
            "13/13 [==============================] - 1s 65ms/step - loss: 2.4461e-04 - val_loss: 9.5657e-05\n",
            "Epoch 76/100\n",
            "13/13 [==============================] - 1s 59ms/step - loss: 2.4731e-04 - val_loss: 1.1304e-04\n",
            "Epoch 77/100\n",
            "13/13 [==============================] - 1s 59ms/step - loss: 2.3784e-04 - val_loss: 9.0042e-05\n",
            "Epoch 78/100\n",
            "13/13 [==============================] - 1s 59ms/step - loss: 2.4067e-04 - val_loss: 7.7377e-05\n",
            "Epoch 79/100\n",
            "13/13 [==============================] - 1s 59ms/step - loss: 2.3582e-04 - val_loss: 1.0006e-04\n",
            "Epoch 80/100\n",
            "13/13 [==============================] - 1s 58ms/step - loss: 2.3647e-04 - val_loss: 8.8273e-05\n",
            "Epoch 81/100\n",
            "13/13 [==============================] - 1s 58ms/step - loss: 2.3270e-04 - val_loss: 9.9799e-05\n",
            "Epoch 82/100\n",
            "13/13 [==============================] - 1s 60ms/step - loss: 2.3399e-04 - val_loss: 8.6011e-05\n",
            "Epoch 83/100\n",
            "13/13 [==============================] - 1s 59ms/step - loss: 2.3429e-04 - val_loss: 7.0593e-05\n",
            "Epoch 84/100\n",
            "13/13 [==============================] - 1s 57ms/step - loss: 2.4496e-04 - val_loss: 8.4431e-05\n",
            "Epoch 85/100\n",
            "13/13 [==============================] - 1s 59ms/step - loss: 2.3115e-04 - val_loss: 8.0348e-05\n",
            "Epoch 86/100\n",
            "13/13 [==============================] - 1s 58ms/step - loss: 2.3000e-04 - val_loss: 7.5940e-05\n",
            "Epoch 87/100\n",
            "13/13 [==============================] - 1s 59ms/step - loss: 2.3159e-04 - val_loss: 7.2987e-05\n",
            "Epoch 88/100\n",
            "13/13 [==============================] - 1s 86ms/step - loss: 2.3911e-04 - val_loss: 8.1510e-05\n",
            "Epoch 89/100\n",
            "13/13 [==============================] - 1s 92ms/step - loss: 2.3841e-04 - val_loss: 7.6921e-05\n",
            "Epoch 90/100\n",
            "13/13 [==============================] - 1s 91ms/step - loss: 2.2862e-04 - val_loss: 7.2445e-05\n",
            "Epoch 91/100\n",
            "13/13 [==============================] - 1s 96ms/step - loss: 2.2389e-04 - val_loss: 8.3523e-05\n",
            "Epoch 92/100\n",
            "13/13 [==============================] - 1s 70ms/step - loss: 2.3432e-04 - val_loss: 9.9793e-05\n",
            "Epoch 93/100\n",
            "13/13 [==============================] - 1s 60ms/step - loss: 2.4070e-04 - val_loss: 6.7246e-05\n",
            "Epoch 94/100\n",
            "13/13 [==============================] - 1s 58ms/step - loss: 2.3210e-04 - val_loss: 6.8492e-05\n",
            "Epoch 95/100\n",
            "13/13 [==============================] - 1s 57ms/step - loss: 2.2921e-04 - val_loss: 7.4330e-05\n",
            "Epoch 96/100\n",
            "13/13 [==============================] - 1s 59ms/step - loss: 2.2248e-04 - val_loss: 6.8599e-05\n",
            "Epoch 97/100\n",
            "13/13 [==============================] - 1s 59ms/step - loss: 2.2885e-04 - val_loss: 6.9145e-05\n",
            "Epoch 98/100\n",
            "13/13 [==============================] - 1s 57ms/step - loss: 2.2580e-04 - val_loss: 7.3857e-05\n",
            "Epoch 99/100\n",
            "13/13 [==============================] - 1s 59ms/step - loss: 2.4094e-04 - val_loss: 6.7526e-05\n",
            "Epoch 100/100\n",
            "13/13 [==============================] - 1s 57ms/step - loss: 2.3149e-04 - val_loss: 6.9383e-05\n"
          ]
        },
        {
          "output_type": "execute_result",
          "data": {
            "text/plain": [
              "<keras.src.callbacks.History at 0x7912efc95390>"
            ]
          },
          "metadata": {},
          "execution_count": 184
        }
      ]
    },
    {
      "cell_type": "code",
      "source": [
        "# 10. Dự báo dữ liệu test, val\n",
        "train_predict=model.predict(X_train)\n",
        "y_pred=model.predict(X_test)\n",
        "y_pred_val=model.predict(X_val)"
      ],
      "metadata": {
        "colab": {
          "base_uri": "https://localhost:8080/"
        },
        "outputId": "8177d4e9-347d-4839-f850-87418ef1c14e",
        "id": "QZGNi6WNe6pG"
      },
      "execution_count": 185,
      "outputs": [
        {
          "output_type": "stream",
          "name": "stdout",
          "text": [
            "25/25 [==============================] - 1s 12ms/step\n",
            "5/5 [==============================] - 0s 19ms/step\n",
            "1/1 [==============================] - 0s 45ms/step\n"
          ]
        }
      ]
    },
    {
      "cell_type": "code",
      "source": [
        "# 11. Chuẩn hóa dữ liệu y_pred, y_pred_val\n",
        "train_predict=scaler.inverse_transform(train_predict)\n",
        "y_pred=scaler.inverse_transform(y_pred)\n",
        "y_pred_val=scaler.inverse_transform(y_pred_val)"
      ],
      "metadata": {
        "id": "BdatEKv2e6pG"
      },
      "execution_count": 186,
      "outputs": []
    },
    {
      "cell_type": "code",
      "source": [
        "# 12. Đánh giá độ chính xác thuật toán bằng RMSE\n",
        "valid_rmse = np.sqrt(np.mean((y_pred_val - yval)**2))\n",
        "test_rmse = np.sqrt(np.mean((y_pred - ytest)**2))\n",
        "print('Validation RMSE:', valid_rmse)\n",
        "print('Testing RMSE:', test_rmse)"
      ],
      "metadata": {
        "colab": {
          "base_uri": "https://localhost:8080/"
        },
        "outputId": "d7d86ab0-1b3a-4bb6-f7e7-45291de8cbb7",
        "id": "rGcXoTIIe6pH"
      },
      "execution_count": 187,
      "outputs": [
        {
          "output_type": "stream",
          "name": "stdout",
          "text": [
            "Validation RMSE: 17184.473376304704\n",
            "Testing RMSE: 14752.672858324893\n"
          ]
        }
      ]
    },
    {
      "cell_type": "code",
      "source": [
        "# 13. Dự báo 30 ngày tiếp theo\n",
        "x_input = val_data[-100:].reshape(1, -1)\n",
        "temp_input = x_input[0].tolist()\n",
        "\n",
        "from numpy import array\n",
        "\n",
        "lst_output=[]\n",
        "n_steps=100\n",
        "i=0\n",
        "while(i < 30):\n",
        "    if len(temp_input) > 100:\n",
        "        x_input = np.array(temp_input[-100:])\n",
        "        x_input = x_input.reshape((1, n_steps, 1))\n",
        "        yhat = model.predict(x_input, verbose=0)\n",
        "        temp_input.extend(yhat[0].tolist())\n",
        "        temp_input = temp_input[1:]\n",
        "        lst_output.extend(yhat.tolist())\n",
        "        i += 1\n",
        "    else:\n",
        "        x_input = np.array(temp_input).reshape((1, n_steps, 1))\n",
        "        yhat = model.predict(x_input, verbose=0)\n",
        "        temp_input.extend(yhat[0].tolist())\n",
        "        lst_output.extend(yhat.tolist())\n",
        "        i += 1"
      ],
      "metadata": {
        "id": "NDO28zTSe6pH"
      },
      "execution_count": 188,
      "outputs": []
    },
    {
      "cell_type": "code",
      "source": [
        "# 14.Vẽ hình\n",
        "\n",
        "train_data_index = pd.RangeIndex(start=0, stop=train_size, step=1)\n",
        "plt.plot(scaler.inverse_transform(train_data))\n",
        "test_data_index = pd.RangeIndex(start=train_size, stop=train_size+test_size, step=1)\n",
        "plt.plot(test_data_index,scaler.inverse_transform(test_data))\n",
        "test_data_index = pd.RangeIndex(start=train_size+101, stop=train_size+test_size, step=1)\n",
        "plt.plot(test_data_index,(y_pred))\n",
        "val_data_index = pd.RangeIndex(start=train_size+test_size, stop=train_size+test_size+val_size, step=1)\n",
        "plt.plot(val_data_index,scaler.inverse_transform(val_data))\n",
        "val_data_index = pd.RangeIndex(start=train_size+test_size+101, stop=train_size+test_size+val_size, step=1)\n",
        "plt.plot(val_data_index,y_pred_val)\n",
        "prediect_data_index = pd.RangeIndex(start=len(df1)-1, stop=len(df1)+29, step=1)\n",
        "plt.plot(prediect_data_index,scaler.inverse_transform(lst_output))\n",
        "plt.legend(['Train','Test','Predict','Validate','ValidatePred','Predict30days'])\n",
        "plt.show()"
      ],
      "metadata": {
        "colab": {
          "base_uri": "https://localhost:8080/",
          "height": 430
        },
        "outputId": "37677f88-2f40-4dfd-da77-76859094157d",
        "id": "NjnBeqgxe6pH"
      },
      "execution_count": 189,
      "outputs": [
        {
          "output_type": "display_data",
          "data": {
            "text/plain": [
              "<Figure size 640x480 with 1 Axes>"
            ],
            "image/png": "[encoded data removed]"
          },
          "metadata": {}
        }
      ]
    },
    {
      "cell_type": "markdown",
      "source": [
        "# 3. NLG Dataset"
      ],
      "metadata": {
        "id": "uDoEmIhre_Iq"
      }
    },
    {
      "cell_type": "code",
      "source": [
        "# 1. Import thư viện cần thiết\n",
        "from google.colab import drive\n",
        "drive.mount('/content/drive')\n",
        "import numpy as np\n",
        "import pandas as pd\n",
        "import matplotlib.pyplot as plt\n",
        "from sklearn.preprocessing import MinMaxScaler\n",
        "from keras.models import Sequential\n",
        "from keras.layers import Dense, GRU"
      ],
      "metadata": {
        "colab": {
          "base_uri": "https://localhost:8080/"
        },
        "outputId": "045ab8fe-4c06-4493-eaf5-908cb7cd06f1",
        "id": "UnW5mJZJe_Ir"
      },
      "execution_count": 190,
      "outputs": [
        {
          "output_type": "stream",
          "name": "stdout",
          "text": [
            "Drive already mounted at /content/drive; to attempt to forcibly remount, call drive.mount(\"/content/drive\", force_remount=True).\n"
          ]
        }
      ]
    },
    {
      "cell_type": "code",
      "source": [
        "# 2. Đọc file csv và gắn index với giá Close\n",
        "df = pd.read_csv('3-NLG Historical Data.csv')\n",
        "df_reversed = df.iloc[::-1].reset_index(drop=True)\n",
        "df1 = df_reversed['Price']\n",
        "# Remove commas and convert to float\n",
        "df1 = df1.str.replace(',', '').astype(float)\n",
        "df1"
      ],
      "metadata": {
        "colab": {
          "base_uri": "https://localhost:8080/"
        },
        "outputId": "9cc6ef06-52b4-45ab-ff1c-5fd3f63d1778",
        "id": "fnRef4Pae_Ir"
      },
      "execution_count": 191,
      "outputs": [
        {
          "output_type": "execute_result",
          "data": {
            "text/plain": [
              "0       18706.8\n",
              "1       19127.2\n",
              "2       18917.0\n",
              "3       18846.9\n",
              "4       18706.8\n",
              "         ...   \n",
              "1247    37400.0\n",
              "1248    38500.0\n",
              "1249    38200.0\n",
              "1250    39600.0\n",
              "1251    39900.0\n",
              "Name: Price, Length: 1252, dtype: float64"
            ]
          },
          "metadata": {},
          "execution_count": 191
        }
      ]
    },
    {
      "cell_type": "code",
      "source": [
        "# 3. Scaler data\n",
        "scaler=MinMaxScaler(feature_range=(0,1))\n",
        "df1=scaler.fit_transform(np.array(df1).reshape(-1,1))"
      ],
      "metadata": {
        "id": "8bOgEtiZe_Ir"
      },
      "execution_count": 192,
      "outputs": []
    },
    {
      "cell_type": "code",
      "source": [
        "# 4. Chia train test\n",
        "train_size = int(0.7 * len(df1))\n",
        "test_size = int(0.2 * len(df1))\n",
        "val_size = len(df1) - train_size - test_size\n",
        "\n",
        "train_data = df1[:train_size]\n",
        "test_data = df1[train_size:train_size+test_size]\n",
        "val_data = df1[train_size+test_size:]"
      ],
      "metadata": {
        "id": "JpIxr-fZe_Is"
      },
      "execution_count": 193,
      "outputs": []
    },
    {
      "cell_type": "code",
      "source": [
        "# 5. Hàm Create Dataset\n",
        "import numpy\n",
        "# convert an array of values into a dataset matrix\n",
        "def create_dataset(dataset, time_step=1):\n",
        "\tdataX, dataY = [], []\n",
        "\tfor i in range(len(dataset)-time_step-1):\n",
        "\t\ta = dataset[i:(i+time_step), 0]   ###i=0, X=0,1,2,3-----99   Y=100\n",
        "\t\tdataX.append(a)\n",
        "\t\tdataY.append(dataset[i + time_step, 0])\n",
        "\treturn numpy.array(dataX), numpy.array(dataY)"
      ],
      "metadata": {
        "id": "tkkS4ycke_Is"
      },
      "execution_count": 194,
      "outputs": []
    },
    {
      "cell_type": "code",
      "source": [
        "#6. Reshape into X=t,t+1,t+2..t+99 and Y=t+100\n",
        "\n",
        "time_step = 100\n",
        "X_train, y_train = create_dataset(train_data, time_step)\n",
        "X_val, yval = create_dataset(val_data, time_step)\n",
        "X_test, ytest = create_dataset(test_data, time_step)"
      ],
      "metadata": {
        "id": "xFHkaWdSe_Is"
      },
      "execution_count": 195,
      "outputs": []
    },
    {
      "cell_type": "code",
      "source": [
        "# 7. Reshape input to be [samples, time steps, features] which is required for LSTM\n",
        "X_train =X_train.reshape(X_train.shape[0],X_train.shape[1] , 1)\n",
        "X_test = X_test.reshape(X_test.shape[0],X_test.shape[1] , 1)\n",
        "X_val = X_val.reshape(X_val.shape[0],X_val.shape[1] , 1)"
      ],
      "metadata": {
        "id": "mU9dxglJe_Is"
      },
      "execution_count": 196,
      "outputs": []
    },
    {
      "cell_type": "code",
      "source": [
        "# 8. Define GRU Model\n",
        "\n",
        "model = Sequential()\n",
        "model.add(GRU(64, input_shape=(time_step, 1)))\n",
        "model.add(Dense(1))\n",
        "model.compile(optimizer='adam', loss='mean_squared_error')"
      ],
      "metadata": {
        "id": "Pc-Q9NHje_Is"
      },
      "execution_count": 197,
      "outputs": []
    },
    {
      "cell_type": "code",
      "source": [
        "# 9. Fit mô hình với dữ liệu train\n",
        "model.fit(X_train,y_train,validation_data=(X_test,ytest),epochs=100,batch_size=64,verbose=1)"
      ],
      "metadata": {
        "colab": {
          "base_uri": "https://localhost:8080/"
        },
        "outputId": "15227da6-2bf8-4f21-da84-c7d474398a25",
        "id": "qbP9xmA4e_Is"
      },
      "execution_count": 198,
      "outputs": [
        {
          "output_type": "stream",
          "name": "stdout",
          "text": [
            "Epoch 1/100\n",
            "13/13 [==============================] - 3s 99ms/step - loss: 0.0466 - val_loss: 0.0081\n",
            "Epoch 2/100\n",
            "13/13 [==============================] - 1s 53ms/step - loss: 0.0104 - val_loss: 9.9515e-04\n",
            "Epoch 3/100\n",
            "13/13 [==============================] - 1s 56ms/step - loss: 0.0042 - val_loss: 6.8491e-04\n",
            "Epoch 4/100\n",
            "13/13 [==============================] - 1s 58ms/step - loss: 0.0015 - val_loss: 6.0801e-04\n",
            "Epoch 5/100\n",
            "13/13 [==============================] - 1s 57ms/step - loss: 8.4648e-04 - val_loss: 6.0501e-04\n",
            "Epoch 6/100\n",
            "13/13 [==============================] - 1s 92ms/step - loss: 7.0480e-04 - val_loss: 5.6791e-04\n",
            "Epoch 7/100\n",
            "13/13 [==============================] - 1s 93ms/step - loss: 6.6135e-04 - val_loss: 5.4964e-04\n",
            "Epoch 8/100\n",
            "13/13 [==============================] - 1s 93ms/step - loss: 6.4942e-04 - val_loss: 5.4610e-04\n",
            "Epoch 9/100\n",
            "13/13 [==============================] - 1s 101ms/step - loss: 6.4088e-04 - val_loss: 5.1813e-04\n",
            "Epoch 10/100\n",
            "13/13 [==============================] - 1s 58ms/step - loss: 6.2256e-04 - val_loss: 5.1526e-04\n",
            "Epoch 11/100\n",
            "13/13 [==============================] - 1s 55ms/step - loss: 6.0165e-04 - val_loss: 5.0387e-04\n",
            "Epoch 12/100\n",
            "13/13 [==============================] - 1s 57ms/step - loss: 5.9997e-04 - val_loss: 5.4627e-04\n",
            "Epoch 13/100\n",
            "13/13 [==============================] - 1s 59ms/step - loss: 5.8270e-04 - val_loss: 4.9377e-04\n",
            "Epoch 14/100\n",
            "13/13 [==============================] - 1s 58ms/step - loss: 5.7283e-04 - val_loss: 5.0655e-04\n",
            "Epoch 15/100\n",
            "13/13 [==============================] - 1s 58ms/step - loss: 5.7313e-04 - val_loss: 4.7897e-04\n",
            "Epoch 16/100\n",
            "13/13 [==============================] - 1s 55ms/step - loss: 5.5861e-04 - val_loss: 4.7913e-04\n",
            "Epoch 17/100\n",
            "13/13 [==============================] - 1s 57ms/step - loss: 5.4580e-04 - val_loss: 4.7274e-04\n",
            "Epoch 18/100\n",
            "13/13 [==============================] - 1s 58ms/step - loss: 5.6643e-04 - val_loss: 4.8421e-04\n",
            "Epoch 19/100\n",
            "13/13 [==============================] - 1s 57ms/step - loss: 5.6308e-04 - val_loss: 4.8415e-04\n",
            "Epoch 20/100\n",
            "13/13 [==============================] - 1s 56ms/step - loss: 5.2855e-04 - val_loss: 5.0930e-04\n",
            "Epoch 21/100\n",
            "13/13 [==============================] - 1s 57ms/step - loss: 5.7404e-04 - val_loss: 4.8338e-04\n",
            "Epoch 22/100\n",
            "13/13 [==============================] - 1s 56ms/step - loss: 5.3762e-04 - val_loss: 4.6386e-04\n",
            "Epoch 23/100\n",
            "13/13 [==============================] - 1s 72ms/step - loss: 5.1747e-04 - val_loss: 4.7424e-04\n",
            "Epoch 24/100\n",
            "13/13 [==============================] - 1s 95ms/step - loss: 5.0509e-04 - val_loss: 4.4724e-04\n",
            "Epoch 25/100\n",
            "13/13 [==============================] - 1s 96ms/step - loss: 5.0217e-04 - val_loss: 4.4464e-04\n",
            "Epoch 26/100\n",
            "13/13 [==============================] - 1s 97ms/step - loss: 4.8691e-04 - val_loss: 4.5484e-04\n",
            "Epoch 27/100\n",
            "13/13 [==============================] - 1s 86ms/step - loss: 5.0448e-04 - val_loss: 4.4158e-04\n",
            "Epoch 28/100\n",
            "13/13 [==============================] - 1s 57ms/step - loss: 4.8921e-04 - val_loss: 4.7722e-04\n",
            "Epoch 29/100\n",
            "13/13 [==============================] - 1s 55ms/step - loss: 5.4534e-04 - val_loss: 4.3361e-04\n",
            "Epoch 30/100\n",
            "13/13 [==============================] - 1s 56ms/step - loss: 5.0299e-04 - val_loss: 4.4409e-04\n",
            "Epoch 31/100\n",
            "13/13 [==============================] - 1s 56ms/step - loss: 4.7270e-04 - val_loss: 4.3474e-04\n",
            "Epoch 32/100\n",
            "13/13 [==============================] - 1s 55ms/step - loss: 4.9895e-04 - val_loss: 4.4887e-04\n",
            "Epoch 33/100\n",
            "13/13 [==============================] - 1s 54ms/step - loss: 4.7646e-04 - val_loss: 4.2720e-04\n",
            "Epoch 34/100\n",
            "13/13 [==============================] - 1s 57ms/step - loss: 4.7069e-04 - val_loss: 4.2695e-04\n",
            "Epoch 35/100\n",
            "13/13 [==============================] - 1s 59ms/step - loss: 4.6411e-04 - val_loss: 4.4272e-04\n",
            "Epoch 36/100\n",
            "13/13 [==============================] - 1s 57ms/step - loss: 4.7694e-04 - val_loss: 4.1185e-04\n",
            "Epoch 37/100\n",
            "13/13 [==============================] - 1s 59ms/step - loss: 4.9153e-04 - val_loss: 4.0942e-04\n",
            "Epoch 38/100\n",
            "13/13 [==============================] - 1s 57ms/step - loss: 5.1203e-04 - val_loss: 4.9203e-04\n",
            "Epoch 39/100\n",
            "13/13 [==============================] - 1s 56ms/step - loss: 4.5960e-04 - val_loss: 4.1491e-04\n",
            "Epoch 40/100\n",
            "13/13 [==============================] - 1s 56ms/step - loss: 4.5305e-04 - val_loss: 4.1823e-04\n",
            "Epoch 41/100\n",
            "13/13 [==============================] - 1s 86ms/step - loss: 4.5416e-04 - val_loss: 4.0911e-04\n",
            "Epoch 42/100\n",
            "13/13 [==============================] - 1s 92ms/step - loss: 4.3965e-04 - val_loss: 3.9921e-04\n",
            "Epoch 43/100\n",
            "13/13 [==============================] - 1s 91ms/step - loss: 4.3807e-04 - val_loss: 4.3075e-04\n",
            "Epoch 44/100\n",
            "13/13 [==============================] - 1s 93ms/step - loss: 4.6127e-04 - val_loss: 4.1561e-04\n",
            "Epoch 45/100\n",
            "13/13 [==============================] - 1s 73ms/step - loss: 4.3882e-04 - val_loss: 4.1230e-04\n",
            "Epoch 46/100\n",
            "13/13 [==============================] - 1s 57ms/step - loss: 4.4717e-04 - val_loss: 4.1237e-04\n",
            "Epoch 47/100\n",
            "13/13 [==============================] - 1s 57ms/step - loss: 4.3490e-04 - val_loss: 3.9662e-04\n",
            "Epoch 48/100\n",
            "13/13 [==============================] - 1s 59ms/step - loss: 4.5627e-04 - val_loss: 4.1882e-04\n",
            "Epoch 49/100\n",
            "13/13 [==============================] - 1s 59ms/step - loss: 4.4355e-04 - val_loss: 4.4669e-04\n",
            "Epoch 50/100\n",
            "13/13 [==============================] - 1s 57ms/step - loss: 4.9887e-04 - val_loss: 5.2599e-04\n",
            "Epoch 51/100\n",
            "13/13 [==============================] - 1s 59ms/step - loss: 4.5316e-04 - val_loss: 3.8659e-04\n",
            "Epoch 52/100\n",
            "13/13 [==============================] - 1s 57ms/step - loss: 4.2598e-04 - val_loss: 3.8904e-04\n",
            "Epoch 53/100\n",
            "13/13 [==============================] - 1s 56ms/step - loss: 4.4302e-04 - val_loss: 4.1900e-04\n",
            "Epoch 54/100\n",
            "13/13 [==============================] - 1s 58ms/step - loss: 4.9044e-04 - val_loss: 4.0121e-04\n",
            "Epoch 55/100\n",
            "13/13 [==============================] - 1s 57ms/step - loss: 4.4082e-04 - val_loss: 3.8985e-04\n",
            "Epoch 56/100\n",
            "13/13 [==============================] - 1s 58ms/step - loss: 4.4773e-04 - val_loss: 3.7826e-04\n",
            "Epoch 57/100\n",
            "13/13 [==============================] - 1s 57ms/step - loss: 4.4352e-04 - val_loss: 3.7407e-04\n",
            "Epoch 58/100\n",
            "13/13 [==============================] - 1s 65ms/step - loss: 4.3946e-04 - val_loss: 3.7622e-04\n",
            "Epoch 59/100\n",
            "13/13 [==============================] - 1s 96ms/step - loss: 4.1523e-04 - val_loss: 3.8892e-04\n",
            "Epoch 60/100\n",
            "13/13 [==============================] - 1s 97ms/step - loss: 4.6023e-04 - val_loss: 3.6812e-04\n",
            "Epoch 61/100\n",
            "13/13 [==============================] - 1s 95ms/step - loss: 4.4280e-04 - val_loss: 3.8756e-04\n",
            "Epoch 62/100\n",
            "13/13 [==============================] - 1s 100ms/step - loss: 4.4714e-04 - val_loss: 3.9556e-04\n",
            "Epoch 63/100\n",
            "13/13 [==============================] - 1s 58ms/step - loss: 4.1168e-04 - val_loss: 3.7313e-04\n",
            "Epoch 64/100\n",
            "13/13 [==============================] - 1s 56ms/step - loss: 4.0688e-04 - val_loss: 3.9489e-04\n",
            "Epoch 65/100\n",
            "13/13 [==============================] - 1s 57ms/step - loss: 4.3272e-04 - val_loss: 4.1017e-04\n",
            "Epoch 66/100\n",
            "13/13 [==============================] - 1s 55ms/step - loss: 4.3291e-04 - val_loss: 3.8727e-04\n",
            "Epoch 67/100\n",
            "13/13 [==============================] - 1s 56ms/step - loss: 4.1383e-04 - val_loss: 3.7131e-04\n",
            "Epoch 68/100\n",
            "13/13 [==============================] - 1s 56ms/step - loss: 4.0933e-04 - val_loss: 3.9699e-04\n",
            "Epoch 69/100\n",
            "13/13 [==============================] - 1s 58ms/step - loss: 4.2106e-04 - val_loss: 3.7158e-04\n",
            "Epoch 70/100\n",
            "13/13 [==============================] - 1s 57ms/step - loss: 4.5929e-04 - val_loss: 3.8074e-04\n",
            "Epoch 71/100\n",
            "13/13 [==============================] - 1s 55ms/step - loss: 4.1871e-04 - val_loss: 3.5871e-04\n",
            "Epoch 72/100\n",
            "13/13 [==============================] - 1s 57ms/step - loss: 4.0091e-04 - val_loss: 3.6111e-04\n",
            "Epoch 73/100\n",
            "13/13 [==============================] - 1s 57ms/step - loss: 4.1102e-04 - val_loss: 3.6873e-04\n",
            "Epoch 74/100\n",
            "13/13 [==============================] - 1s 55ms/step - loss: 4.2979e-04 - val_loss: 4.4609e-04\n",
            "Epoch 75/100\n",
            "13/13 [==============================] - 1s 59ms/step - loss: 4.3384e-04 - val_loss: 3.5492e-04\n",
            "Epoch 76/100\n",
            "13/13 [==============================] - 1s 77ms/step - loss: 4.0341e-04 - val_loss: 3.5987e-04\n",
            "Epoch 77/100\n",
            "13/13 [==============================] - 1s 93ms/step - loss: 4.1480e-04 - val_loss: 3.5797e-04\n",
            "Epoch 78/100\n",
            "13/13 [==============================] - 1s 95ms/step - loss: 3.9745e-04 - val_loss: 3.5508e-04\n",
            "Epoch 79/100\n",
            "13/13 [==============================] - 1s 100ms/step - loss: 4.1095e-04 - val_loss: 3.5927e-04\n",
            "Epoch 80/100\n",
            "13/13 [==============================] - 1s 74ms/step - loss: 4.0836e-04 - val_loss: 4.1491e-04\n",
            "Epoch 81/100\n",
            "13/13 [==============================] - 1s 56ms/step - loss: 4.7892e-04 - val_loss: 3.4814e-04\n",
            "Epoch 82/100\n",
            "13/13 [==============================] - 1s 59ms/step - loss: 3.9851e-04 - val_loss: 3.6790e-04\n",
            "Epoch 83/100\n",
            "13/13 [==============================] - 1s 57ms/step - loss: 4.0849e-04 - val_loss: 3.8202e-04\n",
            "Epoch 84/100\n",
            "13/13 [==============================] - 1s 56ms/step - loss: 4.1186e-04 - val_loss: 3.6007e-04\n",
            "Epoch 85/100\n",
            "13/13 [==============================] - 1s 56ms/step - loss: 4.3315e-04 - val_loss: 3.4740e-04\n",
            "Epoch 86/100\n",
            "13/13 [==============================] - 1s 62ms/step - loss: 4.3951e-04 - val_loss: 3.7663e-04\n",
            "Epoch 87/100\n",
            "13/13 [==============================] - 1s 59ms/step - loss: 4.3880e-04 - val_loss: 3.5030e-04\n",
            "Epoch 88/100\n",
            "13/13 [==============================] - 1s 58ms/step - loss: 3.9999e-04 - val_loss: 3.6855e-04\n",
            "Epoch 89/100\n",
            "13/13 [==============================] - 1s 58ms/step - loss: 4.5381e-04 - val_loss: 3.6933e-04\n",
            "Epoch 90/100\n",
            "13/13 [==============================] - 1s 58ms/step - loss: 4.0639e-04 - val_loss: 3.4929e-04\n",
            "Epoch 91/100\n",
            "13/13 [==============================] - 1s 57ms/step - loss: 4.0281e-04 - val_loss: 3.5781e-04\n",
            "Epoch 92/100\n",
            "13/13 [==============================] - 1s 59ms/step - loss: 3.9594e-04 - val_loss: 3.5027e-04\n",
            "Epoch 93/100\n",
            "13/13 [==============================] - 1s 74ms/step - loss: 3.9076e-04 - val_loss: 3.7464e-04\n",
            "Epoch 94/100\n",
            "13/13 [==============================] - 1s 88ms/step - loss: 4.3216e-04 - val_loss: 4.3152e-04\n",
            "Epoch 95/100\n",
            "13/13 [==============================] - 1s 90ms/step - loss: 4.6061e-04 - val_loss: 3.7203e-04\n",
            "Epoch 96/100\n",
            "13/13 [==============================] - 1s 92ms/step - loss: 4.0700e-04 - val_loss: 4.3169e-04\n",
            "Epoch 97/100\n",
            "13/13 [==============================] - 1s 98ms/step - loss: 4.1580e-04 - val_loss: 3.6143e-04\n",
            "Epoch 98/100\n",
            "13/13 [==============================] - 1s 65ms/step - loss: 3.8989e-04 - val_loss: 3.4071e-04\n",
            "Epoch 99/100\n",
            "13/13 [==============================] - 1s 57ms/step - loss: 4.0272e-04 - val_loss: 4.3530e-04\n",
            "Epoch 100/100\n",
            "13/13 [==============================] - 1s 59ms/step - loss: 4.7699e-04 - val_loss: 3.9036e-04\n"
          ]
        },
        {
          "output_type": "execute_result",
          "data": {
            "text/plain": [
              "<keras.src.callbacks.History at 0x7912f0eba170>"
            ]
          },
          "metadata": {},
          "execution_count": 198
        }
      ]
    },
    {
      "cell_type": "code",
      "source": [
        "# 10. Dự báo dữ liệu test, val\n",
        "train_predict=model.predict(X_train)\n",
        "y_pred=model.predict(X_test)\n",
        "y_pred_val=model.predict(X_val)"
      ],
      "metadata": {
        "colab": {
          "base_uri": "https://localhost:8080/"
        },
        "outputId": "c956733a-7225-4b62-af78-8baa36432d13",
        "id": "f2NEx80Oe_Is"
      },
      "execution_count": 199,
      "outputs": [
        {
          "output_type": "stream",
          "name": "stdout",
          "text": [
            "25/25 [==============================] - 1s 12ms/step\n",
            "5/5 [==============================] - 0s 11ms/step\n",
            "1/1 [==============================] - 0s 29ms/step\n"
          ]
        }
      ]
    },
    {
      "cell_type": "code",
      "source": [
        "# 11. Chuẩn hóa dữ liệu y_pred, y_pred_val\n",
        "train_predict=scaler.inverse_transform(train_predict)\n",
        "y_pred=scaler.inverse_transform(y_pred)\n",
        "y_pred_val=scaler.inverse_transform(y_pred_val)"
      ],
      "metadata": {
        "id": "WmqOPtUve_Is"
      },
      "execution_count": 200,
      "outputs": []
    },
    {
      "cell_type": "code",
      "source": [
        "# 12. Đánh giá độ chính xác thuật toán bằng RMSE\n",
        "valid_rmse = np.sqrt(np.mean((y_pred_val - yval)**2))\n",
        "test_rmse = np.sqrt(np.mean((y_pred - ytest)**2))\n",
        "print('Validation RMSE:', valid_rmse)\n",
        "print('Testing RMSE:', test_rmse)"
      ],
      "metadata": {
        "colab": {
          "base_uri": "https://localhost:8080/"
        },
        "outputId": "cdaccbac-7f89-4532-d3ae-cd6573388151",
        "id": "VFChsN2_e_It"
      },
      "execution_count": 201,
      "outputs": [
        {
          "output_type": "stream",
          "name": "stdout",
          "text": [
            "Validation RMSE: 39446.82996527809\n",
            "Testing RMSE: 32190.92454193282\n"
          ]
        }
      ]
    },
    {
      "cell_type": "code",
      "source": [
        "# 13. Dự báo 30 ngày tiếp theo\n",
        "x_input = val_data[-100:].reshape(1, -1)\n",
        "temp_input = x_input[0].tolist()\n",
        "\n",
        "from numpy import array\n",
        "\n",
        "lst_output=[]\n",
        "n_steps=100\n",
        "i=0\n",
        "while(i < 30):\n",
        "    if len(temp_input) > 100:\n",
        "        x_input = np.array(temp_input[-100:])\n",
        "        x_input = x_input.reshape((1, n_steps, 1))\n",
        "        yhat = model.predict(x_input, verbose=0)\n",
        "        temp_input.extend(yhat[0].tolist())\n",
        "        temp_input = temp_input[1:]\n",
        "        lst_output.extend(yhat.tolist())\n",
        "        i += 1\n",
        "    else:\n",
        "        x_input = np.array(temp_input).reshape((1, n_steps, 1))\n",
        "        yhat = model.predict(x_input, verbose=0)\n",
        "        temp_input.extend(yhat[0].tolist())\n",
        "        lst_output.extend(yhat.tolist())\n",
        "        i += 1"
      ],
      "metadata": {
        "id": "-9M2ZOM_e_It"
      },
      "execution_count": 202,
      "outputs": []
    },
    {
      "cell_type": "code",
      "source": [
        "# 14.Vẽ hình\n",
        "\n",
        "train_data_index = pd.RangeIndex(start=0, stop=train_size, step=1)\n",
        "plt.plot(scaler.inverse_transform(train_data))\n",
        "test_data_index = pd.RangeIndex(start=train_size, stop=train_size+test_size, step=1)\n",
        "plt.plot(test_data_index,scaler.inverse_transform(test_data))\n",
        "test_data_index = pd.RangeIndex(start=train_size+101, stop=train_size+test_size, step=1)\n",
        "plt.plot(test_data_index,(y_pred))\n",
        "val_data_index = pd.RangeIndex(start=train_size+test_size, stop=train_size+test_size+val_size, step=1)\n",
        "plt.plot(val_data_index,scaler.inverse_transform(val_data))\n",
        "val_data_index = pd.RangeIndex(start=train_size+test_size+101, stop=train_size+test_size+val_size, step=1)\n",
        "plt.plot(val_data_index,y_pred_val)\n",
        "prediect_data_index = pd.RangeIndex(start=len(df1)-1, stop=len(df1)+29, step=1)\n",
        "plt.plot(prediect_data_index,scaler.inverse_transform(lst_output))\n",
        "plt.legend(['Train','Test','Predict','Validate','ValidatePred','Predict30days'])\n",
        "plt.show()"
      ],
      "metadata": {
        "colab": {
          "base_uri": "https://localhost:8080/",
          "height": 430
        },
        "outputId": "a625bcc1-1b63-4ee6-957f-ca0dd55c1194",
        "id": "qs1Vk7M_e_It"
      },
      "execution_count": 203,
      "outputs": [
        {
          "output_type": "display_data",
          "data": {
            "text/plain": [
              "<Figure size 640x480 with 1 Axes>"
            ],
            "image/png": "[encoded data removed]"
          },
          "metadata": {}
        }
      ]
    }
  ],
  "metadata": {
    "colab": {
      "provenance": []
    },
    "kernelspec": {
      "display_name": "Python 3",
      "name": "python3"
    },
    "language_info": {
      "name": "python"
    }
  },
  "nbformat": 4,
  "nbformat_minor": 0
}