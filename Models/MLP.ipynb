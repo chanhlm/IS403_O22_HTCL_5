{
  "cells": [
    {
      "cell_type": "markdown",
      "source": [
        "## 1. VHM Dataset"
      ],
      "metadata": {
        "id": "JzBwPtfSR7YD"
      }
    },
    {
      "cell_type": "code",
      "source": [
        "# 1. Import thư viện cần thiết\n",
        "import numpy as np\n",
        "import pandas as pd\n",
        "import matplotlib.pyplot as plt\n",
        "from sklearn.preprocessing import MinMaxScaler\n",
        "from keras.models import Sequential\n",
        "from keras.layers import Dense"
      ],
      "metadata": {
        "id": "GyG0NHNUI5cd"
      },
      "execution_count": 152,
      "outputs": []
    },
    {
      "cell_type": "code",
      "source": [
        "# 2. Đọc file csv và gắn index với giá Close\n",
        "df = pd.read_csv('1-VHM Historical Data.csv')\n",
        "df_reversed = df.iloc[::-1].reset_index(drop=True)\n",
        "df1 = df_reversed['Price']\n",
        "# Remove commas and convert to float\n",
        "df1 = df1.str.replace(',', '').astype(float)"
      ],
      "metadata": {
        "id": "x9cAyDDCI8kM"
      },
      "execution_count": 153,
      "outputs": []
    },
    {
      "cell_type": "code",
      "source": [
        "# 3. Scaler data\n",
        "scaler=MinMaxScaler(feature_range=(0,1))\n",
        "df1=scaler.fit_transform(np.array(df1).reshape(-1,1))"
      ],
      "metadata": {
        "id": "QMfq24mIJBpP"
      },
      "execution_count": 154,
      "outputs": []
    },
    {
      "cell_type": "code",
      "source": [
        "# 4. Chia train test\n",
        "train_size = int(0.8 * len(df1))\n",
        "test_size = int(0.1 * len(df1))\n",
        "val_size = len(df1) - train_size - test_size\n",
        "\n",
        "train_data = df1[:train_size]\n",
        "test_data = df1[train_size:train_size+test_size]\n",
        "val_data = df1[train_size+test_size:]"
      ],
      "metadata": {
        "id": "JT3d3CVuJEL_"
      },
      "execution_count": 155,
      "outputs": []
    },
    {
      "cell_type": "code",
      "source": [
        "# 5. Hàm Create Dataset\n",
        "import numpy\n",
        "# convert an array of values into a dataset matrix\n",
        "def create_dataset(dataset, time_step=1):\n",
        "\tdataX, dataY = [], []\n",
        "\tfor i in range(len(dataset)-time_step-1):\n",
        "\t\ta = dataset[i:(i+time_step), 0]   ###i=0, X=0,1,2,3-----99   Y=100\n",
        "\t\tdataX.append(a)\n",
        "\t\tdataY.append(dataset[i + time_step, 0])\n",
        "\treturn numpy.array(dataX), numpy.array(dataY)"
      ],
      "metadata": {
        "id": "lYMDrj5XJG1Q"
      },
      "execution_count": 156,
      "outputs": []
    },
    {
      "cell_type": "code",
      "source": [
        "#6. Reshape into X=t,t+1,t+2..t+99 and Y=t+100\n",
        "\n",
        "time_step = 100\n",
        "X_train, y_train = create_dataset(train_data, time_step)\n",
        "X_val, yval = create_dataset(val_data, time_step)\n",
        "X_test, ytest = create_dataset(test_data, time_step)"
      ],
      "metadata": {
        "id": "WKDdP4VEJJEv"
      },
      "execution_count": 157,
      "outputs": []
    },
    {
      "cell_type": "code",
      "source": [
        "# 7. Define MLP Model\n",
        "\n",
        "model=Sequential()\n",
        "model.add(Dense(50, input_dim=100, activation='relu'))\n",
        "model.add(Dense(50, activation='relu'))\n",
        "model.add(Dense(1))\n",
        "model.compile(loss='mean_squared_error',optimizer='adam')"
      ],
      "metadata": {
        "id": "uojcccd5JJlR"
      },
      "execution_count": 158,
      "outputs": []
    },
    {
      "cell_type": "code",
      "source": [
        "# 8. Fit mô hình với dữ liệu train\n",
        "model.fit(X_train,y_train,validation_data=(X_test,ytest),epochs=100,batch_size=64,verbose=1)"
      ],
      "metadata": {
        "colab": {
          "base_uri": "https://localhost:8080/"
        },
        "id": "srFehHvKJPs-",
        "outputId": "500f9499-7d3d-448c-e919-8d2f2aea97b1"
      },
      "execution_count": 159,
      "outputs": [
        {
          "output_type": "stream",
          "name": "stdout",
          "text": [
            "Epoch 1/100\n",
            "15/15 [==============================] - 3s 23ms/step - loss: 0.1083 - val_loss: 0.0429\n",
            "Epoch 2/100\n",
            "15/15 [==============================] - 0s 8ms/step - loss: 0.0297 - val_loss: 0.0077\n",
            "Epoch 3/100\n",
            "15/15 [==============================] - 0s 7ms/step - loss: 0.0171 - val_loss: 0.0062\n",
            "Epoch 4/100\n",
            "15/15 [==============================] - 0s 6ms/step - loss: 0.0101 - val_loss: 0.0042\n",
            "Epoch 5/100\n",
            "15/15 [==============================] - 0s 7ms/step - loss: 0.0072 - val_loss: 0.0029\n",
            "Epoch 6/100\n",
            "15/15 [==============================] - 0s 10ms/step - loss: 0.0057 - val_loss: 0.0033\n",
            "Epoch 7/100\n",
            "15/15 [==============================] - 0s 6ms/step - loss: 0.0049 - val_loss: 0.0028\n",
            "Epoch 8/100\n",
            "15/15 [==============================] - 0s 9ms/step - loss: 0.0042 - val_loss: 0.0031\n",
            "Epoch 9/100\n",
            "15/15 [==============================] - 0s 8ms/step - loss: 0.0039 - val_loss: 0.0028\n",
            "Epoch 10/100\n",
            "15/15 [==============================] - 0s 9ms/step - loss: 0.0036 - val_loss: 0.0026\n",
            "Epoch 11/100\n",
            "15/15 [==============================] - 0s 8ms/step - loss: 0.0030 - val_loss: 0.0027\n",
            "Epoch 12/100\n",
            "15/15 [==============================] - 0s 6ms/step - loss: 0.0029 - val_loss: 0.0026\n",
            "Epoch 13/100\n",
            "15/15 [==============================] - 0s 6ms/step - loss: 0.0027 - val_loss: 0.0029\n",
            "Epoch 14/100\n",
            "15/15 [==============================] - 0s 6ms/step - loss: 0.0026 - val_loss: 0.0025\n",
            "Epoch 15/100\n",
            "15/15 [==============================] - 0s 6ms/step - loss: 0.0024 - val_loss: 0.0026\n",
            "Epoch 16/100\n",
            "15/15 [==============================] - 0s 7ms/step - loss: 0.0024 - val_loss: 0.0025\n",
            "Epoch 17/100\n",
            "15/15 [==============================] - 0s 13ms/step - loss: 0.0028 - val_loss: 0.0024\n",
            "Epoch 18/100\n",
            "15/15 [==============================] - 0s 7ms/step - loss: 0.0025 - val_loss: 0.0025\n",
            "Epoch 19/100\n",
            "15/15 [==============================] - 0s 7ms/step - loss: 0.0021 - val_loss: 0.0025\n",
            "Epoch 20/100\n",
            "15/15 [==============================] - 0s 9ms/step - loss: 0.0021 - val_loss: 0.0024\n",
            "Epoch 21/100\n",
            "15/15 [==============================] - 0s 10ms/step - loss: 0.0020 - val_loss: 0.0024\n",
            "Epoch 22/100\n",
            "15/15 [==============================] - 0s 9ms/step - loss: 0.0019 - val_loss: 0.0026\n",
            "Epoch 23/100\n",
            "15/15 [==============================] - 0s 18ms/step - loss: 0.0024 - val_loss: 0.0025\n",
            "Epoch 24/100\n",
            "15/15 [==============================] - 0s 11ms/step - loss: 0.0021 - val_loss: 0.0023\n",
            "Epoch 25/100\n",
            "15/15 [==============================] - 0s 8ms/step - loss: 0.0018 - val_loss: 0.0022\n",
            "Epoch 26/100\n",
            "15/15 [==============================] - 0s 12ms/step - loss: 0.0019 - val_loss: 0.0022\n",
            "Epoch 27/100\n",
            "15/15 [==============================] - 0s 6ms/step - loss: 0.0017 - val_loss: 0.0025\n",
            "Epoch 28/100\n",
            "15/15 [==============================] - 0s 6ms/step - loss: 0.0020 - val_loss: 0.0021\n",
            "Epoch 29/100\n",
            "15/15 [==============================] - 0s 6ms/step - loss: 0.0017 - val_loss: 0.0023\n",
            "Epoch 30/100\n",
            "15/15 [==============================] - 0s 20ms/step - loss: 0.0017 - val_loss: 0.0022\n",
            "Epoch 31/100\n",
            "15/15 [==============================] - 0s 6ms/step - loss: 0.0017 - val_loss: 0.0023\n",
            "Epoch 32/100\n",
            "15/15 [==============================] - 0s 6ms/step - loss: 0.0016 - val_loss: 0.0023\n",
            "Epoch 33/100\n",
            "15/15 [==============================] - 0s 6ms/step - loss: 0.0017 - val_loss: 0.0021\n",
            "Epoch 34/100\n",
            "15/15 [==============================] - 0s 11ms/step - loss: 0.0017 - val_loss: 0.0020\n",
            "Epoch 35/100\n",
            "15/15 [==============================] - 0s 7ms/step - loss: 0.0017 - val_loss: 0.0021\n",
            "Epoch 36/100\n",
            "15/15 [==============================] - 0s 5ms/step - loss: 0.0015 - val_loss: 0.0023\n",
            "Epoch 37/100\n",
            "15/15 [==============================] - 0s 9ms/step - loss: 0.0016 - val_loss: 0.0022\n",
            "Epoch 38/100\n",
            "15/15 [==============================] - 0s 8ms/step - loss: 0.0015 - val_loss: 0.0019\n",
            "Epoch 39/100\n",
            "15/15 [==============================] - 0s 8ms/step - loss: 0.0015 - val_loss: 0.0020\n",
            "Epoch 40/100\n",
            "15/15 [==============================] - 0s 5ms/step - loss: 0.0015 - val_loss: 0.0020\n",
            "Epoch 41/100\n",
            "15/15 [==============================] - 0s 7ms/step - loss: 0.0015 - val_loss: 0.0022\n",
            "Epoch 42/100\n",
            "15/15 [==============================] - 0s 8ms/step - loss: 0.0015 - val_loss: 0.0022\n",
            "Epoch 43/100\n",
            "15/15 [==============================] - 0s 7ms/step - loss: 0.0016 - val_loss: 0.0027\n",
            "Epoch 44/100\n",
            "15/15 [==============================] - 0s 5ms/step - loss: 0.0021 - val_loss: 0.0018\n",
            "Epoch 45/100\n",
            "15/15 [==============================] - 0s 5ms/step - loss: 0.0016 - val_loss: 0.0019\n",
            "Epoch 46/100\n",
            "15/15 [==============================] - 0s 6ms/step - loss: 0.0014 - val_loss: 0.0019\n",
            "Epoch 47/100\n",
            "15/15 [==============================] - 0s 5ms/step - loss: 0.0013 - val_loss: 0.0019\n",
            "Epoch 48/100\n",
            "15/15 [==============================] - 0s 6ms/step - loss: 0.0018 - val_loss: 0.0019\n",
            "Epoch 49/100\n",
            "15/15 [==============================] - 0s 7ms/step - loss: 0.0017 - val_loss: 0.0019\n",
            "Epoch 50/100\n",
            "15/15 [==============================] - 0s 7ms/step - loss: 0.0013 - val_loss: 0.0020\n",
            "Epoch 51/100\n",
            "15/15 [==============================] - 0s 5ms/step - loss: 0.0013 - val_loss: 0.0018\n",
            "Epoch 52/100\n",
            "15/15 [==============================] - 0s 8ms/step - loss: 0.0013 - val_loss: 0.0020\n",
            "Epoch 53/100\n",
            "15/15 [==============================] - 0s 12ms/step - loss: 0.0013 - val_loss: 0.0021\n",
            "Epoch 54/100\n",
            "15/15 [==============================] - 0s 9ms/step - loss: 0.0016 - val_loss: 0.0023\n",
            "Epoch 55/100\n",
            "15/15 [==============================] - 0s 7ms/step - loss: 0.0020 - val_loss: 0.0020\n",
            "Epoch 56/100\n",
            "15/15 [==============================] - 0s 5ms/step - loss: 0.0019 - val_loss: 0.0018\n",
            "Epoch 57/100\n",
            "15/15 [==============================] - 0s 14ms/step - loss: 0.0015 - val_loss: 0.0018\n",
            "Epoch 58/100\n",
            "15/15 [==============================] - 0s 10ms/step - loss: 0.0014 - val_loss: 0.0018\n",
            "Epoch 59/100\n",
            "15/15 [==============================] - 0s 8ms/step - loss: 0.0014 - val_loss: 0.0019\n",
            "Epoch 60/100\n",
            "15/15 [==============================] - 0s 12ms/step - loss: 0.0016 - val_loss: 0.0017\n",
            "Epoch 61/100\n",
            "15/15 [==============================] - 0s 9ms/step - loss: 0.0013 - val_loss: 0.0017\n",
            "Epoch 62/100\n",
            "15/15 [==============================] - 0s 6ms/step - loss: 0.0012 - val_loss: 0.0020\n",
            "Epoch 63/100\n",
            "15/15 [==============================] - 0s 10ms/step - loss: 0.0013 - val_loss: 0.0017\n",
            "Epoch 64/100\n",
            "15/15 [==============================] - 0s 10ms/step - loss: 0.0012 - val_loss: 0.0017\n",
            "Epoch 65/100\n",
            "15/15 [==============================] - 0s 9ms/step - loss: 0.0013 - val_loss: 0.0020\n",
            "Epoch 66/100\n",
            "15/15 [==============================] - 0s 10ms/step - loss: 0.0013 - val_loss: 0.0021\n",
            "Epoch 67/100\n",
            "15/15 [==============================] - 0s 10ms/step - loss: 0.0014 - val_loss: 0.0017\n",
            "Epoch 68/100\n",
            "15/15 [==============================] - 0s 6ms/step - loss: 0.0014 - val_loss: 0.0016\n",
            "Epoch 69/100\n",
            "15/15 [==============================] - 0s 9ms/step - loss: 0.0018 - val_loss: 0.0017\n",
            "Epoch 70/100\n",
            "15/15 [==============================] - 0s 15ms/step - loss: 0.0014 - val_loss: 0.0021\n",
            "Epoch 71/100\n",
            "15/15 [==============================] - 0s 20ms/step - loss: 0.0013 - val_loss: 0.0017\n",
            "Epoch 72/100\n",
            "15/15 [==============================] - 0s 17ms/step - loss: 0.0013 - val_loss: 0.0017\n",
            "Epoch 73/100\n",
            "15/15 [==============================] - 0s 9ms/step - loss: 0.0013 - val_loss: 0.0020\n",
            "Epoch 74/100\n",
            "15/15 [==============================] - 0s 17ms/step - loss: 0.0013 - val_loss: 0.0019\n",
            "Epoch 75/100\n",
            "15/15 [==============================] - 0s 9ms/step - loss: 0.0014 - val_loss: 0.0016\n",
            "Epoch 76/100\n",
            "15/15 [==============================] - 0s 15ms/step - loss: 0.0015 - val_loss: 0.0023\n",
            "Epoch 77/100\n",
            "15/15 [==============================] - 0s 16ms/step - loss: 0.0018 - val_loss: 0.0016\n",
            "Epoch 78/100\n",
            "15/15 [==============================] - 0s 11ms/step - loss: 0.0018 - val_loss: 0.0016\n",
            "Epoch 79/100\n",
            "15/15 [==============================] - 0s 14ms/step - loss: 0.0012 - val_loss: 0.0028\n",
            "Epoch 80/100\n",
            "15/15 [==============================] - 0s 14ms/step - loss: 0.0022 - val_loss: 0.0016\n",
            "Epoch 81/100\n",
            "15/15 [==============================] - 0s 15ms/step - loss: 0.0015 - val_loss: 0.0016\n",
            "Epoch 82/100\n",
            "15/15 [==============================] - 0s 16ms/step - loss: 0.0014 - val_loss: 0.0020\n",
            "Epoch 83/100\n",
            "15/15 [==============================] - 0s 16ms/step - loss: 0.0012 - val_loss: 0.0016\n",
            "Epoch 84/100\n",
            "15/15 [==============================] - 0s 17ms/step - loss: 0.0012 - val_loss: 0.0016\n",
            "Epoch 85/100\n",
            "15/15 [==============================] - 0s 26ms/step - loss: 0.0015 - val_loss: 0.0021\n",
            "Epoch 86/100\n",
            "15/15 [==============================] - 0s 17ms/step - loss: 0.0021 - val_loss: 0.0019\n",
            "Epoch 87/100\n",
            "15/15 [==============================] - 0s 17ms/step - loss: 0.0013 - val_loss: 0.0017\n",
            "Epoch 88/100\n",
            "15/15 [==============================] - 0s 17ms/step - loss: 0.0016 - val_loss: 0.0016\n",
            "Epoch 89/100\n",
            "15/15 [==============================] - 0s 20ms/step - loss: 0.0013 - val_loss: 0.0021\n",
            "Epoch 90/100\n",
            "15/15 [==============================] - 0s 26ms/step - loss: 0.0012 - val_loss: 0.0019\n",
            "Epoch 91/100\n",
            "15/15 [==============================] - 0s 16ms/step - loss: 0.0011 - val_loss: 0.0016\n",
            "Epoch 92/100\n",
            "15/15 [==============================] - 0s 13ms/step - loss: 0.0012 - val_loss: 0.0017\n",
            "Epoch 93/100\n",
            "15/15 [==============================] - 0s 9ms/step - loss: 0.0011 - val_loss: 0.0026\n",
            "Epoch 94/100\n",
            "15/15 [==============================] - 0s 6ms/step - loss: 0.0019 - val_loss: 0.0019\n",
            "Epoch 95/100\n",
            "15/15 [==============================] - 0s 10ms/step - loss: 0.0015 - val_loss: 0.0018\n",
            "Epoch 96/100\n",
            "15/15 [==============================] - 0s 6ms/step - loss: 0.0016 - val_loss: 0.0024\n",
            "Epoch 97/100\n",
            "15/15 [==============================] - 0s 9ms/step - loss: 0.0019 - val_loss: 0.0016\n",
            "Epoch 98/100\n",
            "15/15 [==============================] - 0s 10ms/step - loss: 0.0026 - val_loss: 0.0015\n",
            "Epoch 99/100\n",
            "15/15 [==============================] - 0s 13ms/step - loss: 0.0014 - val_loss: 0.0016\n",
            "Epoch 100/100\n",
            "15/15 [==============================] - 0s 14ms/step - loss: 0.0014 - val_loss: 0.0019\n"
          ]
        },
        {
          "output_type": "execute_result",
          "data": {
            "text/plain": [
              "<keras.src.callbacks.History at 0x7fa7bbac08b0>"
            ]
          },
          "metadata": {},
          "execution_count": 159
        }
      ]
    },
    {
      "cell_type": "code",
      "source": [
        "# 9. Dự báo dữ liệu test, val\n",
        "train_predict=model.predict(X_train)\n",
        "y_pred=model.predict(X_test)\n",
        "y_pred_val=model.predict(X_val)"
      ],
      "metadata": {
        "colab": {
          "base_uri": "https://localhost:8080/"
        },
        "id": "oeqCHn3EJSn7",
        "outputId": "2c258f4f-6e28-4fce-d357-45ab17d0aef5"
      },
      "execution_count": 160,
      "outputs": [
        {
          "output_type": "stream",
          "name": "stdout",
          "text": [
            "29/29 [==============================] - 0s 4ms/step\n",
            "1/1 [==============================] - 0s 39ms/step\n",
            "1/1 [==============================] - 0s 35ms/step\n"
          ]
        }
      ]
    },
    {
      "cell_type": "code",
      "source": [
        "# 10. Chuẩn hóa dữ liệu y_pred, y_pred_val\n",
        "train_predict=scaler.inverse_transform(train_predict)\n",
        "y_pred=scaler.inverse_transform(y_pred)\n",
        "y_pred_val=scaler.inverse_transform(y_pred_val)"
      ],
      "metadata": {
        "id": "5OKYOKn0JUUS"
      },
      "execution_count": 161,
      "outputs": []
    },
    {
      "cell_type": "code",
      "source": [
        "from sklearn.metrics import mean_absolute_error, mean_absolute_percentage_error, r2_score, explained_variance_score\n",
        "\n",
        "# 11. Đánh giá độ chính xác thuật toán bằng RMSE và các độ đo khác\n",
        "valid_rmse = np.sqrt(np.mean((y_pred_val - yval)**2))\n",
        "test_rmse = np.sqrt(np.mean((y_pred - ytest)**2))\n",
        "\n",
        "valid_mape = mean_absolute_percentage_error(yval, y_pred_val)\n",
        "test_mape = mean_absolute_percentage_error(ytest, y_pred)\n",
        "\n",
        "valid_mae = mean_absolute_error(yval, y_pred_val)\n",
        "test_mae = mean_absolute_error(ytest, y_pred)\n",
        "\n",
        "r2_valid = r2_score(yval, y_pred_val)\n",
        "r2_test = r2_score(ytest, y_pred)\n",
        "\n",
        "print('Validation RMSE:', valid_rmse)\n",
        "print('Testing RMSE:', test_rmse)\n",
        "\n",
        "print('Validation MAPE:', valid_mape)\n",
        "print('Testing MAPE:', test_mape)\n",
        "\n",
        "print('Validation MAE:', valid_mae)\n",
        "print('Testing MAE:', test_mae)\n",
        "\n",
        "print('Validation R^2 score:', r2_valid)\n",
        "print('Testing R^2 score:', r2_test)\n"
      ],
      "metadata": {
        "colab": {
          "base_uri": "https://localhost:8080/"
        },
        "id": "QyT66cVQJV-Q",
        "outputId": "ab352a58-7608-406d-9c42-79f4cde77b00"
      },
      "execution_count": 162,
      "outputs": [
        {
          "output_type": "stream",
          "name": "stdout",
          "text": [
            "Validation RMSE: 42324.67999942887\n",
            "Testing RMSE: 60408.708598770645\n",
            "Validation MAPE: 527440.580918486\n",
            "Testing MAPE: 145559.2794197101\n",
            "Validation MAE: 42310.99727432766\n",
            "Testing MAE: 60373.520756770675\n",
            "Validation R^2 score: -2242820820186.684\n",
            "Testing R^2 score: -1099889971122.5442\n"
          ]
        }
      ]
    },
    {
      "cell_type": "code",
      "source": [
        "# 12. Dự báo 30 ngày tiếp theo\n",
        "x_input = val_data[-100:].reshape(1, -1)\n",
        "temp_input = x_input[0].tolist()\n",
        "\n",
        "from numpy import array\n",
        "\n",
        "lst_output=[]\n",
        "n_steps=100\n",
        "i=0\n",
        "while(i < 30):\n",
        "    if len(temp_input) > 100:\n",
        "        x_input = np.array(temp_input[-100:])  # Ensure the input is the last 100 steps\n",
        "        x_input = x_input.reshape((1, n_steps))\n",
        "        yhat = model.predict(x_input, verbose=0)\n",
        "        temp_input.extend(yhat[0].tolist())\n",
        "        temp_input = temp_input[1:]  # Keep size consistent by removing the oldest element\n",
        "        lst_output.extend(yhat.tolist())\n",
        "        i += 1\n",
        "    else:\n",
        "        x_input = np.array(temp_input).reshape((1, n_steps))\n",
        "        yhat = model.predict(x_input, verbose=0)\n",
        "        temp_input.extend(yhat[0].tolist())\n",
        "        lst_output.extend(yhat.tolist())\n",
        "        i += 1"
      ],
      "metadata": {
        "id": "_YZFDuVNJZfP"
      },
      "execution_count": 163,
      "outputs": []
    },
    {
      "cell_type": "code",
      "source": [
        "# 13.Vẽ hình\n",
        "\n",
        "train_data_index = pd.RangeIndex(start=0, stop=train_size, step=1)\n",
        "plt.plot(scaler.inverse_transform(train_data))\n",
        "test_data_index = pd.RangeIndex(start=train_size, stop=train_size+test_size, step=1)\n",
        "plt.plot(test_data_index,scaler.inverse_transform(test_data))\n",
        "test_data_index = pd.RangeIndex(start=train_size+101, stop=train_size+test_size, step=1)\n",
        "plt.plot(test_data_index,(y_pred))\n",
        "val_data_index = pd.RangeIndex(start=train_size+test_size, stop=train_size+test_size+val_size, step=1)\n",
        "plt.plot(val_data_index,scaler.inverse_transform(val_data))\n",
        "val_data_index = pd.RangeIndex(start=train_size+test_size+101, stop=train_size+test_size+val_size, step=1)\n",
        "plt.plot(val_data_index,y_pred_val)\n",
        "prediect_data_index = pd.RangeIndex(start=len(df1)-1, stop=len(df1)+29, step=1)\n",
        "plt.plot(prediect_data_index,scaler.inverse_transform(lst_output))\n",
        "plt.legend(['Train','Test','Predict','Validate','ValidatePred','Predict30days'])\n",
        "plt.show()"
      ],
      "metadata": {
        "colab": {
          "base_uri": "https://localhost:8080/",
          "height": 453
        },
        "id": "2cMMmJ9VJbWh",
        "outputId": "cf245088-3439-4449-ec41-504ec1329e41"
      },
      "execution_count": 164,
      "outputs": [
        {
          "output_type": "display_data",
          "data": {
            "text/plain": [
              "<Figure size 640x480 with 1 Axes>"
            ],
            "image/png": "[encoded data removed]"
          },
          "metadata": {}
        }
      ]
    },
    {
      "cell_type": "markdown",
      "source": [
        "## 2. NVL Dataset"
      ],
      "metadata": {
        "id": "NB89BnlEOxsG"
      }
    },
    {
      "cell_type": "code",
      "source": [
        "# 1. Import thư viện cần thiết\n",
        "import numpy as np\n",
        "import pandas as pd\n",
        "import matplotlib.pyplot as plt\n",
        "from sklearn.preprocessing import MinMaxScaler\n",
        "from keras.models import Sequential\n",
        "from keras.layers import Dense"
      ],
      "metadata": {
        "id": "OcqWKtqKOxsV"
      },
      "execution_count": 165,
      "outputs": []
    },
    {
      "cell_type": "code",
      "source": [
        "# 2. Đọc file csv và gắn index với giá Close\n",
        "df = pd.read_csv('2-NVL Historical Data.csv')\n",
        "df_reversed = df.iloc[::-1].reset_index(drop=True)\n",
        "df1 = df_reversed['Price']\n",
        "# Remove commas and convert to float\n",
        "df1 = df1.str.replace(',', '').astype(float)"
      ],
      "metadata": {
        "id": "U4_8uEq5OxsW"
      },
      "execution_count": 166,
      "outputs": []
    },
    {
      "cell_type": "code",
      "source": [
        "# 3. Scaler data\n",
        "scaler=MinMaxScaler(feature_range=(0,1))\n",
        "df1=scaler.fit_transform(np.array(df1).reshape(-1,1))"
      ],
      "metadata": {
        "id": "Kw_S_nTFOxsW"
      },
      "execution_count": 167,
      "outputs": []
    },
    {
      "cell_type": "code",
      "source": [
        "# 4. Chia train test\n",
        "train_size = int(0.7 * len(df1))\n",
        "test_size = int(0.2 * len(df1))\n",
        "val_size = len(df1) - train_size - test_size\n",
        "\n",
        "train_data = df1[:train_size]\n",
        "test_data = df1[train_size:train_size+test_size]\n",
        "val_data = df1[train_size+test_size:]"
      ],
      "metadata": {
        "id": "wVTPHxGlOxsW"
      },
      "execution_count": 168,
      "outputs": []
    },
    {
      "cell_type": "code",
      "source": [
        "# 5. Hàm Create Dataset\n",
        "import numpy\n",
        "# convert an array of values into a dataset matrix\n",
        "def create_dataset(dataset, time_step=1):\n",
        "\tdataX, dataY = [], []\n",
        "\tfor i in range(len(dataset)-time_step-1):\n",
        "\t\ta = dataset[i:(i+time_step), 0]   ###i=0, X=0,1,2,3-----99   Y=100\n",
        "\t\tdataX.append(a)\n",
        "\t\tdataY.append(dataset[i + time_step, 0])\n",
        "\treturn numpy.array(dataX), numpy.array(dataY)"
      ],
      "metadata": {
        "id": "eToOh6dSOxsW"
      },
      "execution_count": 169,
      "outputs": []
    },
    {
      "cell_type": "code",
      "source": [
        "#6. Reshape into X=t,t+1,t+2..t+99 and Y=t+100\n",
        "\n",
        "time_step = 100\n",
        "X_train, y_train = create_dataset(train_data, time_step)\n",
        "X_val, yval = create_dataset(val_data, time_step)\n",
        "X_test, ytest = create_dataset(test_data, time_step)"
      ],
      "metadata": {
        "id": "2OcwMIy1OxsW"
      },
      "execution_count": 170,
      "outputs": []
    },
    {
      "cell_type": "code",
      "source": [
        "# 7. Define MLP Model\n",
        "\n",
        "model=Sequential()\n",
        "model.add(Dense(50, input_dim=100, activation='relu'))\n",
        "model.add(Dense(50, activation='relu'))\n",
        "model.add(Dense(1))\n",
        "model.compile(loss='mean_squared_error',optimizer='adam')"
      ],
      "metadata": {
        "id": "oClR3rsAOxsW"
      },
      "execution_count": 171,
      "outputs": []
    },
    {
      "cell_type": "code",
      "source": [
        "# 8. Fit mô hình với dữ liệu train\n",
        "model.fit(X_train,y_train,validation_data=(X_test,ytest),epochs=100,batch_size=64,verbose=1)"
      ],
      "metadata": {
        "colab": {
          "base_uri": "https://localhost:8080/"
        },
        "outputId": "744bb86f-5062-4b45-acc2-46a90db9db3f",
        "id": "3rWxsuskOxsW"
      },
      "execution_count": 172,
      "outputs": [
        {
          "output_type": "stream",
          "name": "stdout",
          "text": [
            "Epoch 1/100\n",
            "13/13 [==============================] - 1s 15ms/step - loss: 0.0246 - val_loss: 0.0537\n",
            "Epoch 2/100\n",
            "13/13 [==============================] - 0s 5ms/step - loss: 0.0075 - val_loss: 0.0408\n",
            "Epoch 3/100\n",
            "13/13 [==============================] - 0s 5ms/step - loss: 0.0046 - val_loss: 0.0364\n",
            "Epoch 4/100\n",
            "13/13 [==============================] - 0s 5ms/step - loss: 0.0037 - val_loss: 0.0350\n",
            "Epoch 5/100\n",
            "13/13 [==============================] - 0s 4ms/step - loss: 0.0032 - val_loss: 0.0350\n",
            "Epoch 6/100\n",
            "13/13 [==============================] - 0s 4ms/step - loss: 0.0030 - val_loss: 0.0397\n",
            "Epoch 7/100\n",
            "13/13 [==============================] - 0s 6ms/step - loss: 0.0023 - val_loss: 0.0422\n",
            "Epoch 8/100\n",
            "13/13 [==============================] - 0s 8ms/step - loss: 0.0021 - val_loss: 0.0410\n",
            "Epoch 9/100\n",
            "13/13 [==============================] - 0s 9ms/step - loss: 0.0016 - val_loss: 0.0417\n",
            "Epoch 10/100\n",
            "13/13 [==============================] - 0s 7ms/step - loss: 0.0014 - val_loss: 0.0405\n",
            "Epoch 11/100\n",
            "13/13 [==============================] - 0s 8ms/step - loss: 0.0015 - val_loss: 0.0431\n",
            "Epoch 12/100\n",
            "13/13 [==============================] - 0s 6ms/step - loss: 0.0012 - val_loss: 0.0452\n",
            "Epoch 13/100\n",
            "13/13 [==============================] - 0s 7ms/step - loss: 0.0011 - val_loss: 0.0457\n",
            "Epoch 14/100\n",
            "13/13 [==============================] - 0s 8ms/step - loss: 0.0011 - val_loss: 0.0463\n",
            "Epoch 15/100\n",
            "13/13 [==============================] - 0s 6ms/step - loss: 0.0010 - val_loss: 0.0475\n",
            "Epoch 16/100\n",
            "13/13 [==============================] - 0s 8ms/step - loss: 0.0010 - val_loss: 0.0488\n",
            "Epoch 17/100\n",
            "13/13 [==============================] - 0s 8ms/step - loss: 0.0010 - val_loss: 0.0504\n",
            "Epoch 18/100\n",
            "13/13 [==============================] - 0s 6ms/step - loss: 9.3259e-04 - val_loss: 0.0483\n",
            "Epoch 19/100\n",
            "13/13 [==============================] - 0s 7ms/step - loss: 9.2079e-04 - val_loss: 0.0498\n",
            "Epoch 20/100\n",
            "13/13 [==============================] - 0s 8ms/step - loss: 8.1595e-04 - val_loss: 0.0498\n",
            "Epoch 21/100\n",
            "13/13 [==============================] - 0s 6ms/step - loss: 8.8586e-04 - val_loss: 0.0492\n",
            "Epoch 22/100\n",
            "13/13 [==============================] - 0s 9ms/step - loss: 7.8782e-04 - val_loss: 0.0503\n",
            "Epoch 23/100\n",
            "13/13 [==============================] - 0s 9ms/step - loss: 7.3366e-04 - val_loss: 0.0499\n",
            "Epoch 24/100\n",
            "13/13 [==============================] - 0s 7ms/step - loss: 7.1414e-04 - val_loss: 0.0514\n",
            "Epoch 25/100\n",
            "13/13 [==============================] - 0s 6ms/step - loss: 7.7666e-04 - val_loss: 0.0510\n",
            "Epoch 26/100\n",
            "13/13 [==============================] - 0s 7ms/step - loss: 8.4850e-04 - val_loss: 0.0516\n",
            "Epoch 27/100\n",
            "13/13 [==============================] - 0s 8ms/step - loss: 7.6167e-04 - val_loss: 0.0518\n",
            "Epoch 28/100\n",
            "13/13 [==============================] - 0s 8ms/step - loss: 6.5323e-04 - val_loss: 0.0510\n",
            "Epoch 29/100\n",
            "13/13 [==============================] - 0s 7ms/step - loss: 6.7896e-04 - val_loss: 0.0500\n",
            "Epoch 30/100\n",
            "13/13 [==============================] - 0s 7ms/step - loss: 8.9155e-04 - val_loss: 0.0525\n",
            "Epoch 31/100\n",
            "13/13 [==============================] - 0s 8ms/step - loss: 0.0010 - val_loss: 0.0508\n",
            "Epoch 32/100\n",
            "13/13 [==============================] - 0s 7ms/step - loss: 7.2692e-04 - val_loss: 0.0518\n",
            "Epoch 33/100\n",
            "13/13 [==============================] - 0s 6ms/step - loss: 6.6299e-04 - val_loss: 0.0516\n",
            "Epoch 34/100\n",
            "13/13 [==============================] - 0s 8ms/step - loss: 6.2287e-04 - val_loss: 0.0512\n",
            "Epoch 35/100\n",
            "13/13 [==============================] - 0s 8ms/step - loss: 6.5899e-04 - val_loss: 0.0516\n",
            "Epoch 36/100\n",
            "13/13 [==============================] - 0s 8ms/step - loss: 6.9285e-04 - val_loss: 0.0522\n",
            "Epoch 37/100\n",
            "13/13 [==============================] - 0s 8ms/step - loss: 7.4401e-04 - val_loss: 0.0491\n",
            "Epoch 38/100\n",
            "13/13 [==============================] - 0s 8ms/step - loss: 0.0012 - val_loss: 0.0510\n",
            "Epoch 39/100\n",
            "13/13 [==============================] - 0s 8ms/step - loss: 7.0832e-04 - val_loss: 0.0512\n",
            "Epoch 40/100\n",
            "13/13 [==============================] - 0s 8ms/step - loss: 6.2110e-04 - val_loss: 0.0503\n",
            "Epoch 41/100\n",
            "13/13 [==============================] - 0s 6ms/step - loss: 5.5008e-04 - val_loss: 0.0508\n",
            "Epoch 42/100\n",
            "13/13 [==============================] - 0s 5ms/step - loss: 5.6147e-04 - val_loss: 0.0507\n",
            "Epoch 43/100\n",
            "13/13 [==============================] - 0s 6ms/step - loss: 6.0123e-04 - val_loss: 0.0521\n",
            "Epoch 44/100\n",
            "13/13 [==============================] - 0s 4ms/step - loss: 5.8358e-04 - val_loss: 0.0496\n",
            "Epoch 45/100\n",
            "13/13 [==============================] - 0s 6ms/step - loss: 6.2432e-04 - val_loss: 0.0506\n",
            "Epoch 46/100\n",
            "13/13 [==============================] - 0s 6ms/step - loss: 6.1025e-04 - val_loss: 0.0490\n",
            "Epoch 47/100\n",
            "13/13 [==============================] - 0s 5ms/step - loss: 6.9979e-04 - val_loss: 0.0497\n",
            "Epoch 48/100\n",
            "13/13 [==============================] - 0s 5ms/step - loss: 0.0011 - val_loss: 0.0508\n",
            "Epoch 49/100\n",
            "13/13 [==============================] - 0s 5ms/step - loss: 5.5878e-04 - val_loss: 0.0487\n",
            "Epoch 50/100\n",
            "13/13 [==============================] - 0s 6ms/step - loss: 4.7852e-04 - val_loss: 0.0485\n",
            "Epoch 51/100\n",
            "13/13 [==============================] - 0s 5ms/step - loss: 5.9001e-04 - val_loss: 0.0484\n",
            "Epoch 52/100\n",
            "13/13 [==============================] - 0s 6ms/step - loss: 5.7073e-04 - val_loss: 0.0485\n",
            "Epoch 53/100\n",
            "13/13 [==============================] - 0s 6ms/step - loss: 4.8415e-04 - val_loss: 0.0467\n",
            "Epoch 54/100\n",
            "13/13 [==============================] - 0s 6ms/step - loss: 9.1039e-04 - val_loss: 0.0518\n",
            "Epoch 55/100\n",
            "13/13 [==============================] - 0s 6ms/step - loss: 0.0011 - val_loss: 0.0459\n",
            "Epoch 56/100\n",
            "13/13 [==============================] - 0s 5ms/step - loss: 6.6158e-04 - val_loss: 0.0459\n",
            "Epoch 57/100\n",
            "13/13 [==============================] - 0s 6ms/step - loss: 5.4643e-04 - val_loss: 0.0478\n",
            "Epoch 58/100\n",
            "13/13 [==============================] - 0s 5ms/step - loss: 4.6062e-04 - val_loss: 0.0456\n",
            "Epoch 59/100\n",
            "13/13 [==============================] - 0s 6ms/step - loss: 6.6085e-04 - val_loss: 0.0491\n",
            "Epoch 60/100\n",
            "13/13 [==============================] - 0s 6ms/step - loss: 6.1022e-04 - val_loss: 0.0483\n",
            "Epoch 61/100\n",
            "13/13 [==============================] - 0s 5ms/step - loss: 6.9061e-04 - val_loss: 0.0466\n",
            "Epoch 62/100\n",
            "13/13 [==============================] - 0s 4ms/step - loss: 5.2307e-04 - val_loss: 0.0463\n",
            "Epoch 63/100\n",
            "13/13 [==============================] - 0s 4ms/step - loss: 5.4189e-04 - val_loss: 0.0463\n",
            "Epoch 64/100\n",
            "13/13 [==============================] - 0s 4ms/step - loss: 4.7177e-04 - val_loss: 0.0467\n",
            "Epoch 65/100\n",
            "13/13 [==============================] - 0s 4ms/step - loss: 4.9170e-04 - val_loss: 0.0460\n",
            "Epoch 66/100\n",
            "13/13 [==============================] - 0s 6ms/step - loss: 4.9430e-04 - val_loss: 0.0472\n",
            "Epoch 67/100\n",
            "13/13 [==============================] - 0s 6ms/step - loss: 6.2896e-04 - val_loss: 0.0444\n",
            "Epoch 68/100\n",
            "13/13 [==============================] - 0s 6ms/step - loss: 5.8737e-04 - val_loss: 0.0445\n",
            "Epoch 69/100\n",
            "13/13 [==============================] - 0s 5ms/step - loss: 4.5064e-04 - val_loss: 0.0463\n",
            "Epoch 70/100\n",
            "13/13 [==============================] - 0s 6ms/step - loss: 4.6753e-04 - val_loss: 0.0448\n",
            "Epoch 71/100\n",
            "13/13 [==============================] - 0s 6ms/step - loss: 3.9951e-04 - val_loss: 0.0457\n",
            "Epoch 72/100\n",
            "13/13 [==============================] - 0s 6ms/step - loss: 5.0730e-04 - val_loss: 0.0447\n",
            "Epoch 73/100\n",
            "13/13 [==============================] - 0s 4ms/step - loss: 4.1291e-04 - val_loss: 0.0442\n",
            "Epoch 74/100\n",
            "13/13 [==============================] - 0s 6ms/step - loss: 3.9074e-04 - val_loss: 0.0435\n",
            "Epoch 75/100\n",
            "13/13 [==============================] - 0s 5ms/step - loss: 6.6346e-04 - val_loss: 0.0457\n",
            "Epoch 76/100\n",
            "13/13 [==============================] - 0s 6ms/step - loss: 5.8863e-04 - val_loss: 0.0438\n",
            "Epoch 77/100\n",
            "13/13 [==============================] - 0s 4ms/step - loss: 4.1642e-04 - val_loss: 0.0436\n",
            "Epoch 78/100\n",
            "13/13 [==============================] - 0s 6ms/step - loss: 4.6060e-04 - val_loss: 0.0423\n",
            "Epoch 79/100\n",
            "13/13 [==============================] - 0s 4ms/step - loss: 5.4623e-04 - val_loss: 0.0453\n",
            "Epoch 80/100\n",
            "13/13 [==============================] - 0s 4ms/step - loss: 5.2790e-04 - val_loss: 0.0423\n",
            "Epoch 81/100\n",
            "13/13 [==============================] - 0s 5ms/step - loss: 4.2657e-04 - val_loss: 0.0417\n",
            "Epoch 82/100\n",
            "13/13 [==============================] - 0s 7ms/step - loss: 6.3387e-04 - val_loss: 0.0451\n",
            "Epoch 83/100\n",
            "13/13 [==============================] - 0s 5ms/step - loss: 6.0318e-04 - val_loss: 0.0412\n",
            "Epoch 84/100\n",
            "13/13 [==============================] - 0s 6ms/step - loss: 9.3610e-04 - val_loss: 0.0432\n",
            "Epoch 85/100\n",
            "13/13 [==============================] - 0s 6ms/step - loss: 4.3916e-04 - val_loss: 0.0432\n",
            "Epoch 86/100\n",
            "13/13 [==============================] - 0s 6ms/step - loss: 5.1983e-04 - val_loss: 0.0416\n",
            "Epoch 87/100\n",
            "13/13 [==============================] - 0s 6ms/step - loss: 6.0294e-04 - val_loss: 0.0439\n",
            "Epoch 88/100\n",
            "13/13 [==============================] - 0s 5ms/step - loss: 0.0010 - val_loss: 0.0403\n",
            "Epoch 89/100\n",
            "13/13 [==============================] - 0s 5ms/step - loss: 4.5986e-04 - val_loss: 0.0400\n",
            "Epoch 90/100\n",
            "13/13 [==============================] - 0s 6ms/step - loss: 5.9155e-04 - val_loss: 0.0407\n",
            "Epoch 91/100\n",
            "13/13 [==============================] - 0s 4ms/step - loss: 4.9898e-04 - val_loss: 0.0411\n",
            "Epoch 92/100\n",
            "13/13 [==============================] - 0s 4ms/step - loss: 3.5840e-04 - val_loss: 0.0410\n",
            "Epoch 93/100\n",
            "13/13 [==============================] - 0s 4ms/step - loss: 3.8510e-04 - val_loss: 0.0409\n",
            "Epoch 94/100\n",
            "13/13 [==============================] - 0s 4ms/step - loss: 4.4951e-04 - val_loss: 0.0415\n",
            "Epoch 95/100\n",
            "13/13 [==============================] - 0s 4ms/step - loss: 4.1339e-04 - val_loss: 0.0420\n",
            "Epoch 96/100\n",
            "13/13 [==============================] - 0s 5ms/step - loss: 5.3770e-04 - val_loss: 0.0404\n",
            "Epoch 97/100\n",
            "13/13 [==============================] - 0s 4ms/step - loss: 4.2148e-04 - val_loss: 0.0407\n",
            "Epoch 98/100\n",
            "13/13 [==============================] - 0s 6ms/step - loss: 4.1938e-04 - val_loss: 0.0427\n",
            "Epoch 99/100\n",
            "13/13 [==============================] - 0s 6ms/step - loss: 4.9503e-04 - val_loss: 0.0401\n",
            "Epoch 100/100\n",
            "13/13 [==============================] - 0s 6ms/step - loss: 5.9191e-04 - val_loss: 0.0418\n"
          ]
        },
        {
          "output_type": "execute_result",
          "data": {
            "text/plain": [
              "<keras.src.callbacks.History at 0x7fa7cc1fc760>"
            ]
          },
          "metadata": {},
          "execution_count": 172
        }
      ]
    },
    {
      "cell_type": "code",
      "source": [
        "# 9. Dự báo dữ liệu test, val\n",
        "train_predict=model.predict(X_train)\n",
        "y_pred=model.predict(X_test)\n",
        "y_pred_val=model.predict(X_val)"
      ],
      "metadata": {
        "colab": {
          "base_uri": "https://localhost:8080/"
        },
        "outputId": "e78138ba-bb98-472c-bc3a-b32f9d98a6ee",
        "id": "MzKCp0QHOxsX"
      },
      "execution_count": 173,
      "outputs": [
        {
          "output_type": "stream",
          "name": "stdout",
          "text": [
            "25/25 [==============================] - 0s 1ms/step\n",
            "5/5 [==============================] - 0s 2ms/step\n",
            "1/1 [==============================] - 0s 23ms/step\n"
          ]
        }
      ]
    },
    {
      "cell_type": "code",
      "source": [
        "# 10. Chuẩn hóa dữ liệu y_pred, y_pred_val\n",
        "train_predict=scaler.inverse_transform(train_predict)\n",
        "y_pred=scaler.inverse_transform(y_pred)\n",
        "y_pred_val=scaler.inverse_transform(y_pred_val)"
      ],
      "metadata": {
        "id": "2mMp42X5OxsX"
      },
      "execution_count": 174,
      "outputs": []
    },
    {
      "cell_type": "code",
      "source": [
        "from sklearn.metrics import mean_absolute_error, mean_absolute_percentage_error, r2_score, explained_variance_score\n",
        "\n",
        "# 11. Đánh giá độ chính xác thuật toán bằng RMSE và các độ đo khác\n",
        "valid_rmse = np.sqrt(np.mean((y_pred_val - yval)**2))\n",
        "test_rmse = np.sqrt(np.mean((y_pred - ytest)**2))\n",
        "\n",
        "valid_mape = mean_absolute_percentage_error(yval, y_pred_val)\n",
        "test_mape = mean_absolute_percentage_error(ytest, y_pred)\n",
        "\n",
        "valid_mae = mean_absolute_error(yval, y_pred_val)\n",
        "test_mae = mean_absolute_error(ytest, y_pred)\n",
        "\n",
        "r2_valid = r2_score(yval, y_pred_val)\n",
        "r2_test = r2_score(ytest, y_pred)\n",
        "\n",
        "print('Validation RMSE:', valid_rmse)\n",
        "print('Testing RMSE:', test_rmse)\n",
        "\n",
        "print('Validation MAPE:', valid_mape)\n",
        "print('Testing MAPE:', test_mape)\n",
        "\n",
        "print('Validation MAE:', valid_mae)\n",
        "print('Testing MAE:', test_mae)\n",
        "\n",
        "print('Validation R^2 score:', r2_valid)\n",
        "print('Testing R^2 score:', r2_test)\n"
      ],
      "metadata": {
        "colab": {
          "base_uri": "https://localhost:8080/"
        },
        "outputId": "6f922a65-eb3e-45e4-86a7-2440157d8dcd",
        "id": "yyzDBVAaOxsX"
      },
      "execution_count": 175,
      "outputs": [
        {
          "output_type": "stream",
          "name": "stdout",
          "text": [
            "Validation RMSE: 17425.591197990758\n",
            "Testing RMSE: 27097.681230912942\n",
            "Validation MAPE: 212793.44956528093\n",
            "Testing MAPE: 1.2143849425281777e+18\n",
            "Validation MAE: 17421.20596786482\n",
            "Testing MAE: 23953.777171348698\n",
            "Validation R^2 score: -14604362325055.701\n",
            "Testing R^2 score: -751431632353.9601\n"
          ]
        }
      ]
    },
    {
      "cell_type": "code",
      "source": [
        "# 12. Dự báo 30 ngày tiếp theo\n",
        "x_input = val_data[-100:].reshape(1, -1)\n",
        "temp_input = x_input[0].tolist()\n",
        "\n",
        "from numpy import array\n",
        "\n",
        "lst_output=[]\n",
        "n_steps=100\n",
        "i=0\n",
        "while(i < 30):\n",
        "    if len(temp_input) > 100:\n",
        "        x_input = np.array(temp_input[-100:])  # Ensure the input is the last 100 steps\n",
        "        x_input = x_input.reshape((1, n_steps))\n",
        "        yhat = model.predict(x_input, verbose=0)\n",
        "        temp_input.extend(yhat[0].tolist())\n",
        "        temp_input = temp_input[1:]  # Keep size consistent by removing the oldest element\n",
        "        lst_output.extend(yhat.tolist())\n",
        "        i += 1\n",
        "    else:\n",
        "        x_input = np.array(temp_input).reshape((1, n_steps))\n",
        "        yhat = model.predict(x_input, verbose=0)\n",
        "        temp_input.extend(yhat[0].tolist())\n",
        "        lst_output.extend(yhat.tolist())\n",
        "        i += 1"
      ],
      "metadata": {
        "id": "YkFY4_hBOxsX"
      },
      "execution_count": 176,
      "outputs": []
    },
    {
      "cell_type": "code",
      "source": [
        "# 13.Vẽ hình\n",
        "\n",
        "train_data_index = pd.RangeIndex(start=0, stop=train_size, step=1)\n",
        "plt.plot(scaler.inverse_transform(train_data))\n",
        "test_data_index = pd.RangeIndex(start=train_size, stop=train_size+test_size, step=1)\n",
        "plt.plot(test_data_index,scaler.inverse_transform(test_data))\n",
        "test_data_index = pd.RangeIndex(start=train_size+101, stop=train_size+test_size, step=1)\n",
        "plt.plot(test_data_index,(y_pred))\n",
        "val_data_index = pd.RangeIndex(start=train_size+test_size, stop=train_size+test_size+val_size, step=1)\n",
        "plt.plot(val_data_index,scaler.inverse_transform(val_data))\n",
        "val_data_index = pd.RangeIndex(start=train_size+test_size+101, stop=train_size+test_size+val_size, step=1)\n",
        "plt.plot(val_data_index,y_pred_val)\n",
        "prediect_data_index = pd.RangeIndex(start=len(df1)-1, stop=len(df1)+29, step=1)\n",
        "plt.plot(prediect_data_index,scaler.inverse_transform(lst_output))\n",
        "plt.legend(['Train','Test','Predict','Validate','ValidatePred','Predict30days'])\n",
        "plt.show()"
      ],
      "metadata": {
        "colab": {
          "base_uri": "https://localhost:8080/",
          "height": 453
        },
        "outputId": "0193a37c-3165-4daa-eaf2-df74a3f23a1d",
        "id": "srJMn-cNOxsX"
      },
      "execution_count": 177,
      "outputs": [
        {
          "output_type": "display_data",
          "data": {
            "text/plain": [
              "<Figure size 640x480 with 1 Axes>"
            ],
            "image/png": "[encoded data removed]"
          },
          "metadata": {}
        }
      ]
    },
    {
      "cell_type": "markdown",
      "source": [
        "## 3. NLG Dataset"
      ],
      "metadata": {
        "id": "ls_MUw0rO2kT"
      }
    },
    {
      "cell_type": "code",
      "source": [
        "# 1. Import thư viện cần thiết\n",
        "import numpy as np\n",
        "import pandas as pd\n",
        "import matplotlib.pyplot as plt\n",
        "from sklearn.preprocessing import MinMaxScaler\n",
        "from keras.models import Sequential\n",
        "from keras.layers import Dense"
      ],
      "metadata": {
        "id": "mj8RxaHcO2kU"
      },
      "execution_count": 178,
      "outputs": []
    },
    {
      "cell_type": "code",
      "source": [
        "# 2. Đọc file csv và gắn index với giá Close\n",
        "df = pd.read_csv('3-NLG Historical Data.csv')\n",
        "df_reversed = df.iloc[::-1].reset_index(drop=True)\n",
        "df1 = df_reversed['Price']\n",
        "# Remove commas and convert to float\n",
        "df1 = df1.str.replace(',', '').astype(float)"
      ],
      "metadata": {
        "id": "IoQDVDLyO2kV"
      },
      "execution_count": 179,
      "outputs": []
    },
    {
      "cell_type": "code",
      "source": [
        "# 3. Scaler data\n",
        "scaler=MinMaxScaler(feature_range=(0,1))\n",
        "df1=scaler.fit_transform(np.array(df1).reshape(-1,1))"
      ],
      "metadata": {
        "id": "9_RABJ2iO2kV"
      },
      "execution_count": 180,
      "outputs": []
    },
    {
      "cell_type": "code",
      "source": [
        "# 4. Chia train test\n",
        "train_size = int(0.7 * len(df1))\n",
        "test_size = int(0.2 * len(df1))\n",
        "val_size = len(df1) - train_size - test_size\n",
        "\n",
        "train_data = df1[:train_size]\n",
        "test_data = df1[train_size:train_size+test_size]\n",
        "val_data = df1[train_size+test_size:]"
      ],
      "metadata": {
        "id": "eOfwkWroO2kV"
      },
      "execution_count": 181,
      "outputs": []
    },
    {
      "cell_type": "code",
      "source": [
        "# 5. Hàm Create Dataset\n",
        "import numpy\n",
        "# convert an array of values into a dataset matrix\n",
        "def create_dataset(dataset, time_step=1):\n",
        "\tdataX, dataY = [], []\n",
        "\tfor i in range(len(dataset)-time_step-1):\n",
        "\t\ta = dataset[i:(i+time_step), 0]   ###i=0, X=0,1,2,3-----99   Y=100\n",
        "\t\tdataX.append(a)\n",
        "\t\tdataY.append(dataset[i + time_step, 0])\n",
        "\treturn numpy.array(dataX), numpy.array(dataY)"
      ],
      "metadata": {
        "id": "fmxbfHpNO2kV"
      },
      "execution_count": 182,
      "outputs": []
    },
    {
      "cell_type": "code",
      "source": [
        "#6. Reshape into X=t,t+1,t+2..t+99 and Y=t+100\n",
        "\n",
        "time_step = 100\n",
        "X_train, y_train = create_dataset(train_data, time_step)\n",
        "X_val, yval = create_dataset(val_data, time_step)\n",
        "X_test, ytest = create_dataset(test_data, time_step)"
      ],
      "metadata": {
        "id": "eBBK-yg3O2kV"
      },
      "execution_count": 183,
      "outputs": []
    },
    {
      "cell_type": "code",
      "source": [
        "# 7. Define MLP Model\n",
        "\n",
        "model=Sequential()\n",
        "model.add(Dense(50, input_dim=100, activation='relu'))\n",
        "model.add(Dense(50, activation='relu'))\n",
        "model.add(Dense(1))\n",
        "model.compile(loss='mean_squared_error',optimizer='adam')"
      ],
      "metadata": {
        "id": "WL_U6TQ4O2kV"
      },
      "execution_count": 184,
      "outputs": []
    },
    {
      "cell_type": "code",
      "source": [
        "# 8. Fit mô hình với dữ liệu train\n",
        "model.fit(X_train,y_train,validation_data=(X_test,ytest),epochs=100,batch_size=64,verbose=1)"
      ],
      "metadata": {
        "colab": {
          "base_uri": "https://localhost:8080/"
        },
        "outputId": "18f69263-73fa-4ec1-fcbe-1fac17f104dc",
        "id": "dHlDtqsfO2kj"
      },
      "execution_count": 185,
      "outputs": [
        {
          "output_type": "stream",
          "name": "stdout",
          "text": [
            "Epoch 1/100\n",
            "13/13 [==============================] - 1s 24ms/step - loss: 0.0536 - val_loss: 0.0168\n",
            "Epoch 2/100\n",
            "13/13 [==============================] - 0s 8ms/step - loss: 0.0125 - val_loss: 0.0049\n",
            "Epoch 3/100\n",
            "13/13 [==============================] - 0s 8ms/step - loss: 0.0073 - val_loss: 0.0033\n",
            "Epoch 4/100\n",
            "13/13 [==============================] - 0s 7ms/step - loss: 0.0049 - val_loss: 0.0030\n",
            "Epoch 5/100\n",
            "13/13 [==============================] - 0s 7ms/step - loss: 0.0035 - val_loss: 0.0020\n",
            "Epoch 6/100\n",
            "13/13 [==============================] - 0s 8ms/step - loss: 0.0030 - val_loss: 0.0017\n",
            "Epoch 7/100\n",
            "13/13 [==============================] - 0s 7ms/step - loss: 0.0025 - val_loss: 0.0019\n",
            "Epoch 8/100\n",
            "13/13 [==============================] - 0s 7ms/step - loss: 0.0021 - val_loss: 0.0017\n",
            "Epoch 9/100\n",
            "13/13 [==============================] - 0s 9ms/step - loss: 0.0020 - val_loss: 0.0024\n",
            "Epoch 10/100\n",
            "13/13 [==============================] - 0s 7ms/step - loss: 0.0021 - val_loss: 0.0018\n",
            "Epoch 11/100\n",
            "13/13 [==============================] - 0s 8ms/step - loss: 0.0016 - val_loss: 0.0016\n",
            "Epoch 12/100\n",
            "13/13 [==============================] - 0s 7ms/step - loss: 0.0022 - val_loss: 0.0015\n",
            "Epoch 13/100\n",
            "13/13 [==============================] - 0s 8ms/step - loss: 0.0017 - val_loss: 0.0024\n",
            "Epoch 14/100\n",
            "13/13 [==============================] - 0s 7ms/step - loss: 0.0014 - val_loss: 0.0015\n",
            "Epoch 15/100\n",
            "13/13 [==============================] - 0s 8ms/step - loss: 0.0011 - val_loss: 0.0013\n",
            "Epoch 16/100\n",
            "13/13 [==============================] - 0s 8ms/step - loss: 0.0011 - val_loss: 0.0013\n",
            "Epoch 17/100\n",
            "13/13 [==============================] - 0s 8ms/step - loss: 0.0011 - val_loss: 0.0018\n",
            "Epoch 18/100\n",
            "13/13 [==============================] - 0s 8ms/step - loss: 0.0010 - val_loss: 0.0013\n",
            "Epoch 19/100\n",
            "13/13 [==============================] - 0s 8ms/step - loss: 9.3637e-04 - val_loss: 0.0013\n",
            "Epoch 20/100\n",
            "13/13 [==============================] - 0s 7ms/step - loss: 8.9283e-04 - val_loss: 0.0014\n",
            "Epoch 21/100\n",
            "13/13 [==============================] - 0s 8ms/step - loss: 8.8526e-04 - val_loss: 0.0013\n",
            "Epoch 22/100\n",
            "13/13 [==============================] - 0s 7ms/step - loss: 9.3596e-04 - val_loss: 0.0020\n",
            "Epoch 23/100\n",
            "13/13 [==============================] - 0s 7ms/step - loss: 0.0013 - val_loss: 0.0012\n",
            "Epoch 24/100\n",
            "13/13 [==============================] - 0s 8ms/step - loss: 9.0370e-04 - val_loss: 0.0013\n",
            "Epoch 25/100\n",
            "13/13 [==============================] - 0s 9ms/step - loss: 8.4774e-04 - val_loss: 0.0013\n",
            "Epoch 26/100\n",
            "13/13 [==============================] - 0s 7ms/step - loss: 8.5067e-04 - val_loss: 0.0019\n",
            "Epoch 27/100\n",
            "13/13 [==============================] - 0s 7ms/step - loss: 9.8626e-04 - val_loss: 0.0012\n",
            "Epoch 28/100\n",
            "13/13 [==============================] - 0s 8ms/step - loss: 7.5759e-04 - val_loss: 0.0013\n",
            "Epoch 29/100\n",
            "13/13 [==============================] - 0s 7ms/step - loss: 7.5953e-04 - val_loss: 0.0012\n",
            "Epoch 30/100\n",
            "13/13 [==============================] - 0s 5ms/step - loss: 7.6913e-04 - val_loss: 0.0013\n",
            "Epoch 31/100\n",
            "13/13 [==============================] - 0s 4ms/step - loss: 6.7508e-04 - val_loss: 0.0013\n",
            "Epoch 32/100\n",
            "13/13 [==============================] - 0s 5ms/step - loss: 7.1628e-04 - val_loss: 0.0012\n",
            "Epoch 33/100\n",
            "13/13 [==============================] - 0s 4ms/step - loss: 7.7888e-04 - val_loss: 0.0013\n",
            "Epoch 34/100\n",
            "13/13 [==============================] - 0s 5ms/step - loss: 6.9041e-04 - val_loss: 0.0012\n",
            "Epoch 35/100\n",
            "13/13 [==============================] - 0s 6ms/step - loss: 7.0421e-04 - val_loss: 0.0014\n",
            "Epoch 36/100\n",
            "13/13 [==============================] - 0s 7ms/step - loss: 8.1429e-04 - val_loss: 0.0011\n",
            "Epoch 37/100\n",
            "13/13 [==============================] - 0s 6ms/step - loss: 8.1666e-04 - val_loss: 0.0012\n",
            "Epoch 38/100\n",
            "13/13 [==============================] - 0s 6ms/step - loss: 7.8067e-04 - val_loss: 0.0012\n",
            "Epoch 39/100\n",
            "13/13 [==============================] - 0s 4ms/step - loss: 7.2239e-04 - val_loss: 0.0012\n",
            "Epoch 40/100\n",
            "13/13 [==============================] - 0s 6ms/step - loss: 7.1750e-04 - val_loss: 0.0012\n",
            "Epoch 41/100\n",
            "13/13 [==============================] - 0s 6ms/step - loss: 8.4697e-04 - val_loss: 0.0012\n",
            "Epoch 42/100\n",
            "13/13 [==============================] - 0s 6ms/step - loss: 6.6124e-04 - val_loss: 0.0013\n",
            "Epoch 43/100\n",
            "13/13 [==============================] - 0s 6ms/step - loss: 7.9913e-04 - val_loss: 0.0012\n",
            "Epoch 44/100\n",
            "13/13 [==============================] - 0s 6ms/step - loss: 9.2877e-04 - val_loss: 0.0014\n",
            "Epoch 45/100\n",
            "13/13 [==============================] - 0s 7ms/step - loss: 8.3483e-04 - val_loss: 0.0011\n",
            "Epoch 46/100\n",
            "13/13 [==============================] - 0s 6ms/step - loss: 8.2849e-04 - val_loss: 0.0012\n",
            "Epoch 47/100\n",
            "13/13 [==============================] - 0s 4ms/step - loss: 7.5949e-04 - val_loss: 0.0013\n",
            "Epoch 48/100\n",
            "13/13 [==============================] - 0s 6ms/step - loss: 6.1625e-04 - val_loss: 0.0011\n",
            "Epoch 49/100\n",
            "13/13 [==============================] - 0s 4ms/step - loss: 6.1070e-04 - val_loss: 0.0012\n",
            "Epoch 50/100\n",
            "13/13 [==============================] - 0s 6ms/step - loss: 6.5065e-04 - val_loss: 0.0011\n",
            "Epoch 51/100\n",
            "13/13 [==============================] - 0s 4ms/step - loss: 6.0451e-04 - val_loss: 0.0012\n",
            "Epoch 52/100\n",
            "13/13 [==============================] - 0s 4ms/step - loss: 6.0463e-04 - val_loss: 0.0011\n",
            "Epoch 53/100\n",
            "13/13 [==============================] - 0s 6ms/step - loss: 6.4944e-04 - val_loss: 0.0011\n",
            "Epoch 54/100\n",
            "13/13 [==============================] - 0s 6ms/step - loss: 5.7676e-04 - val_loss: 0.0011\n",
            "Epoch 55/100\n",
            "13/13 [==============================] - 0s 5ms/step - loss: 6.0419e-04 - val_loss: 0.0012\n",
            "Epoch 56/100\n",
            "13/13 [==============================] - 0s 4ms/step - loss: 5.9316e-04 - val_loss: 0.0015\n",
            "Epoch 57/100\n",
            "13/13 [==============================] - 0s 6ms/step - loss: 8.1371e-04 - val_loss: 0.0014\n",
            "Epoch 58/100\n",
            "13/13 [==============================] - 0s 5ms/step - loss: 0.0010 - val_loss: 0.0011\n",
            "Epoch 59/100\n",
            "13/13 [==============================] - 0s 5ms/step - loss: 6.4997e-04 - val_loss: 0.0011\n",
            "Epoch 60/100\n",
            "13/13 [==============================] - 0s 6ms/step - loss: 6.6601e-04 - val_loss: 0.0011\n",
            "Epoch 61/100\n",
            "13/13 [==============================] - 0s 6ms/step - loss: 6.5122e-04 - val_loss: 0.0017\n",
            "Epoch 62/100\n",
            "13/13 [==============================] - 0s 4ms/step - loss: 0.0010 - val_loss: 0.0011\n",
            "Epoch 63/100\n",
            "13/13 [==============================] - 0s 6ms/step - loss: 9.1529e-04 - val_loss: 0.0010\n",
            "Epoch 64/100\n",
            "13/13 [==============================] - 0s 4ms/step - loss: 7.1302e-04 - val_loss: 0.0011\n",
            "Epoch 65/100\n",
            "13/13 [==============================] - 0s 5ms/step - loss: 6.2107e-04 - val_loss: 0.0012\n",
            "Epoch 66/100\n",
            "13/13 [==============================] - 0s 6ms/step - loss: 6.9642e-04 - val_loss: 0.0013\n",
            "Epoch 67/100\n",
            "13/13 [==============================] - 0s 5ms/step - loss: 7.7556e-04 - val_loss: 0.0012\n",
            "Epoch 68/100\n",
            "13/13 [==============================] - 0s 5ms/step - loss: 6.8026e-04 - val_loss: 0.0011\n",
            "Epoch 69/100\n",
            "13/13 [==============================] - 0s 4ms/step - loss: 5.2659e-04 - val_loss: 0.0011\n",
            "Epoch 70/100\n",
            "13/13 [==============================] - 0s 5ms/step - loss: 5.4780e-04 - val_loss: 0.0010\n",
            "Epoch 71/100\n",
            "13/13 [==============================] - 0s 4ms/step - loss: 5.5210e-04 - val_loss: 0.0010\n",
            "Epoch 72/100\n",
            "13/13 [==============================] - 0s 6ms/step - loss: 5.3819e-04 - val_loss: 0.0012\n",
            "Epoch 73/100\n",
            "13/13 [==============================] - 0s 6ms/step - loss: 5.7777e-04 - val_loss: 0.0010\n",
            "Epoch 74/100\n",
            "13/13 [==============================] - 0s 6ms/step - loss: 5.9799e-04 - val_loss: 0.0010\n",
            "Epoch 75/100\n",
            "13/13 [==============================] - 0s 5ms/step - loss: 7.8550e-04 - val_loss: 0.0011\n",
            "Epoch 76/100\n",
            "13/13 [==============================] - 0s 4ms/step - loss: 7.5531e-04 - val_loss: 0.0010\n",
            "Epoch 77/100\n",
            "13/13 [==============================] - 0s 5ms/step - loss: 6.1838e-04 - val_loss: 0.0013\n",
            "Epoch 78/100\n",
            "13/13 [==============================] - 0s 4ms/step - loss: 6.1331e-04 - val_loss: 0.0012\n",
            "Epoch 79/100\n",
            "13/13 [==============================] - 0s 6ms/step - loss: 5.2569e-04 - val_loss: 0.0011\n",
            "Epoch 80/100\n",
            "13/13 [==============================] - 0s 4ms/step - loss: 6.1022e-04 - val_loss: 0.0011\n",
            "Epoch 81/100\n",
            "13/13 [==============================] - 0s 4ms/step - loss: 5.8460e-04 - val_loss: 0.0010\n",
            "Epoch 82/100\n",
            "13/13 [==============================] - 0s 6ms/step - loss: 5.4481e-04 - val_loss: 0.0011\n",
            "Epoch 83/100\n",
            "13/13 [==============================] - 0s 4ms/step - loss: 6.8066e-04 - val_loss: 0.0013\n",
            "Epoch 84/100\n",
            "13/13 [==============================] - 0s 5ms/step - loss: 6.6786e-04 - val_loss: 0.0011\n",
            "Epoch 85/100\n",
            "13/13 [==============================] - 0s 4ms/step - loss: 5.9661e-04 - val_loss: 0.0013\n",
            "Epoch 86/100\n",
            "13/13 [==============================] - 0s 6ms/step - loss: 6.6810e-04 - val_loss: 0.0016\n",
            "Epoch 87/100\n",
            "13/13 [==============================] - 0s 4ms/step - loss: 0.0013 - val_loss: 0.0012\n",
            "Epoch 88/100\n",
            "13/13 [==============================] - 0s 5ms/step - loss: 8.9466e-04 - val_loss: 9.7596e-04\n",
            "Epoch 89/100\n",
            "13/13 [==============================] - 0s 5ms/step - loss: 6.2359e-04 - val_loss: 0.0013\n",
            "Epoch 90/100\n",
            "13/13 [==============================] - 0s 6ms/step - loss: 6.0668e-04 - val_loss: 0.0010\n",
            "Epoch 91/100\n",
            "13/13 [==============================] - 0s 4ms/step - loss: 5.2012e-04 - val_loss: 0.0010\n",
            "Epoch 92/100\n",
            "13/13 [==============================] - 0s 4ms/step - loss: 4.8443e-04 - val_loss: 0.0010\n",
            "Epoch 93/100\n",
            "13/13 [==============================] - 0s 4ms/step - loss: 4.7473e-04 - val_loss: 0.0010\n",
            "Epoch 94/100\n",
            "13/13 [==============================] - 0s 6ms/step - loss: 5.6227e-04 - val_loss: 9.6541e-04\n",
            "Epoch 95/100\n",
            "13/13 [==============================] - 0s 4ms/step - loss: 5.7734e-04 - val_loss: 0.0011\n",
            "Epoch 96/100\n",
            "13/13 [==============================] - 0s 6ms/step - loss: 4.9943e-04 - val_loss: 0.0011\n",
            "Epoch 97/100\n",
            "13/13 [==============================] - 0s 5ms/step - loss: 5.2803e-04 - val_loss: 0.0011\n",
            "Epoch 98/100\n",
            "13/13 [==============================] - 0s 4ms/step - loss: 4.5526e-04 - val_loss: 9.7882e-04\n",
            "Epoch 99/100\n",
            "13/13 [==============================] - 0s 4ms/step - loss: 5.1581e-04 - val_loss: 0.0010\n",
            "Epoch 100/100\n",
            "13/13 [==============================] - 0s 4ms/step - loss: 4.9710e-04 - val_loss: 9.9036e-04\n"
          ]
        },
        {
          "output_type": "execute_result",
          "data": {
            "text/plain": [
              "<keras.src.callbacks.History at 0x7fa7bae919c0>"
            ]
          },
          "metadata": {},
          "execution_count": 185
        }
      ]
    },
    {
      "cell_type": "code",
      "source": [
        "# 9. Dự báo dữ liệu test, val\n",
        "train_predict=model.predict(X_train)\n",
        "y_pred=model.predict(X_test)\n",
        "y_pred_val=model.predict(X_val)"
      ],
      "metadata": {
        "colab": {
          "base_uri": "https://localhost:8080/"
        },
        "outputId": "b519e6ca-8a6f-4a6f-e2e2-a041fc4c10d0",
        "id": "aJl3ePvVO2kk"
      },
      "execution_count": 186,
      "outputs": [
        {
          "output_type": "stream",
          "name": "stdout",
          "text": [
            "25/25 [==============================] - 0s 1ms/step\n",
            "5/5 [==============================] - 0s 3ms/step\n",
            "1/1 [==============================] - 0s 21ms/step\n"
          ]
        }
      ]
    },
    {
      "cell_type": "code",
      "source": [
        "# 10. Chuẩn hóa dữ liệu y_pred, y_pred_val\n",
        "train_predict=scaler.inverse_transform(train_predict)\n",
        "y_pred=scaler.inverse_transform(y_pred)\n",
        "y_pred_val=scaler.inverse_transform(y_pred_val)"
      ],
      "metadata": {
        "id": "J1RmnrS9O2kk"
      },
      "execution_count": 187,
      "outputs": []
    },
    {
      "cell_type": "code",
      "source": [
        "from sklearn.metrics import mean_absolute_error, mean_absolute_percentage_error, r2_score, explained_variance_score\n",
        "\n",
        "# 11. Đánh giá độ chính xác thuật toán bằng RMSE và các độ đo khác\n",
        "valid_rmse = np.sqrt(np.mean((y_pred_val - yval)**2))\n",
        "test_rmse = np.sqrt(np.mean((y_pred - ytest)**2))\n",
        "\n",
        "valid_mape = mean_absolute_percentage_error(yval, y_pred_val)\n",
        "test_mape = mean_absolute_percentage_error(ytest, y_pred)\n",
        "\n",
        "valid_mae = mean_absolute_error(yval, y_pred_val)\n",
        "test_mae = mean_absolute_error(ytest, y_pred)\n",
        "\n",
        "r2_valid = r2_score(yval, y_pred_val)\n",
        "r2_test = r2_score(ytest, y_pred)\n",
        "\n",
        "print('Validation RMSE:', valid_rmse)\n",
        "print('Testing RMSE:', test_rmse)\n",
        "\n",
        "print('Validation MAPE:', valid_mape)\n",
        "print('Testing MAPE:', test_mape)\n",
        "\n",
        "print('Validation MAE:', valid_mae)\n",
        "print('Testing MAE:', test_mae)\n",
        "\n",
        "print('Validation R^2 score:', r2_valid)\n",
        "print('Testing R^2 score:', r2_test)\n"
      ],
      "metadata": {
        "colab": {
          "base_uri": "https://localhost:8080/"
        },
        "outputId": "77057313-899b-478a-c68e-f2a4014aef17",
        "id": "Fn_Bt-QQO2kk"
      },
      "execution_count": 188,
      "outputs": [
        {
          "output_type": "stream",
          "name": "stdout",
          "text": [
            "Validation RMSE: 39984.02946997617\n",
            "Testing RMSE: 31898.86852411892\n",
            "Validation MAPE: 80414.4891585881\n",
            "Testing MAPE: 94463.87523104822\n",
            "Validation MAE: 39970.68362157785\n",
            "Testing MAE: 31579.34009955296\n",
            "Validation R^2 score: -10699429261702.742\n",
            "Testing R^2 score: -123306693999.24207\n"
          ]
        }
      ]
    },
    {
      "cell_type": "code",
      "source": [
        "# 12. Dự báo 30 ngày tiếp theo\n",
        "x_input = val_data[-100:].reshape(1, -1)\n",
        "temp_input = x_input[0].tolist()\n",
        "\n",
        "from numpy import array\n",
        "\n",
        "lst_output=[]\n",
        "n_steps=100\n",
        "i=0\n",
        "while(i < 30):\n",
        "    if len(temp_input) > 100:\n",
        "        x_input = np.array(temp_input[-100:])  # Ensure the input is the last 100 steps\n",
        "        x_input = x_input.reshape((1, n_steps))\n",
        "        yhat = model.predict(x_input, verbose=0)\n",
        "        temp_input.extend(yhat[0].tolist())\n",
        "        temp_input = temp_input[1:]  # Keep size consistent by removing the oldest element\n",
        "        lst_output.extend(yhat.tolist())\n",
        "        i += 1\n",
        "    else:\n",
        "        x_input = np.array(temp_input).reshape((1, n_steps))\n",
        "        yhat = model.predict(x_input, verbose=0)\n",
        "        temp_input.extend(yhat[0].tolist())\n",
        "        lst_output.extend(yhat.tolist())\n",
        "        i += 1"
      ],
      "metadata": {
        "id": "HMc64RYzO2kk"
      },
      "execution_count": 189,
      "outputs": []
    },
    {
      "cell_type": "code",
      "source": [
        "# 13.Vẽ hình\n",
        "\n",
        "train_data_index = pd.RangeIndex(start=0, stop=train_size, step=1)\n",
        "plt.plot(scaler.inverse_transform(train_data))\n",
        "test_data_index = pd.RangeIndex(start=train_size, stop=train_size+test_size, step=1)\n",
        "plt.plot(test_data_index,scaler.inverse_transform(test_data))\n",
        "test_data_index = pd.RangeIndex(start=train_size+101, stop=train_size+test_size, step=1)\n",
        "plt.plot(test_data_index,(y_pred))\n",
        "val_data_index = pd.RangeIndex(start=train_size+test_size, stop=train_size+test_size+val_size, step=1)\n",
        "plt.plot(val_data_index,scaler.inverse_transform(val_data))\n",
        "val_data_index = pd.RangeIndex(start=train_size+test_size+101, stop=train_size+test_size+val_size, step=1)\n",
        "plt.plot(val_data_index,y_pred_val)\n",
        "prediect_data_index = pd.RangeIndex(start=len(df1)-1, stop=len(df1)+29, step=1)\n",
        "plt.plot(prediect_data_index,scaler.inverse_transform(lst_output))\n",
        "plt.legend(['Train','Test','Predict','Validate','ValidatePred','Predict30days'])\n",
        "plt.show()"
      ],
      "metadata": {
        "colab": {
          "base_uri": "https://localhost:8080/",
          "height": 453
        },
        "outputId": "6b3ff2cb-6cc4-45e2-9372-7ba1e19bd3a6",
        "id": "XV26T7d8O2kl"
      },
      "execution_count": 190,
      "outputs": [
        {
          "output_type": "display_data",
          "data": {
            "text/plain": [
              "<Figure size 640x480 with 1 Axes>"
            ],
            "image/png": "[encoded data removed]"
          },
          "metadata": {}
        }
      ]
    }
  ],
  "metadata": {
    "colab": {
      "provenance": [],
      "collapsed_sections": [
        "JzBwPtfSR7YD",
        "NB89BnlEOxsG",
        "ls_MUw0rO2kT"
      ]
    },
    "kernelspec": {
      "display_name": "Python 3",
      "name": "python3"
    },
    "language_info": {
      "name": "python"
    }
  },
  "nbformat": 4,
  "nbformat_minor": 0
}